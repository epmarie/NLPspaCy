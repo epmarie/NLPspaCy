{
 "cells": [
  {
   "cell_type": "markdown",
   "metadata": {},
   "source": [
    "# Introduction to Natural Language Processing with Python\n",
    "\n",
    "\n",
    "## What is NLP?\n",
    "\n",
    "Natural language processing is a way for computers to analyze, understand, and derive meaning from human language. With appropriate use and organization, NLP can be used to help developers perform a variety of tasks, including summarization, translation, named entity recognition, relationship extraction, sentiment analysis, speech recognition, and topic segmentation for a given dataset or group of texts.\n",
    "\n",
    "## What can we use it for?\n",
    "\n",
    "Things like chatbots, voice-to-text software, and customer service sentiment analysis are examples of NLP applications. The use of (and development of tools for) NLP has experienced rapid growth over the last decade and is currently being integrated into a variety of fields. \n",
    "\n",
    "For example, a retailer on Amazon may run a sentiment analysis on all comments for a certain product. This could reveal general attitudes towards both the company and the item in question, ultimately leading to improvements and adjustments. On another hand, Siri, Apple's personal voice assistant, is the almagamation of years of work in NLP - Siri can recognize, conceptualize, and respond to a wide array of questions and comments. This not only improves the iPhone user experience in general but also increases the accessibility of the product."
   ]
  },
  {
   "cell_type": "markdown",
   "metadata": {},
   "source": [
    "## Basic Terminology\n",
    "\n",
    "__Corpus__ (plural: corpora) is defined as a large collection of liguistic data. In other words, corpora serve as our datasets, or our information to process and train models on.\n",
    "\n",
    "__Tokenization__ is the process of segmenting text into words, phrases, sentences etc. This is one of the first steps in processing the text into workable components.\n",
    "\n",
    "__Part-of-speech (POS) tagging__ involves assigning word types (parts of speech) to tokens, like _verb_, _noun_, _preposition_, etc. \n",
    "\n",
    "__Dependency Parsing__ is the process of assigning syntactic dependency labels that describe the relations between individual tokens. For example, in the sentence _The brown dog ran through the park_, dependency parsing would recognize that _brown_ is modifying the subject of the sentence, _dog_.\n",
    "\n",
    "__Lemmatization__ is defined as assigning the base form of words. For example, the lemma of “was” is “be”, and the lemma of “rats” is \"rat\".\n",
    "\n",
    "__Sentence Boundary Detection (SBD)__ is responsible for finding and segmenting individual sentences within a text. \n",
    "\n",
    "__Named Entity Recognition (NER)__ involves labelling named “real-world” objects, like persons, companies, or locations. For example, in some instances, we want \"Amazon\" to be recognized as an electronic company as opposed to the rainforest.\n",
    "\n",
    "__Similarity__ is the process of comparing words, phrases, and documents to see how similar they are to each other. This is usually done using the cosine similarity between two vectors.\n"
   ]
  },
  {
   "cell_type": "markdown",
   "metadata": {},
   "source": [
    "# spaCy\n",
    "\n",
    "`spaCy` describes itself as industrial strength natural language processing in Python. Its designed to work with the rest of the Python AI ecosystem including `TensorFlow`, `PyTorch`, `scikit-learn`, `Gensim`. Though a little less known than NLTK, spaCy tends to be a little faster and functions well for large-scale information processing:\n",
    "\n",
    "![nltk_spacy](img/nltk_spacy.png)"
   ]
  },
  {
   "cell_type": "code",
   "execution_count": 4,
   "metadata": {
    "collapsed": true
   },
   "outputs": [],
   "source": [
    "import spacy\n",
    "from spacy import displacy"
   ]
  },
  {
   "cell_type": "markdown",
   "metadata": {},
   "source": [
    "We begin by importing the necessary packages, `spaCy` being the most notable. We then load the English statistical model (which is set up as its own python package) - this is the main program we will be working with. Using a model for a specific language enables `spaCy` to predict linguistic annotations – for example, whether a word is a verb or a noun. Though some of spaCy's features are available without a language model, most of its functions require one. "
   ]
  },
  {
   "cell_type": "code",
   "execution_count": 5,
   "metadata": {
    "collapsed": true
   },
   "outputs": [],
   "source": [
    "nlp = spacy.load('en')"
   ]
  },
  {
   "cell_type": "markdown",
   "metadata": {},
   "source": [
    "First, we'll walk through some of the basic functions of spaCy, based on the definitions above. We begin by reading in a few simple sentences, just to get a feel for how the package works."
   ]
  },
  {
   "cell_type": "code",
   "execution_count": 6,
   "metadata": {
    "collapsed": true
   },
   "outputs": [],
   "source": [
    "doc = nlp(\"I'm having such a wonderful day in Ann Arbor! It is sunny out and there are flowers. Do you want to get some ice cream with Ms. Ellen?\")"
   ]
  },
  {
   "cell_type": "markdown",
   "metadata": {},
   "source": [
    "> When you call nlp on a text, spaCy first tokenizes the text to produce a Doc object. The Doc is then processed in several different steps – this is also referred to as the processing pipeline. The pipeline used by the default models consists of a tagger, a parser and an entity recognizer."
   ]
  },
  {
   "cell_type": "markdown",
   "metadata": {},
   "source": [
    "![spacy_pipeline](img/pipeline.svg)"
   ]
  },
  {
   "cell_type": "markdown",
   "metadata": {},
   "source": [
    "You can create your own customize processing pipeline by removing or adding new processes but we do not cover that in this workshop."
   ]
  },
  {
   "cell_type": "markdown",
   "metadata": {},
   "source": [
    "## Tokenizing\n",
    "\n",
    "When we read something in with `nlp`, spaCy automatically tokenizes it. For example, it breaks _I'm_ into _I_ and _'m_, and each word is its own element. The `doc` object can be indexed to access individual tokens. "
   ]
  },
  {
   "cell_type": "code",
   "execution_count": 7,
   "metadata": {
    "scrolled": true
   },
   "outputs": [
    {
     "name": "stdout",
     "output_type": "stream",
     "text": [
      "0 I\n",
      "1 'm\n",
      "2 having\n",
      "3 such\n",
      "4 a\n",
      "5 wonderful\n",
      "6 day\n",
      "7 in\n",
      "8 Ann\n",
      "9 Arbor\n",
      "10 !\n",
      "11 It\n",
      "12 is\n",
      "13 sunny\n",
      "14 out\n"
     ]
    }
   ],
   "source": [
    "for i, token in enumerate(doc[:15]):\n",
    "    print(i, token)"
   ]
  },
  {
   "cell_type": "markdown",
   "metadata": {},
   "source": [
    "We can also see how well the sentence boundary detection works. We view all the individual sentences from the paragraph by iterating through the `sents` attribute."
   ]
  },
  {
   "cell_type": "code",
   "execution_count": 8,
   "metadata": {},
   "outputs": [
    {
     "name": "stdout",
     "output_type": "stream",
     "text": [
      "I'm having such a wonderful day in Ann Arbor!\n",
      "It is sunny out and there are flowers.\n",
      "Do you want to get some ice cream with Ms. Ellen?\n"
     ]
    }
   ],
   "source": [
    "for sent in doc.sents:\n",
    "    print(sent)"
   ]
  },
  {
   "cell_type": "markdown",
   "metadata": {},
   "source": [
    "You can look at the token tags and POS using the `tag_` and `pos_` attributes. If you leave off the `_`, you will get the integer equivalent. A `token` object has a lot of attributes. Here we just look at a few. We'll use `pandas` to put it in a DataFrame for easier visualization. "
   ]
  },
  {
   "cell_type": "code",
   "execution_count": 9,
   "metadata": {
    "scrolled": false
   },
   "outputs": [
    {
     "data": {
      "text/html": [
       "<div>\n",
       "<style>\n",
       "    .dataframe thead tr:only-child th {\n",
       "        text-align: right;\n",
       "    }\n",
       "\n",
       "    .dataframe thead th {\n",
       "        text-align: left;\n",
       "    }\n",
       "\n",
       "    .dataframe tbody tr th {\n",
       "        vertical-align: top;\n",
       "    }\n",
       "</style>\n",
       "<table border=\"1\" class=\"dataframe\">\n",
       "  <thead>\n",
       "    <tr style=\"text-align: right;\">\n",
       "      <th></th>\n",
       "      <th>text</th>\n",
       "      <th>lemma</th>\n",
       "      <th>POS</th>\n",
       "      <th>tag</th>\n",
       "      <th>dependency</th>\n",
       "      <th>stopword</th>\n",
       "      <th>sentence_start</th>\n",
       "    </tr>\n",
       "  </thead>\n",
       "  <tbody>\n",
       "    <tr>\n",
       "      <th>0</th>\n",
       "      <td>I</td>\n",
       "      <td>-PRON-</td>\n",
       "      <td>PRON</td>\n",
       "      <td>PRP</td>\n",
       "      <td>nsubj</td>\n",
       "      <td>False</td>\n",
       "      <td>None</td>\n",
       "    </tr>\n",
       "    <tr>\n",
       "      <th>1</th>\n",
       "      <td>'m</td>\n",
       "      <td>be</td>\n",
       "      <td>VERB</td>\n",
       "      <td>VBP</td>\n",
       "      <td>aux</td>\n",
       "      <td>False</td>\n",
       "      <td>None</td>\n",
       "    </tr>\n",
       "    <tr>\n",
       "      <th>2</th>\n",
       "      <td>having</td>\n",
       "      <td>have</td>\n",
       "      <td>VERB</td>\n",
       "      <td>VBG</td>\n",
       "      <td>ROOT</td>\n",
       "      <td>False</td>\n",
       "      <td>None</td>\n",
       "    </tr>\n",
       "    <tr>\n",
       "      <th>3</th>\n",
       "      <td>such</td>\n",
       "      <td>such</td>\n",
       "      <td>ADJ</td>\n",
       "      <td>PDT</td>\n",
       "      <td>predet</td>\n",
       "      <td>True</td>\n",
       "      <td>None</td>\n",
       "    </tr>\n",
       "    <tr>\n",
       "      <th>4</th>\n",
       "      <td>a</td>\n",
       "      <td>a</td>\n",
       "      <td>DET</td>\n",
       "      <td>DT</td>\n",
       "      <td>det</td>\n",
       "      <td>True</td>\n",
       "      <td>None</td>\n",
       "    </tr>\n",
       "    <tr>\n",
       "      <th>5</th>\n",
       "      <td>wonderful</td>\n",
       "      <td>wonderful</td>\n",
       "      <td>ADJ</td>\n",
       "      <td>JJ</td>\n",
       "      <td>amod</td>\n",
       "      <td>False</td>\n",
       "      <td>None</td>\n",
       "    </tr>\n",
       "    <tr>\n",
       "      <th>6</th>\n",
       "      <td>day</td>\n",
       "      <td>day</td>\n",
       "      <td>NOUN</td>\n",
       "      <td>NN</td>\n",
       "      <td>dobj</td>\n",
       "      <td>False</td>\n",
       "      <td>None</td>\n",
       "    </tr>\n",
       "    <tr>\n",
       "      <th>7</th>\n",
       "      <td>in</td>\n",
       "      <td>in</td>\n",
       "      <td>ADP</td>\n",
       "      <td>IN</td>\n",
       "      <td>prep</td>\n",
       "      <td>True</td>\n",
       "      <td>None</td>\n",
       "    </tr>\n",
       "    <tr>\n",
       "      <th>8</th>\n",
       "      <td>Ann</td>\n",
       "      <td>ann</td>\n",
       "      <td>PROPN</td>\n",
       "      <td>NNP</td>\n",
       "      <td>compound</td>\n",
       "      <td>False</td>\n",
       "      <td>None</td>\n",
       "    </tr>\n",
       "    <tr>\n",
       "      <th>9</th>\n",
       "      <td>Arbor</td>\n",
       "      <td>arbor</td>\n",
       "      <td>PROPN</td>\n",
       "      <td>NNP</td>\n",
       "      <td>pobj</td>\n",
       "      <td>False</td>\n",
       "      <td>None</td>\n",
       "    </tr>\n",
       "    <tr>\n",
       "      <th>10</th>\n",
       "      <td>!</td>\n",
       "      <td>!</td>\n",
       "      <td>PUNCT</td>\n",
       "      <td>.</td>\n",
       "      <td>punct</td>\n",
       "      <td>False</td>\n",
       "      <td>None</td>\n",
       "    </tr>\n",
       "    <tr>\n",
       "      <th>11</th>\n",
       "      <td>It</td>\n",
       "      <td>-PRON-</td>\n",
       "      <td>PRON</td>\n",
       "      <td>PRP</td>\n",
       "      <td>nsubj</td>\n",
       "      <td>False</td>\n",
       "      <td>True</td>\n",
       "    </tr>\n",
       "    <tr>\n",
       "      <th>12</th>\n",
       "      <td>is</td>\n",
       "      <td>be</td>\n",
       "      <td>VERB</td>\n",
       "      <td>VBZ</td>\n",
       "      <td>ROOT</td>\n",
       "      <td>True</td>\n",
       "      <td>None</td>\n",
       "    </tr>\n",
       "    <tr>\n",
       "      <th>13</th>\n",
       "      <td>sunny</td>\n",
       "      <td>sunny</td>\n",
       "      <td>ADJ</td>\n",
       "      <td>JJ</td>\n",
       "      <td>acomp</td>\n",
       "      <td>False</td>\n",
       "      <td>None</td>\n",
       "    </tr>\n",
       "    <tr>\n",
       "      <th>14</th>\n",
       "      <td>out</td>\n",
       "      <td>out</td>\n",
       "      <td>PART</td>\n",
       "      <td>RP</td>\n",
       "      <td>advmod</td>\n",
       "      <td>True</td>\n",
       "      <td>None</td>\n",
       "    </tr>\n",
       "    <tr>\n",
       "      <th>15</th>\n",
       "      <td>and</td>\n",
       "      <td>and</td>\n",
       "      <td>CCONJ</td>\n",
       "      <td>CC</td>\n",
       "      <td>cc</td>\n",
       "      <td>True</td>\n",
       "      <td>None</td>\n",
       "    </tr>\n",
       "    <tr>\n",
       "      <th>16</th>\n",
       "      <td>there</td>\n",
       "      <td>there</td>\n",
       "      <td>ADV</td>\n",
       "      <td>EX</td>\n",
       "      <td>expl</td>\n",
       "      <td>True</td>\n",
       "      <td>None</td>\n",
       "    </tr>\n",
       "    <tr>\n",
       "      <th>17</th>\n",
       "      <td>are</td>\n",
       "      <td>be</td>\n",
       "      <td>VERB</td>\n",
       "      <td>VBP</td>\n",
       "      <td>conj</td>\n",
       "      <td>True</td>\n",
       "      <td>None</td>\n",
       "    </tr>\n",
       "    <tr>\n",
       "      <th>18</th>\n",
       "      <td>flowers</td>\n",
       "      <td>flower</td>\n",
       "      <td>NOUN</td>\n",
       "      <td>NNS</td>\n",
       "      <td>attr</td>\n",
       "      <td>False</td>\n",
       "      <td>None</td>\n",
       "    </tr>\n",
       "    <tr>\n",
       "      <th>19</th>\n",
       "      <td>.</td>\n",
       "      <td>.</td>\n",
       "      <td>PUNCT</td>\n",
       "      <td>.</td>\n",
       "      <td>punct</td>\n",
       "      <td>False</td>\n",
       "      <td>None</td>\n",
       "    </tr>\n",
       "    <tr>\n",
       "      <th>20</th>\n",
       "      <td>Do</td>\n",
       "      <td>do</td>\n",
       "      <td>VERB</td>\n",
       "      <td>VBP</td>\n",
       "      <td>aux</td>\n",
       "      <td>False</td>\n",
       "      <td>True</td>\n",
       "    </tr>\n",
       "    <tr>\n",
       "      <th>21</th>\n",
       "      <td>you</td>\n",
       "      <td>-PRON-</td>\n",
       "      <td>PRON</td>\n",
       "      <td>PRP</td>\n",
       "      <td>nsubj</td>\n",
       "      <td>True</td>\n",
       "      <td>None</td>\n",
       "    </tr>\n",
       "    <tr>\n",
       "      <th>22</th>\n",
       "      <td>want</td>\n",
       "      <td>want</td>\n",
       "      <td>VERB</td>\n",
       "      <td>VB</td>\n",
       "      <td>ROOT</td>\n",
       "      <td>False</td>\n",
       "      <td>None</td>\n",
       "    </tr>\n",
       "    <tr>\n",
       "      <th>23</th>\n",
       "      <td>to</td>\n",
       "      <td>to</td>\n",
       "      <td>PART</td>\n",
       "      <td>TO</td>\n",
       "      <td>aux</td>\n",
       "      <td>True</td>\n",
       "      <td>None</td>\n",
       "    </tr>\n",
       "    <tr>\n",
       "      <th>24</th>\n",
       "      <td>get</td>\n",
       "      <td>get</td>\n",
       "      <td>VERB</td>\n",
       "      <td>VB</td>\n",
       "      <td>xcomp</td>\n",
       "      <td>True</td>\n",
       "      <td>None</td>\n",
       "    </tr>\n",
       "    <tr>\n",
       "      <th>25</th>\n",
       "      <td>some</td>\n",
       "      <td>some</td>\n",
       "      <td>DET</td>\n",
       "      <td>DT</td>\n",
       "      <td>det</td>\n",
       "      <td>True</td>\n",
       "      <td>None</td>\n",
       "    </tr>\n",
       "    <tr>\n",
       "      <th>26</th>\n",
       "      <td>ice</td>\n",
       "      <td>ice</td>\n",
       "      <td>NOUN</td>\n",
       "      <td>NN</td>\n",
       "      <td>compound</td>\n",
       "      <td>False</td>\n",
       "      <td>None</td>\n",
       "    </tr>\n",
       "    <tr>\n",
       "      <th>27</th>\n",
       "      <td>cream</td>\n",
       "      <td>cream</td>\n",
       "      <td>NOUN</td>\n",
       "      <td>NN</td>\n",
       "      <td>dobj</td>\n",
       "      <td>False</td>\n",
       "      <td>None</td>\n",
       "    </tr>\n",
       "    <tr>\n",
       "      <th>28</th>\n",
       "      <td>with</td>\n",
       "      <td>with</td>\n",
       "      <td>ADP</td>\n",
       "      <td>IN</td>\n",
       "      <td>prep</td>\n",
       "      <td>True</td>\n",
       "      <td>None</td>\n",
       "    </tr>\n",
       "    <tr>\n",
       "      <th>29</th>\n",
       "      <td>Ms.</td>\n",
       "      <td>ms.</td>\n",
       "      <td>PROPN</td>\n",
       "      <td>NNP</td>\n",
       "      <td>compound</td>\n",
       "      <td>False</td>\n",
       "      <td>None</td>\n",
       "    </tr>\n",
       "    <tr>\n",
       "      <th>30</th>\n",
       "      <td>Ellen</td>\n",
       "      <td>ellen</td>\n",
       "      <td>PROPN</td>\n",
       "      <td>NNP</td>\n",
       "      <td>pobj</td>\n",
       "      <td>False</td>\n",
       "      <td>None</td>\n",
       "    </tr>\n",
       "    <tr>\n",
       "      <th>31</th>\n",
       "      <td>?</td>\n",
       "      <td>?</td>\n",
       "      <td>PUNCT</td>\n",
       "      <td>.</td>\n",
       "      <td>punct</td>\n",
       "      <td>False</td>\n",
       "      <td>None</td>\n",
       "    </tr>\n",
       "  </tbody>\n",
       "</table>\n",
       "</div>"
      ],
      "text/plain": [
       "         text      lemma    POS  tag dependency  stopword sentence_start\n",
       "0           I     -PRON-   PRON  PRP      nsubj     False           None\n",
       "1          'm         be   VERB  VBP        aux     False           None\n",
       "2      having       have   VERB  VBG       ROOT     False           None\n",
       "3        such       such    ADJ  PDT     predet      True           None\n",
       "4           a          a    DET   DT        det      True           None\n",
       "5   wonderful  wonderful    ADJ   JJ       amod     False           None\n",
       "6         day        day   NOUN   NN       dobj     False           None\n",
       "7          in         in    ADP   IN       prep      True           None\n",
       "8         Ann        ann  PROPN  NNP   compound     False           None\n",
       "9       Arbor      arbor  PROPN  NNP       pobj     False           None\n",
       "10          !          !  PUNCT    .      punct     False           None\n",
       "11         It     -PRON-   PRON  PRP      nsubj     False           True\n",
       "12         is         be   VERB  VBZ       ROOT      True           None\n",
       "13      sunny      sunny    ADJ   JJ      acomp     False           None\n",
       "14        out        out   PART   RP     advmod      True           None\n",
       "15        and        and  CCONJ   CC         cc      True           None\n",
       "16      there      there    ADV   EX       expl      True           None\n",
       "17        are         be   VERB  VBP       conj      True           None\n",
       "18    flowers     flower   NOUN  NNS       attr     False           None\n",
       "19          .          .  PUNCT    .      punct     False           None\n",
       "20         Do         do   VERB  VBP        aux     False           True\n",
       "21        you     -PRON-   PRON  PRP      nsubj      True           None\n",
       "22       want       want   VERB   VB       ROOT     False           None\n",
       "23         to         to   PART   TO        aux      True           None\n",
       "24        get        get   VERB   VB      xcomp      True           None\n",
       "25       some       some    DET   DT        det      True           None\n",
       "26        ice        ice   NOUN   NN   compound     False           None\n",
       "27      cream      cream   NOUN   NN       dobj     False           None\n",
       "28       with       with    ADP   IN       prep      True           None\n",
       "29        Ms.        ms.  PROPN  NNP   compound     False           None\n",
       "30      Ellen      ellen  PROPN  NNP       pobj     False           None\n",
       "31          ?          ?  PUNCT    .      punct     False           None"
      ]
     },
     "execution_count": 9,
     "metadata": {},
     "output_type": "execute_result"
    }
   ],
   "source": [
    "import pandas as pd\n",
    "list_tokens = []\n",
    "for token in doc:\n",
    "    list_tokens.append((token.text, token.lemma_, token.pos_, token.tag_, token.dep_, token.is_stop, token.is_sent_start))\n",
    "df = pd.DataFrame(list_tokens, columns=['text','lemma','POS','tag','dependency','stopword','sentence_start'])\n",
    "df"
   ]
  },
  {
   "cell_type": "markdown",
   "metadata": {},
   "source": [
    "You can look at the named-entities using the `ent` attributes and iterating through them."
   ]
  },
  {
   "cell_type": "code",
   "execution_count": 10,
   "metadata": {},
   "outputs": [
    {
     "name": "stdout",
     "output_type": "stream",
     "text": [
      "Ann Arbor GPE\n",
      "Ellen PERSON\n"
     ]
    }
   ],
   "source": [
    "for entity in doc.ents:\n",
    "   print(entity.text, entity.label_)"
   ]
  },
  {
   "cell_type": "markdown",
   "metadata": {},
   "source": [
    "### spaCy `explain`\n",
    "\n",
    "Since `spaCy` is filled with plenty of useful tools, it's easy not to know or lose track of what all the different abbreviations stand for. The `spacy.explain` method can be used to get the description for some of the abbreviations."
   ]
  },
  {
   "cell_type": "code",
   "execution_count": 11,
   "metadata": {},
   "outputs": [
    {
     "name": "stdout",
     "output_type": "stream",
     "text": [
      "GPE : Countries, cities, states\n",
      "ADP : adposition\n",
      "dobj : direct object\n",
      "cc : coordinating conjunction\n"
     ]
    }
   ],
   "source": [
    "part_of_speech = ['GPE','ADP','dobj','cc']\n",
    "for pos in part_of_speech:\n",
    "    print('{} : {}'.format(pos, spacy.explain(pos)) )"
   ]
  },
  {
   "cell_type": "markdown",
   "metadata": {},
   "source": [
    "# Exercise"
   ]
  },
  {
   "cell_type": "markdown",
   "metadata": {},
   "source": [
    "Print out all the proper nouns (PROPN) and persons (PERSON) in this paragraph."
   ]
  },
  {
   "cell_type": "code",
   "execution_count": 12,
   "metadata": {
    "collapsed": true
   },
   "outputs": [],
   "source": [
    "paragraph = 'Shapovalov arrived in the Spanish capital without an ATP World Tour match win on clay. In fact, he owned just a 1-4 clay-court record on the ATP Challenger Tour. But the Canadian found some of his best tennis to become the youngest quarter-finalist and semi-finalist in event history. Against Zverev, he was attempting to become the youngest Masters 1000 finalist since 18-year-old Richard Gasquet battled to the championship match at Hamburg in 2005.'"
   ]
  },
  {
   "cell_type": "code",
   "execution_count": 31,
   "metadata": {},
   "outputs": [],
   "source": [
    "# write Solution Here"
   ]
  },
  {
   "cell_type": "markdown",
   "metadata": {},
   "source": [
    "## Visualization\n",
    "\n",
    "`spaCy` has a built-in visualization package called `displaCy` that plots sentence dependencies and entity recognition.\n",
    "\n",
    "### Dependency\n",
    "\n",
    "Dependency parsing is the process of analyzing a sentence and assigning a syntactic structure to it: labeling the subject, the verb, etc., and how the different elements of the sentence depend on one another."
   ]
  },
  {
   "cell_type": "code",
   "execution_count": 15,
   "metadata": {
    "scrolled": true
   },
   "outputs": [
    {
     "data": {
      "text/html": [
       "<svg xmlns=\"http://www.w3.org/2000/svg\" xmlns:xlink=\"http://www.w3.org/1999/xlink\" id=\"0\" class=\"displacy\" width=\"950\" height=\"287.0\" style=\"max-width: none; height: 287.0px; color: #000000; background: #ffffff; font-family: Arial\">\n",
       "<text class=\"displacy-token\" fill=\"currentColor\" text-anchor=\"middle\" y=\"197.0\">\n",
       "    <tspan class=\"displacy-word\" fill=\"currentColor\" x=\"50\">The</tspan>\n",
       "    <tspan class=\"displacy-tag\" dy=\"2em\" fill=\"currentColor\" x=\"50\">DET</tspan>\n",
       "</text>\n",
       "\n",
       "<text class=\"displacy-token\" fill=\"currentColor\" text-anchor=\"middle\" y=\"197.0\">\n",
       "    <tspan class=\"displacy-word\" fill=\"currentColor\" x=\"150\">quick</tspan>\n",
       "    <tspan class=\"displacy-tag\" dy=\"2em\" fill=\"currentColor\" x=\"150\">ADJ</tspan>\n",
       "</text>\n",
       "\n",
       "<text class=\"displacy-token\" fill=\"currentColor\" text-anchor=\"middle\" y=\"197.0\">\n",
       "    <tspan class=\"displacy-word\" fill=\"currentColor\" x=\"250\">brown</tspan>\n",
       "    <tspan class=\"displacy-tag\" dy=\"2em\" fill=\"currentColor\" x=\"250\">ADJ</tspan>\n",
       "</text>\n",
       "\n",
       "<text class=\"displacy-token\" fill=\"currentColor\" text-anchor=\"middle\" y=\"197.0\">\n",
       "    <tspan class=\"displacy-word\" fill=\"currentColor\" x=\"350\">fox</tspan>\n",
       "    <tspan class=\"displacy-tag\" dy=\"2em\" fill=\"currentColor\" x=\"350\">NOUN</tspan>\n",
       "</text>\n",
       "\n",
       "<text class=\"displacy-token\" fill=\"currentColor\" text-anchor=\"middle\" y=\"197.0\">\n",
       "    <tspan class=\"displacy-word\" fill=\"currentColor\" x=\"450\">jumped</tspan>\n",
       "    <tspan class=\"displacy-tag\" dy=\"2em\" fill=\"currentColor\" x=\"450\">VERB</tspan>\n",
       "</text>\n",
       "\n",
       "<text class=\"displacy-token\" fill=\"currentColor\" text-anchor=\"middle\" y=\"197.0\">\n",
       "    <tspan class=\"displacy-word\" fill=\"currentColor\" x=\"550\">over</tspan>\n",
       "    <tspan class=\"displacy-tag\" dy=\"2em\" fill=\"currentColor\" x=\"550\">ADP</tspan>\n",
       "</text>\n",
       "\n",
       "<text class=\"displacy-token\" fill=\"currentColor\" text-anchor=\"middle\" y=\"197.0\">\n",
       "    <tspan class=\"displacy-word\" fill=\"currentColor\" x=\"650\">the</tspan>\n",
       "    <tspan class=\"displacy-tag\" dy=\"2em\" fill=\"currentColor\" x=\"650\">DET</tspan>\n",
       "</text>\n",
       "\n",
       "<text class=\"displacy-token\" fill=\"currentColor\" text-anchor=\"middle\" y=\"197.0\">\n",
       "    <tspan class=\"displacy-word\" fill=\"currentColor\" x=\"750\">lazy</tspan>\n",
       "    <tspan class=\"displacy-tag\" dy=\"2em\" fill=\"currentColor\" x=\"750\">ADJ</tspan>\n",
       "</text>\n",
       "\n",
       "<text class=\"displacy-token\" fill=\"currentColor\" text-anchor=\"middle\" y=\"197.0\">\n",
       "    <tspan class=\"displacy-word\" fill=\"currentColor\" x=\"850\">dog.</tspan>\n",
       "    <tspan class=\"displacy-tag\" dy=\"2em\" fill=\"currentColor\" x=\"850\">NOUN</tspan>\n",
       "</text>\n",
       "\n",
       "<g class=\"displacy-arrow\">\n",
       "    <path class=\"displacy-arc\" id=\"arrow-0-0\" stroke-width=\"2px\" d=\"M70,152.0 C70,2.0 350.0,2.0 350.0,152.0\" fill=\"none\" stroke=\"currentColor\"/>\n",
       "    <text dy=\"1.25em\" style=\"font-size: 0.8em; letter-spacing: 1px\">\n",
       "        <textPath xlink:href=\"#arrow-0-0\" class=\"displacy-label\" startOffset=\"50%\" fill=\"currentColor\" text-anchor=\"middle\">det</textPath>\n",
       "    </text>\n",
       "    <path class=\"displacy-arrowhead\" d=\"M70,154.0 L62,142.0 78,142.0\" fill=\"currentColor\"/>\n",
       "</g>\n",
       "\n",
       "<g class=\"displacy-arrow\">\n",
       "    <path class=\"displacy-arc\" id=\"arrow-0-1\" stroke-width=\"2px\" d=\"M170,152.0 C170,52.0 345.0,52.0 345.0,152.0\" fill=\"none\" stroke=\"currentColor\"/>\n",
       "    <text dy=\"1.25em\" style=\"font-size: 0.8em; letter-spacing: 1px\">\n",
       "        <textPath xlink:href=\"#arrow-0-1\" class=\"displacy-label\" startOffset=\"50%\" fill=\"currentColor\" text-anchor=\"middle\">amod</textPath>\n",
       "    </text>\n",
       "    <path class=\"displacy-arrowhead\" d=\"M170,154.0 L162,142.0 178,142.0\" fill=\"currentColor\"/>\n",
       "</g>\n",
       "\n",
       "<g class=\"displacy-arrow\">\n",
       "    <path class=\"displacy-arc\" id=\"arrow-0-2\" stroke-width=\"2px\" d=\"M270,152.0 C270,102.0 340.0,102.0 340.0,152.0\" fill=\"none\" stroke=\"currentColor\"/>\n",
       "    <text dy=\"1.25em\" style=\"font-size: 0.8em; letter-spacing: 1px\">\n",
       "        <textPath xlink:href=\"#arrow-0-2\" class=\"displacy-label\" startOffset=\"50%\" fill=\"currentColor\" text-anchor=\"middle\">amod</textPath>\n",
       "    </text>\n",
       "    <path class=\"displacy-arrowhead\" d=\"M270,154.0 L262,142.0 278,142.0\" fill=\"currentColor\"/>\n",
       "</g>\n",
       "\n",
       "<g class=\"displacy-arrow\">\n",
       "    <path class=\"displacy-arc\" id=\"arrow-0-3\" stroke-width=\"2px\" d=\"M370,152.0 C370,102.0 440.0,102.0 440.0,152.0\" fill=\"none\" stroke=\"currentColor\"/>\n",
       "    <text dy=\"1.25em\" style=\"font-size: 0.8em; letter-spacing: 1px\">\n",
       "        <textPath xlink:href=\"#arrow-0-3\" class=\"displacy-label\" startOffset=\"50%\" fill=\"currentColor\" text-anchor=\"middle\">nsubj</textPath>\n",
       "    </text>\n",
       "    <path class=\"displacy-arrowhead\" d=\"M370,154.0 L362,142.0 378,142.0\" fill=\"currentColor\"/>\n",
       "</g>\n",
       "\n",
       "<g class=\"displacy-arrow\">\n",
       "    <path class=\"displacy-arc\" id=\"arrow-0-4\" stroke-width=\"2px\" d=\"M470,152.0 C470,102.0 540.0,102.0 540.0,152.0\" fill=\"none\" stroke=\"currentColor\"/>\n",
       "    <text dy=\"1.25em\" style=\"font-size: 0.8em; letter-spacing: 1px\">\n",
       "        <textPath xlink:href=\"#arrow-0-4\" class=\"displacy-label\" startOffset=\"50%\" fill=\"currentColor\" text-anchor=\"middle\">prep</textPath>\n",
       "    </text>\n",
       "    <path class=\"displacy-arrowhead\" d=\"M540.0,154.0 L548.0,142.0 532.0,142.0\" fill=\"currentColor\"/>\n",
       "</g>\n",
       "\n",
       "<g class=\"displacy-arrow\">\n",
       "    <path class=\"displacy-arc\" id=\"arrow-0-5\" stroke-width=\"2px\" d=\"M670,152.0 C670,52.0 845.0,52.0 845.0,152.0\" fill=\"none\" stroke=\"currentColor\"/>\n",
       "    <text dy=\"1.25em\" style=\"font-size: 0.8em; letter-spacing: 1px\">\n",
       "        <textPath xlink:href=\"#arrow-0-5\" class=\"displacy-label\" startOffset=\"50%\" fill=\"currentColor\" text-anchor=\"middle\">det</textPath>\n",
       "    </text>\n",
       "    <path class=\"displacy-arrowhead\" d=\"M670,154.0 L662,142.0 678,142.0\" fill=\"currentColor\"/>\n",
       "</g>\n",
       "\n",
       "<g class=\"displacy-arrow\">\n",
       "    <path class=\"displacy-arc\" id=\"arrow-0-6\" stroke-width=\"2px\" d=\"M770,152.0 C770,102.0 840.0,102.0 840.0,152.0\" fill=\"none\" stroke=\"currentColor\"/>\n",
       "    <text dy=\"1.25em\" style=\"font-size: 0.8em; letter-spacing: 1px\">\n",
       "        <textPath xlink:href=\"#arrow-0-6\" class=\"displacy-label\" startOffset=\"50%\" fill=\"currentColor\" text-anchor=\"middle\">amod</textPath>\n",
       "    </text>\n",
       "    <path class=\"displacy-arrowhead\" d=\"M770,154.0 L762,142.0 778,142.0\" fill=\"currentColor\"/>\n",
       "</g>\n",
       "\n",
       "<g class=\"displacy-arrow\">\n",
       "    <path class=\"displacy-arc\" id=\"arrow-0-7\" stroke-width=\"2px\" d=\"M570,152.0 C570,2.0 850.0,2.0 850.0,152.0\" fill=\"none\" stroke=\"currentColor\"/>\n",
       "    <text dy=\"1.25em\" style=\"font-size: 0.8em; letter-spacing: 1px\">\n",
       "        <textPath xlink:href=\"#arrow-0-7\" class=\"displacy-label\" startOffset=\"50%\" fill=\"currentColor\" text-anchor=\"middle\">pobj</textPath>\n",
       "    </text>\n",
       "    <path class=\"displacy-arrowhead\" d=\"M850.0,154.0 L858.0,142.0 842.0,142.0\" fill=\"currentColor\"/>\n",
       "</g>\n",
       "</svg>"
      ],
      "text/plain": [
       "<IPython.core.display.HTML object>"
      ]
     },
     "metadata": {},
     "output_type": "display_data"
    }
   ],
   "source": [
    "doc = nlp('The quick brown fox jumped over the lazy dog.')\n",
    "options={'distance':100}\n",
    "displacy.render(doc, style='dep', jupyter=True, options=options)"
   ]
  },
  {
   "cell_type": "markdown",
   "metadata": {},
   "source": [
    "### Entity Recognition"
   ]
  },
  {
   "cell_type": "markdown",
   "metadata": {},
   "source": [
    "Here is how `displaCy` works for named-entity recognition."
   ]
  },
  {
   "cell_type": "code",
   "execution_count": 56,
   "metadata": {},
   "outputs": [
    {
     "data": {
      "text/html": [
       "<div class=\"entities\" style=\"line-height: 2.5\">\n",
       "<mark class=\"entity\" style=\"background: #aa9cfc; padding: 0.45em 0.6em; margin: 0 0.25em; line-height: 1; border-radius: 0.35em; box-decoration-break: clone; -webkit-box-decoration-break: clone\">\n",
       "    TD Ameritrade\n",
       "    <span style=\"font-size: 0.8em; font-weight: bold; line-height: 1; border-radius: 0.35em; text-transform: uppercase; vertical-align: middle; margin-left: 0.5rem\">PERSON</span>\n",
       "</mark>\n",
       ", \n",
       "<mark class=\"entity\" style=\"background: linear-gradient(90deg, #fee6ce, #e6550d); padding: 0.45em 0.6em; margin: 0 0.25em; line-height: 1; border-radius: 0.35em; box-decoration-break: clone; -webkit-box-decoration-break: clone\">\n",
       "    ProQuest\n",
       "    <span style=\"font-size: 0.8em; font-weight: bold; line-height: 1; border-radius: 0.35em; text-transform: uppercase; vertical-align: middle; margin-left: 0.5rem\">ORG</span>\n",
       "</mark>\n",
       ", \n",
       "<mark class=\"entity\" style=\"background: linear-gradient(90deg, #fee6ce, #e6550d); padding: 0.45em 0.6em; margin: 0 0.25em; line-height: 1; border-radius: 0.35em; box-decoration-break: clone; -webkit-box-decoration-break: clone\">\n",
       "    Google\n",
       "    <span style=\"font-size: 0.8em; font-weight: bold; line-height: 1; border-radius: 0.35em; text-transform: uppercase; vertical-align: middle; margin-left: 0.5rem\">ORG</span>\n",
       "</mark>\n",
       ", \n",
       "<mark class=\"entity\" style=\"background: linear-gradient(0deg, #deebf7, #3182bd); padding: 0.45em 0.6em; margin: 0 0.25em; line-height: 1; border-radius: 0.35em; box-decoration-break: clone; -webkit-box-decoration-break: clone\">\n",
       "    Domino\n",
       "    <span style=\"font-size: 0.8em; font-weight: bold; line-height: 1; border-radius: 0.35em; text-transform: uppercase; vertical-align: middle; margin-left: 0.5rem\">GPE</span>\n",
       "</mark>\n",
       "'s and \n",
       "<mark class=\"entity\" style=\"background: linear-gradient(90deg, #fee6ce, #e6550d); padding: 0.45em 0.6em; margin: 0 0.25em; line-height: 1; border-radius: 0.35em; box-decoration-break: clone; -webkit-box-decoration-break: clone\">\n",
       "    the University of Michigan\n",
       "    <span style=\"font-size: 0.8em; font-weight: bold; line-height: 1; border-radius: 0.35em; text-transform: uppercase; vertical-align: middle; margin-left: 0.5rem\">ORG</span>\n",
       "</mark>\n",
       " are companies that hire data scientists in \n",
       "<mark class=\"entity\" style=\"background: linear-gradient(0deg, #deebf7, #3182bd); padding: 0.45em 0.6em; margin: 0 0.25em; line-height: 1; border-radius: 0.35em; box-decoration-break: clone; -webkit-box-decoration-break: clone\">\n",
       "    Ann Arbor\n",
       "    <span style=\"font-size: 0.8em; font-weight: bold; line-height: 1; border-radius: 0.35em; text-transform: uppercase; vertical-align: middle; margin-left: 0.5rem\">GPE</span>\n",
       "</mark>\n",
       "</div>"
      ],
      "text/plain": [
       "<IPython.core.display.HTML object>"
      ]
     },
     "metadata": {},
     "output_type": "display_data"
    }
   ],
   "source": [
    "doc2 = nlp(\"TD Ameritrade, ProQuest, Google, Domino's and the University of Michigan are companies that hire data scientists in Ann Arbor\")\n",
    "colors = {'GPE': 'linear-gradient(0deg, #deebf7, #3182bd)',\n",
    "         'ORG': 'linear-gradient(90deg, #fee6ce, #e6550d)'}\n",
    "options = {'colors': colors}\n",
    "displacy.render(doc2, style='ent', jupyter=True, options=options)"
   ]
  },
  {
   "cell_type": "markdown",
   "metadata": {},
   "source": [
    "We can see there are a couple of errors. It thinks _TD Ameritrade_ is a person instead of an organization and _Domino_ is a geopolitical entity (i.e. place) instead of an organization. Since the named-entity parser is a statistical model making a prediction, we would need to train it some more to correct these errors.\n",
    "\n",
    "For additional visualization options, visit https://spacy.io/usage/visualizers. "
   ]
  },
  {
   "cell_type": "markdown",
   "metadata": {},
   "source": [
    "## Word Count"
   ]
  },
  {
   "cell_type": "markdown",
   "metadata": {},
   "source": [
    "Here is a list of tokenized words without the punctuation using a list comprehension. For large text, you should use a generator comprehension to save memory."
   ]
  },
  {
   "cell_type": "code",
   "execution_count": 17,
   "metadata": {
    "collapsed": true
   },
   "outputs": [],
   "source": [
    "doc = nlp('Knox in box. Fox in socks. Knox on fox in socks in box. Socks on Knox and Knox in box.')\n",
    "w = [token.text for token in doc if token.is_punct == False]"
   ]
  },
  {
   "cell_type": "markdown",
   "metadata": {},
   "source": [
    "There is no special function in `spaCy` to count words. We just use the `Counter` class in Python with the spaCy `token` object"
   ]
  },
  {
   "cell_type": "code",
   "execution_count": 18,
   "metadata": {},
   "outputs": [
    {
     "data": {
      "text/plain": [
       "[('in', 5),\n",
       " ('Knox', 4),\n",
       " ('box', 3),\n",
       " ('on', 2),\n",
       " ('socks', 2),\n",
       " ('Socks', 1),\n",
       " ('fox', 1),\n",
       " ('and', 1),\n",
       " ('Fox', 1)]"
      ]
     },
     "execution_count": 18,
     "metadata": {},
     "output_type": "execute_result"
    }
   ],
   "source": [
    "from collections import Counter\n",
    "freq = Counter(w)\n",
    "freq.most_common(10)"
   ]
  },
  {
   "cell_type": "markdown",
   "metadata": {},
   "source": [
    "# `textacy` and N-Grams"
   ]
  },
  {
   "cell_type": "markdown",
   "metadata": {},
   "source": [
    "There is no built-in method in spaCy to do generalized n-grams. Luckily, other packages have been built upon `spaCy` to do such processing. One of them is `textacy`. We can create a dictionary of ngrams and their frequency. We can also do more than one n-gram at a time with a single call."
   ]
  },
  {
   "cell_type": "code",
   "execution_count": 24,
   "metadata": {},
   "outputs": [
    {
     "data": {
      "text/plain": [
       "{'and': 1,\n",
       " 'and knox': 1,\n",
       " 'and knox in': 1,\n",
       " 'box': 3,\n",
       " 'fox': 2,\n",
       " 'fox in': 2,\n",
       " 'fox in sock': 2,\n",
       " 'in': 5,\n",
       " 'in box': 3,\n",
       " 'in sock': 2,\n",
       " 'in sock in': 1,\n",
       " 'knox': 4,\n",
       " 'knox and': 1,\n",
       " 'knox and knox': 1,\n",
       " 'knox in': 2,\n",
       " 'knox in box': 2,\n",
       " 'knox on': 1,\n",
       " 'knox on fox': 1,\n",
       " 'on': 2,\n",
       " 'on fox': 1,\n",
       " 'on fox in': 1,\n",
       " 'on knox': 1,\n",
       " 'on knox and': 1,\n",
       " 'sock': 3,\n",
       " 'sock in': 1,\n",
       " 'sock in box': 1,\n",
       " 'sock on': 1,\n",
       " 'sock on knox': 1}"
      ]
     },
     "execution_count": 24,
     "metadata": {},
     "output_type": "execute_result"
    }
   ],
   "source": [
    "import textacy\n",
    "tdoc = textacy.Doc(doc)\n",
    "kwargs = {'filter_stops':False}\n",
    "bow = tdoc.to_bag_of_terms(ngrams=(1,2,3), normalize='lemma', as_strings=True, **kwargs)\n",
    "bow"
   ]
  },
  {
   "cell_type": "markdown",
   "metadata": {},
   "source": [
    "We can then use a standard Python `Counter` to keep track of them."
   ]
  },
  {
   "cell_type": "code",
   "execution_count": 27,
   "metadata": {},
   "outputs": [
    {
     "data": {
      "text/plain": [
       "[('sir', 36),\n",
       " ('-PRON-', 23),\n",
       " (\"'s\", 23),\n",
       " ('sock', 17),\n",
       " ('fox', 15),\n",
       " ('beetle', 15),\n",
       " ('knox', 15),\n",
       " ('battle', 12),\n",
       " ('band', 11),\n",
       " ('come', 11)]"
      ]
     },
     "execution_count": 27,
     "metadata": {},
     "output_type": "execute_result"
    }
   ],
   "source": [
    "freq = Counter(bow)\n",
    "freq.most_common(10)"
   ]
  },
  {
   "cell_type": "markdown",
   "metadata": {},
   "source": [
    "## Exercise\n",
    "\n",
    "Here is some Python code to read in the Dr. Seuss book, Fox in Socks."
   ]
  },
  {
   "cell_type": "code",
   "execution_count": 22,
   "metadata": {
    "collapsed": true
   },
   "outputs": [],
   "source": [
    "import requests\n",
    "R = requests.get('http://ai.eecs.umich.edu/people/dreeves/Fox-In-Socks.txt')\n",
    "book = R.text\n",
    "book = book.replace('\\n\\n','').replace('\\n',' ').replace('  ',' ')"
   ]
  },
  {
   "cell_type": "markdown",
   "metadata": {},
   "source": [
    "What are the 10 most common words, bigrams, trigrams, or 4-grams in the book, Fox in Socks, once you filter out stopwords."
   ]
  },
  {
   "cell_type": "code",
   "execution_count": 32,
   "metadata": {},
   "outputs": [],
   "source": [
    "# Put Solution Here"
   ]
  },
  {
   "cell_type": "markdown",
   "metadata": {},
   "source": [
    "# Word Similarity"
   ]
  },
  {
   "cell_type": "markdown",
   "metadata": {},
   "source": [
    "> Similarity is determined by comparing word vectors or \"word embeddings\", multi-dimensional meaning representations of a word. Word vectors can be generated using an algorithm like word2vec."
   ]
  },
  {
   "cell_type": "code",
   "execution_count": 19,
   "metadata": {
    "scrolled": true
   },
   "outputs": [
    {
     "name": "stdout",
     "output_type": "stream",
     "text": [
      "two six 0.672846\n",
      "two sick 0.0718134\n",
      "two chicks 0.0214334\n",
      "six sick 0.289106\n",
      "six chicks 0.0575883\n",
      "sick chicks 0.298852\n"
     ]
    }
   ],
   "source": [
    "# Example here\n",
    "doc = nlp('two six sick chicks')\n",
    "words = len(doc)\n",
    "for i in range(words):\n",
    "    for j in range(i+1,words):\n",
    "        token1 = doc[i]\n",
    "        token2 = doc[j]\n",
    "        print(token1, token2, token1.similarity(token2))"
   ]
  },
  {
   "cell_type": "markdown",
   "metadata": {},
   "source": [
    "Here is the word vector for the word chicks."
   ]
  },
  {
   "cell_type": "code",
   "execution_count": 20,
   "metadata": {
    "scrolled": true
   },
   "outputs": [
    {
     "name": "stdout",
     "output_type": "stream",
     "text": [
      "chicks (384,) [  9.55344796e-01   1.25301361e+00   3.85179400e+00   6.45237923e-01\n",
      "  -1.63090324e+00   3.60614777e-01  -4.32127953e+00   1.57091594e+00\n",
      "   4.30313498e-01  -7.96505690e-01   1.78313828e+00  -3.56821865e-01\n",
      "   6.81392848e-01   1.41243905e-01   2.30763316e+00   4.23232317e-02\n",
      "  -2.51061249e+00   7.29276896e-01  -7.81416416e-01  -3.40388393e+00\n",
      "   8.78293514e-01   2.60295820e+00  -9.26705599e-01  -1.15090966e-01\n",
      "  -2.48714042e+00   4.83663559e-01  -2.19940948e+00  -2.39275193e+00\n",
      "  -1.03995574e+00   3.05410433e+00  -2.18665457e+00   4.39681387e+00\n",
      "   1.25002241e+00   1.00378835e+00  -2.80383080e-01  -2.28881717e+00\n",
      "  -6.37936592e-01   8.61515701e-02  -2.69418001e+00   1.98078349e-01\n",
      "   3.70216894e+00   4.16304970e+00   3.04885745e+00  -2.53899425e-01\n",
      "  -1.89209878e+00   2.68161130e+00   4.15394831e+00  -8.85104120e-01\n",
      "   5.36967993e+00  -8.09246600e-02  -2.19703197e+00  -1.31723273e+00\n",
      "  -2.65883756e+00  -5.31380892e-01  -1.81385410e+00  -2.64382005e+00\n",
      "  -2.14884424e+00  -1.41263664e+00  -3.34509826e+00   1.11504018e+00\n",
      "  -1.46798944e+00  -2.43018031e+00  -7.22299337e-01   3.28640461e-01\n",
      "   3.70381403e+00   6.98345780e-01   2.81314325e+00  -2.48865533e+00\n",
      "  -1.58282495e+00  -1.26815283e+00  -3.30695415e+00   1.03171301e+00\n",
      "   2.36396885e+00  -7.49313474e-01  -1.69911420e+00  -2.15377378e+00\n",
      "   1.72297132e+00   9.39564109e-01   3.88838267e+00  -3.96156073e+00\n",
      "  -1.10948789e+00   2.78465676e+00  -9.15872514e-01  -1.77975118e+00\n",
      "   2.83430052e+00   3.84501886e+00  -1.54744363e+00   1.87657475e+00\n",
      "  -1.92945933e+00   1.12227476e+00   2.56987381e+00  -2.08602238e+00\n",
      "  -2.17780256e+00   7.83931464e-02  -7.40428925e-01   3.05901229e-01\n",
      "  -1.68704420e-01   3.25082779e+00   3.53913116e+00  -2.78157234e+00\n",
      "  -2.28432560e+00   4.48223639e+00   3.81155968e+00  -2.55802441e+00\n",
      "  -1.76275659e+00  -2.64860296e+00  -2.15776294e-01  -1.46045303e+00\n",
      "  -1.96596694e+00  -4.14692020e+00   4.14246857e-01   1.02927101e+00\n",
      "  -1.36289835e-01  -4.05424929e+00   4.56635666e+00   2.63720369e+00\n",
      "  -7.34662890e-01  -7.20626593e-01  -2.36973524e+00   1.57597184e+00\n",
      "   1.59072709e+00  -6.30602121e-01   7.58799970e-01   1.34644794e+00\n",
      "   2.10898590e+00  -2.99215436e+00   4.29145765e+00  -2.27374268e+00\n",
      "  -9.41210628e-01  -6.16966426e-01  -3.70161712e-01   2.67686397e-01\n",
      "   7.96941578e-01  -2.63934910e-01  -4.28695351e-01  -1.36289716e-01\n",
      "   2.27012128e-01  -2.43432671e-01   2.01263279e-01  -3.99566859e-01\n",
      "  -4.81238991e-01  -7.16197133e-01  -8.23903531e-02   2.15006471e-01\n",
      "   1.31790400e-01   8.70167911e-02   5.27751088e-01  -1.50047481e-01\n",
      "   8.65843296e-02   3.93333793e-01   2.40194395e-01   5.15900105e-02\n",
      "   3.15705061e-01  -2.15953961e-01   2.53339618e-01  -2.75328718e-02\n",
      "  -2.56007254e-01  -5.14740109e-01  -5.72016060e-01  -1.21377736e-01\n",
      "  -1.07408017e-02  -2.46557653e-01  -2.54447311e-01   6.15719020e-01\n",
      "   2.01515287e-01  -1.92658067e-01   4.66281027e-01   3.07874441e-01\n",
      "   1.92746595e-01   5.11621952e-01  -5.28521389e-02  -4.92621899e-01\n",
      "   3.12523186e-01  -8.80245268e-01  -1.26497120e-01  -3.21966588e-01\n",
      "  -1.30655989e-01   5.20740032e-01  -1.13510013e-01  -6.87587857e-02\n",
      "   5.74483946e-02  -5.81516027e-01   6.42654955e-01   2.23567337e-01\n",
      "  -2.50018626e-01  -5.61240256e-01   4.60969985e-01  -1.54450864e-01\n",
      "   1.01314986e+00   4.80188191e-01   7.53131747e-01   2.94018447e-01\n",
      "   4.70400929e-01   2.68019497e-01  -2.36355871e-01  -2.75681734e-01\n",
      "   1.98012665e-01   3.79654258e-01  -2.19446868e-01  -8.30081224e-01\n",
      "   1.03780246e+00   6.27713501e-02  -2.49710053e-01   5.21140993e-01\n",
      "   1.37017757e-01  -2.57730484e-01   4.33750838e-01   2.09698945e-01\n",
      "   3.32941711e-01  -6.32837117e-01   4.12209094e-01   1.32201284e-01\n",
      "   1.40379846e-01  -4.75086570e-01  -7.26873040e-01  -1.11787394e-01\n",
      "  -3.62724513e-02  -2.46455252e-01   4.33587700e-01  -5.77905834e-01\n",
      "  -2.28580743e-01   2.59000570e-01   3.64519984e-01   1.39196217e-01\n",
      "  -4.44206983e-01  -3.43887866e-01   1.65283397e-01  -2.62275398e-01\n",
      "   2.67937064e-01   2.54156351e-01   9.86697078e-02   3.37135851e-01\n",
      "  -1.16668567e-02   6.25505149e-02  -5.15639603e-01   2.46955931e-01\n",
      "   5.76194048e-01   1.94187239e-02  -3.69483203e-01  -6.21592522e-01\n",
      "   2.12896526e-01  -1.58276767e-01   6.27972722e-01  -4.86432493e-01\n",
      "  -4.36351448e-03   3.71885121e-01   4.47528958e-02   3.04531515e-01\n",
      "  -2.40083411e-01  -5.22211492e-01  -2.41082013e-01  -2.97223032e-02\n",
      "  -3.26730013e-02   1.99454591e-01   1.24215543e-01   4.07105714e-01\n",
      "  -3.39507639e-01   7.12143302e-01   3.45050037e-01   3.66580337e-01\n",
      "   6.75514936e-02  -7.15286374e-01   1.75589681e-01   3.01263064e-01\n",
      "  -7.52565637e-02  -2.73864836e-01  -1.39596856e+00   5.36028862e-01\n",
      "  -6.31061643e-02  -5.31881332e-01   2.92596966e-01   4.28662807e-01\n",
      "   6.73113704e-01  -2.62892962e-01   1.16815217e-01  -1.82197511e-01\n",
      "  -1.72533661e-01   6.37510657e-01   9.91559088e-01  -3.60660404e-01\n",
      "  -8.00600886e-01  -4.17666614e-01  -5.05751908e-01  -3.93283427e-01\n",
      "   5.93583226e-01  -1.80495009e-02   6.18650205e-02  -6.86151505e-01\n",
      "   2.71869451e-01   5.64807832e-01   3.39566439e-01   5.45891225e-01\n",
      "  -3.07676941e-01   4.22552884e-01   4.98964399e-01  -6.09543562e-01\n",
      "  -3.07470649e-01  -3.40578228e-01  -1.46074131e-01  -5.23582160e-01\n",
      "   5.80582738e-01   5.29083014e-02  -7.12450594e-02  -6.12739623e-01\n",
      "  -2.95784414e-01  -3.56462121e-01  -1.60048500e-01  -5.73500395e-01\n",
      "   1.78313032e-01   1.00154769e+00   5.47148734e-02  -5.54031506e-02\n",
      "  -5.61723113e-01   4.50042456e-01   6.96418941e-01  -3.73502642e-01\n",
      "   2.91561425e-01   4.96702254e-01   8.79591852e-02   5.55317104e-03\n",
      "   7.68434703e-01  -1.15911067e-01  -3.70129049e-01   6.83905542e-01\n",
      "  -3.81599367e-02   5.26794136e-01  -6.91167653e-01  -2.62239695e-01\n",
      "  -1.37283370e-01   7.59586215e-01  -1.61693096e-02   4.35411811e-01\n",
      "  -3.80579770e-01   3.20836127e-01  -2.40274191e-01   2.69153714e-01\n",
      "  -2.61367381e-01   7.95013309e-02   1.65937021e-01  -4.35372919e-01\n",
      "  -2.76907802e-01  -2.32055977e-01  -1.99655712e-01   6.74440384e-01\n",
      "   1.08097285e-01  -3.97666365e-01  -3.89887691e-01   6.77601874e-01\n",
      "   2.26082087e-01   7.50263259e-02   5.04229426e-01  -5.36156654e-01\n",
      "  -9.06105936e-01   6.48936093e-01   1.13579050e-01  -1.95155978e-01\n",
      "   3.72874469e-01  -3.47733676e-01  -6.16898417e-01  -6.13662899e-01\n",
      "  -5.33950925e-01  -5.74711710e-02   4.56597030e-01   4.01825279e-01\n",
      "  -5.26512682e-01  -3.69246870e-01  -1.21947333e-01   1.76280253e-02\n",
      "   7.29584813e-01   3.22640359e-01  -5.89197874e-01   1.93647981e-01\n",
      "  -2.61755306e-02  -5.42281091e-01  -3.71608287e-02   1.05442619e+00\n",
      "   4.36576724e-01  -3.22023809e-01  -1.71529856e-02  -1.49946600e-01\n",
      "  -2.74458855e-01  -7.09273517e-01   3.04612100e-01   2.09003687e-04]\n"
     ]
    }
   ],
   "source": [
    "print(token2.text, token2.vector.shape, token2.vector)"
   ]
  },
  {
   "cell_type": "markdown",
   "metadata": {},
   "source": [
    "We can get the same value by using the formula for cosine similiarity "
   ]
  },
  {
   "cell_type": "code",
   "execution_count": 21,
   "metadata": {},
   "outputs": [
    {
     "data": {
      "text/plain": [
       "0.29885164"
      ]
     },
     "execution_count": 21,
     "metadata": {},
     "output_type": "execute_result"
    }
   ],
   "source": [
    "import numpy as np\n",
    "v1 = token1.vector\n",
    "v2 = token2.vector\n",
    "similarity = np.dot(v1,v2) / (np.linalg.norm(v1)*np.linalg.norm(v2))\n",
    "similarity"
   ]
  },
  {
   "cell_type": "markdown",
   "metadata": {},
   "source": [
    "**Tip**: spaCy recommends that if you want to use real word vectors, you should download the large language model version (e.g. **en_core_web_lg** for english) using the command `python -m spacy download en_core_web_lg`. \n",
    "\n",
    "The large models have already been downloaded on the lab PCs. Just use `nlp = spacy.load('en_core_web_lg')` to load the large language model. It's about 23x larger than the small model so it might take longer to load."
   ]
  },
  {
   "cell_type": "markdown",
   "metadata": {},
   "source": [
    "# Exercise\n",
    "\n",
    "Re-run the word similarity example using the large english language model. Notice how the similiarity measures have changed. Add a fake word to the document. What is the similiarity of a real word to a fake word?  "
   ]
  },
  {
   "cell_type": "code",
   "execution_count": 22,
   "metadata": {
    "collapsed": true
   },
   "outputs": [],
   "source": [
    "# Solution\n",
    "doc = nlp('two six sick chicks') #hint: add in a fake word here"
   ]
  },
  {
   "cell_type": "markdown",
   "metadata": {},
   "source": [
    "**Tip**: You can check if a word has a vector in the large model using the `has_vector` or `is_oov` (is out-of-vocabulary) attribute:"
   ]
  },
  {
   "cell_type": "code",
   "execution_count": 23,
   "metadata": {},
   "outputs": [
    {
     "name": "stdout",
     "output_type": "stream",
     "text": [
      "fake True True\n",
      "news True True\n",
      "word True True\n",
      "fakenews True True\n",
      "fakeword True True\n"
     ]
    }
   ],
   "source": [
    "doc = nlp('fake news word fakenews fakeword')\n",
    "for token in doc:\n",
    "    print(token.text, token.has_vector, token.is_oov)"
   ]
  },
  {
   "cell_type": "markdown",
   "metadata": {},
   "source": [
    "# Gensim\n",
    "\n",
    "`Gensim` is described as topic modelling for humans, is a powerful vector space modeling and topic modeling toolkit, commonly used for a variety of NLP tasks. "
   ]
  },
  {
   "cell_type": "markdown",
   "metadata": {},
   "source": [
    "## Word2Vec"
   ]
  },
  {
   "cell_type": "markdown",
   "metadata": {},
   "source": [
    "`Gensim` requires a list of list representing tokens in sentences in the document to create a `Word2Vec` model"
   ]
  },
  {
   "cell_type": "code",
   "execution_count": 24,
   "metadata": {
    "collapsed": true
   },
   "outputs": [],
   "source": [
    "sentences=[]\n",
    "doc = nlp(book)\n",
    "for sentence in doc.sents:\n",
    "    sentences.append([token.text.lower() for token in sentence \n",
    "                 if token.is_punct == False and token.is_stop == False and token.text not in [\"\\n\",\"'s\"]])"
   ]
  },
  {
   "cell_type": "code",
   "execution_count": 25,
   "metadata": {},
   "outputs": [
    {
     "name": "stderr",
     "output_type": "stream",
     "text": [
      "C:\\Users\\caoa\\AppData\\Local\\Continuum\\anaconda3\\lib\\site-packages\\gensim\\utils.py:1197: UserWarning: detected Windows; aliasing chunkize to chunkize_serial\n",
      "  warnings.warn(\"detected Windows; aliasing chunkize to chunkize_serial\")\n"
     ]
    }
   ],
   "source": [
    "from gensim.models import Word2Vec\n",
    "model = Word2Vec(sentences, size=100, window=5, min_count=2, workers=1)"
   ]
  },
  {
   "cell_type": "code",
   "execution_count": 26,
   "metadata": {},
   "outputs": [
    {
     "name": "stdout",
     "output_type": "stream",
     "text": [
      "Word2Vec(vocab=111, size=100, alpha=0.025)\n"
     ]
    }
   ],
   "source": [
    "print(model)"
   ]
  },
  {
   "cell_type": "markdown",
   "metadata": {},
   "source": [
    "Here is the list of words in our vocabulary."
   ]
  },
  {
   "cell_type": "code",
   "execution_count": 27,
   "metadata": {},
   "outputs": [
    {
     "name": "stdout",
     "output_type": "stream",
     "text": [
      "['fox', 'socks', 'box', 'knox', 'chicks', 'bricks', 'come', 'blocks', 'clocks', 'look', 'sir', 'mr.', 'let', 'tricks', 'i', \"'ll\", 'quick', 'trick', 'stack', 'you', 'and', 'new', 'now', 'ticks', 'tocks', 'try', 'tick', 'tock', 'six', 'sick', \"n't\", 'my', 'tongue', 'here', 'easy', 'game', 'play', 'sue', 'who', 'sews', 'sew', 'that', 'comes', 'crow', 'slow', 'joe', 'clothes', 'rose', 'hose', 'nose', 'goes', 'grows', 'mr', 'this', 'find', 'blue', 'goo', 'gooey', 'gluey', 'goose', 'do', 'choose', 'chew', 'wo', ' ', 'very', 'way', 'bim', 'ben', 'brings', 'broom', 'bends', 'bent', 'breaks', 'band', 'big', 'bands', 'pig', 'poor', 'mouth', 'well', 'luke', 'luck', 'likes', 'lakes', 'duck', 'licks', 'takes', 'cheese', 'trees', 'free', 'fleas', 'flew', 'freezy', 'breeze', 'freeze', 'stop', 'tweetle', 'beetles', 'when', 'fight', 'beetle', 'battle', 'puddle', 'paddles', 'paddle', 'bottle', 'muddle', 'poodle', 'eating', 'noodle']\n"
     ]
    }
   ],
   "source": [
    "words = list(model.wv.vocab)\n",
    "print(words)"
   ]
  },
  {
   "cell_type": "code",
   "execution_count": 29,
   "metadata": {},
   "outputs": [
    {
     "ename": "NameError",
     "evalue": "name 'model' is not defined",
     "output_type": "error",
     "traceback": [
      "\u001b[1;31m---------------------------------------------------------------------------\u001b[0m",
      "\u001b[1;31mNameError\u001b[0m                                 Traceback (most recent call last)",
      "\u001b[1;32m<ipython-input-29-6ec80dc21356>\u001b[0m in \u001b[0;36m<module>\u001b[1;34m()\u001b[0m\n\u001b[1;32m----> 1\u001b[1;33m \u001b[0mmodel\u001b[0m\u001b[1;33m.\u001b[0m\u001b[0mwv\u001b[0m\u001b[1;33m.\u001b[0m\u001b[0mmost_similar\u001b[0m\u001b[1;33m(\u001b[0m\u001b[0mpositive\u001b[0m\u001b[1;33m=\u001b[0m\u001b[1;33m[\u001b[0m\u001b[1;34m'freeze'\u001b[0m\u001b[1;33m,\u001b[0m \u001b[1;34m'lakes'\u001b[0m\u001b[1;33m]\u001b[0m\u001b[1;33m,\u001b[0m \u001b[0mnegative\u001b[0m\u001b[1;33m=\u001b[0m\u001b[1;33m[\u001b[0m\u001b[1;34m'puddle'\u001b[0m\u001b[1;33m]\u001b[0m\u001b[1;33m)\u001b[0m\u001b[1;33m\u001b[0m\u001b[0m\n\u001b[0m",
      "\u001b[1;31mNameError\u001b[0m: name 'model' is not defined"
     ]
    }
   ],
   "source": [
    "model.wv.most_similar(positive=['freeze', 'lakes'], negative=['puddle'])"
   ]
  },
  {
   "cell_type": "markdown",
   "metadata": {},
   "source": [
    "Here is one of the word embeddings we've created. It is of length 100 as specified."
   ]
  },
  {
   "cell_type": "code",
   "execution_count": 28,
   "metadata": {},
   "outputs": [
    {
     "name": "stdout",
     "output_type": "stream",
     "text": [
      "(100,) [ -3.73417535e-03   4.01451439e-03  -3.20351287e-03  -3.28504902e-05\n",
      "  -4.06850921e-03   1.46337505e-03   7.94140855e-04   8.73141980e-04\n",
      "  -1.39750622e-03  -1.56603323e-03  -4.24633548e-03  -1.21518178e-03\n",
      "  -3.20803653e-03   4.94385883e-03   4.22425894e-03   4.64461418e-03\n",
      "   1.37691607e-03  -3.33996722e-03  -4.64668177e-04  -4.81831515e-03\n",
      "  -4.05993871e-03   4.62590577e-03  -2.03222432e-03   1.57924544e-03\n",
      "  -2.75351270e-03  -3.41047090e-03   4.53404896e-03  -2.67358962e-03\n",
      "  -1.15022541e-03  -2.12793262e-03   4.12724540e-03   6.28289825e-04\n",
      "   3.84322042e-03   1.30383632e-05  -1.06488785e-03   6.62403181e-05\n",
      "   1.53998495e-03  -1.14497985e-03   3.43747041e-03  -4.52046702e-03\n",
      "   2.63180281e-03  -2.68284610e-04  -3.03586945e-03  -4.63021779e-03\n",
      "  -3.05890600e-04   1.25674636e-03   1.33022433e-03  -2.02246453e-03\n",
      "   2.99645751e-03  -2.70588207e-03  -2.17913039e-04  -2.35341815e-03\n",
      "   1.35437620e-03  -4.38145408e-03  -2.92181596e-03  -2.38251756e-03\n",
      "   4.78591165e-03  -1.99050992e-03  -1.54982216e-03   1.91489200e-03\n",
      "   1.31161883e-03  -4.77661565e-03  -3.47348652e-03   2.37375265e-03\n",
      "  -1.13143725e-03  -3.27217369e-03   6.99197000e-04   2.54763383e-03\n",
      "   3.85581609e-03   2.54222541e-03   1.74218125e-03  -3.88437370e-03\n",
      "  -1.24780962e-03  -4.36563091e-03   7.30306027e-04  -5.87307266e-04\n",
      "   1.78469298e-03  -1.96349993e-03  -4.60724317e-04  -2.57171271e-03\n",
      "   9.23469546e-04   6.90367830e-04   3.27077997e-03   4.93146526e-03\n",
      "   3.46049108e-03  -6.68620865e-04  -1.40873238e-03   4.60041268e-03\n",
      "   1.14416238e-03  -1.55847496e-03   3.69682722e-03   2.81815836e-03\n",
      "   4.18466516e-03  -9.88622080e-04   1.31973077e-03  -2.75444542e-03\n",
      "   4.20781318e-03  -2.60259397e-03  -4.75040311e-03  -3.79236485e-03]\n"
     ]
    }
   ],
   "source": [
    "print(model.wv['chicks'].shape, model.wv['chicks'])"
   ]
  },
  {
   "cell_type": "markdown",
   "metadata": {},
   "source": [
    "Now we can do some word algebra (using the underlying word vectors) and other NLP word tasks."
   ]
  },
  {
   "cell_type": "markdown",
   "metadata": {},
   "source": [
    "`beetle + paddles - puddle = ?`"
   ]
  },
  {
   "cell_type": "code",
   "execution_count": 29,
   "metadata": {},
   "outputs": [
    {
     "data": {
      "text/plain": [
       "[('joe', 0.2904588282108307),\n",
       " ('poor', 0.26913172006607056),\n",
       " ('breaks', 0.22923937439918518),\n",
       " ('goo', 0.22687794268131256),\n",
       " ('crow', 0.18567422032356262),\n",
       " ('flew', 0.16453713178634644),\n",
       " ('slow', 0.15313851833343506),\n",
       " ('licks', 0.15117333829402924),\n",
       " ('comes', 0.14978717267513275),\n",
       " ('find', 0.14946645498275757)]"
      ]
     },
     "execution_count": 29,
     "metadata": {},
     "output_type": "execute_result"
    }
   ],
   "source": [
    "model.wv.most_similar(positive=['beetle', 'paddles'], negative=['puddle'])"
   ]
  },
  {
   "cell_type": "code",
   "execution_count": 30,
   "metadata": {},
   "outputs": [
    {
     "data": {
      "text/plain": [
       "'beetle'"
      ]
     },
     "execution_count": 30,
     "metadata": {},
     "output_type": "execute_result"
    }
   ],
   "source": [
    "model.wv.doesnt_match(\"fox knox beetle box\".split())"
   ]
  },
  {
   "cell_type": "code",
   "execution_count": 31,
   "metadata": {
    "scrolled": true
   },
   "outputs": [
    {
     "data": {
      "text/plain": [
       "-0.0066919343283848368"
      ]
     },
     "execution_count": 31,
     "metadata": {},
     "output_type": "execute_result"
    }
   ],
   "source": [
    "model.wv.similarity('sick','chicks')"
   ]
  },
  {
   "cell_type": "markdown",
   "metadata": {},
   "source": [
    "## Word2Vec Visualization"
   ]
  },
  {
   "cell_type": "markdown",
   "metadata": {},
   "source": [
    "Lets fit a 2-D PCA model to the word embeddings for visualization purposes."
   ]
  },
  {
   "cell_type": "code",
   "execution_count": 32,
   "metadata": {
    "collapsed": true
   },
   "outputs": [],
   "source": [
    "from sklearn.decomposition import PCA\n",
    "import matplotlib.pyplot as plt"
   ]
  },
  {
   "cell_type": "code",
   "execution_count": 33,
   "metadata": {
    "collapsed": true
   },
   "outputs": [],
   "source": [
    "X = model.wv[model.wv.vocab]\n",
    "pca = PCA(n_components=2)\n",
    "new_vectors = pca.fit_transform(X)"
   ]
  },
  {
   "cell_type": "markdown",
   "metadata": {},
   "source": [
    "And plot the resulting vector onto our new 2-dimensional projection from our 100-dimensional vector we started with."
   ]
  },
  {
   "cell_type": "code",
   "execution_count": 34,
   "metadata": {
    "scrolled": false
   },
   "outputs": [
    {
     "data": {
      "image/png": "[encoded data removed]",
      "text/plain": [
       "<matplotlib.figure.Figure at 0x1c3671d0>"
      ]
     },
     "metadata": {},
     "output_type": "display_data"
    }
   ],
   "source": [
    "fig = plt.figure(figsize=(14, 14))\n",
    "plt.scatter(new_vectors[:,0], new_vectors[:, 1])\n",
    "for i, word in enumerate(model.wv.vocab):\n",
    "    plt.annotate(word, xy=(new_vectors[i,0], new_vectors[i,1]), size=16)"
   ]
  },
  {
   "cell_type": "markdown",
   "metadata": {},
   "source": [
    "# Topic Modeling\n",
    "\n",
    "One branch of NLP is topic modeling - a topic model is a kind of statistical model that is used to uncover the abstract topics and concepts that occur in a collection of documents. Topic modeling is frequently used to discover semantic structures in a text body, and as a data-mining tool to better understand large collections of data.\n",
    "\n",
    "Now that we've seen how spaCy processes short text segments, let's explore what happens (and what we can work with) when we examine a much larger document. To work with topic modeling, we'll begin by using `spaCy` to tokenize a text file containing US news articles."
   ]
  },
  {
   "cell_type": "code",
   "execution_count": 35,
   "metadata": {},
   "outputs": [
    {
     "name": "stdout",
     "output_type": "stream",
     "text": [
      "Wall time: 1.45 s\n"
     ]
    }
   ],
   "source": [
    "%%time\n",
    "import os\n",
    "filename = r'C:\\Users\\caoa\\Box Sync\\coursera\\Capstone\\SwiftKeyProject\\final\\en_US\\en_US.news.txt'\n",
    "#filename = 'en_US.news.txt'\n",
    "with open(filename, 'r', encoding='utf-8') as fin:\n",
    "    data = fin.read()\n",
    "data = data[:900000]"
   ]
  },
  {
   "cell_type": "code",
   "execution_count": 36,
   "metadata": {},
   "outputs": [
    {
     "name": "stdout",
     "output_type": "stream",
     "text": [
      "Wall time: 43.4 s\n"
     ]
    }
   ],
   "source": [
    "%%time\n",
    "news = nlp(data)"
   ]
  },
  {
   "cell_type": "markdown",
   "metadata": {},
   "source": [
    "As with any large text, we can't start analysis until we clean the data. This involves removing unimportant words and punctuation, begin by removing __stopwords__, which are commonly used words that have little value in determining sentiment or analyzing a document. Filtering out words like ‘the’, ‘is’, and ‘are’ helps speed up processes and helps keep the data clean while allowing us to focus on more significant/rarer terms. Luckily, each token has the built-in property `is_stop` to indicate whether or not it is considered a stopword.\n",
    "\n",
    "Sometimes, in addition to removing stopwords, we'll want to remove punctuation from a piece. We may also choose to convert all words to lowercase or standardize dates and times. Note that the cleaning process will not be the same for every text or even for every analysis of the same text - sometimes we care about capitalization and punctuation as part of the sentiment and topic modeling analysis. For now, though, we'll remove the punctuation. We'll also remove any newline and possessive characters.\n",
    "\n",
    "We need to create a list of lists for the tokens in each sentence for the next section."
   ]
  },
  {
   "cell_type": "code",
   "execution_count": 37,
   "metadata": {},
   "outputs": [
    {
     "data": {
      "text/plain": [
       "[['He', \"n't\", 'home', 'apparently'],\n",
       " ['The', 'St.', 'Louis', 'plant', 'close'],\n",
       " ['It', 'die', 'old', 'age'],\n",
       " ['Workers',\n",
       "  'making',\n",
       "  'cars',\n",
       "  'onset',\n",
       "  'mass',\n",
       "  'automotive',\n",
       "  'production',\n",
       "  '1920s'],\n",
       " ['WSU', 'plans', 'quickly', 'hot', 'topic', 'local', 'online', 'sites']]"
      ]
     },
     "execution_count": 37,
     "metadata": {},
     "output_type": "execute_result"
    }
   ],
   "source": [
    "text=[]\n",
    "for sentence in news.sents:\n",
    "    text.append([token.text for token in sentence \n",
    "                 if token.is_punct == False and token.is_stop == False and token.text not in [\"\\n\",\"'s\"]])\n",
    "text[:5]"
   ]
  },
  {
   "cell_type": "markdown",
   "metadata": {},
   "source": [
    "## LDA"
   ]
  },
  {
   "cell_type": "markdown",
   "metadata": {},
   "source": [
    "Now that we've prepared our information for analysis, we'll use `gensim` to perform topic modelling. "
   ]
  },
  {
   "cell_type": "code",
   "execution_count": 38,
   "metadata": {
    "collapsed": true
   },
   "outputs": [],
   "source": [
    "from gensim import corpora, models"
   ]
  },
  {
   "cell_type": "markdown",
   "metadata": {},
   "source": [
    "We begin by creating a `gensim` dictionary containing (key, value) pairs which represent (word, integer id) respectively."
   ]
  },
  {
   "cell_type": "code",
   "execution_count": 39,
   "metadata": {},
   "outputs": [
    {
     "data": {
      "text/plain": [
       "{'He': 0,\n",
       " 'apparently': 1,\n",
       " 'home': 2,\n",
       " \"n't\": 3,\n",
       " 'Louis': 4,\n",
       " 'St.': 5,\n",
       " 'The': 6,\n",
       " 'close': 7,\n",
       " 'plant': 8,\n",
       " 'It': 9,\n",
       " 'age': 10,\n",
       " 'die': 11,\n",
       " 'old': 12,\n",
       " '1920s': 13,\n",
       " 'Workers': 14,\n",
       " 'automotive': 15,\n",
       " 'cars': 16,\n",
       " 'making': 17,\n",
       " 'mass': 18,\n",
       " 'onset': 19,\n",
       " 'production': 20,\n",
       " 'WSU': 21,\n",
       " 'hot': 22,\n",
       " 'local': 23,\n",
       " 'online': 24,\n",
       " 'plans': 25,\n",
       " 'quickly': 26,\n",
       " 'sites': 27,\n",
       " 'topic': 28,\n",
       " 'Though': 29,\n",
       " 'applauded': 30,\n",
       " 'biomedical': 31,\n",
       " 'building': 32,\n",
       " 'center': 33,\n",
       " 'deplored': 34,\n",
       " 'loss': 35,\n",
       " 'new': 36,\n",
       " 'people': 37,\n",
       " 'potential': 38,\n",
       " 'Alaimo': 39,\n",
       " 'Group': 40,\n",
       " 'Holly': 41,\n",
       " 'Mount': 42,\n",
       " 'Trenton': 43,\n",
       " 'Water': 44,\n",
       " 'Works': 45,\n",
       " 'contract': 46,\n",
       " 'evaluate': 47,\n",
       " 'fall': 48,\n",
       " 'improvements': 49,\n",
       " 'suggest': 50,\n",
       " '$': 51,\n",
       " '4,500': 52,\n",
       " 'But': 53,\n",
       " 'June': 54,\n",
       " 'PAC': 55,\n",
       " 'Partners': 56,\n",
       " 'Progress': 57,\n",
       " 'action': 58,\n",
       " 'campaign': 59,\n",
       " 'committee': 60,\n",
       " 'donated': 61,\n",
       " 'early': 62,\n",
       " 'employees': 63,\n",
       " 'finance': 64,\n",
       " 'political': 65,\n",
       " 'records': 66,\n",
       " 'released': 67,\n",
       " 'total': 68,\n",
       " 'week': 69,\n",
       " '10,000': 70,\n",
       " '15': 71,\n",
       " 'Mack': 72,\n",
       " 'Mayor': 73,\n",
       " 'Tony': 74,\n",
       " 'contributions': 75,\n",
       " 'direct': 76,\n",
       " 'election': 77,\n",
       " 'gave': 78,\n",
       " 'kind': 79,\n",
       " 'leading': 80,\n",
       " 'mayoral': 81,\n",
       " 'reported': 82,\n",
       " 'runoff': 83,\n",
       " 'victory': 84,\n",
       " 'weeks': 85,\n",
       " 'And': 86,\n",
       " 'bill': 87,\n",
       " 'carrying': 88,\n",
       " 'difficult': 89,\n",
       " 'impact': 90,\n",
       " 'law': 91,\n",
       " 'legislators': 92,\n",
       " 'predict': 93,\n",
       " 'think': 94,\n",
       " 'twice': 95,\n",
       " 'Is': 96,\n",
       " 'absolutely': 97,\n",
       " 'necessary': 98,\n",
       " 'attention': 99,\n",
       " 'issue': 100,\n",
       " 'merit': 101,\n",
       " 'Will': 102,\n",
       " 'definitely': 103,\n",
       " 'situation': 104,\n",
       " 'worse': 105,\n",
       " 'NFL': 106,\n",
       " 'There': 107,\n",
       " 'ago': 108,\n",
       " 'certain': 109,\n",
       " 'day': 110,\n",
       " 'decided': 111,\n",
       " 'draft': 112,\n",
       " 'eventually': 113,\n",
       " 'going': 114,\n",
       " 'prime': 115,\n",
       " 'round': 116,\n",
       " 'scoffing': 117,\n",
       " 'separate': 118,\n",
       " 'splitting': 119,\n",
       " 'time': 120,\n",
       " 'weekend': 121,\n",
       " 'years': 122,\n",
       " '14915': 123,\n",
       " 'Charlevoix': 124,\n",
       " 'Detroit': 125,\n",
       " '2009': 126,\n",
       " 'Americans': 127,\n",
       " 'Atlantic': 128,\n",
       " 'Christie': 129,\n",
       " 'City': 130,\n",
       " 'Director': 131,\n",
       " 'GOP': 132,\n",
       " 'Jersey': 133,\n",
       " 'Lonegan': 134,\n",
       " 'New': 135,\n",
       " 'Prosperity': 136,\n",
       " 'Steve': 137,\n",
       " 'attempts': 138,\n",
       " 'conservative': 139,\n",
       " 'failed': 140,\n",
       " 'line': 141,\n",
       " 'long': 142,\n",
       " 'lost': 143,\n",
       " 'primary': 144,\n",
       " 'said': 145,\n",
       " 'subsidize': 146,\n",
       " '’s': 147,\n",
       " 'Casino': 148,\n",
       " 'Revel': 149,\n",
       " 'expense': 150,\n",
       " 'government': 151,\n",
       " 'hit': 152,\n",
       " 'jackpot': 153,\n",
       " 'CPS': 154,\n",
       " 'Sullivan': 155,\n",
       " 'accessing': 156,\n",
       " 'accountability': 157,\n",
       " 'block': 158,\n",
       " 'called': 159,\n",
       " 'correct': 160,\n",
       " 'employee': 161,\n",
       " 'example': 162,\n",
       " 'fraudulent': 163,\n",
       " 'improve': 164,\n",
       " 'inappropriate': 165,\n",
       " 'invoices': 166,\n",
       " 'measures': 167,\n",
       " 'place': 168,\n",
       " 'problems': 169,\n",
       " 'report': 170,\n",
       " 'saying': 171,\n",
       " 'submitting': 172,\n",
       " 'websites': 173,\n",
       " 'hard': 174,\n",
       " 'trying': 175,\n",
       " '\\x93I': 176,\n",
       " 'Rizzo': 177,\n",
       " 'field': 178,\n",
       " 'left': 179,\n",
       " 'opposite': 180,\n",
       " 'pitch': 181,\n",
       " 'someplace,\\x94': 182,\n",
       " 'CEO': 183,\n",
       " 'MHTA': 184,\n",
       " 'President': 185,\n",
       " 'contact.\\x94': 186,\n",
       " 'good': 187,\n",
       " '\\x93I\\x92m': 188,\n",
       " 'Anderson': 189,\n",
       " 'Kelliher': 190,\n",
       " 'Margaret': 191,\n",
       " 'begin': 192,\n",
       " 'construction': 193,\n",
       " 'floor': 194,\n",
       " 'fourth': 195,\n",
       " 'historic': 196,\n",
       " 'likely': 197,\n",
       " 'near': 198,\n",
       " 'offices': 199,\n",
       " 'soon': 200,\n",
       " 'suite': 201,\n",
       " 'trading': 202,\n",
       " 'absurdity': 203,\n",
       " 'apparent': 204,\n",
       " 'attempting': 205,\n",
       " 'bottle': 206,\n",
       " 'later': 207,\n",
       " 'magnitude': 208,\n",
       " 'news': 209,\n",
       " 'write': 210,\n",
       " 'Diana': 211,\n",
       " 'GM': 212,\n",
       " 'Tremblay': 213,\n",
       " 'competitive': 214,\n",
       " 'competitors': 215,\n",
       " 'deal': 216,\n",
       " 'eliminated': 217,\n",
       " 'enable': 218,\n",
       " 'fully': 219,\n",
       " 'gap': 220,\n",
       " 'labor': 221,\n",
       " 'president': 222,\n",
       " 'relations': 223,\n",
       " 'vice': 224,\n",
       " 'Here': 225,\n",
       " 'Wandry': 226,\n",
       " 'matters': 227,\n",
       " '35': 228,\n",
       " 'Our': 229,\n",
       " 'assets': 230,\n",
       " 'away': 231,\n",
       " 'current': 232,\n",
       " 'exceptions': 233,\n",
       " 'gift': 234,\n",
       " 'imposes': 235,\n",
       " 'system': 236,\n",
       " 'tax': 237,\n",
       " 'taxpayers': 238,\n",
       " '13,000': 239,\n",
       " '5.12': 240,\n",
       " 'Individuals': 241,\n",
       " 'exemption': 242,\n",
       " 'lifetime': 243,\n",
       " 'million': 244,\n",
       " 'number': 245,\n",
       " 'recipients': 246,\n",
       " 'unlimited': 247,\n",
       " 'year': 248,\n",
       " '1': 249,\n",
       " '55': 250,\n",
       " 'Next': 251,\n",
       " 'break': 252,\n",
       " 'drop': 253,\n",
       " 'rate': 254,\n",
       " 'rise': 255,\n",
       " 'scheduled': 256,\n",
       " 'Cheap': 257,\n",
       " 'feel': 258,\n",
       " '6-foot-10': 259,\n",
       " 'Batum': 260,\n",
       " 'Suns': 261,\n",
       " 'best': 262,\n",
       " 'elbow': 263,\n",
       " 'elbows': 264,\n",
       " 'feet': 265,\n",
       " 'forward': 266,\n",
       " 'impression': 267,\n",
       " 'performed': 268,\n",
       " 'rose': 269,\n",
       " 'squared': 270,\n",
       " 'throwing': 271,\n",
       " 'Andrade': 272,\n",
       " 'Erin': 273,\n",
       " 'Patrick': 274,\n",
       " 'adults': 275,\n",
       " 'children': 276,\n",
       " 'high': 277,\n",
       " 'intrigued': 278,\n",
       " 'life': 279,\n",
       " 'mentoring': 280,\n",
       " 'opportunity': 281,\n",
       " 'play': 282,\n",
       " 'role': 283,\n",
       " 'school': 284,\n",
       " 'son': 285,\n",
       " 'student': 286,\n",
       " 'Let': 287,\n",
       " 'better': 288,\n",
       " 'hair': 289,\n",
       " 'looks': 290,\n",
       " '1925': 291,\n",
       " '1945': 292,\n",
       " 'April': 293,\n",
       " 'Born': 294,\n",
       " 'Italy': 295,\n",
       " 'Naples': 296,\n",
       " 'North': 297,\n",
       " 'Plainfield': 298,\n",
       " 'Pozzuoli': 299,\n",
       " 'marriage': 300,\n",
       " 'resided': 301,\n",
       " 'Democrats': 302,\n",
       " 'House': 303,\n",
       " 'Leader': 304,\n",
       " 'Minority': 305,\n",
       " 'Nancy': 306,\n",
       " 'Pelosi': 307,\n",
       " 'Weiner': 308,\n",
       " 'resignation': 309,\n",
       " 'love': 310,\n",
       " 'money': 311,\n",
       " 'second': 312,\n",
       " 'self': 313,\n",
       " 'Greek': 314,\n",
       " 'Two': 315,\n",
       " 'concepts': 316,\n",
       " 'express': 317,\n",
       " 'philargyros': 318,\n",
       " 'philautos': 319,\n",
       " 'succinctly': 320,\n",
       " 'words': 321,\n",
       " 'Both': 322,\n",
       " 'I': 323,\n",
       " 'detect': 324,\n",
       " 'lie': 325,\n",
       " 'root': 326,\n",
       " 'world': 327,\n",
       " 'Certainly': 328,\n",
       " 'diagnosis': 329,\n",
       " 'novel': 330,\n",
       " 'Why': 331,\n",
       " 'chronic': 332,\n",
       " 'destructive': 333,\n",
       " 'experience': 334,\n",
       " 'human': 335,\n",
       " 'personality': 336,\n",
       " 'traits': 337,\n",
       " 'Further': 338,\n",
       " 'attributes': 339,\n",
       " 'communities': 340,\n",
       " 'detriment': 341,\n",
       " 'greater': 342,\n",
       " 'permitted': 343,\n",
       " 'population': 344,\n",
       " 'possess': 345,\n",
       " 'rampant': 346,\n",
       " 'run': 347,\n",
       " 'societies': 348,\n",
       " 'Protester': 349,\n",
       " 'curb': 350,\n",
       " 'phenomenon': 351,\n",
       " 'seeks': 352,\n",
       " '11': 353,\n",
       " '2004': 354,\n",
       " '444': 355,\n",
       " 'Added': 356,\n",
       " 'Also': 357,\n",
       " 'Australia': 358,\n",
       " 'Bin': 359,\n",
       " 'Bowser': 360,\n",
       " 'Cabernet': 361,\n",
       " 'East': 362,\n",
       " 'Eastern': 363,\n",
       " 'Orange': 364,\n",
       " 'Robert': 365,\n",
       " 'Sauvignon': 366,\n",
       " 'South': 367,\n",
       " 'We': 368,\n",
       " 'Wyndham': 369,\n",
       " 'consider': 370,\n",
       " 'tolerate': 371,\n",
       " 'violence': 372,\n",
       " 'city': 373,\n",
       " 'picked': 374,\n",
       " 'shooter': 375,\n",
       " 'wrong': 376,\n",
       " 'apprehended': 377,\n",
       " 'Looking': 378,\n",
       " 'gotten': 379,\n",
       " 'realize': 380,\n",
       " 'stayed': 381,\n",
       " 'Others': 382,\n",
       " 'afraid': 383,\n",
       " 'breast': 384,\n",
       " 'cancer': 385,\n",
       " 'mammogram': 386,\n",
       " 'spread': 387,\n",
       " 'Again': 388,\n",
       " 'true': 389,\n",
       " 'Buffett': 390,\n",
       " 'If': 391,\n",
       " 'Mr.': 392,\n",
       " 'charity': 393,\n",
       " 'conscience': 394,\n",
       " 'donations': 395,\n",
       " 'guilty': 396,\n",
       " 'increase': 397,\n",
       " 'pay': 398,\n",
       " 'simply': 399,\n",
       " 'taxes': 400,\n",
       " 'lead': 401,\n",
       " 'raise': 402,\n",
       " 'solves': 403,\n",
       " 'suggesting': 404,\n",
       " 'wealthy': 405,\n",
       " \"'ll\": 406,\n",
       " \"'re\": 407,\n",
       " 'Consignment': 408,\n",
       " 'Home': 409,\n",
       " 'Oak': 410,\n",
       " 'ReDesign': 411,\n",
       " 'Royal': 412,\n",
       " 'check': 413,\n",
       " 'furniture': 414,\n",
       " 'gently': 415,\n",
       " 'market': 416,\n",
       " 'quality': 417,\n",
       " 'want': 418,\n",
       " '1,200': 419,\n",
       " 'Thomasville': 420,\n",
       " 'chairs': 421,\n",
       " 'dining': 422,\n",
       " 'lovely': 423,\n",
       " 'table': 424,\n",
       " 'traditional': 425,\n",
       " '9': 426,\n",
       " 'May': 427,\n",
       " 'Today': 428,\n",
       " 'You': 429,\n",
       " 'amazing': 430,\n",
       " 'birthday': 431,\n",
       " 'powers': 432,\n",
       " 'visualization': 433,\n",
       " 'ideal': 434,\n",
       " 'images': 435,\n",
       " 'paint': 436,\n",
       " 'real': 437,\n",
       " 'steps': 438,\n",
       " 'chimpanzees': 439,\n",
       " 'harried': 440,\n",
       " 'liked': 441,\n",
       " 'office': 442,\n",
       " 'theCareerBuilder.comad': 443,\n",
       " 'worker': 444,\n",
       " \"'m\": 445,\n",
       " 'Trade': 446,\n",
       " 'babies': 447,\n",
       " 'e': 448,\n",
       " 'edgy': 449,\n",
       " 'fun': 450,\n",
       " 'incarnations': 451,\n",
       " 'sucker': 452,\n",
       " 'yesterday': 453,\n",
       " 'Bud': 454,\n",
       " 'Light': 455,\n",
       " 'OK': 456,\n",
       " 'Weego': 457,\n",
       " 'dog': 458,\n",
       " 'rescue': 459,\n",
       " 'went': 460,\n",
       " 'BL': 461,\n",
       " 'Knight': 462,\n",
       " 'ESPN': 463,\n",
       " 'Neinas': 464,\n",
       " 'agree': 465,\n",
       " 'bolt': 466,\n",
       " 'conference': 467,\n",
       " 'grant': 468,\n",
       " 'impossible': 469,\n",
       " 'league': 470,\n",
       " 'longterm': 471,\n",
       " 'media': 472,\n",
       " 'members': 473,\n",
       " 'pushing': 474,\n",
       " 'reportedly': 475,\n",
       " 'rights': 476,\n",
       " 'schools': 477,\n",
       " 'television': 478,\n",
       " 'working': 479,\n",
       " 'Not': 480,\n",
       " 'advances': 481,\n",
       " 'cellphone': 482,\n",
       " 'collar': 483,\n",
       " 'got': 484,\n",
       " 'grass': 485,\n",
       " 'party': 486,\n",
       " 'reject': 487,\n",
       " 'shirt': 488,\n",
       " 'stains': 489,\n",
       " 'suitor': 490,\n",
       " 'wondering': 491,\n",
       " 'Maryland': 492,\n",
       " 'country': 493,\n",
       " 'equal': 494,\n",
       " 'state': 495,\n",
       " 'wealthiest': 496,\n",
       " 'Martin': 497,\n",
       " 'Trayvon': 498,\n",
       " 'allowed': 499,\n",
       " 'conditions': 500,\n",
       " 'exempt': 501,\n",
       " 'occur': 502,\n",
       " 'tragedy': 503,\n",
       " 'battle': 504,\n",
       " 'equity': 505,\n",
       " 'established': 506,\n",
       " 'individuals': 507,\n",
       " 'institutions': 508,\n",
       " 'systems': 509,\n",
       " 'Child': 510,\n",
       " 'adulthood': 511,\n",
       " 'disparities': 512,\n",
       " 'indicators': 513,\n",
       " 'infancy': 514,\n",
       " 'wellbeing': 515,\n",
       " 'Advocates': 516,\n",
       " 'Children': 517,\n",
       " 'See': 518,\n",
       " 'Youth': 519,\n",
       " 'http://www.acy.org': 520,\n",
       " 'information': 521,\n",
       " 'birthweight': 522,\n",
       " 'health': 523,\n",
       " 'infant': 524,\n",
       " 'low': 525,\n",
       " 'mortality': 526,\n",
       " 'academic': 527,\n",
       " 'achievement': 528,\n",
       " 'administering': 529,\n",
       " 'arrests': 530,\n",
       " 'based': 531,\n",
       " 'discipline': 532,\n",
       " 'disparate': 533,\n",
       " 'educational': 534,\n",
       " 'expulsions': 535,\n",
       " 'policies': 536,\n",
       " 'suspensions': 537,\n",
       " 'child': 538,\n",
       " 'color': 539,\n",
       " 'counterparts': 540,\n",
       " 'higher': 541,\n",
       " 'rates': 542,\n",
       " 'removed': 543,\n",
       " 'welfare': 544,\n",
       " 'white': 545,\n",
       " 'arrest': 546,\n",
       " 'justice': 547,\n",
       " 'juvenile': 548,\n",
       " 'placement': 549,\n",
       " 'stage': 550,\n",
       " 'tried': 551,\n",
       " 'youth': 552,\n",
       " 'Florida': 553,\n",
       " 'Utah': 554,\n",
       " 'coach': 555,\n",
       " 'n’t': 556,\n",
       " 'question': 557,\n",
       " 'wants': 558,\n",
       " 'cesspool': 559,\n",
       " 'jobs': 560,\n",
       " 'pick': 561,\n",
       " 'step': 562,\n",
       " 'Barrett': 563,\n",
       " 'acknowledges': 564,\n",
       " 'brusque': 565,\n",
       " 'times': 566,\n",
       " 'In': 567,\n",
       " 'attends': 568,\n",
       " 'easy': 569,\n",
       " 'hours': 570,\n",
       " 'parent': 571,\n",
       " 'performs': 572,\n",
       " 'teacher': 573,\n",
       " 'volunteer': 574,\n",
       " 'clear': 575,\n",
       " 'contribution': 576,\n",
       " 'ensuring': 577,\n",
       " 'gets': 578,\n",
       " 'homework': 579,\n",
       " 'important': 580,\n",
       " 'occurs': 581,\n",
       " 'typically': 582,\n",
       " 'valuable': 583,\n",
       " 'Ancora': 584,\n",
       " 'Greg': 585,\n",
       " 'Roberts': 586,\n",
       " 'acting': 587,\n",
       " 'care': 588,\n",
       " 'director': 589,\n",
       " 'leadership': 590,\n",
       " 'patient': 591,\n",
       " 'security': 592,\n",
       " 'staffing': 593,\n",
       " 'stressed': 594,\n",
       " 'basics': 595,\n",
       " 'literally': 596,\n",
       " 'starting': 597,\n",
       " 'changes': 598,\n",
       " 'plus': 599,\n",
       " 'sustainable': 600,\n",
       " 'Abroad': 601,\n",
       " 'At': 602,\n",
       " 'Fontbonne': 603,\n",
       " 'Gail': 604,\n",
       " 'Schafers': 605,\n",
       " 'Study': 606,\n",
       " 'University': 607,\n",
       " 'abroad': 608,\n",
       " 'choosing': 609,\n",
       " 'conceded': 610,\n",
       " 'interested': 611,\n",
       " 'opportunities': 612,\n",
       " 'programs': 613,\n",
       " 'short': 614,\n",
       " 'students': 615,\n",
       " 'study': 616,\n",
       " 'summer': 617,\n",
       " 'term': 618,\n",
       " 'travel': 619,\n",
       " 'To': 620,\n",
       " 'conduct': 621,\n",
       " 'consortium': 622,\n",
       " 'partners': 623,\n",
       " 'private': 624,\n",
       " 'universities': 625,\n",
       " 'Drage': 626,\n",
       " 'Vukcevich': 627,\n",
       " 'Be': 628,\n",
       " 'hurry': 629,\n",
       " 'quick': 630,\n",
       " '413-foot': 631,\n",
       " 'Alex': 632,\n",
       " 'Gonzalez': 633,\n",
       " 'Lohse': 634,\n",
       " 'bases': 635,\n",
       " 'bat': 636,\n",
       " 'homer': 637,\n",
       " 'light': 638,\n",
       " 'load': 639,\n",
       " 'mind': 640,\n",
       " 'previous': 641,\n",
       " 'walking': 642,\n",
       " '3': 643,\n",
       " 'George': 644,\n",
       " 'Kottaras': 645,\n",
       " 'pich': 646,\n",
       " 'strike': 647,\n",
       " 'zone': 648,\n",
       " 'After': 649,\n",
       " 'blue': 650,\n",
       " 'brighten': 651,\n",
       " 'painted': 652,\n",
       " 'room': 653,\n",
       " 'wall': 654,\n",
       " 'Three': 655,\n",
       " 'base': 656,\n",
       " 'bold': 657,\n",
       " 'cream': 658,\n",
       " 'green': 659,\n",
       " 'interior': 660,\n",
       " 'mustard': 661,\n",
       " 'replaced': 662,\n",
       " 'trim': 663,\n",
       " 'yellow': 664,\n",
       " '2': 665,\n",
       " '6': 666,\n",
       " 'Blues': 667,\n",
       " 'Medina': 668,\n",
       " 'Sting': 669,\n",
       " 'Thanksgiving': 670,\n",
       " 'York': 671,\n",
       " 'cold': 672,\n",
       " 'crab': 673,\n",
       " 'families': 674,\n",
       " 'heavily': 675,\n",
       " 'menu': 676,\n",
       " 'nice': 677,\n",
       " 'preparation': 678,\n",
       " 'relying': 679,\n",
       " 'shuttle': 680,\n",
       " 'simple': 681,\n",
       " 'stove': 682,\n",
       " 'bird': 683,\n",
       " 'eat': 684,\n",
       " 'free': 685,\n",
       " 'hated': 686,\n",
       " 'late': 687,\n",
       " 'like': 688,\n",
       " 'oven': 689,\n",
       " 'snack': 690,\n",
       " 'work': 691,\n",
       " '20,000': 692,\n",
       " '21': 693,\n",
       " 'additional': 694,\n",
       " 'bareheaded': 695,\n",
       " 'carry': 696,\n",
       " 'effect': 697,\n",
       " 'immediately': 698,\n",
       " 'insurance': 699,\n",
       " 'medical': 700,\n",
       " 'older': 701,\n",
       " 'requires': 702,\n",
       " 'riders': 703,\n",
       " 'takes': 704,\n",
       " 'Riders': 705,\n",
       " 'course': 706,\n",
       " 'endorsement': 707,\n",
       " 'motorcycle': 708,\n",
       " 'passed': 709,\n",
       " 'safety': 710,\n",
       " 'These': 711,\n",
       " 'come': 712,\n",
       " 'costs': 713,\n",
       " 'given': 714,\n",
       " 'helmet': 715,\n",
       " 'inadequate': 716,\n",
       " 'increased': 717,\n",
       " 'riding': 718,\n",
       " 'risks': 719,\n",
       " 'safeguards': 720,\n",
       " 'woefully': 721,\n",
       " '10': 722,\n",
       " 'Abby': 723,\n",
       " 'Sharp': 724,\n",
       " 'siblings': 725,\n",
       " 'compromise': 726,\n",
       " '1976': 727,\n",
       " 'Open': 728,\n",
       " 'U.S.': 729,\n",
       " 'chair': 730,\n",
       " 'crying': 731,\n",
       " 'fewest': 732,\n",
       " 'final': 733,\n",
       " 'games': 734,\n",
       " 'match': 735,\n",
       " 'night': 736,\n",
       " 'sat': 737,\n",
       " 'stand': 738,\n",
       " 'umpire': 739,\n",
       " 'women': 740,\n",
       " 'won': 741,\n",
       " '14th': 742,\n",
       " '5': 743,\n",
       " '6700': 744,\n",
       " 'Avenue': 745,\n",
       " 'Hillsdale': 746,\n",
       " 'Laudan': 747,\n",
       " 'Laura': 748,\n",
       " 'Monday': 749,\n",
       " 'Southwest': 750,\n",
       " 'Taiby': 751,\n",
       " 'area': 752,\n",
       " 'daughter': 753,\n",
       " 'leaving': 754,\n",
       " 'p.m.': 755,\n",
       " 'saw': 756,\n",
       " 'says': 757,\n",
       " 'Amare': 758,\n",
       " 'Game': 759,\n",
       " 'Heat': 760,\n",
       " 'Knicks': 761,\n",
       " 'Miami': 762,\n",
       " 'NBA.com': 763,\n",
       " 'Stoudemire': 764,\n",
       " 'Tuesday': 765,\n",
       " 'cutting': 766,\n",
       " 'hand': 767,\n",
       " 'knowledge': 768,\n",
       " 'miss': 769,\n",
       " 'person': 770,\n",
       " 'playoff': 771,\n",
       " 'reporting': 772,\n",
       " 'rest': 773,\n",
       " 'series': 774,\n",
       " 'sit': 775,\n",
       " 'Another': 776,\n",
       " 'Federal': 777,\n",
       " 'Reserve': 778,\n",
       " 'boost': 779,\n",
       " 'economy': 780,\n",
       " 'hiring': 781,\n",
       " 'makes': 782,\n",
       " 'meeting': 783,\n",
       " 'month': 784,\n",
       " 'strong': 785,\n",
       " 'California': 786,\n",
       " 'Fire': 787,\n",
       " 'crews': 788,\n",
       " 'thousands': 789,\n",
       " 'wildfires': 790,\n",
       " '1950': 791,\n",
       " '2010': 792,\n",
       " '7,000': 793,\n",
       " 'This': 794,\n",
       " 'areas': 795,\n",
       " 'burned': 796,\n",
       " 'largest': 797,\n",
       " 'map': 798,\n",
       " 'shows': 799,\n",
       " 'Department': 800,\n",
       " 'Forest': 801,\n",
       " 'Forestry': 802,\n",
       " 'Protection': 803,\n",
       " 'Service': 804,\n",
       " 'agencies': 805,\n",
       " 'data': 806,\n",
       " 'federal': 807,\n",
       " 'includes': 808,\n",
       " 'including': 809,\n",
       " '100': 810,\n",
       " '300': 811,\n",
       " 'acres': 812,\n",
       " 'estimated': 813,\n",
       " 'fewer': 814,\n",
       " 'fires': 815,\n",
       " 'include': 816,\n",
       " 'shown': 817,\n",
       " '1/27/2012': 818,\n",
       " '3,935': 819,\n",
       " '360,900': 820,\n",
       " '6680': 821,\n",
       " 'Arrieta': 822,\n",
       " 'Ct': 823,\n",
       " 'Raleighview': 824,\n",
       " 'SW': 825,\n",
       " 'hits': 826,\n",
       " 'innings': 827,\n",
       " 'runs': 828,\n",
       " 'square': 829,\n",
       " 'career': 830,\n",
       " 'homers': 831,\n",
       " 'matching': 832,\n",
       " 'season': 833,\n",
       " 'starts': 834,\n",
       " 'surrendered': 835,\n",
       " 'yielded': 836,\n",
       " 'Doug': 837,\n",
       " 'Junior': 838,\n",
       " 'Oceanside': 839,\n",
       " 'Smith': 840,\n",
       " 'Sunday': 841,\n",
       " 'When': 842,\n",
       " 'memorial': 843,\n",
       " 'postmaster': 844,\n",
       " 'service': 845,\n",
       " 'surprise': 846,\n",
       " 'told': 847,\n",
       " 'walked': 848,\n",
       " 'Chain': 849,\n",
       " 'Perhaps': 850,\n",
       " 'Or': 851,\n",
       " 'disapproval': 852,\n",
       " 'fear': 853,\n",
       " 'guiding': 854,\n",
       " 'precisely': 855,\n",
       " 'shoulders': 856,\n",
       " 'wave': 857,\n",
       " 'First': 858,\n",
       " 'accept': 859,\n",
       " 'coming': 860,\n",
       " 'matter': 861,\n",
       " 'probably': 862,\n",
       " '458': 863,\n",
       " 'Obletz': 864,\n",
       " 'cost': 865,\n",
       " 'project': 866,\n",
       " 'representative': 867,\n",
       " 'expensive': 868,\n",
       " 'options': 869,\n",
       " 'represented': 870,\n",
       " 'sub': 871,\n",
       " 'affordable': 872,\n",
       " 'level': 873,\n",
       " 'ratchet': 874,\n",
       " 'rid': 875,\n",
       " 'sort': 876,\n",
       " 'task': 877,\n",
       " 'try': 878,\n",
       " 'Context': 879,\n",
       " 'Barbera': 880,\n",
       " 'Boeger': 881,\n",
       " 'Day': 882,\n",
       " 'Foothill': 883,\n",
       " 'Grape': 884,\n",
       " 'Justin': 885,\n",
       " 'Last': 886,\n",
       " 'Plymouth': 887,\n",
       " 'barbera': 888,\n",
       " 'bring': 889,\n",
       " 'dinner': 890,\n",
       " 'growers': 891,\n",
       " 'know': 892,\n",
       " 'panel': 893,\n",
       " 'remarked': 894,\n",
       " 'talking': 895,\n",
       " 'winemakers': 896,\n",
       " 'versatile': 897,\n",
       " 'Italian': 898,\n",
       " 'Other': 899,\n",
       " 'dish': 900,\n",
       " 'enhanced': 901,\n",
       " 'paired': 902,\n",
       " 'tomatoes': 903,\n",
       " 'traditionally': 904,\n",
       " 'Legislature': 905,\n",
       " 'guest': 906,\n",
       " 'pilot': 907,\n",
       " 'program': 908,\n",
       " 'subsequently': 909,\n",
       " 'Bowl': 910,\n",
       " 'NBC': 911,\n",
       " 'Super': 912,\n",
       " 'Voice': 913,\n",
       " 'competition': 914,\n",
       " 'kicking': 915,\n",
       " 'network': 916,\n",
       " 'positioning': 917,\n",
       " 'right': 918,\n",
       " 'singing': 919,\n",
       " 'style': 920,\n",
       " 'upstart': 921,\n",
       " '50': 922,\n",
       " 'amid': 923,\n",
       " 'debris': 924,\n",
       " 'horrific': 925,\n",
       " 'injured': 926,\n",
       " 'killed': 927,\n",
       " 'scene': 928,\n",
       " 'smoking': 929,\n",
       " 'strewn': 930,\n",
       " 'That': 931,\n",
       " 'help': 932,\n",
       " 'ticket': 933,\n",
       " 'Translation': 934,\n",
       " 'Meyer': 935,\n",
       " 'UF': 936,\n",
       " 'caused': 937,\n",
       " 'main': 938,\n",
       " 'resign': 939,\n",
       " 'sick': 940,\n",
       " 'support': 941,\n",
       " 'bolted': 942,\n",
       " 'imploding': 943,\n",
       " 'Muschamp': 944,\n",
       " 'bereft': 945,\n",
       " 'crumbling': 946,\n",
       " 'decency': 947,\n",
       " 'depth': 948,\n",
       " 'shell': 949,\n",
       " 'team': 950,\n",
       " 'Bynum': 951,\n",
       " 'tip': 952,\n",
       " 'ball': 953,\n",
       " 'brought': 954,\n",
       " 'downcourt': 955,\n",
       " 'slammed': 956,\n",
       " '12': 957,\n",
       " 'Lakers': 958,\n",
       " 'fact': 959,\n",
       " 'points': 960,\n",
       " 'Gasol': 961,\n",
       " 'Pau': 962,\n",
       " 'big': 963,\n",
       " 'effective': 964,\n",
       " 'meaning': 965,\n",
       " 'men': 966,\n",
       " 'Colorado': 967,\n",
       " 'Even': 968,\n",
       " 'committed': 969,\n",
       " 'company': 970,\n",
       " 'remains': 971,\n",
       " 'shrinking': 972,\n",
       " 'workforce': 973,\n",
       " 'WOW': 974,\n",
       " 'Museum': 975,\n",
       " 'Youngstown': 976,\n",
       " 'game': 977,\n",
       " 'kept': 978,\n",
       " 'pitching': 979,\n",
       " 'looked': 980,\n",
       " 'scoreboard': 981,\n",
       " 'accepting': 982,\n",
       " 'customers': 983,\n",
       " 'prepaid': 984,\n",
       " 'stopped': 985,\n",
       " 'tuition': 986,\n",
       " 'Assistance': 987,\n",
       " 'Commission': 988,\n",
       " 'Illinois': 989,\n",
       " 'Student': 990,\n",
       " 'adding': 991,\n",
       " 'begun': 992,\n",
       " 'She': 993,\n",
       " 'citizen': 994,\n",
       " 'fade': 995,\n",
       " 'nonexistence': 996,\n",
       " 'refuses': 997,\n",
       " 'senior': 998,\n",
       " 'spry': 999,\n",
       " ...}"
      ]
     },
     "execution_count": 39,
     "metadata": {},
     "output_type": "execute_result"
    }
   ],
   "source": [
    "dictionary = corpora.Dictionary(text)\n",
    "dictionary.token2id"
   ]
  },
  {
   "cell_type": "markdown",
   "metadata": {},
   "source": [
    "> To convert documents to vectors, we’ll use a document representation called bag-of-words. In this representation, each document is represented by one vector where each vector element represents a question-answer pair, in the style of:\n",
    "\n",
    "> “How many times does the word system appear in the document? Once.”\n",
    "\n",
    "The method `doc2bow` converts the document to a bag-of-words model by counting the number of occurrences of each distinct word, converts the word to its integer word id and returns the result as a sparse vector."
   ]
  },
  {
   "cell_type": "code",
   "execution_count": 40,
   "metadata": {},
   "outputs": [
    {
     "data": {
      "text/plain": [
       "[[(0, 1), (1, 1), (2, 1), (3, 1)],\n",
       " [(4, 1), (5, 1), (6, 1), (7, 1), (8, 1)],\n",
       " [(9, 1), (10, 1), (11, 1), (12, 1)]]"
      ]
     },
     "execution_count": 40,
     "metadata": {},
     "output_type": "execute_result"
    }
   ],
   "source": [
    "corpus = [dictionary.doc2bow(txt) for txt in text]\n",
    "corpus[:3]"
   ]
  },
  {
   "cell_type": "markdown",
   "metadata": {},
   "source": [
    "Latent Dirichlet Allocation (LDA) is a generative statistical model. It is a pattern recognition and machine learning technique that works to find a linear combination of features that characterizes two or more classes of objects. We use it here to try to identify topics in our corpus."
   ]
  },
  {
   "cell_type": "code",
   "execution_count": 41,
   "metadata": {
    "collapsed": true
   },
   "outputs": [],
   "source": [
    "lda = models.LdaModel(corpus, id2word=dictionary, num_topics=30)"
   ]
  },
  {
   "cell_type": "markdown",
   "metadata": {
    "collapsed": true
   },
   "source": [
    "Below, we call `show_topics` to view N topics chosen randomly. Each topic contain the top 10 keywords that the LDA model has found. The word's coefficients represents its weight and the words are listed in descending order by weight."
   ]
  },
  {
   "cell_type": "code",
   "execution_count": 42,
   "metadata": {
    "collapsed": true
   },
   "outputs": [],
   "source": [
    "lda.show_topics()"
   ]
  },
  {
   "cell_type": "markdown",
   "metadata": {
    "collapsed": true
   },
   "source": [
    "From these buzzwords, we can infer what general concept each \"topic\" is talking about. Take a minute to think about what each collection of keywords represents."
   ]
  },
  {
   "cell_type": "markdown",
   "metadata": {},
   "source": [
    "## Streaming Text\n",
    "\n",
    "Above, we abbreviated the text document for time and memory sake. `spaCy` will complain if you try to feed it more than a 1 million character string. We can get around the memory issue by streaming the text one line at a time with the following generator function to achieve the same objective."
   ]
  },
  {
   "cell_type": "code",
   "execution_count": null,
   "metadata": {
    "collapsed": true
   },
   "outputs": [],
   "source": [
    "def sentence_generator(filename, nlp):\n",
    "    for line in open(filename, 'r', encoding='utf-8'):              \n",
    "        news = nlp(line)\n",
    "        for sentence in news.sents:\n",
    "            yield [token.text for token in sentence \n",
    "                   if token.is_punct == False and token.is_stop == False and token.text not in [\"\\n\",\"'s\"]]"
   ]
  },
  {
   "cell_type": "markdown",
   "metadata": {},
   "source": [
    "We create a generator by calling the function. The function returns a generator object (iterator) which we can iterate over (one value at a time) using `next` or a `for` loop."
   ]
  },
  {
   "cell_type": "code",
   "execution_count": null,
   "metadata": {
    "collapsed": true
   },
   "outputs": [],
   "source": [
    "memory_friendly_text = sentence_generator(filename,nlp)\n",
    "memory_friendly_text"
   ]
  },
  {
   "cell_type": "markdown",
   "metadata": {},
   "source": [
    "Let's print out the contents."
   ]
  },
  {
   "cell_type": "code",
   "execution_count": null,
   "metadata": {
    "collapsed": true
   },
   "outputs": [],
   "source": [
    "print(next(memory_friendly_text))\n",
    "print(next(memory_friendly_text))\n",
    "print(next(memory_friendly_text))\n",
    "print(next(memory_friendly_text))"
   ]
  },
  {
   "cell_type": "markdown",
   "metadata": {},
   "source": [
    "To use it when constructing a LDA model replace the variable `text` with the generator object `memory_friendly_text`."
   ]
  },
  {
   "cell_type": "markdown",
   "metadata": {},
   "source": [
    "## Visualization for Topic Modeling\n",
    "\n",
    "Now that we have our topics and our keyword collections, we can present them in a visualization to get a different view on how important each topic is to the overall document, and how closely these topics are related. We will use the `pyLDAvis` library which is a port of the R package LDAvis."
   ]
  },
  {
   "cell_type": "code",
   "execution_count": 44,
   "metadata": {
    "collapsed": true
   },
   "outputs": [],
   "source": [
    "import pyLDAvis.gensim\n",
    "pyLDAvis.enable_notebook()"
   ]
  },
  {
   "cell_type": "markdown",
   "metadata": {},
   "source": [
    "pyLDAvis is compatible with `gensim`, `scikit-learn`, and `GraphLab Create`. Here is how you would use it with `gensim`. We need a `gensim` LDA model, corpus and dictionary - we'll use the ones we've just built."
   ]
  },
  {
   "cell_type": "code",
   "execution_count": 45,
   "metadata": {},
   "outputs": [
    {
     "name": "stderr",
     "output_type": "stream",
     "text": [
      "C:\\Users\\caoa\\AppData\\Local\\Continuum\\anaconda3\\lib\\site-packages\\pyLDAvis\\_prepare.py:387: DeprecationWarning: \n",
      ".ix is deprecated. Please use\n",
      ".loc for label based indexing or\n",
      ".iloc for positional indexing\n",
      "\n",
      "See the documentation here:\n",
      "http://pandas.pydata.org/pandas-docs/stable/indexing.html#ix-indexer-is-deprecated\n",
      "  topic_term_dists = topic_term_dists.ix[topic_order]\n"
     ]
    },
    {
     "data": {
      "text/html": [
       "\n",
       "<link rel=\"stylesheet\" type=\"text/css\" href=\"https://cdn.rawgit.com/bmabey/pyLDAvis/files/ldavis.v1.0.0.css\">\n",
       "\n",
       "\n",
       "<div id=\"ldavis_el81885330745923397198120\"></div>\n",
       "<script type=\"text/javascript\">\n",
       "\n",
       "var ldavis_el81885330745923397198120_data = {\"mdsDat\": {\"Freq\": [5.5462846755981445, 3.8375496864318848, 3.7854466438293457, 3.6929097175598145, 3.6896121501922607, 3.686467170715332, 3.502869129180908, 3.4828522205352783, 3.4450151920318604, 3.4367520809173584, 3.4257988929748535, 3.4120495319366455, 3.3949966430664062, 3.3455052375793457, 3.2338547706604004, 3.185307264328003, 3.1417124271392822, 3.0912301540374756, 3.090117931365967, 3.0883967876434326, 3.0723440647125244, 3.0391714572906494, 3.0370733737945557, 3.0325798988342285, 3.032240152359009, 3.027874708175659, 2.939866542816162, 2.8892180919647217, 2.7809667587280273, 2.6339385509490967], \"cluster\": [1, 1, 1, 1, 1, 1, 1, 1, 1, 1, 1, 1, 1, 1, 1, 1, 1, 1, 1, 1, 1, 1, 1, 1, 1, 1, 1, 1, 1, 1], \"topics\": [1, 2, 3, 4, 5, 6, 7, 8, 9, 10, 11, 12, 13, 14, 15, 16, 17, 18, 19, 20, 21, 22, 23, 24, 25, 26, 27, 28, 29, 30], \"x\": [-0.2666344763615255, -0.030575057953466052, 0.052904754987053756, -0.053280243304850046, -0.13106228030923608, 0.08941782977228838, 0.0021527328248477215, 0.10952653977378085, 0.017046091356444828, -0.008276752727020316, 0.0025489556303380824, -0.0029071957457174973, -0.08404675153909924, 0.0056975259429157205, -0.010031208591361909, 0.030260952864158187, -0.009422498480152385, 0.03242810546997608, -0.03895181577960822, -0.0019023797418644152, -0.03648015375715324, 0.04530734860212799, 0.00013550481344881178, 0.08028411158319229, 0.008075877289052675, 0.0022320626332339726, 0.0882709827348908, 0.02712990091710551, 0.00943053546212144, 0.07072100163407843], \"y\": [0.04275522110731231, -0.11422495298519436, -0.05882234191662332, -0.0706468075876986, -0.021757978062285566, -0.10597268959127996, -0.08231962206541615, 0.022261814754482443, -0.025585661392520772, 0.04258834289320962, -0.0731997556014934, 0.03960224047800271, -0.05347614455603892, -0.0500054318753859, -0.04076065637088048, 0.027723769814384742, 0.031291615825275336, -0.05698088583909963, 0.08211879261237899, 0.02015833598541882, 0.024059241982346175, -0.010657835278317124, -0.037494787911818296, 0.05093147876563989, 0.1037485087940698, 0.019121705138313346, 0.013473486891800661, 0.18332956606913103, 0.06720123800479057, 0.03154019191749556]}, \"tinfo\": {\"Category\": [\"Default\", \"Default\", \"Default\", \"Default\", \"Default\", \"Default\", \"Default\", \"Default\", \"Default\", \"Default\", \"Default\", \"Default\", \"Default\", \"Default\", \"Default\", \"Default\", \"Default\", \"Default\", \"Default\", \"Default\", \"Default\", \"Default\", \"Default\", \"Default\", \"Default\", \"Default\", \"Default\", \"Default\", \"Default\", \"Default\", \"Topic1\", \"Topic1\", \"Topic1\", \"Topic1\", \"Topic1\", \"Topic1\", \"Topic1\", \"Topic1\", \"Topic1\", \"Topic1\", \"Topic1\", \"Topic1\", \"Topic1\", \"Topic1\", \"Topic1\", \"Topic1\", \"Topic1\", \"Topic1\", \"Topic1\", \"Topic1\", \"Topic1\", \"Topic1\", \"Topic1\", \"Topic1\", \"Topic1\", \"Topic1\", \"Topic1\", \"Topic1\", \"Topic1\", \"Topic1\", \"Topic1\", \"Topic1\", \"Topic1\", \"Topic1\", \"Topic1\", \"Topic1\", \"Topic1\", \"Topic1\", \"Topic1\", \"Topic1\", \"Topic1\", \"Topic1\", \"Topic1\", \"Topic1\", \"Topic1\", \"Topic1\", \"Topic1\", \"Topic1\", \"Topic1\", \"Topic1\", \"Topic1\", \"Topic1\", \"Topic1\", \"Topic1\", \"Topic1\", \"Topic1\", \"Topic1\", \"Topic1\", \"Topic1\", \"Topic1\", \"Topic1\", \"Topic1\", \"Topic2\", \"Topic2\", \"Topic2\", \"Topic2\", \"Topic2\", \"Topic2\", \"Topic2\", \"Topic2\", \"Topic2\", \"Topic2\", \"Topic2\", \"Topic2\", \"Topic2\", \"Topic2\", \"Topic2\", \"Topic2\", \"Topic2\", \"Topic2\", \"Topic2\", \"Topic2\", \"Topic2\", \"Topic2\", \"Topic2\", \"Topic2\", \"Topic2\", \"Topic2\", \"Topic2\", \"Topic2\", \"Topic2\", \"Topic2\", \"Topic2\", \"Topic2\", \"Topic2\", \"Topic2\", \"Topic2\", \"Topic2\", \"Topic2\", \"Topic2\", \"Topic2\", \"Topic2\", \"Topic2\", \"Topic2\", \"Topic2\", \"Topic2\", \"Topic2\", \"Topic2\", \"Topic2\", \"Topic2\", \"Topic2\", \"Topic2\", \"Topic2\", \"Topic2\", \"Topic2\", \"Topic2\", \"Topic2\", \"Topic2\", \"Topic2\", \"Topic2\", \"Topic2\", \"Topic2\", \"Topic3\", \"Topic3\", \"Topic3\", \"Topic3\", \"Topic3\", \"Topic3\", \"Topic3\", \"Topic3\", \"Topic3\", \"Topic3\", \"Topic3\", \"Topic3\", \"Topic3\", \"Topic3\", \"Topic3\", \"Topic3\", \"Topic3\", \"Topic3\", \"Topic3\", \"Topic3\", \"Topic3\", \"Topic3\", \"Topic3\", \"Topic3\", \"Topic3\", \"Topic3\", \"Topic3\", \"Topic3\", \"Topic3\", \"Topic3\", \"Topic3\", \"Topic3\", \"Topic3\", \"Topic3\", \"Topic3\", \"Topic3\", \"Topic3\", \"Topic3\", \"Topic3\", \"Topic3\", \"Topic3\", \"Topic3\", \"Topic3\", \"Topic3\", \"Topic3\", \"Topic3\", \"Topic3\", \"Topic3\", \"Topic3\", \"Topic3\", \"Topic3\", \"Topic3\", \"Topic3\", \"Topic3\", \"Topic3\", \"Topic3\", \"Topic3\", \"Topic4\", \"Topic4\", \"Topic4\", \"Topic4\", \"Topic4\", \"Topic4\", \"Topic4\", \"Topic4\", \"Topic4\", \"Topic4\", \"Topic4\", \"Topic4\", \"Topic4\", \"Topic4\", \"Topic4\", \"Topic4\", \"Topic4\", \"Topic4\", \"Topic4\", \"Topic4\", \"Topic4\", \"Topic4\", \"Topic4\", \"Topic4\", \"Topic4\", \"Topic4\", \"Topic4\", \"Topic4\", \"Topic4\", \"Topic4\", \"Topic4\", \"Topic4\", \"Topic4\", \"Topic4\", \"Topic4\", \"Topic4\", \"Topic4\", \"Topic4\", \"Topic4\", \"Topic4\", \"Topic4\", \"Topic4\", \"Topic4\", \"Topic4\", \"Topic4\", \"Topic4\", \"Topic4\", \"Topic4\", \"Topic4\", \"Topic4\", \"Topic4\", \"Topic4\", \"Topic4\", \"Topic5\", \"Topic5\", \"Topic5\", \"Topic5\", \"Topic5\", \"Topic5\", \"Topic5\", \"Topic5\", \"Topic5\", \"Topic5\", \"Topic5\", \"Topic5\", \"Topic5\", \"Topic5\", \"Topic5\", \"Topic5\", \"Topic5\", \"Topic5\", \"Topic5\", \"Topic5\", \"Topic5\", \"Topic5\", \"Topic5\", \"Topic5\", \"Topic5\", \"Topic5\", \"Topic5\", \"Topic5\", \"Topic5\", \"Topic5\", \"Topic5\", \"Topic5\", \"Topic5\", \"Topic5\", \"Topic5\", \"Topic5\", \"Topic5\", \"Topic5\", \"Topic5\", \"Topic5\", \"Topic5\", \"Topic5\", \"Topic5\", \"Topic5\", \"Topic5\", \"Topic5\", \"Topic5\", \"Topic5\", \"Topic5\", \"Topic5\", \"Topic5\", \"Topic5\", \"Topic5\", \"Topic5\", \"Topic5\", \"Topic5\", \"Topic5\", \"Topic5\", \"Topic5\", \"Topic5\", \"Topic6\", \"Topic6\", \"Topic6\", \"Topic6\", \"Topic6\", \"Topic6\", \"Topic6\", \"Topic6\", \"Topic6\", \"Topic6\", \"Topic6\", \"Topic6\", \"Topic6\", \"Topic6\", \"Topic6\", \"Topic6\", \"Topic6\", \"Topic6\", \"Topic6\", \"Topic6\", \"Topic6\", \"Topic6\", \"Topic6\", \"Topic6\", \"Topic6\", \"Topic6\", \"Topic6\", \"Topic6\", \"Topic6\", \"Topic6\", \"Topic6\", \"Topic6\", \"Topic6\", \"Topic6\", \"Topic6\", \"Topic6\", \"Topic6\", \"Topic6\", \"Topic6\", \"Topic6\", \"Topic6\", \"Topic6\", \"Topic6\", \"Topic6\", \"Topic6\", \"Topic6\", \"Topic6\", \"Topic6\", \"Topic6\", \"Topic6\", \"Topic6\", \"Topic6\", \"Topic6\", \"Topic6\", \"Topic6\", \"Topic6\", \"Topic6\", \"Topic6\", \"Topic7\", \"Topic7\", \"Topic7\", \"Topic7\", \"Topic7\", \"Topic7\", \"Topic7\", \"Topic7\", \"Topic7\", \"Topic7\", \"Topic7\", \"Topic7\", \"Topic7\", \"Topic7\", \"Topic7\", \"Topic7\", \"Topic7\", \"Topic7\", \"Topic7\", \"Topic7\", \"Topic7\", \"Topic7\", \"Topic7\", \"Topic7\", \"Topic7\", \"Topic7\", \"Topic7\", \"Topic7\", \"Topic7\", \"Topic7\", \"Topic7\", \"Topic7\", \"Topic7\", \"Topic7\", \"Topic7\", \"Topic7\", \"Topic7\", \"Topic7\", \"Topic7\", \"Topic7\", \"Topic7\", \"Topic7\", \"Topic7\", \"Topic7\", \"Topic7\", \"Topic7\", \"Topic7\", \"Topic7\", \"Topic7\", \"Topic7\", \"Topic7\", \"Topic7\", \"Topic7\", \"Topic7\", \"Topic8\", \"Topic8\", \"Topic8\", \"Topic8\", \"Topic8\", \"Topic8\", \"Topic8\", \"Topic8\", \"Topic8\", \"Topic8\", \"Topic8\", \"Topic8\", \"Topic8\", \"Topic8\", \"Topic8\", \"Topic8\", \"Topic8\", \"Topic8\", \"Topic8\", \"Topic8\", \"Topic8\", \"Topic8\", \"Topic8\", \"Topic8\", \"Topic8\", \"Topic8\", \"Topic8\", \"Topic8\", \"Topic8\", \"Topic8\", \"Topic8\", \"Topic8\", \"Topic8\", \"Topic8\", \"Topic8\", \"Topic8\", \"Topic8\", \"Topic8\", \"Topic8\", \"Topic8\", \"Topic8\", \"Topic8\", \"Topic8\", \"Topic8\", \"Topic8\", \"Topic8\", \"Topic8\", \"Topic8\", \"Topic8\", \"Topic8\", \"Topic8\", \"Topic8\", \"Topic8\", \"Topic8\", \"Topic8\", \"Topic9\", \"Topic9\", \"Topic9\", \"Topic9\", \"Topic9\", \"Topic9\", \"Topic9\", \"Topic9\", \"Topic9\", \"Topic9\", \"Topic9\", \"Topic9\", \"Topic9\", \"Topic9\", \"Topic9\", \"Topic9\", \"Topic9\", \"Topic9\", \"Topic9\", \"Topic9\", \"Topic9\", \"Topic9\", \"Topic9\", \"Topic9\", \"Topic9\", \"Topic9\", \"Topic9\", \"Topic9\", \"Topic9\", \"Topic9\", \"Topic9\", \"Topic9\", \"Topic9\", \"Topic9\", \"Topic9\", \"Topic9\", \"Topic9\", \"Topic9\", \"Topic9\", \"Topic9\", \"Topic9\", \"Topic9\", \"Topic9\", \"Topic9\", \"Topic9\", \"Topic9\", \"Topic9\", \"Topic9\", \"Topic9\", \"Topic9\", \"Topic9\", \"Topic9\", \"Topic9\", \"Topic9\", \"Topic9\", \"Topic9\", \"Topic10\", \"Topic10\", \"Topic10\", \"Topic10\", \"Topic10\", \"Topic10\", \"Topic10\", \"Topic10\", \"Topic10\", \"Topic10\", \"Topic10\", \"Topic10\", \"Topic10\", \"Topic10\", \"Topic10\", \"Topic10\", \"Topic10\", \"Topic10\", \"Topic10\", \"Topic10\", \"Topic10\", \"Topic10\", \"Topic10\", \"Topic10\", \"Topic10\", \"Topic10\", \"Topic10\", \"Topic10\", \"Topic10\", \"Topic10\", \"Topic10\", \"Topic10\", \"Topic10\", \"Topic10\", \"Topic10\", \"Topic10\", \"Topic10\", \"Topic10\", \"Topic10\", \"Topic10\", \"Topic10\", \"Topic10\", \"Topic10\", \"Topic10\", \"Topic10\", \"Topic10\", \"Topic10\", \"Topic10\", \"Topic10\", \"Topic10\", \"Topic10\", \"Topic10\", \"Topic10\", \"Topic10\", \"Topic10\", \"Topic10\", \"Topic11\", \"Topic11\", \"Topic11\", \"Topic11\", \"Topic11\", \"Topic11\", \"Topic11\", \"Topic11\", \"Topic11\", \"Topic11\", \"Topic11\", \"Topic11\", \"Topic11\", \"Topic11\", \"Topic11\", \"Topic11\", \"Topic11\", \"Topic11\", \"Topic11\", \"Topic11\", \"Topic11\", \"Topic11\", \"Topic11\", \"Topic11\", \"Topic11\", \"Topic11\", \"Topic11\", \"Topic11\", \"Topic11\", \"Topic11\", \"Topic11\", \"Topic11\", \"Topic11\", \"Topic11\", \"Topic11\", \"Topic11\", \"Topic11\", \"Topic11\", \"Topic11\", \"Topic11\", \"Topic11\", \"Topic11\", \"Topic11\", \"Topic11\", \"Topic11\", \"Topic11\", \"Topic11\", \"Topic11\", \"Topic11\", \"Topic11\", \"Topic11\", \"Topic11\", \"Topic11\", \"Topic11\", \"Topic11\", \"Topic11\", \"Topic11\", \"Topic11\", \"Topic11\", \"Topic11\", \"Topic12\", \"Topic12\", \"Topic12\", \"Topic12\", \"Topic12\", \"Topic12\", \"Topic12\", \"Topic12\", \"Topic12\", \"Topic12\", \"Topic12\", \"Topic12\", \"Topic12\", \"Topic12\", \"Topic12\", \"Topic12\", \"Topic12\", \"Topic12\", \"Topic12\", \"Topic12\", \"Topic12\", \"Topic12\", \"Topic12\", \"Topic12\", \"Topic12\", \"Topic12\", \"Topic12\", \"Topic12\", \"Topic12\", \"Topic12\", \"Topic12\", \"Topic12\", \"Topic12\", \"Topic12\", \"Topic12\", \"Topic12\", \"Topic12\", \"Topic12\", \"Topic12\", \"Topic12\", \"Topic12\", \"Topic12\", \"Topic12\", \"Topic12\", \"Topic12\", \"Topic12\", \"Topic12\", \"Topic12\", \"Topic12\", \"Topic12\", \"Topic12\", \"Topic12\", \"Topic12\", \"Topic12\", \"Topic12\", \"Topic12\", \"Topic12\", \"Topic13\", \"Topic13\", \"Topic13\", \"Topic13\", \"Topic13\", \"Topic13\", \"Topic13\", \"Topic13\", \"Topic13\", \"Topic13\", \"Topic13\", \"Topic13\", \"Topic13\", \"Topic13\", \"Topic13\", \"Topic13\", \"Topic13\", \"Topic13\", \"Topic13\", \"Topic13\", \"Topic13\", \"Topic13\", \"Topic13\", \"Topic13\", \"Topic13\", \"Topic13\", \"Topic13\", \"Topic13\", \"Topic13\", \"Topic13\", \"Topic13\", \"Topic13\", \"Topic13\", \"Topic13\", \"Topic13\", \"Topic13\", \"Topic13\", \"Topic13\", \"Topic13\", \"Topic13\", \"Topic13\", \"Topic13\", \"Topic13\", \"Topic13\", \"Topic13\", \"Topic13\", \"Topic13\", \"Topic13\", \"Topic13\", \"Topic13\", \"Topic13\", \"Topic13\", \"Topic13\", \"Topic13\", \"Topic13\", \"Topic13\", \"Topic13\", \"Topic14\", \"Topic14\", \"Topic14\", \"Topic14\", \"Topic14\", \"Topic14\", \"Topic14\", \"Topic14\", \"Topic14\", \"Topic14\", \"Topic14\", \"Topic14\", \"Topic14\", \"Topic14\", \"Topic14\", \"Topic14\", \"Topic14\", \"Topic14\", \"Topic14\", \"Topic14\", \"Topic14\", \"Topic14\", \"Topic14\", \"Topic14\", \"Topic14\", \"Topic14\", \"Topic14\", \"Topic14\", \"Topic14\", \"Topic14\", \"Topic14\", \"Topic14\", \"Topic14\", \"Topic14\", \"Topic14\", \"Topic14\", \"Topic14\", \"Topic14\", \"Topic14\", \"Topic14\", \"Topic14\", \"Topic14\", \"Topic14\", \"Topic14\", \"Topic14\", \"Topic14\", \"Topic14\", \"Topic14\", \"Topic14\", \"Topic14\", \"Topic14\", \"Topic14\", \"Topic14\", \"Topic14\", \"Topic14\", \"Topic14\", \"Topic14\", \"Topic14\", \"Topic15\", \"Topic15\", \"Topic15\", \"Topic15\", \"Topic15\", \"Topic15\", \"Topic15\", \"Topic15\", \"Topic15\", \"Topic15\", \"Topic15\", \"Topic15\", \"Topic15\", \"Topic15\", \"Topic15\", \"Topic15\", \"Topic15\", \"Topic15\", \"Topic15\", \"Topic15\", \"Topic15\", \"Topic15\", \"Topic15\", \"Topic15\", \"Topic15\", \"Topic15\", \"Topic15\", \"Topic15\", \"Topic15\", \"Topic15\", \"Topic15\", \"Topic15\", \"Topic15\", \"Topic15\", \"Topic15\", \"Topic15\", \"Topic15\", \"Topic15\", \"Topic15\", \"Topic15\", \"Topic15\", \"Topic15\", \"Topic15\", \"Topic15\", \"Topic15\", \"Topic15\", \"Topic15\", \"Topic15\", \"Topic15\", \"Topic15\", \"Topic15\", \"Topic15\", \"Topic15\", \"Topic15\", \"Topic15\", \"Topic15\", \"Topic16\", \"Topic16\", \"Topic16\", \"Topic16\", \"Topic16\", \"Topic16\", \"Topic16\", \"Topic16\", \"Topic16\", \"Topic16\", \"Topic16\", \"Topic16\", \"Topic16\", \"Topic16\", \"Topic16\", \"Topic16\", \"Topic16\", \"Topic16\", \"Topic16\", \"Topic16\", \"Topic16\", \"Topic16\", \"Topic16\", \"Topic16\", \"Topic16\", \"Topic16\", \"Topic16\", \"Topic16\", \"Topic16\", \"Topic16\", \"Topic16\", \"Topic16\", \"Topic16\", \"Topic16\", \"Topic16\", \"Topic16\", \"Topic16\", \"Topic16\", \"Topic16\", \"Topic16\", \"Topic16\", \"Topic16\", \"Topic16\", \"Topic16\", \"Topic16\", \"Topic16\", \"Topic16\", \"Topic16\", \"Topic16\", \"Topic16\", \"Topic16\", \"Topic16\", \"Topic16\", \"Topic16\", \"Topic16\", \"Topic16\", \"Topic16\", \"Topic16\", \"Topic16\", \"Topic17\", \"Topic17\", \"Topic17\", \"Topic17\", \"Topic17\", \"Topic17\", \"Topic17\", \"Topic17\", \"Topic17\", \"Topic17\", \"Topic17\", \"Topic17\", \"Topic17\", \"Topic17\", \"Topic17\", \"Topic17\", \"Topic17\", \"Topic17\", \"Topic17\", \"Topic17\", \"Topic17\", \"Topic17\", \"Topic17\", \"Topic17\", \"Topic17\", \"Topic17\", \"Topic17\", \"Topic17\", \"Topic17\", \"Topic17\", \"Topic17\", \"Topic17\", \"Topic17\", \"Topic17\", \"Topic17\", \"Topic17\", \"Topic17\", \"Topic17\", \"Topic17\", \"Topic17\", \"Topic17\", \"Topic17\", \"Topic17\", \"Topic17\", \"Topic17\", \"Topic17\", \"Topic17\", \"Topic17\", \"Topic17\", \"Topic17\", \"Topic17\", \"Topic17\", \"Topic17\", \"Topic17\", \"Topic17\", \"Topic17\", \"Topic18\", \"Topic18\", \"Topic18\", \"Topic18\", \"Topic18\", \"Topic18\", \"Topic18\", \"Topic18\", \"Topic18\", \"Topic18\", \"Topic18\", \"Topic18\", \"Topic18\", \"Topic18\", \"Topic18\", \"Topic18\", \"Topic18\", \"Topic18\", \"Topic18\", \"Topic18\", \"Topic18\", \"Topic18\", \"Topic18\", \"Topic18\", \"Topic18\", \"Topic18\", \"Topic18\", \"Topic18\", \"Topic18\", \"Topic18\", \"Topic18\", \"Topic18\", \"Topic18\", \"Topic18\", \"Topic18\", \"Topic18\", \"Topic18\", \"Topic18\", \"Topic18\", \"Topic18\", \"Topic18\", \"Topic18\", \"Topic18\", \"Topic18\", \"Topic18\", \"Topic18\", \"Topic18\", \"Topic18\", \"Topic18\", \"Topic18\", \"Topic18\", \"Topic18\", \"Topic19\", \"Topic19\", \"Topic19\", \"Topic19\", \"Topic19\", \"Topic19\", \"Topic19\", \"Topic19\", \"Topic19\", \"Topic19\", \"Topic19\", \"Topic19\", \"Topic19\", \"Topic19\", \"Topic19\", \"Topic19\", \"Topic19\", \"Topic19\", \"Topic19\", \"Topic19\", \"Topic19\", \"Topic19\", \"Topic19\", \"Topic19\", \"Topic19\", \"Topic19\", \"Topic19\", \"Topic19\", \"Topic19\", \"Topic19\", \"Topic19\", \"Topic19\", \"Topic19\", \"Topic19\", \"Topic19\", \"Topic19\", \"Topic19\", \"Topic19\", \"Topic19\", \"Topic19\", \"Topic19\", \"Topic19\", \"Topic19\", \"Topic19\", \"Topic19\", \"Topic19\", \"Topic19\", \"Topic19\", \"Topic19\", \"Topic19\", \"Topic19\", \"Topic19\", \"Topic19\", \"Topic20\", \"Topic20\", \"Topic20\", \"Topic20\", \"Topic20\", \"Topic20\", \"Topic20\", \"Topic20\", \"Topic20\", \"Topic20\", \"Topic20\", \"Topic20\", \"Topic20\", \"Topic20\", \"Topic20\", \"Topic20\", \"Topic20\", \"Topic20\", \"Topic20\", \"Topic20\", \"Topic20\", \"Topic20\", \"Topic20\", \"Topic20\", \"Topic20\", \"Topic20\", \"Topic20\", \"Topic20\", \"Topic20\", \"Topic20\", \"Topic20\", \"Topic20\", \"Topic20\", \"Topic20\", \"Topic20\", \"Topic20\", \"Topic20\", \"Topic20\", \"Topic20\", \"Topic20\", \"Topic20\", \"Topic20\", \"Topic20\", \"Topic20\", \"Topic20\", \"Topic20\", \"Topic20\", \"Topic20\", \"Topic20\", \"Topic20\", \"Topic20\", \"Topic20\", \"Topic20\", \"Topic21\", \"Topic21\", \"Topic21\", \"Topic21\", \"Topic21\", \"Topic21\", \"Topic21\", \"Topic21\", \"Topic21\", \"Topic21\", \"Topic21\", \"Topic21\", \"Topic21\", \"Topic21\", \"Topic21\", \"Topic21\", \"Topic21\", \"Topic21\", \"Topic21\", \"Topic21\", \"Topic21\", \"Topic21\", \"Topic21\", \"Topic21\", \"Topic21\", \"Topic21\", \"Topic21\", \"Topic21\", \"Topic21\", \"Topic21\", \"Topic21\", \"Topic21\", \"Topic21\", \"Topic21\", \"Topic21\", \"Topic21\", \"Topic21\", \"Topic21\", \"Topic21\", \"Topic21\", \"Topic21\", \"Topic21\", \"Topic21\", \"Topic21\", \"Topic21\", \"Topic21\", \"Topic21\", \"Topic21\", \"Topic21\", \"Topic21\", \"Topic21\", \"Topic21\", \"Topic21\", \"Topic22\", \"Topic22\", \"Topic22\", \"Topic22\", \"Topic22\", \"Topic22\", \"Topic22\", \"Topic22\", \"Topic22\", \"Topic22\", \"Topic22\", \"Topic22\", \"Topic22\", \"Topic22\", \"Topic22\", \"Topic22\", \"Topic22\", \"Topic22\", \"Topic22\", \"Topic22\", \"Topic22\", \"Topic22\", \"Topic22\", \"Topic22\", \"Topic22\", \"Topic22\", \"Topic22\", \"Topic22\", \"Topic22\", \"Topic22\", \"Topic22\", \"Topic22\", \"Topic22\", \"Topic22\", \"Topic22\", \"Topic22\", \"Topic22\", \"Topic22\", \"Topic22\", \"Topic22\", \"Topic22\", \"Topic22\", \"Topic22\", \"Topic22\", \"Topic22\", \"Topic22\", \"Topic22\", \"Topic22\", \"Topic22\", \"Topic22\", \"Topic22\", \"Topic22\", \"Topic22\", \"Topic22\", \"Topic22\", \"Topic22\", \"Topic22\", \"Topic22\", \"Topic22\", \"Topic22\", \"Topic23\", \"Topic23\", \"Topic23\", \"Topic23\", \"Topic23\", \"Topic23\", \"Topic23\", \"Topic23\", \"Topic23\", \"Topic23\", \"Topic23\", \"Topic23\", \"Topic23\", \"Topic23\", \"Topic23\", \"Topic23\", \"Topic23\", \"Topic23\", \"Topic23\", \"Topic23\", \"Topic23\", \"Topic23\", \"Topic23\", \"Topic23\", \"Topic23\", \"Topic23\", \"Topic23\", \"Topic23\", \"Topic23\", \"Topic23\", \"Topic23\", \"Topic23\", \"Topic23\", \"Topic23\", \"Topic23\", \"Topic23\", \"Topic23\", \"Topic23\", \"Topic23\", \"Topic23\", \"Topic23\", \"Topic23\", \"Topic23\", \"Topic23\", \"Topic23\", \"Topic23\", \"Topic23\", \"Topic23\", \"Topic23\", \"Topic23\", \"Topic23\", \"Topic23\", \"Topic23\", \"Topic23\", \"Topic24\", \"Topic24\", \"Topic24\", \"Topic24\", \"Topic24\", \"Topic24\", \"Topic24\", \"Topic24\", \"Topic24\", \"Topic24\", \"Topic24\", \"Topic24\", \"Topic24\", \"Topic24\", \"Topic24\", \"Topic24\", \"Topic24\", \"Topic24\", \"Topic24\", \"Topic24\", \"Topic24\", \"Topic24\", \"Topic24\", \"Topic24\", \"Topic24\", \"Topic24\", \"Topic24\", \"Topic24\", \"Topic24\", \"Topic24\", \"Topic24\", \"Topic24\", \"Topic24\", \"Topic24\", \"Topic24\", \"Topic24\", \"Topic24\", \"Topic24\", \"Topic24\", \"Topic24\", \"Topic24\", \"Topic24\", \"Topic24\", \"Topic24\", \"Topic24\", \"Topic24\", \"Topic24\", \"Topic24\", \"Topic24\", \"Topic24\", \"Topic24\", \"Topic24\", \"Topic25\", \"Topic25\", \"Topic25\", \"Topic25\", \"Topic25\", \"Topic25\", \"Topic25\", \"Topic25\", \"Topic25\", \"Topic25\", \"Topic25\", \"Topic25\", \"Topic25\", \"Topic25\", \"Topic25\", \"Topic25\", \"Topic25\", \"Topic25\", \"Topic25\", \"Topic25\", \"Topic25\", \"Topic25\", \"Topic25\", \"Topic25\", \"Topic25\", \"Topic25\", \"Topic25\", \"Topic25\", \"Topic25\", \"Topic25\", \"Topic25\", \"Topic25\", \"Topic25\", \"Topic25\", \"Topic25\", \"Topic25\", \"Topic25\", \"Topic25\", \"Topic25\", \"Topic25\", \"Topic25\", \"Topic25\", \"Topic25\", \"Topic25\", \"Topic25\", \"Topic25\", \"Topic25\", \"Topic25\", \"Topic25\", \"Topic25\", \"Topic25\", \"Topic25\", \"Topic25\", \"Topic25\", \"Topic25\", \"Topic25\", \"Topic25\", \"Topic25\", \"Topic26\", \"Topic26\", \"Topic26\", \"Topic26\", \"Topic26\", \"Topic26\", \"Topic26\", \"Topic26\", \"Topic26\", \"Topic26\", \"Topic26\", \"Topic26\", \"Topic26\", \"Topic26\", \"Topic26\", \"Topic26\", \"Topic26\", \"Topic26\", \"Topic26\", \"Topic26\", \"Topic26\", \"Topic26\", \"Topic26\", \"Topic26\", \"Topic26\", \"Topic26\", \"Topic26\", \"Topic26\", \"Topic26\", \"Topic26\", \"Topic26\", \"Topic26\", \"Topic26\", \"Topic26\", \"Topic26\", \"Topic26\", \"Topic26\", \"Topic26\", \"Topic26\", \"Topic26\", \"Topic26\", \"Topic26\", \"Topic26\", \"Topic26\", \"Topic26\", \"Topic26\", \"Topic26\", \"Topic26\", \"Topic26\", \"Topic26\", \"Topic26\", \"Topic26\", \"Topic26\", \"Topic26\", \"Topic26\", \"Topic26\", \"Topic26\", \"Topic26\", \"Topic26\", \"Topic27\", \"Topic27\", \"Topic27\", \"Topic27\", \"Topic27\", \"Topic27\", \"Topic27\", \"Topic27\", \"Topic27\", \"Topic27\", \"Topic27\", \"Topic27\", \"Topic27\", \"Topic27\", \"Topic27\", \"Topic27\", \"Topic27\", \"Topic27\", \"Topic27\", \"Topic27\", \"Topic27\", \"Topic27\", \"Topic27\", \"Topic27\", \"Topic27\", \"Topic27\", \"Topic27\", \"Topic27\", \"Topic27\", \"Topic27\", \"Topic27\", \"Topic27\", \"Topic27\", \"Topic27\", \"Topic27\", \"Topic27\", \"Topic27\", \"Topic27\", \"Topic27\", \"Topic27\", \"Topic27\", \"Topic27\", \"Topic27\", \"Topic27\", \"Topic27\", \"Topic27\", \"Topic27\", \"Topic27\", \"Topic27\", \"Topic27\", \"Topic27\", \"Topic27\", \"Topic27\", \"Topic27\", \"Topic28\", \"Topic28\", \"Topic28\", \"Topic28\", \"Topic28\", \"Topic28\", \"Topic28\", \"Topic28\", \"Topic28\", \"Topic28\", \"Topic28\", \"Topic28\", \"Topic28\", \"Topic28\", \"Topic28\", \"Topic28\", \"Topic28\", \"Topic28\", \"Topic28\", \"Topic28\", \"Topic28\", \"Topic28\", \"Topic28\", \"Topic28\", \"Topic28\", \"Topic28\", \"Topic28\", \"Topic28\", \"Topic28\", \"Topic28\", \"Topic28\", \"Topic28\", \"Topic28\", \"Topic28\", \"Topic28\", \"Topic28\", \"Topic28\", \"Topic28\", \"Topic28\", \"Topic28\", \"Topic28\", \"Topic28\", \"Topic28\", \"Topic28\", \"Topic28\", \"Topic28\", \"Topic28\", \"Topic28\", \"Topic28\", \"Topic28\", \"Topic28\", \"Topic28\", \"Topic28\", \"Topic28\", \"Topic28\", \"Topic28\", \"Topic28\", \"Topic29\", \"Topic29\", \"Topic29\", \"Topic29\", \"Topic29\", \"Topic29\", \"Topic29\", \"Topic29\", \"Topic29\", \"Topic29\", \"Topic29\", \"Topic29\", \"Topic29\", \"Topic29\", \"Topic29\", \"Topic29\", \"Topic29\", \"Topic29\", \"Topic29\", \"Topic29\", \"Topic29\", \"Topic29\", \"Topic29\", \"Topic29\", \"Topic29\", \"Topic29\", \"Topic29\", \"Topic29\", \"Topic29\", \"Topic29\", \"Topic29\", \"Topic29\", \"Topic29\", \"Topic29\", \"Topic29\", \"Topic29\", \"Topic29\", \"Topic29\", \"Topic29\", \"Topic29\", \"Topic29\", \"Topic29\", \"Topic29\", \"Topic29\", \"Topic29\", \"Topic29\", \"Topic29\", \"Topic29\", \"Topic29\", \"Topic29\", \"Topic29\", \"Topic29\", \"Topic29\", \"Topic29\", \"Topic29\", \"Topic29\", \"Topic29\", \"Topic30\", \"Topic30\", \"Topic30\", \"Topic30\", \"Topic30\", \"Topic30\", \"Topic30\", \"Topic30\", \"Topic30\", \"Topic30\", \"Topic30\", \"Topic30\", \"Topic30\", \"Topic30\", \"Topic30\", \"Topic30\", \"Topic30\", \"Topic30\", \"Topic30\", \"Topic30\", \"Topic30\", \"Topic30\", \"Topic30\", \"Topic30\", \"Topic30\", \"Topic30\", \"Topic30\", \"Topic30\", \"Topic30\", \"Topic30\", \"Topic30\", \"Topic30\", \"Topic30\", \"Topic30\", \"Topic30\", \"Topic30\", \"Topic30\", \"Topic30\", \"Topic30\", \"Topic30\", \"Topic30\", \"Topic30\", \"Topic30\", \"Topic30\", \"Topic30\", \"Topic30\", \"Topic30\", \"Topic30\", \"Topic30\", \"Topic30\", \"Topic30\", \"Topic30\", \"Topic30\", \"Topic30\", \"Topic30\", \"Topic30\", \"Topic30\"], \"Freq\": [767.0, 361.0, 375.0, 153.0, 119.0, 106.0, 191.0, 75.0, 69.0, 92.0, 82.0, 129.0, 892.0, 76.0, 89.0, 256.0, 198.0, 86.0, 187.0, 853.0, 149.0, 140.0, 52.0, 126.0, 213.0, 85.0, 89.0, 182.0, 103.0, 44.0, 27.38626480102539, 17.32185173034668, 15.01790714263916, 14.983715057373047, 14.219801902770996, 16.11738395690918, 18.498188018798828, 11.621782302856445, 11.252823829650879, 9.589841842651367, 10.18651008605957, 10.896283149719238, 9.991381645202637, 10.179495811462402, 8.706554412841797, 7.900148391723633, 16.838563919067383, 7.455158710479736, 11.699573516845703, 10.45380973815918, 7.090382099151611, 6.9651103019714355, 8.076553344726562, 6.759795665740967, 6.716346263885498, 11.41402816772461, 8.33466625213623, 10.318480491638184, 10.119751930236816, 8.91262149810791, 73.68302154541016, 630.5934448242188, 76.63443756103516, 20.961193084716797, 70.754150390625, 26.442808151245117, 17.382587432861328, 13.389508247375488, 59.30498123168945, 213.3731231689453, 45.12255859375, 23.832042694091797, 73.6104965209961, 13.748612403869629, 24.61452293395996, 29.173091888427734, 52.36241149902344, 73.40129089355469, 20.357955932617188, 58.50200653076172, 34.707305908203125, 27.700525283813477, 100.19429779052734, 43.58942794799805, 26.675487518310547, 27.95334815979004, 24.86673927307129, 27.81255531311035, 22.669706344604492, 21.938339233398438, 28.107852935791016, 24.441570281982422, 20.199199676513672, 17.526126861572266, 16.799203872680664, 29.885860443115234, 15.099637031555176, 20.084308624267578, 15.431595802307129, 12.164521217346191, 11.945510864257812, 13.020364761352539, 10.324928283691406, 10.261239051818848, 10.19274616241455, 9.741446495056152, 9.464271545410156, 9.235395431518555, 8.6519136428833, 8.618908882141113, 8.18935775756836, 8.18935775756836, 8.167611122131348, 7.912182331085205, 7.758252143859863, 7.472140312194824, 7.541471481323242, 7.306953430175781, 7.232006072998047, 6.723471164703369, 6.260914325714111, 7.343847751617432, 11.511024475097656, 9.378801345825195, 16.33992576599121, 14.931754112243652, 13.119844436645508, 13.149249076843262, 9.93724536895752, 23.661579132080078, 12.850323677062988, 11.2567777633667, 15.985856056213379, 10.856718063354492, 60.42319107055664, 26.40092658996582, 68.13433837890625, 25.426902770996094, 14.704565048217773, 18.97690200805664, 33.341556549072266, 22.502300262451172, 13.175738334655762, 15.942582130432129, 13.638623237609863, 14.083273887634277, 14.997462272644043, 14.489768028259277, 14.788846969604492, 14.388433456420898, 13.931511878967285, 13.724788665771484, 21.245681762695312, 16.475238800048828, 17.23021125793457, 16.64437484741211, 13.599270820617676, 12.513409614562988, 12.379007339477539, 24.827564239501953, 11.785717964172363, 10.353392601013184, 16.23092269897461, 10.017464637756348, 16.334274291992188, 8.705571174621582, 10.039578437805176, 8.002517700195312, 7.796889781951904, 7.776355743408203, 7.720683574676514, 7.843977451324463, 9.83564281463623, 7.295359134674072, 7.283912658691406, 7.283912658691406, 13.424860954284668, 7.219153881072998, 6.802914619445801, 8.822113037109375, 6.500547885894775, 6.24082612991333, 19.66126251220703, 12.146283149719238, 12.204672813415527, 21.445432662963867, 61.01285171508789, 12.434075355529785, 28.904085159301758, 10.572309494018555, 24.35755729675293, 17.41607666015625, 10.829465866088867, 21.688467025756836, 42.55836486816406, 12.414582252502441, 36.10372543334961, 56.42559814453125, 20.57601547241211, 18.445764541625977, 13.485907554626465, 19.878742218017578, 17.509950637817383, 21.55504608154297, 13.389591217041016, 18.741741180419922, 14.934768676757812, 14.866597175598145, 12.689753532409668, 21.184059143066406, 14.897379875183105, 13.777474403381348, 17.631885528564453, 11.36353588104248, 12.336256980895996, 12.553454399108887, 14.073373794555664, 18.883129119873047, 15.296612739562988, 8.846657752990723, 12.71140193939209, 11.999289512634277, 7.704614639282227, 12.095145225524902, 7.125561237335205, 9.852394104003906, 11.509795188903809, 6.720218181610107, 6.674640655517578, 14.14869213104248, 22.60564422607422, 6.419085502624512, 6.419085502624512, 6.117952346801758, 6.287115097045898, 5.606932163238525, 16.84866714477539, 5.974173545837402, 7.730237007141113, 27.907424926757812, 10.856440544128418, 35.103919982910156, 14.171531677246094, 22.33070182800293, 10.052865028381348, 17.879594802856445, 14.999458312988281, 16.66668701171875, 22.69452476501465, 22.70636558532715, 16.4542179107666, 23.909225463867188, 15.987211227416992, 22.247941970825195, 15.198463439941406, 19.02748680114746, 17.987062454223633, 23.840972900390625, 16.65422248840332, 16.821826934814453, 15.132622718811035, 14.719904899597168, 19.07672882080078, 17.058746337890625, 15.072860717773438, 26.175867080688477, 14.122410774230957, 13.068624496459961, 12.213123321533203, 11.317468643188477, 14.973372459411621, 10.292898178100586, 10.12858772277832, 9.766911506652832, 10.989394187927246, 21.838977813720703, 7.997814178466797, 7.911427021026611, 7.605935573577881, 7.049672603607178, 7.879831314086914, 6.796670436859131, 7.692323684692383, 6.278252601623535, 12.962435722351074, 6.20650577545166, 7.1021599769592285, 6.120118141174316, 7.536115646362305, 5.9935808181762695, 5.748213768005371, 5.561551094055176, 14.442909240722656, 7.343613147735596, 8.365342140197754, 15.400544166564941, 14.664779663085938, 13.310606002807617, 17.941343307495117, 15.71728229522705, 11.767473220825195, 12.30872631072998, 14.716949462890625, 27.127742767333984, 14.417280197143555, 14.65861701965332, 14.840120315551758, 10.987810134887695, 9.6144380569458, 19.299633026123047, 62.5219841003418, 16.31657600402832, 34.20359420776367, 26.086519241333008, 22.04706573486328, 18.1534481048584, 14.343056678771973, 23.72511100769043, 15.709807395935059, 22.628803253173828, 14.006829261779785, 13.82691478729248, 16.742759704589844, 17.99650001525879, 12.192209243774414, 13.963831901550293, 12.292543411254883, 11.146004676818848, 10.584604263305664, 10.332226753234863, 10.20162296295166, 11.592910766601562, 9.766834259033203, 17.963356018066406, 8.994497299194336, 8.81617259979248, 8.515978813171387, 8.515976905822754, 13.036054611206055, 8.070068359375, 7.939464569091797, 9.125102043151855, 7.19973611831665, 7.1105732917785645, 6.653541088104248, 6.610564708709717, 6.405910015106201, 5.870837211608887, 5.8708367347717285, 15.511125564575195, 6.72121524810791, 5.555163860321045, 7.617768287658691, 14.525263786315918, 10.321919441223145, 34.25058364868164, 37.925010681152344, 84.57141876220703, 10.438008308410645, 49.546119689941406, 133.97683715820312, 15.183545112609863, 22.00029754638672, 19.73554229736328, 21.525447845458984, 16.002267837524414, 26.22977066040039, 13.785518646240234, 18.581159591674805, 21.21630859375, 14.603351593017578, 41.217655181884766, 22.327741622924805, 15.69621753692627, 21.66078758239746, 14.128137588500977, 14.496580123901367, 14.007981300354004, 13.357571601867676, 14.379547119140625, 16.495176315307617, 16.377492904663086, 13.794642448425293, 12.62518310546875, 12.02376937866211, 11.646373748779297, 11.023520469665527, 10.882109642028809, 13.830479621887207, 11.2102632522583, 8.755279541015625, 8.659952163696289, 9.842961311340332, 8.440672874450684, 8.366786003112793, 7.921864986419678, 7.811459541320801, 7.628697395324707, 7.35543966293335, 13.384302139282227, 6.93195915222168, 6.910518646240234, 6.869169235229492, 7.9213175773620605, 7.51829195022583, 6.433058738708496, 6.433058738708496, 6.39171028137207, 6.948866844177246, 6.0620245933532715, 15.963662147521973, 46.00038528442383, 33.44181823730469, 19.223176956176758, 15.96761703491211, 36.39501190185547, 17.83222770690918, 13.180538177490234, 17.666015625, 21.70413589477539, 13.297307968139648, 20.8161678314209, 17.019771575927734, 13.188512802124023, 23.657215118408203, 19.447481155395508, 20.830488204956055, 13.269403457641602, 43.78995895385742, 26.50640296936035, 13.057491302490234, 16.490442276000977, 21.363412857055664, 12.356703758239746, 29.629735946655273, 19.07588005065918, 16.917232513427734, 15.684219360351562, 15.148580551147461, 14.689525604248047, 70.94710540771484, 26.842327117919922, 11.1162691116333, 14.920660018920898, 8.23572826385498, 7.9651360511779785, 7.976037979125977, 6.4685516357421875, 10.696891784667969, 7.337551593780518, 6.165098667144775, 6.0999674797058105, 5.9535932540893555, 5.953592777252197, 6.282480239868164, 5.79651403427124, 6.964169979095459, 13.41494083404541, 5.1037983894348145, 6.7100019454956055, 5.132247447967529, 4.781142234802246, 4.760461807250977, 6.854869842529297, 9.88939094543457, 7.523390769958496, 21.677127838134766, 10.731399536132812, 22.29535675048828, 24.71949577331543, 22.47098159790039, 12.078837394714355, 16.781583786010742, 26.13865852355957, 12.109174728393555, 11.890905380249023, 10.391119956970215, 12.797362327575684, 13.695755958557129, 16.399396896362305, 14.917182922363281, 51.68379592895508, 13.002913475036621, 22.679826736450195, 15.005008697509766, 14.7495698928833, 13.739666938781738, 16.25723648071289, 12.505145072937012, 14.692299842834473, 13.543353080749512, 17.49049186706543, 12.758914947509766, 15.709903717041016, 22.31177520751953, 11.39803409576416, 12.39968204498291, 10.117045402526855, 9.029747009277344, 18.38741683959961, 7.7331132888793945, 9.169774055480957, 7.653219699859619, 7.6072187423706055, 7.429176330566406, 25.2117862701416, 7.3047590255737305, 7.137439250946045, 12.372238159179688, 6.372232913970947, 8.534560203552246, 7.762861251831055, 6.17495584487915, 6.5490875244140625, 6.003059387207031, 6.189790725708008, 7.036189556121826, 5.699121475219727, 5.3951826095581055, 15.457781791687012, 10.341103553771973, 17.689680099487305, 31.481367111206055, 9.38487720489502, 12.784049034118652, 14.693839073181152, 13.218758583068848, 18.062015533447266, 13.063986778259277, 30.636165618896484, 20.033645629882812, 13.421384811401367, 11.414966583251953, 70.86246490478516, 21.882841110229492, 20.34760093688965, 15.206432342529297, 18.78350067138672, 14.509556770324707, 16.38109588623047, 16.16472053527832, 19.48992347717285, 16.744802474975586, 15.893465042114258, 13.420931816101074, 20.849105834960938, 19.12388038635254, 20.389110565185547, 15.012166976928711, 15.250984191894531, 12.055391311645508, 9.732830047607422, 15.913951873779297, 8.997177124023438, 15.328990936279297, 8.692459106445312, 8.42927360534668, 8.23000717163086, 7.870636463165283, 7.460465908050537, 9.537866592407227, 8.28404712677002, 6.977250099182129, 6.8925628662109375, 7.8384246826171875, 8.250577926635742, 6.5355634689331055, 6.4955153465271, 6.3778581619262695, 6.262361526489258, 6.190796375274658, 6.190797328948975, 7.424864292144775, 7.084184169769287, 7.801624774932861, 21.202972412109375, 10.042268753051758, 10.433844566345215, 11.27847671508789, 10.209071159362793, 15.258561134338379, 21.287845611572266, 11.421568870544434, 15.324316024780273, 40.397308349609375, 15.883588790893555, 16.079280853271484, 18.486318588256836, 14.559094429016113, 18.32476234436035, 15.163105964660645, 56.78120040893555, 49.156715393066406, 17.37092399597168, 13.332008361816406, 15.487516403198242, 13.258601188659668, 10.600756645202637, 11.66746711730957, 11.583673477172852, 11.823046684265137, 15.537400245666504, 21.80948829650879, 19.871021270751953, 14.168684959411621, 13.419246673583984, 11.748435974121094, 11.216843605041504, 9.934999465942383, 9.65687084197998, 12.620706558227539, 21.813385009765625, 10.595998764038086, 8.728272438049316, 7.8924336433410645, 7.709235191345215, 7.639137268066406, 8.096478462219238, 7.400238037109375, 7.610391616821289, 8.092105865478516, 6.938910484313965, 8.614274024963379, 6.739237308502197, 6.750219345092773, 6.556039333343506, 7.361008644104004, 6.967193126678467, 6.257570266723633, 6.063843727111816, 6.063843727111816, 23.03299903869629, 11.426325798034668, 12.451313018798828, 25.057512283325195, 22.949024200439453, 12.861113548278809, 10.71291446685791, 14.43543529510498, 11.016571044921875, 13.77154541015625, 24.63015365600586, 12.186798095703125, 17.167150497436523, 14.520957946777344, 23.961347579956055, 14.284197807312012, 14.692612648010254, 11.465816497802734, 15.058034896850586, 22.756736755371094, 39.73363494873047, 20.27810287475586, 16.70628547668457, 23.445348739624023, 15.631399154663086, 25.032913208007812, 17.675159454345703, 12.9848051071167, 15.055773735046387, 13.091935157775879, 17.38298225402832, 13.877185821533203, 13.675875663757324, 15.953658103942871, 10.792707443237305, 9.22514820098877, 13.046507835388184, 8.97829532623291, 9.036746978759766, 10.67710018157959, 8.333054542541504, 8.145638465881348, 9.33679485321045, 7.999053955078125, 7.990017890930176, 9.738746643066406, 7.865419864654541, 7.708298683166504, 7.598152160644531, 7.54279899597168, 9.274513244628906, 7.409164905548096, 17.465927124023438, 7.242164611816406, 7.17777681350708, 9.470429420471191, 7.086544513702393, 7.181365489959717, 8.682927131652832, 6.930924892425537, 22.86636734008789, 11.943033218383789, 9.744220733642578, 22.470346450805664, 10.217947959899902, 29.05247688293457, 8.288189888000488, 19.951204299926758, 13.728300094604492, 10.515629768371582, 14.376458168029785, 14.137704849243164, 18.398902893066406, 10.417230606079102, 12.399163246154785, 14.874924659729004, 13.70300006866455, 30.6002197265625, 14.510491371154785, 11.266251564025879, 15.236671447753906, 15.748254776000977, 15.978558540344238, 11.035713195800781, 12.179577827453613, 11.90204906463623, 11.279365539550781, 21.779802322387695, 15.980178833007812, 14.499439239501953, 13.852688789367676, 13.785411834716797, 17.542125701904297, 13.095938682556152, 10.768710136413574, 10.545525550842285, 14.860339164733887, 9.654797554016113, 40.8161506652832, 10.554861068725586, 10.262453079223633, 14.676989555358887, 8.14753246307373, 10.003747940063477, 7.248386383056641, 8.998987197875977, 6.755417823791504, 6.72299861907959, 6.72299861907959, 10.100598335266113, 11.452082633972168, 9.072168350219727, 5.857769966125488, 6.663845062255859, 5.698591232299805, 9.255208015441895, 7.177350044250488, 12.71715259552002, 12.446842193603516, 10.40163803100586, 22.885351181030273, 16.86939239501953, 12.648578643798828, 7.592061996459961, 9.264383316040039, 37.3664436340332, 13.40817642211914, 40.70431137084961, 12.837766647338867, 19.240232467651367, 26.336814880371094, 23.791236877441406, 57.12419128417969, 17.401832580566406, 14.843038558959961, 14.741547584533691, 23.316659927368164, 20.242162704467773, 15.743948936462402, 12.780576705932617, 22.58421516418457, 17.413955688476562, 15.038477897644043, 13.01229476928711, 38.87139892578125, 15.270905494689941, 19.685638427734375, 15.999780654907227, 14.59998893737793, 13.752973556518555, 11.411351203918457, 13.108553886413574, 8.338984489440918, 8.056682586669922, 7.774382591247559, 7.753737449645996, 7.753737449645996, 9.070362091064453, 7.6680684089660645, 7.64889669418335, 7.456916809082031, 9.461673736572266, 7.168490409851074, 6.976508140563965, 6.760704517364502, 6.424066066741943, 6.372089385986328, 6.351444244384766, 5.962829113006592, 5.837344646453857, 9.63814926147461, 8.946398735046387, 5.358410835266113, 7.0894622802734375, 26.199893951416016, 25.013811111450195, 20.56540298461914, 11.237812042236328, 32.36157989501953, 19.559104919433594, 11.876792907714844, 39.66718292236328, 12.113312721252441, 19.983861923217773, 27.366762161254883, 19.49138832092285, 13.894780158996582, 16.10415267944336, 32.467220306396484, 9.733943939208984, 20.57867431640625, 18.24052619934082, 14.41693115234375, 13.097657203674316, 60.89799880981445, 12.467802047729492, 11.504060745239258, 13.334957122802734, 19.77719497680664, 14.99276065826416, 12.728232383728027, 12.426006317138672, 17.41327476501465, 16.53173065185547, 16.39291763305664, 15.636393547058105, 17.427457809448242, 11.653945922851562, 11.26657772064209, 9.66051197052002, 9.587546348571777, 8.626361846923828, 9.914815902709961, 11.332354545593262, 8.008649826049805, 7.571908473968506, 7.514473915100098, 11.271283149719238, 7.838042259216309, 6.686721324920654, 7.676848411560059, 7.780679225921631, 9.136813163757324, 6.375856399536133, 13.58603286743164, 9.06895637512207, 5.646060466766357, 5.616296768188477, 5.564681529998779, 5.497095584869385, 8.645973205566406, 6.768668174743652, 16.910877227783203, 10.972636222839355, 33.446495056152344, 9.795332908630371, 11.833136558532715, 15.047226905822754, 21.13109588623047, 13.955550193786621, 9.56204891204834, 12.210301399230957, 11.786032676696777, 21.257963180541992, 20.727170944213867, 16.305580139160156, 54.323486328125, 34.1909065246582, 12.02613639831543, 14.85241413116455, 38.57347106933594, 14.022528648376465, 12.810937881469727, 13.226305961608887, 13.56674575805664, 13.231176376342773, 12.543859481811523, 11.457195281982422, 13.922369003295898, 10.921853065490723, 10.656590461730957, 13.12144660949707, 9.878815650939941, 11.892452239990234, 15.408073425292969, 11.762548446655273, 8.613142967224121, 16.91182518005371, 7.868271350860596, 10.185759544372559, 11.677938461303711, 7.153997421264648, 8.203018188476562, 7.039732933044434, 6.582436561584473, 6.537656784057617, 6.376221656799316, 6.3254594802856445, 6.223072052001953, 6.0108747482299805, 5.927210807800293, 10.858744621276855, 28.735036849975586, 7.213045120239258, 5.465458869934082, 6.094030380249023, 5.355649471282959, 7.1099419593811035, 26.375370025634766, 21.36460304260254, 17.381994247436523, 15.730589866638184, 11.44891357421875, 13.76776123046875, 7.94227409362793, 7.996673107147217, 15.35183334350586, 43.95527267456055, 7.908254623413086, 19.847946166992188, 24.958858489990234, 13.26750659942627, 13.687356948852539, 25.930522918701172, 18.042882919311523, 17.665496826171875, 18.062231063842773, 15.585506439208984, 20.32846450805664, 21.0887393951416, 16.756967544555664, 14.108759880065918, 12.608264923095703, 18.456401824951172, 13.761658668518066, 13.92712116241455, 13.210284233093262, 16.571449279785156, 14.397354125976562, 17.559764862060547, 11.99472427368164, 10.960369110107422, 12.996463775634766, 10.726539611816406, 9.972283363342285, 9.393523216247559, 10.830217361450195, 8.969840049743652, 8.213250160217285, 8.0914888381958, 7.751014709472656, 7.2441229820251465, 7.089045524597168, 6.900649547576904, 6.859816074371338, 10.706124305725098, 5.917162895202637, 5.89674711227417, 5.8967461585998535, 5.985073566436768, 6.320429801940918, 6.660336971282959, 6.2105631828308105, 14.42389965057373, 7.7404351234436035, 4.999436855316162, 5.7022929191589355, 7.259880542755127, 15.170523643493652, 14.74953842163086, 14.191567420959473, 15.310774803161621, 86.84834289550781, 12.978324890136719, 12.162782669067383, 20.903751373291016, 19.532316207885742, 18.714750289916992, 16.569398880004883, 20.468273162841797, 10.232498168945312, 27.192062377929688, 22.93965721130371, 16.532594680786133, 15.33057975769043, 12.251879692077637, 11.24824047088623, 13.566636085510254, 13.934060096740723, 13.885772705078125, 11.80226993560791, 11.541781425476074, 11.186405181884766, 14.772889137268066, 14.160512924194336, 12.659431457519531, 12.312036514282227, 12.343618392944336, 18.449478149414062, 11.034966468811035, 11.744226455688477, 10.757168769836426, 10.314126014709473, 10.242962837219238, 9.743280410766602, 8.986542701721191, 9.865530014038086, 8.683533668518066, 9.024353981018066, 7.583961486816406, 9.032781600952148, 21.790056228637695, 7.261776924133301, 7.240756034851074, 11.125651359558105, 13.266029357910156, 6.74757194519043, 9.431432723999023, 6.655759334564209, 6.459085941314697, 11.712522506713867, 7.16996431350708, 6.0703911781311035, 8.703904151916504, 12.396021842956543, 11.642468452453613, 16.040536880493164, 8.104978561401367, 12.235830307006836, 9.197737693786621, 20.410274505615234, 16.10996437072754, 28.35857582092285, 12.230912208557129, 41.741302490234375, 13.787353515625, 12.447793006896973, 11.744059562683105, 24.830488204956055, 15.870257377624512, 15.392997741699219, 15.12551498413086, 11.381281852722168, 11.291399002075195, 11.112239837646484, 14.148415565490723, 17.46500015258789, 18.2012939453125, 12.402144432067871, 12.249417304992676, 15.724923133850098, 13.733027458190918, 10.162793159484863, 14.383840560913086, 8.79179573059082, 8.623085021972656, 8.541641235351562, 9.735860824584961, 12.84218692779541, 7.9474005699157715, 7.947400093078613, 11.269036293029785, 7.80847692489624, 8.896221160888672, 8.354703903198242, 7.140857696533203, 7.001933574676514, 6.407693386077881, 9.952898025512695, 5.851304531097412, 5.851304531097412, 5.817873954772949, 5.769862174987793, 5.650564670562744, 5.6309380531311035, 6.95343542098999, 15.93950366973877, 9.907435417175293, 18.26449203491211, 17.174497604370117, 23.071598052978516, 18.596351623535156, 9.94266128540039, 36.716026306152344, 28.533613204956055, 18.17055892944336, 20.507890701293945, 20.348297119140625, 14.00177001953125, 16.276369094848633, 15.776923179626465, 12.079204559326172, 25.854589462280273, 18.297664642333984, 30.002347946166992, 17.432260513305664, 11.167576789855957, 13.819084167480469, 19.61350440979004, 16.912273406982422, 13.196077346801758, 9.471891403198242, 9.441646575927734, 9.06794261932373, 23.95629119873047, 8.92688274383545, 8.614521980285645, 8.463147163391113, 10.763384819030762, 7.401952743530273, 17.96342658996582, 6.798581600189209, 6.884581565856934, 9.000015258789062, 9.331686019897461, 38.07953643798828, 23.120441436767578, 10.564884185791016, 6.009891033172607, 22.891483306884766, 5.9796462059021, 10.794888496398926, 17.635610580444336, 7.414153575897217, 5.586013317108154, 5.566083908081055, 12.477605819702148, 15.585626602172852, 25.081960678100586, 15.594894409179688, 9.004169464111328, 8.970612525939941, 9.645308494567871, 12.96575927734375, 29.894821166992188, 21.387611389160156, 18.135128021240234, 18.869510650634766, 11.60512638092041, 10.707006454467773, 21.58416175842285, 50.702598571777344, 45.60572814941406, 10.700295448303223, 13.529736518859863, 11.806886672973633, 10.110743522644043, 11.64273452758789, 11.749307632446289, 11.317940711975098, 11.760941505432129, 23.19339370727539, 18.71567726135254, 16.7083797454834, 14.130389213562012, 13.83480167388916, 15.298022270202637, 10.852022171020508, 23.311914443969727, 9.722034454345703, 11.134943008422852, 14.35033130645752, 8.892480850219727, 10.82719612121582, 12.545134544372559, 7.782463073730469, 7.6932291984558105, 13.791016578674316, 7.466906547546387, 7.377671718597412, 9.71374797821045, 6.931405544281006, 9.078950881958008, 6.637352466583252, 6.452502727508545, 7.541016578674316, 7.336197376251221, 6.006237030029297, 7.406842231750488, 5.680566787719727, 5.340027809143066, 14.986260414123535, 15.717734336853027, 16.25748062133789, 18.586898803710938, 9.503900527954102, 30.549104690551758, 17.17435646057129, 16.242815017700195, 25.21337127685547, 18.77416229248047, 22.069486618041992, 18.695438385009766, 12.456412315368652, 14.954551696777344, 13.393719673156738, 39.3577880859375, 16.428861618041992, 25.00446319580078, 22.407026290893555, 15.90609073638916, 16.560544967651367, 16.374792098999023, 13.701176643371582, 27.75377082824707, 11.054182052612305, 9.724327087402344, 9.162911415100098, 14.928522109985352, 7.755502700805664, 7.6220011711120605, 7.6017608642578125, 7.509519577026367, 7.207972049713135, 6.628190994262695, 6.484925270080566, 8.520742416381836, 5.827159404754639, 9.396284103393555, 8.529809951782227, 17.98724937438965, 5.550392150878906, 5.530150890350342, 6.86226224899292, 5.376408100128174, 6.750519752502441, 4.872386455535889, 6.02055025100708, 19.298934936523438, 4.659366607666016, 4.575377464294434, 4.536341190338135, 4.908386707305908, 4.239332675933838, 10.224688529968262, 17.186927795410156, 30.00975227355957, 16.873149871826172, 8.075071334838867, 11.109877586364746, 7.961402893066406, 9.088641166687012, 7.614619255065918, 65.79081726074219, 11.262813568115234, 26.84661865234375, 18.08891487121582, 10.911172866821289, 57.856380462646484, 12.159191131591797, 13.844862937927246, 17.861032485961914, 14.345746994018555, 25.363893508911133, 19.79953384399414, 23.27611541748047, 15.16086483001709, 11.740103721618652, 11.357110023498535, 12.264959335327148, 12.656073570251465, 10.445598602294922, 10.235618591308594, 10.28141975402832, 16.28364372253418, 19.292118072509766, 14.467049598693848, 15.688142776489258, 12.83984088897705, 12.320366859436035, 9.537360191345215, 8.672797203063965, 8.506370544433594, 10.473379135131836, 7.95751428604126, 7.908542156219482, 7.2570271492004395, 10.313220977783203, 6.591457366943359, 6.9981207847595215, 6.813503742218018, 13.302037239074707, 5.895534515380859, 7.535060882568359, 10.00082778930664, 19.79045867919922, 6.069690227508545, 5.679477214813232, 8.408246040344238, 6.686691761016846, 6.436563968658447, 5.327315330505371, 10.099284172058105, 8.91476821899414, 20.627174377441406, 18.393226623535156, 11.748174667358398, 13.989302635192871, 14.658761978149414, 26.435806274414062, 24.596311569213867, 18.45985221862793, 33.906982421875, 22.241722106933594, 16.528905868530273, 10.074742317199707, 10.876182556152344, 10.285414695739746, 9.989455223083496, 30.730937957763672, 11.227574348449707, 23.0244083404541, 16.446731567382812, 16.159597396850586, 10.84011459350586, 11.969586372375488, 11.718173027038574, 10.899110794067383, 11.415711402893066, 12.167539596557617, 10.860713005065918, 11.664558410644531, 26.955238342285156, 8.720559120178223, 9.504632949829102, 8.471030235290527, 8.262743949890137, 13.951764106750488, 8.195273399353027, 7.55903434753418, 7.3529863357543945, 7.0519280433654785, 8.300185203552246, 6.9466986656188965, 7.804667949676514, 7.898494243621826, 6.478748798370361, 6.391699314117432, 6.171881675720215, 6.171881675720215, 6.549880027770996, 6.385134220123291, 5.836699962615967, 9.14069938659668, 7.03231954574585, 13.240431785583496, 7.505900859832764, 7.9859724044799805, 23.212682723999023, 16.017108917236328, 12.686993598937988, 9.451347351074219, 9.974092483520508, 46.273529052734375, 11.413841247558594, 10.831825256347656, 9.411331176757812, 9.922263145446777, 13.452543258666992, 9.031577110290527, 37.289981842041016, 12.141130447387695, 8.94338321685791, 9.463397979736328, 10.09721851348877, 9.781429290771484, 11.175506591796875, 10.92410945892334, 9.132484436035156, 9.418055534362793, 12.752034187316895, 14.352799415588379, 11.851825714111328, 10.757174491882324, 9.848618507385254, 9.09958553314209, 8.379931449890137, 8.12247085571289, 9.059452056884766, 8.612136840820312, 8.15507984161377, 7.619394302368164, 12.155854225158691, 10.819903373718262, 11.62907886505127, 5.673766613006592, 17.63425064086914, 14.57451343536377, 8.644861221313477, 11.384207725524902, 6.393537521362305, 8.000408172607422, 6.056151866912842, 8.17252254486084, 5.7381911277771, 5.68815803527832, 6.05670690536499, 4.715515613555908, 4.5528645515441895, 4.4482550621032715, 8.982124328613281, 7.003457546234131, 36.66889953613281, 9.662015914916992, 37.58248519897461, 16.992145538330078, 7.629448413848877, 13.620986938476562, 16.584794998168945, 13.530017852783203, 11.079967498779297, 30.692651748657227, 14.658841133117676, 33.59410095214844, 14.831687927246094, 10.091059684753418, 10.955477714538574, 12.686365127563477, 16.090234756469727, 13.545504570007324, 19.879390716552734, 12.582709312438965, 18.138574600219727, 11.943770408630371, 11.761846542358398, 11.292842864990234, 11.715675354003906, 11.655125617980957, 19.35235595703125, 14.887368202209473, 12.71572494506836, 10.622645378112793, 9.68115520477295, 9.113662719726562, 10.354058265686035, 16.102825164794922, 9.034418106079102, 10.361862182617188, 9.127450942993164, 10.089974403381348, 6.4689764976501465, 9.190298080444336, 6.079092025756836, 5.695258617401123, 7.9102911949157715, 15.56950569152832, 7.175662994384766, 5.466312408447266, 5.416430950164795, 6.1184186935424805, 6.151344299316406, 5.148157596588135, 5.11721134185791, 4.993270397186279, 4.993270397186279, 7.42999267578125, 4.714442729949951, 4.694051265716553, 16.52894401550293, 6.217283725738525, 11.548910140991211, 23.19505500793457, 13.710184097290039, 67.77377319335938, 10.062764167785645, 12.030915260314941, 11.326858520507812, 15.848050117492676, 12.591839790344238, 6.969499111175537, 14.953287124633789, 12.426514625549316, 22.03145980834961, 26.72884750366211, 20.792987823486328, 12.736394882202148, 15.521015167236328, 12.071962356567383, 13.471260070800781, 12.329883575439453, 19.924747467041016, 19.320402145385742, 11.106575965881348, 15.948675155639648, 11.798378944396973, 12.225787162780762, 11.413139343261719, 29.71298599243164, 13.059819221496582, 10.858236312866211, 10.471169471740723, 12.12419319152832, 11.986449241638184, 8.85871410369873, 11.739654541015625, 9.165420532226562, 7.447685718536377, 7.974853992462158, 6.991298198699951, 8.162206649780273, 8.216318130493164, 7.751345157623291, 6.991298198699951, 6.020110607147217, 5.879528522491455, 11.303370475769043, 13.208626747131348, 7.431568145751953, 10.482667922973633, 8.142572402954102, 10.371779441833496, 5.057873725891113, 5.260887622833252, 6.571386337280273, 4.8937859535217285, 4.769222736358643, 5.7226362228393555, 11.584439277648926, 11.951266288757324, 9.976563453674316, 10.58820629119873, 9.38379955291748, 27.113605499267578, 12.09968090057373, 8.283340454101562, 13.775405883789062, 16.86628532409668, 11.057148933410645, 12.699708938598633, 11.606561660766602, 11.43457317352295, 9.835107803344727, 8.941303253173828, 13.171043395996094, 10.845531463623047, 12.353483200073242, 26.20136070251465, 10.384671211242676, 11.238677024841309, 10.519878387451172, 10.024924278259277, 14.670778274536133, 8.813010215759277, 8.633536338806152, 8.528966903686523, 9.308932304382324, 19.409080505371094, 8.931547164916992, 9.867271423339844, 7.389956951141357, 8.415855407714844, 7.0771050453186035, 7.0771050453186035, 6.5429301261901855, 6.4647369384765625, 7.723543167114258, 11.783336639404297, 5.750891208648682, 8.85525894165039, 20.34392547607422, 7.04089879989624, 5.148473262786865, 5.148473739624023, 5.894218921661377, 14.202998161315918, 5.00534200668335, 5.005341529846191, 11.810413360595703, 7.4891133308410645, 8.28839111328125, 4.614297866821289, 6.884379863739014, 13.382448196411133, 15.161394119262695, 16.39995574951172, 27.257463455200195, 16.402000427246094, 30.447378158569336, 21.23474884033203, 18.010534286499023, 9.580458641052246, 14.131067276000977, 17.997753143310547, 12.850367546081543, 10.649579048156738, 11.932416915893555, 13.963654518127441, 9.970332145690918, 14.429093360900879, 19.668636322021484, 16.670204162597656, 13.291439056396484, 10.857125282287598, 20.414175033569336, 14.731101036071777, 12.159971237182617, 10.880074501037598, 10.729032516479492, 15.473006248474121, 19.73409080505371, 12.456514358520508, 10.30914306640625, 12.939139366149902, 12.966134071350098, 8.519163131713867, 7.497409343719482, 7.252026557922363, 7.201206207275391, 7.813708305358887, 9.524477005004883, 6.925187587738037, 8.000066757202148, 6.527565002441406, 5.96470308303833, 5.934069633483887, 5.831563472747803, 6.6423163414001465, 5.637864589691162, 7.003140449523926, 7.514589786529541, 6.652261734008789, 5.759552955627441, 5.476323127746582, 6.042335510253906, 5.268628120422363, 26.33049201965332, 5.047638893127441, 4.64674711227417, 9.895476341247559, 24.309083938598633, 16.760265350341797, 8.61980152130127, 8.57465934753418, 10.03575611114502, 11.770015716552734, 8.923264503479004, 9.83701229095459, 16.162336349487305, 14.017544746398926, 12.839058876037598, 20.477590560913086, 12.999513626098633, 7.868134021759033, 14.01971435546875, 9.88731861114502, 27.3345947265625, 44.683467864990234, 14.382396697998047, 13.090446472167969, 15.152953147888184, 9.923921585083008, 9.335552215576172, 11.456632614135742, 9.812591552734375, 9.670816421508789, 10.674208641052246, 22.631317138671875, 10.044641494750977, 9.682158470153809, 15.686601638793945, 8.850066184997559, 10.673725128173828, 9.431197166442871, 12.722626686096191, 10.14588451385498, 7.665903568267822, 6.464595317840576, 6.232020378112793, 6.131465435028076, 6.111663818359375, 5.971506595611572, 15.063035011291504, 5.410177707672119, 5.410177707672119, 6.834024906158447, 5.655317783355713, 5.430200099945068, 7.276012420654297, 5.800206184387207, 5.111433982849121, 4.766683101654053, 4.7666826248168945, 6.362445831298828, 11.317705154418945, 5.174612045288086, 8.406257629394531, 13.320195198059082, 54.48099136352539, 6.759459972381592, 15.62256908416748, 8.94266414642334, 17.594133377075195, 15.157246589660645, 11.146300315856934, 14.715255737304688, 8.835775375366211, 15.158533096313477, 10.2874755859375, 9.008971214294434, 11.582646369934082, 14.994463920593262, 21.971240997314453, 9.215494155883789, 8.597173690795898, 12.600333213806152, 10.047229766845703, 10.955892562866211, 11.198196411132812, 12.181709289550781, 11.148136138916016, 9.459345817565918, 9.53496265411377], \"Term\": [\"I\", \"$\", \"n't\", \"A\", \"million\", \"That\", \"\\u2019s\", \"St.\", \"No\", \"think\", \"'m\", \"percent\", \"said\", \"end\", \"know\", \"He\", \"We\", \"2\", \"years\", \"The\", \"1\", \"going\", \"health\", \"season\", \"But\", \"'ve\", \"day\", \"like\", \"They\", \"schools\", \"pretty\", \"averaged\", \"watching\", \"modern\", \"relationship\", \"liked\", \"\\u2019m\", \"courses\", \"holding\", \"confident\", \"Fox\", \"pot\", \"runners\", \"keeps\", \"brown\", \"instance\", \"interested\", \"Wilson\", \"looks\", \"talking\", \"Canadian\", \"consumers\", \"Justice\", \"gotten\", \"survive\", \"bitter\", \"audience\", \"beautiful\", \"wait\", \"excited\", \"'m\", \"I\", \"think\", \"talk\", \"know\", \"love\", \"key\", \"Big\", \"'ve\", \"n't\", \"better\", \"seen\", \"going\", \"features\", \"thought\", \"points\", \"way\", \"like\", \"seven\", \"But\", \"'re\", \"got\", \"said\", \"We\", \"want\", \"says\", \"When\", \"good\", \"And\", \"team\", \"The\", \"It\", \"needs\", \"gone\", \"follow\", \"nation\", \"jump\", \"cameras\", \"Brandon\", \"Heights\", \"X\", \"positions\", \"climate\", \"recipe\", \"increases\", \"Jim\", \"Kelly\", \"complaints\", \"Iowa\", \"grape\", \"picking\", \"identity\", \"soul\", \"ban\", \"wedding\", \"Price\", \"harsh\", \"choose\", \"streak\", \"Island\", \"blocked\", \"manages\", \"price\", \"Star\", \"chance\", \"effort\", \"concerned\", \"ballot\", \"Legislature\", \"statement\", \"investors\", \"happened\", \"included\", \"contract\", \"$\", \"come\", \"said\", \"U.S.\", \"billion\", \"best\", \"The\", \"year\", \"recent\", \"10\", \"tax\", \"n\\u2019t\", \"state\", \"percent\", \"\\u2019s\", \"years\", \"new\", \"million\", \"paid\", \"Tim\", \"stopped\", \"park\", \"speak\", \"stood\", \"unemployment\", \"Mountain\", \"moment\", \"Springs\", \"committed\", \"reporters\", \"investment\", \"puck\", \"hair\", \"Tennessee\", \"46\", \"Elizabeth\", \"wood\", \"breaks\", \"post\", \"September\", \"expectations\", \"Blue\", \"rich\", \"stranger\", \"Q.\", \"dollar\", \"Jane\", \"centers\", \"attention\", \"crisis\", \"League\", \"25\", \"percent\", \"homes\", \"life\", \"worse\", \"great\", \"woman\", \"face\", \"students\", \"year\", \"tough\", \"years\", \"The\", \"3\", \"She\", \"expected\", \"1\", \"home\", \"It\", \"national\", \"said\", \"school\", \"He\", \"later\", \"ideas\", \"remember\", \"south\", \"victory\", \"advantage\", \"lights\", \"strategy\", \"Q\", \"stock\", \"closing\", \"LB\", \"population\", \"recalled\", \"Voice\", \"Treasury\", \"bunker\", \"stories\", \"returned\", \"responds\", \"documents\", \"Sept.\", \"trip\", \"appreciate\", \"experiences\", \"conflicting\", \"Jonathan\", \"users\", \"base\", \"ray\", \"note\", \"0\", \"injury\", \"point\", \"style\", \"past\", \"rap\", \"store\", \"actually\", \"try\", \"companies\", \"job\", \"drive\", \"Obama\", \"bill\", \"pay\", \"construction\", \"night\", \"That\", \"The\", \"home\", \"percent\", \"government\", \"game\", \"inside\", \"church\", \"arm\", \"By\", \"anybody\", \"Services\", \"stands\", \"voter\", \"August\", \"sell\", \"convention\", \"Several\", \"setting\", \"floor\", \"buyers\", \"standards\", \"rely\", \"writer\", \"C\", \"tougher\", \"regulations\", \"Would\", \"Oh\", \"yeah\", \"ongoing\", \"imagine\", \"completed\", \"Columbus\", \"animals\", \"Jimmy\", \"neighborhood\", \"occurred\", \"map\", \"bag\", \"ready\", \"cutting\", \"manager\", \"difficult\", \"created\", \"Here\", \"offer\", \"things\", \"rates\", \"growth\", \"process\", \"passed\", \"familiar\", \"money\", \"said\", \"hard\", \"n't\", \"We\", \"new\", \"use\", \"report\", \"It\", \"director\", \"The\", \"issue\", \"away\", \"Dallas\", \"paying\", \"sister\", \"Miller\", \"dream\", \"slightly\", \"la\", \"immigrants\", \"initial\", \"assistant\", \"2000\", \"Office\", \"weapons\", \"effective\", \"experienced\", \"fishing\", \"Jan.\", \"jackpot\", \"arrangement\", \"joining\", \"sworn\", \"chef\", \"broken\", \"temporary\", \"witness\", \"Point\", \"permits\", \"Just\", \"shoes\", \"3.1\", \"enrollment\", \"military\", \"addition\", \"Jersey\", \"fire\", \"million\", \"tells\", \"New\", \"$\", \"16\", \"2010\", \"11\", \"Monday\", \"York\", \"p.m.\", \"firm\", \"according\", \"2\", \"14\", \"The\", \"1\", \"months\", \"years\", \"15\", \"10\", \"called\", \"government\", \"said\", \"Rep.\", \"Tom\", \"400\", \"dim\", \"offers\", \"provides\", \"language\", \"described\", \"TV\", \"500\", \"remain\", \"Christ\", \"bags\", \"enjoy\", \"prepare\", \"boxes\", \"Security\", \"tennis\", \"Think\", \"fine\", \"bottles\", \"glass\", \"sip\", \"follows\", \"brothers\", \"Cumberland\", \"internal\", \"misses\", \"payroll\", \"pounds\", \"throw\", \"health\", \"late\", \"build\", \"final\", \"care\", \"tell\", \"department\", \"private\", \"support\", \"Michael\", \"building\", \"Washington\", \"morning\", \"government\", \"officials\", \"work\", \"cost\", \"The\", \"$\", \"residents\", \"state\", \"said\", \"white\", \"future\", \"Jr.\", \"shots\", \"Circuit\", \"plant\", \"lose\", \"St.\", \"Louis\", \"\\u2019d\", \"learned\", \"deputy\", \"cap\", \"conditions\", \"exempt\", \"expert\", \"viewers\", \"Hancock\", \"cookies\", \"occur\", \"talked\", \"Work\", \"tree\", \"improve\", \"sushi\", \"session\", \"apartment\", \"aviation\", \"73\", \"LLC\", \"active\", \"Thomas\", \"square\", \"chief\", \"reached\", \"Road\", \"employees\", \"continue\", \"opening\", \"21\", \"April\", \"According\", \"Charles\", \"showed\", \"brother\", \"makes\", \"open\", \"court\", \"The\", \"Court\", \"years\", \"6\", \"County\", \"p.m.\", \"said\", \"business\", \"R\", \"raised\", \"nice\", \"truck\", \"quickly\", \"bar\", \"cook\", \"grow\", \"ranked\", \"share\", \"sports\", \"cast\", \"movement\", \"Penn\", \"countries\", \"US\", \"All\", \"suit\", \"wearing\", \"union\", \"evening\", \"300\", \"user\", \"fiancee\", \"select\", \"religious\", \"typical\", \"girlfriend\", \"chair\", \"requirement\", \"land\", \"quiet\", \"order\", \"a.m.\", \"Limbaugh\", \"pick\", \"clear\", \"hot\", \"workers\", \"looked\", \"good\", \"Friday\", \"county\", \"action\", \"The\", \"5\", \"p.m.\", \"person\", \"children\", \"8\", \"city\", \"1\", \"said\", \"It\", \"\\u2019s\", \"games\", \"central\", \"goes\", \"guard\", \"Attorney\", \"Tony\", \"kitchen\", \"fellow\", \"sale\", \"designed\", \"management\", \"degrees\", \"resort\", \"pleased\", \"typically\", \"Ben\", \"lawmakers\", \"severe\", \"actors\", \"Sheriff\", \"eager\", \"hopes\", \"comfortable\", \"detained\", \"Barnes\", \"Hey\", \"protest\", \"Addison\", \"attend\", \"fault\", \"dad\", \"training\", \"friend\", \"buildings\", \"hour\", \"firefighters\", \"spring\", \"working\", \"financial\", \"history\", \"day\", \"brings\", \"possible\", \"comes\", \"house\", \"John\", \"Cleveland\", \"The\", \"said\", \"family\", \"thing\", \"school\", \"But\", \"town\", \"company\", \"For\", \"says\", \"interview\", \"potential\", \"Republicans\", \"vehicle\", \"born\", \"traditional\", \"prosecutors\", \"license\", \"Food\", \"Howard\", \"agreed\", \"Sony\", \"Corp.\", \"struggling\", \"birthday\", \"slight\", \"2002\", \"package\", \"crew\", \"presents\", \"Mason\", \"dynamic\", \"42\", \"edge\", \"moments\", \"ends\", \"Hollywood\", \"realized\", \"Carnegie\", \"fiber\", \"girl\", \"planning\", \"Today\", \"bring\", \"Romney\", \"walk\", \"innings\", \"current\", \"loans\", \"father\", \"world\", \"hiring\", \"recently\", \"lower\", \"little\", \"brought\", \"Republican\", \"thousands\", \"economy\", \"U.S.\", \"The\", \"old\", \"week\", \"year\", \"number\", \"said\", \"He\", \"saying\", \"new\", \"line\", \"sweet\", \"filled\", \"parks\", \"butter\", \"1/2\", \"apparently\", \"states\", \"Philadelphia\", \"yes\", \"Aaron\", \"meant\", \"claimed\", \"hitter\", \"electric\", \"pack\", \"plays\", \"Sam\", \"attempted\", \"ice\", \"90\", \"stick\", \"Al\", \"tournament\", \"playoffs\", \"Whether\", \"\\u0096\", \"reaching\", \"Erin\", \"dishes\", \"Place\", \"\\u2019ve\", \"regional\", \"direct\", \"serving\", \"traffic\", \"making\", \"cream\", \"teams\", \"Oct.\", \"husband\", \"Her\", \"expect\", \"Ohio\", \"28\", \"restaurant\", \"May\", \"South\", \"The\", \"team\", \"record\", \"We\", \"n't\", \"said\", \"games\", \"time\", \"It\", \"state\", \"purchase\", \"English\", \"television\", \"junior\", \"media\", \"paper\", \"meaning\", \"Chief\", \"maintenance\", \"smaller\", \"doors\", \"schools\", \"Bank\", \"waiting\", \"foot\", \"09\", \"larger\", \"Massachusetts\", \"condition\", \"happens\", \"roughly\", \"rare\", \"Austin\", \"governor\", \"youth\", \"suicide\", \"Community\", \"aggressive\", \"Yes\", \"apart\", \"campus\", \"giving\", \"bigger\", \"'d\", \"save\", \"raise\", \"Denver\", \"spread\", \"If\", \"men\", \"They\", \"technology\", \"members\", \"'re\", \"school\", \"said\", \"things\", \"special\", \"district\", \"like\", \"state\", \"money\", \"happy\", \"The\", \"I\", \"year\", \"long\", \"boy\", \"Atlantic\", \"understand\", \"teachers\", \"fun\", \"Ward\", \"spoke\", \"Indians\", \"exact\", \"Victoria\", \"flew\", \"shop\", \"outdoor\", \"wild\", \"Van\", \"2013\", \"published\", \"Democratic\", \"Media\", \"Moore\", \"alcohol\", \"option\", \"Division\", \"tank\", \"train\", \"Director\", \"Superintendent\", \"necessary\", \"restored\", \"overnight\", \"2011\", \"District\", \"instead\", \"Colorado\", \"far\", \"issues\", \"failed\", \"early\", \"council\", \"head\", \"School\", \"district\", \"result\", \"July\", \"old\", \"Columbia\", \"City\", \"plan\", \"scored\", \"Americans\", \"said\", \"January\", \"Is\", \"important\", \"In\", \"city\", \"board\", \"vote\", \"Service\", \"agencies\", \"Davis\", \"Western\", \"seconds\", \"tight\", \"Co.\", \"sells\", \"chairman\", \"moderate\", \"Meyer\", \"names\", \"spokeswoman\", \"alive\", \"function\", \"States\", \"32\", \"watch\", \"join\", \"Evan\", \"terrorists\", \"intentions\", \"largest\", \"seeing\", \"rooms\", \"Forest\", \"largely\", \"exchange\", \"provided\", \"hockey\", \"site\", \"prepared\", \"What\", \"Still\", \"safety\", \"annual\", \"space\", \"situation\", \"attempt\", \"independent\", \"ask\", \"Department\", \"look\", \"running\", \"said\", \"It\", \"went\", \"person\", \"The\", \"deal\", \"trying\", \"run\", \"including\", \"game\", \"home\", \"time\", \"aside\", \"soft\", \"revenues\", \"favorite\", \"37\", \"Because\", \"mayor\", \"Giants\", \"Family\", \"Steve\", \"statistics\", \"Timbers\", \"beginning\", \"Troy\", \"doubt\", \"Kate\", \"lime\", \"friendly\", \"flavor\", \"retirement\", \"searching\", \"Walden\", \"matters\", \"holiday\", \"To\", \"posted\", \"seat\", \"Give\", \"temperature\", \"cross\", \"minutes\", \"fans\", \"idea\", \"These\", \"culture\", \"double\", \"pitched\", \"radio\", \"series\", \"2\", \"older\", \"West\", \"12\", \"hospital\", \"Even\", \"3\", \"came\", \"half\", \"Tuesday\", \"office\", \"When\", \"game\", \"people\", \"play\", \"room\", \"The\", \"County\", \"We\", \"1\", \"Chinese\", \"bridge\", \"choice\", \"artistic\", \"library\", \"citizens\", \"rise\", \"receiving\", \"potato\", \"wins\", \"Roy\", \"request\", \"Airlines\", \"Lee\", \"percentage\", \"pensions\", \"Of\", \"Golden\", \"goals\", \"mention\", \"justices\", \"Museum\", \"talks\", \"43\", \"Phillies\", \"Supreme\", \"Atlanta\", \"multiple\", \"obtained\", \"basic\", \"freedom\", \"break\", \"Sun\", \"fresh\", \"Smith\", \"A\", \"level\", \"offered\", \"wanted\", \"course\", \"took\", \"players\", \"4\", \"Taylor\", \"years\", \"\\u2019s\", \"second\", \"better\", \"With\", \"Oregon\", \"He\", \"I\", \"said\", \"year\", \"We\", \"The\", \"Jake\", \"honey\", \"chose\", \"Committee\", \"05\", \"concerns\", \"serve\", \"PDT\", \"mass\", \"generally\", \"changed\", \"07\", \"85\", \"doctor\", \"fuel\", \"Year\", \"baby\", \"expand\", \"Scott\", \"advance\", \"reasons\", \"Phoenix\", \"awards\", \"Oakland\", \"Drive\", \"date\", \"providers\", \"AP\", \"venture\", \"shortly\", \"Three\", \"Frank\", \"caught\", \"50\", \"blame\", \"net\", \"injured\", \"known\", \"loss\", \"There\", \"ran\", \"$\", \"higher\", \"costs\", \"wrong\", \"said\", \"A\", \"1\", \"year\", \"North\", \"high\", \"coach\", \"From\", \"Red\", \"Do\", \"tries\", \"speed\", \"owned\", \"hear\", \"catch\", \"design\", \"traveled\", \"Wine\", \"leader\", \"Ridge\", \"furniture\", \"publicly\", \"resources\", \"benefit\", \"explains\", \"roll\", \"suggest\", \"exit\", \"improvements\", \"Matthews\", \"ability\", \"lobster\", \"Communications\", \"iPad\", \"presentation\", \"juniors\", \"apparent\", \"Season\", \"Richard\", \"protect\", \"additional\", \"practice\", \"fall\", \"sense\", \"easy\", \"You\", \"need\", \"college\", \"service\", \"kind\", \"guy\", \"special\", \"9\", \"taken\", \"We\", \"company\", \"The\", \"n't\", \"customers\", \"said\", \"placed\", \"Inc.\", \"ticket\", \"Kennedy\", \"failure\", \"reduced\", \"mother\", \"investigators\", \"improvement\", \"disabled\", \"cell\", \"Thompson\", \"China\", \"Drink\", \"Rebecca\", \"losses\", \"layoffs\", \"Park\", \"community\", \"caused\", \"tackle\", \"matter\", \"Me\", \"fame\", \"security\", \"luxury\", \"Village\", \"firmly\", \"cases\", \"body\", \"list\", \"longer\", \"arms\", \"handed\", \"volume\", \"owners\", \"One\", \"Mr.\", \"biggest\", \"staff\", \"present\", \"Brown\", \"5\", \"The\", \"said\", \"Williams\", \"local\", \"major\", \"inning\", \"different\", \"old\", \"help\", \"n't\", \"sure\", \"reform\", \"station\", \"natural\", \"politics\", \"region\", \"OK\", \"\\u2019re\", \"carriers\", \"opportunities\", \"Phillips\", \"image\", \"response\", \"bought\", \"Italy\", \"therapy\", \"CEO\", \"See\", \"visits\", \"Craig\", \"incidents\", \"Both\", \"require\", \"contrast\", \"sisters\", \"levels\", \"highway\", \"causing\", \"internet\", \"exercise\", \"cause\", \"gas\", \"George\", \"decision\", \"mix\", \"'ll\", \"programs\", \"field\", \"president\", \"large\", \"law\", \"students\", \"lead\", \"room\", \"feel\", \"said\", \"use\", \"I\", \"The\", \"In\", \"But\", \"It\", \"going\", \"areas\", \"Bob\", \"Nick\", \"1,000\", \"easier\", \"patrons\", \"answers\", \"placing\", \"5,000\", \"seats\", \"pays\", \"coins\", \"analysis\", \"athletic\", \"lack\", \"comments\", \"items\", \"Olympics\", \"weekly\", \"section\", \"vast\", \"faced\", \"rival\", \"Latinos\", \"winning\", \"odds\", \"ads\", \"findings\", \"campaigns\", \"absolute\", \"host\", \"Yet\", \"asked\", \"control\", \"violence\", \"de\", \"cookie\", \"built\", \"Before\", \"\\u2019s\", \"gives\", \"public\", \"party\", \"daily\", \"He\", \"International\", \"shot\", \"15\", \"middle\", \"And\", \"right\", \"people\", \"There\", \"senior\", \"recent\", \"5\", \"said\", \"best\", \"help\", \"But\", \"medium\", \"Matt\", \"weather\", \"ones\", \"hundreds\", \"cooking\", \"skillet\", \"developed\", \"threat\", \"university\", \"feature\", \"soldiers\", \"mouth\", \"send\", \"lawyer\", \"Dennis\", \"gray\", \"treatment\", \"individuals\", \"determine\", \"employers\", \"heat\", \"tender\", \"minute\", \"Like\", \"operate\", \"Use\", \"Administration\", \"institutions\", \"protecting\", \"word\", \"moved\", \"closed\", \"huge\", \"mail\", \"center\", \"start\", \"living\", \"today\", \"bad\", \"music\", \"step\", \"picture\", \"approach\", \"development\", \"said\", \"property\", \"The\", \"\\u2019s\", \"time\", \"happy\", \"use\", \"American\", \"public\", \"Commission\", \"Along\", \"plants\", \"Seattle\", \"oil\", \"Manager\", \"baking\", \"readers\", \"Apple\", \"Add\", \"combined\", \"Army\", \"accepted\", \"club\", \"Russo\", \"advanced\", \"salt\", \"penalty\", \"Free\", \"overdue\", \"garlic\", \"victims\", \"Sports\", \"handle\", \"7-year\", \"kick\", \"turning\", \"operating\", \"cake\", \"stage\", \"changes\", \"pass\", \"defensive\", \"Jordan\", \"counter\", \"end\", \"reduce\", \"perfect\", \"visit\", \"review\", \"added\", \"chocolate\", \"The\", \"Oregon\", \"search\", \"Mike\", \"scored\", \"nearly\", \"company\", \"including\", \"Lake\", \"middle\", \"ending\", \"Township\", \"fully\", \"vice\", \"account\", \"keeping\", \"damaged\", \"outstanding\", \"survey\", \"predicted\", \"pulled\", \"lending\", \"Dec.\", \"17-year\", \"Houston\", \"81\", \"true\", \"Florida\", \"Jay\", \"compared\", \"Tigers\", \"White\", \"Properties\", \"Mark\", \"forest\", \"Games\", \"expressing\", \"surgery\", \"seller\", \"locals\", \"clean\", \"USA\", \"water\", \"Four\", \"So\", \"division\", \"Georgia\", \"Then\", \"player\", \"numbers\", \"Los\", \"This\", \"economic\", \"season\", \"2008\", \"Angeles\", \"dollars\", \"leave\", \"kind\", \"win\", \"time\", \"South\", \"It\", \"coach\", \"County\", \"State\", \"But\", \"said\", \"turned\", \"orders\", \"200\", \"operator\", \"challenges\", \"Boulevard\", \"offensive\", \"parking\", \"lunch\", \"stuff\", \"Blazers\", \"Why\", \"musical\", \"grown\", \"wealthiest\", \"slot\", \"press\", \"Church\", \"plea\", \"Joseph\", \"Samsung\", \"visiting\", \"Toyota\", \"stuck\", \"responsibility\", \"fix\", \"Baptist\", \"pale\", \"Sentinel\", \"suits\", \"opportunity\", \"garage\", \"baseball\", \"goal\", \"global\", \"That\", \"directly\", \"Maryland\", \"followed\", \"Our\", \"popular\", \"Amendment\", \"provide\", \"rights\", \"man\", \"lot\", \"told\", \"near\", \"local\", \"country\", \"months\", \"gave\", \"He\", \"said\", \"growing\", \"I\", \"people\", \"The\", \"It\", \"means\", \"size\", \"Since\", \"meet\", \"districts\", \"details\", \"questioned\", \"Choo\", \"results\", \"Megan\", \"missing\", \"N\", \"scandal\", \"understanding\", \"adult\", \"approached\", \"developing\", \"72\", \"Alex\", \"production\", \"dancer\", \"required\", \"developer\", \"civil\", \"70\", \"pitches\", \"Walker\", \"toll\", \"introduced\", \"sentencing\", \"usually\", \"abuse\", \"success\", \"rule\", \"tonight\", \"change\", \"However\", \"tests\", \"movie\", \"budget\", \"hold\", \"Dr.\", \"filed\", \"offering\", \"allowing\", \"organization\", \"included\", \"runs\", \"Saturday\", \"The\", \"reported\", \"far\", \"In\", \"American\", \"turns\", \"bowls\", \"mustard\", \"threatening\", \"hedge\", \"Francisco\", \"chili\", \"celebrate\", \"Only\", \"speculation\", \"Sometimes\", \"lately\", \"Tampa\", \"interior\", \"contemporary\", \"More\", \"assisted\", \"alleged\", \"personal\", \"legs\", \"fashion\", \"Bend\", \"415\", \"Grand\", \"pronounced\", \"fallen\", \"eat\", \"strings\", \"clothing\", \"Single\", \"Well\", \"Day\", \"How\", \"tickets\", \"San\", \"scoring\", \"food\", \"short\", \"High\", \"scene\", \"weekend\", \"My\", \"Bay\", \"Valley\", \"dead\", \"information\", \"Most\", \"women\", \"season\", \"game\", \"end\", \"market\", \"The\", \"time\", \"team\", \"wine\", \"called\", \"plenty\", \"art\", \"options\", \"increasingly\", \"effect\", \"coverage\", \"Peter\", \"Academy\", \"fast\", \"standard\", \"fly\", \"resolution\", \"\\u2019ll\", \"economist\", \"professor\", \"explain\", \"defeat\", \"Information\", \"article\", \"rid\", \"Modern\", \"65\", \"Northwest\", \"flight\", \"Construction\", \"Mullen\", \"signs\", \"spending\", \"Virginia\", \"fatalities\", \"expensive\", \"stop\", \"saw\", \"focused\", \"married\", \"quality\", \"Not\", \"Kansas\", \"stretch\", \"black\", \"winter\", \"feet\", \"available\", \"owner\", \"Robinson\", \"project\", \"taxes\", \"But\", \"said\", \"City\", \"forward\", \"We\", \"white\", \"allow\", \"He\", \"night\", \"coach\", \"finally\", \"opened\", \"village\", \"pre\", \"grade\", \"prosecution\", \"Boston\", \"successful\", \"injuries\", \"Patrick\", \"recognized\", \"06\", \"enforcement\", \"bed\", \"notified\", \"Five\", \"immigration\", \"motion\", \"tomorrow\", \"precise\", \"Club\", \"voice\", \"remove\", \"effects\", \"previously\", \"birds\", \"rookie\", \"pro\", \"Bowl\", \"remaining\", \"cities\", \"22\", \"No\", \"fees\", \"NCAA\", \"spend\", \"cuts\", \"House\", \"23\", \"similar\", \"Beach\", \"couple\", \"taste\", \"read\", \"wants\", \"6\", \"1\", \"beat\", \"return\", \"years\", \"School\", \"A\", \"He\", \"The\", \"said\", \"night\", \"state\"], \"Total\": [767.0, 361.0, 375.0, 153.0, 119.0, 106.0, 191.0, 75.0, 69.0, 92.0, 82.0, 129.0, 892.0, 76.0, 89.0, 256.0, 198.0, 86.0, 187.0, 853.0, 149.0, 140.0, 52.0, 126.0, 213.0, 85.0, 89.0, 182.0, 103.0, 44.0, 28.631624221801758, 18.185630798339844, 15.793802261352539, 15.759610176086426, 14.995697021484375, 17.018789291381836, 19.572711944580078, 12.397677421569824, 12.152349472045898, 10.365736961364746, 11.021615028381348, 11.857023239135742, 10.886478424072266, 11.104024887084961, 9.556551933288574, 8.676044464111328, 18.54304313659668, 8.231057167053223, 12.924834251403809, 11.562692642211914, 7.866279602050781, 7.7410078048706055, 8.99420166015625, 7.535693168640137, 7.492243766784668, 12.73475170135498, 9.300296783447266, 11.526097297668457, 11.324361801147461, 9.987004280090332, 82.89030456542969, 767.3999633789062, 92.6386947631836, 24.425352096557617, 89.39100646972656, 31.90211296081543, 20.370576858520508, 15.641348838806152, 85.72897338867188, 375.4532165527344, 71.6302719116211, 33.09205627441406, 140.65980529785156, 16.52493667602539, 36.264034271240234, 46.502769470214844, 109.37541198730469, 182.63246154785156, 34.33187484741211, 213.65475463867188, 98.01250457763672, 68.08151245117188, 892.4395751953125, 198.62591552734375, 72.57794189453125, 97.10061645507812, 70.80268859863281, 102.85995483398438, 97.01374816894531, 93.19880676269531, 853.3385620117188, 301.8841552734375, 20.976112365722656, 18.30303955078125, 17.57611656188965, 31.371902465820312, 15.876550674438477, 21.128204345703125, 16.374691009521484, 12.950418472290039, 12.722424507141113, 13.945754051208496, 11.101841926574707, 11.038152694702148, 10.969659805297852, 10.518360137939453, 10.241185188293457, 10.012309074401855, 9.428827285766602, 9.395822525024414, 8.96627140045166, 8.96627140045166, 8.944524765014648, 8.689096450805664, 8.535167694091797, 8.249056816101074, 8.327176094055176, 8.083869934082031, 8.00892162322998, 7.500386714935303, 7.037829875946045, 8.330315589904785, 13.068663597106934, 10.718722343444824, 19.398103713989258, 17.70276641845703, 15.523161888122559, 15.814103126525879, 11.65024471282959, 36.23217010498047, 17.273181915283203, 15.264897346496582, 29.993593215942383, 15.030073165893555, 361.39239501953125, 87.89759826660156, 892.4395751953125, 104.71900939941406, 33.253936767578125, 75.46772003173828, 853.3385620117188, 213.07424926757812, 33.168418884277344, 82.43550872802734, 50.03741455078125, 65.94194030761719, 149.9507598876953, 129.976806640625, 191.0547637939453, 187.69009399414062, 133.0751953125, 119.84674072265625, 22.02227783203125, 17.25167465209961, 18.096824645996094, 17.552629470825195, 14.42773723602295, 13.289847373962402, 13.155445098876953, 26.401290893554688, 12.562155723571777, 11.129830360412598, 17.487993240356445, 10.793902397155762, 17.60712242126465, 9.482008934020996, 10.952948570251465, 8.778955459594727, 8.573328971862793, 8.55279541015625, 8.497123718261719, 8.643024444580078, 10.872004508972168, 8.071799278259277, 8.060352325439453, 8.060352325439453, 14.868110656738281, 7.995593070983887, 7.5793538093566895, 9.834280014038086, 7.276987075805664, 7.017265319824219, 24.106170654296875, 14.657419204711914, 14.829212188720703, 28.413331985473633, 129.976806640625, 16.50363540649414, 53.613487243652344, 13.731691360473633, 50.010536193847656, 32.629093170166016, 14.889599800109863, 51.117774963378906, 213.07424926757812, 19.487911224365234, 187.69009399414062, 853.3385620117188, 71.65115356445312, 58.997127532958984, 27.148086547851562, 149.7301788330078, 102.92723846435547, 301.8841552734375, 31.664649963378906, 892.4395751953125, 96.57831573486328, 256.038330078125, 45.16697311401367, 21.962566375732422, 15.67588996887207, 14.626152038574219, 18.770832061767578, 12.142045974731445, 13.233747482299805, 13.487125396728516, 15.183332443237305, 20.462726593017578, 16.611764907836914, 9.670098304748535, 13.896571159362793, 13.206947326660156, 8.485773086547852, 13.375893592834473, 7.9040727615356445, 10.957767486572266, 12.808505058288574, 7.498729705810547, 7.453152179718018, 15.80167007446289, 25.276762008666992, 7.197597026824951, 7.197597026824951, 6.896463871002197, 7.112733364105225, 6.385443687438965, 19.21414566040039, 6.814810752868652, 8.924975395202637, 32.335365295410156, 13.14269733428955, 49.38138961791992, 18.768640518188477, 33.09864807128906, 12.529167175292969, 26.20062828063965, 21.161096572875977, 24.618045806884766, 37.27497863769531, 45.02560806274414, 27.46184730529785, 52.313785552978516, 27.303722381591797, 53.5025749206543, 27.835277557373047, 64.2490005493164, 106.58172607421875, 853.3385620117188, 102.92723846435547, 129.976806640625, 79.95365142822266, 114.55155181884766, 19.85485076904297, 17.836868286132812, 15.850983619689941, 27.570409774780273, 14.900533676147461, 13.846747398376465, 12.991246223449707, 12.09559154510498, 16.010147094726562, 11.07102108001709, 10.906710624694824, 10.600934028625488, 12.033076286315918, 23.931095123291016, 8.7759370803833, 8.689550399780273, 8.384061813354492, 7.845797538757324, 8.77830982208252, 7.574795246124268, 8.59666633605957, 7.056376934051514, 14.58704948425293, 6.984630107879639, 7.999283313751221, 6.898242473602295, 8.50998592376709, 6.771705150604248, 6.527176380157471, 6.339675426483154, 16.555177688598633, 8.39462661743164, 9.680878639221191, 18.858739852905273, 18.49858283996582, 16.77476692199707, 24.687847137451172, 21.20315933227539, 15.20347785949707, 16.286575317382812, 21.431320190429688, 55.28694534301758, 21.784669876098633, 23.409343719482422, 25.171524047851562, 15.713784217834473, 12.627490043640137, 55.57840347290039, 892.4395751953125, 42.078590393066406, 375.4532165527344, 198.62591552734375, 133.0751953125, 75.20488739013672, 32.5467529296875, 301.8841552734375, 51.503150939941406, 853.3385620117188, 32.24125671386719, 29.23040771484375, 17.520009994506836, 18.89959144592285, 12.969461441040039, 14.889996528625488, 13.118361473083496, 11.923256874084473, 11.361856460571289, 11.109478950500488, 10.978875160217285, 12.514148712158203, 10.544086456298828, 19.447904586791992, 9.771749496459961, 9.593424797058105, 9.293231010437012, 9.293229103088379, 14.267847061157227, 8.847320556640625, 8.716716766357422, 10.024904251098633, 7.976989269256592, 7.887826442718506, 7.4307942390441895, 7.387817859649658, 7.183163166046143, 6.648090362548828, 6.64808988571167, 17.59242820739746, 7.630650997161865, 6.332784175872803, 8.727886199951172, 16.971778869628906, 11.95496654510498, 42.409725189208984, 47.791893005371094, 119.84674072265625, 12.656792640686035, 83.30638885498047, 361.39239501953125, 22.399559020996094, 47.509456634521484, 42.03659439086914, 51.50947952270508, 29.98080062866211, 76.9588623046875, 22.92768669128418, 53.69377517700195, 86.59625244140625, 33.45733642578125, 853.3385620117188, 149.7301788330078, 48.177608489990234, 187.69009399414062, 43.04597091674805, 82.43550872802734, 60.80393981933594, 79.95365142822266, 892.4395751953125, 17.27248764038086, 17.154804229736328, 14.5719575881958, 13.402498245239258, 12.801084518432617, 12.423688888549805, 11.800835609436035, 11.659424781799316, 14.841781616210938, 12.113473892211914, 9.532594680786133, 9.437267303466797, 10.746171951293945, 9.217988014221191, 9.1441011428833, 8.699179649353027, 8.588774681091309, 8.406014442443848, 8.132755279541016, 14.853606224060059, 7.7092742919921875, 7.687833786010742, 7.646484375, 8.824142456054688, 8.41673755645752, 7.210373878479004, 7.210373878479004, 7.169025421142578, 7.797975063323975, 6.839339733123779, 18.05162239074707, 52.72714614868164, 42.35868835449219, 23.97435760498047, 19.753583908081055, 52.57328414916992, 23.07718276977539, 18.40001106262207, 30.542818069458008, 42.539852142333984, 22.624662399291992, 52.65218734741211, 36.85581970214844, 23.944137573242188, 79.95365142822266, 55.471920013427734, 84.92852020263672, 30.225507736206055, 853.3385620117188, 361.39239501953125, 30.483070373535156, 149.9507598876953, 892.4395751953125, 27.023006439208984, 30.419309616088867, 19.85418128967285, 17.69553565979004, 16.462520599365234, 15.926885604858398, 15.467830657958984, 75.96971130371094, 28.85094451904297, 12.014192581176758, 16.24626350402832, 9.014033317565918, 8.743441581726074, 8.9085693359375, 7.246856689453125, 11.984625816345215, 8.248040199279785, 6.943403720855713, 6.878272533416748, 6.731898307800293, 6.731897830963135, 7.121066093444824, 6.574819087982178, 8.003435134887695, 15.430598258972168, 5.882103443145752, 7.738661766052246, 5.965477466583252, 5.559447288513184, 5.538766860961914, 7.995090484619141, 11.646516799926758, 8.846230506896973, 28.907251358032227, 13.391768455505371, 30.606355667114258, 34.63835906982422, 31.325223922729492, 16.163433074951172, 24.391963958740234, 45.84263610839844, 17.555042266845703, 17.28089141845703, 14.92105484008789, 21.15382957458496, 28.01800537109375, 42.78559875488281, 37.85660934448242, 853.3385620117188, 31.059377670288086, 187.69009399414062, 56.205078125, 74.75569152832031, 76.9588623046875, 892.4395751953125, 53.233219146728516, 15.470561981201172, 14.321615219116211, 18.528581619262695, 13.537177085876465, 16.724401473999023, 23.835161209106445, 12.17629623413086, 13.327174186706543, 10.895307540893555, 9.883363723754883, 20.18781852722168, 8.51137638092041, 10.096274375915527, 8.431483268737793, 8.385482788085938, 8.207439422607422, 27.885957717895508, 8.083022117614746, 7.915701389312744, 13.874614715576172, 7.1504950523376465, 9.598517417907715, 8.738361358642578, 6.95321798324585, 7.382255554199219, 6.7813215255737305, 6.994103908538818, 7.971632480621338, 6.477383613586426, 6.173444747924805, 17.93828010559082, 11.952010154724121, 21.07151985168457, 39.024627685546875, 10.87220573425293, 17.336496353149414, 21.339670181274414, 19.05360221862793, 31.937538146972656, 19.817718505859375, 102.85995483398438, 49.152862548828125, 24.300798416137695, 18.32295799255371, 853.3385620117188, 82.44931030273438, 76.9588623046875, 38.88026428222656, 68.13618469238281, 39.759578704833984, 87.38607025146484, 149.7301788330078, 892.4395751953125, 301.8841552734375, 191.0547637939453, 50.111236572265625, 21.627294540405273, 19.902069091796875, 21.32045555114746, 15.947861671447754, 16.424989700317383, 12.987848281860352, 10.51102352142334, 17.245262145996094, 9.775370597839355, 16.686649322509766, 9.47065258026123, 9.207467079162598, 9.008200645446777, 8.648829460144043, 8.238658905029297, 10.574859619140625, 9.191350936889648, 7.7554426193237305, 7.670755386352539, 8.753061294555664, 9.220468521118164, 7.313755989074707, 7.273707866668701, 7.166176795959473, 7.040554046630859, 6.96898889541626, 6.968989849090576, 8.365272521972656, 7.982732772827148, 8.792306900024414, 24.15376853942871, 11.706415176391602, 12.275458335876465, 13.454207420349121, 12.139586448669434, 19.329730987548828, 31.301454544067383, 14.92656421661377, 22.711591720581055, 89.10356903076172, 24.29373550415039, 26.84665298461914, 37.390926361083984, 29.34872055053711, 47.43152618408203, 32.32553482055664, 853.3385620117188, 892.4395751953125, 65.31996154785156, 31.882841110229492, 96.57831573486328, 213.65475463867188, 22.89212989807129, 77.59568786621094, 71.37808227539062, 97.10061645507812, 16.316143035888672, 22.97352409362793, 20.948320388793945, 14.947433471679688, 14.231650352478027, 12.575663566589355, 12.091744422912598, 10.71374797821045, 10.435619354248047, 13.67513656616211, 23.657814025878906, 11.49781608581543, 9.507020950317383, 8.671181678771973, 8.487983703613281, 8.417885780334473, 8.930561065673828, 8.178985595703125, 8.416857719421387, 8.995587348937988, 7.717657566070557, 9.591920852661133, 7.517984390258789, 7.5481414794921875, 7.334786415100098, 8.25875473022461, 7.83162260055542, 7.036317348480225, 6.842590808868408, 6.842590808868408, 27.161502838134766, 13.283653259277344, 14.892332077026367, 32.263885498046875, 30.198110580444336, 15.846620559692383, 12.863102912902832, 18.28302764892578, 13.346473693847656, 18.11965560913086, 41.80951690673828, 16.117488861083984, 26.39349365234375, 22.945390701293945, 58.344051361083984, 24.099964141845703, 29.226028442382812, 17.605348587036133, 33.28123474121094, 104.71900939941406, 853.3385620117188, 109.04222106933594, 59.88631820678711, 213.07424926757812, 56.10890197753906, 892.4395751953125, 256.038330078125, 29.870906829833984, 133.0751953125, 47.98106002807617, 18.159584045410156, 14.653790473937988, 14.45248031616211, 16.971818923950195, 11.56931209564209, 10.001752853393555, 14.15311050415039, 9.754899978637695, 9.846321105957031, 11.635210037231445, 9.109659194946289, 8.922243118286133, 10.23929500579834, 8.77565860748291, 8.766622543334961, 10.690489768981934, 8.642024993896484, 8.486413955688477, 8.374757766723633, 8.319403648376465, 10.242591857910156, 8.185769081115723, 19.32224464416504, 8.018768310546875, 7.954380512237549, 10.498477935791016, 7.863148212432861, 7.975345611572266, 9.646653175354004, 7.707528591156006, 25.803321838378906, 13.457725524902344, 10.949344635009766, 28.347614288330078, 11.819005966186523, 39.4139518737793, 9.341410636901855, 28.35645866394043, 18.402694702148438, 13.14670467376709, 21.37744903564453, 21.380857467651367, 34.61884689331055, 13.639084815979004, 20.282987594604492, 35.07517623901367, 36.692481994628906, 853.3385620117188, 93.19880676269531, 29.7376651763916, 198.62591552734375, 375.4532165527344, 892.4395751953125, 50.111236572265625, 197.83071899414062, 301.8841552734375, 149.9507598876953, 22.583148956298828, 16.760143280029297, 15.276857376098633, 14.630106925964355, 14.562829971313477, 18.68364715576172, 14.003961563110352, 11.546128273010254, 11.371869087219238, 16.060916900634766, 10.453845977783203, 44.565731048583984, 11.532684326171875, 11.218006134033203, 16.053958892822266, 8.984126091003418, 11.111218452453613, 8.063047409057617, 10.021965026855469, 7.532835006713867, 7.500415802001953, 7.500415802001953, 11.308952331542969, 12.922016143798828, 10.268787384033203, 6.635187149047852, 7.566852569580078, 6.492340087890625, 10.57918930053711, 8.2083740234375, 14.600446701049805, 14.353819847106934, 12.103538513183594, 28.049928665161133, 23.342924118041992, 16.507522583007812, 8.72401237487793, 11.338196754455566, 78.96143341064453, 19.269330978393555, 103.88176727294922, 18.139877319335938, 35.940040588378906, 98.01250457763672, 96.57831573486328, 892.4395751953125, 55.28694534301758, 37.718467712402344, 37.29443359375, 182.63246154785156, 149.9507598876953, 55.57840347290039, 24.571504592895508, 853.3385620117188, 767.3999633789062, 213.07424926757812, 85.82501983642578, 39.649749755859375, 16.04925537109375, 20.736169815063477, 16.913806915283203, 15.503073692321777, 14.673178672790527, 12.189702987670898, 14.28559684753418, 9.11733627319336, 8.835034370422363, 8.552734375, 8.532089233398438, 8.532089233398438, 9.98089599609375, 8.446419715881348, 8.427248001098633, 8.235267639160156, 10.48277473449707, 7.946840286254883, 7.754858016967773, 7.5390543937683105, 7.202415943145752, 7.150439262390137, 7.129794120788574, 6.7411789894104, 6.615694522857666, 11.001049995422363, 10.214313507080078, 6.136760711669922, 8.144375801086426, 30.86931037902832, 30.665027618408203, 25.308210372924805, 13.467425346374512, 44.6681022644043, 26.38428497314453, 14.7682466506958, 64.88577270507812, 15.456931114196777, 30.083101272583008, 53.855201721191406, 37.29443359375, 22.3303165435791, 29.810001373291016, 109.04222106933594, 12.86789321899414, 50.49662399291992, 41.36388397216797, 28.08002471923828, 23.59988021850586, 892.4395751953125, 23.027572631835938, 18.459400177001953, 30.18718147277832, 153.52374267578125, 87.38607025146484, 42.72987365722656, 36.390846252441406, 18.19296646118164, 17.31142234802246, 17.172609329223633, 16.41608428955078, 18.368635177612305, 12.43364429473877, 12.046276092529297, 10.440210342407227, 10.377137184143066, 9.406060218811035, 10.856587409973145, 12.417299270629883, 8.788348197937012, 8.351606369018555, 8.294171333312988, 12.494370460510254, 8.740187644958496, 7.4664177894592285, 8.59874153137207, 8.729673385620117, 10.281610488891602, 7.18483829498291, 15.325457572937012, 10.261724472045898, 6.425756931304932, 6.395993232727051, 6.3443779945373535, 6.276792049407959, 9.88455581665039, 7.773027420043945, 20.103309631347656, 12.951116561889648, 44.68497085571289, 11.725918769836426, 14.534457206726074, 19.904644012451172, 30.522178649902344, 18.47704315185547, 11.639814376831055, 16.604400634765625, 16.026973724365234, 45.33468246459961, 44.57793426513672, 38.47056198120117, 892.4395751953125, 301.8841552734375, 21.389894485473633, 38.88026428222656, 853.3385620117188, 42.64452362060547, 36.10038375854492, 57.55501174926758, 68.96826171875, 114.55155181884766, 102.92723846435547, 197.83071899414062, 14.701349258422852, 11.700833320617676, 11.43557071685791, 14.087894439697266, 10.657795906066895, 12.885239601135254, 16.746793746948242, 12.807856559753418, 9.392123222351074, 18.450387954711914, 8.647252082824707, 11.25871467590332, 12.913223266601562, 7.932975769042969, 9.105628967285156, 7.818711280822754, 7.361414909362793, 7.3166351318359375, 7.155200004577637, 7.104437828063965, 7.002050399780273, 6.789853096008301, 6.706189155578613, 12.30080509185791, 32.60115432739258, 8.237890243530273, 6.244437217712402, 6.963064193725586, 6.134627819061279, 8.161774635314941, 30.573421478271484, 24.828977584838867, 20.342058181762695, 18.3972110748291, 13.45372486114502, 17.358699798583984, 9.263813018798828, 9.344468116760254, 20.217926025390625, 86.59625244140625, 9.416638374328613, 35.39893341064453, 56.10051727294922, 21.011972427368164, 23.69601058959961, 71.65115356445312, 39.369468688964844, 39.87296676635742, 46.42902374267578, 34.162357330322266, 70.80268859863281, 114.55155181884766, 153.2100372314453, 58.992252349853516, 34.24337387084961, 853.3385620117188, 74.75569152832031, 198.62591552734375, 149.7301788330078, 17.36992645263672, 15.176003456115723, 18.598323822021484, 12.800024032592773, 11.739018440246582, 13.923973083496094, 11.505188941955566, 10.750932693481445, 10.172172546386719, 11.735404968261719, 9.748489379882812, 8.991899490356445, 8.870138168334961, 8.53731918334961, 8.022770881652832, 7.8676934242248535, 7.67929744720459, 7.638463973999023, 12.049873352050781, 6.695810794830322, 6.6753950119018555, 6.675394058227539, 6.779866695404053, 7.222102642059326, 7.620359897613525, 7.127504348754883, 16.574077606201172, 8.93999195098877, 5.778084754943848, 6.595475196838379, 8.428299903869629, 18.1376895904541, 17.867549896240234, 17.956758499145508, 19.817607879638672, 153.59339904785156, 16.82114601135254, 15.838540077209473, 33.214881896972656, 33.213932037353516, 41.645233154296875, 36.47453689575195, 56.367942810058594, 17.68953514099121, 187.69009399414062, 191.0547637939453, 85.76786804199219, 71.6302719116211, 43.63746643066406, 39.544189453125, 256.038330078125, 767.3999633789062, 892.4395751953125, 213.07424926757812, 198.62591552734375, 853.3385620117188, 15.55123519897461, 14.965702056884766, 13.437777519226074, 13.09038257598877, 13.173805236816406, 19.720529556274414, 11.813312530517578, 12.588228225708008, 11.535514831542969, 11.092472076416016, 11.021308898925781, 10.521626472473145, 9.764888763427734, 10.736706733703613, 9.46187973022461, 9.937712669372559, 8.36230754852295, 9.976590156555176, 24.08666229248047, 8.040121078491211, 8.019486427307129, 12.336475372314453, 14.72096061706543, 7.52591609954834, 10.528159141540527, 7.434103488922119, 7.237430095672607, 13.145901679992676, 8.074204444885254, 6.848735332489014, 9.854960441589355, 14.954568862915039, 14.008040428161621, 20.47372817993164, 9.318199157714844, 15.200028419494629, 11.115245819091797, 36.53199005126953, 26.851030349731445, 86.16548156738281, 19.228612899780273, 361.39239501953125, 28.279048919677734, 23.35215950012207, 21.644350051879883, 892.4395751953125, 153.59339904785156, 149.7301788330078, 213.07424926757812, 26.993345260620117, 74.79689025878906, 50.66811752319336, 14.928092956542969, 18.54111099243164, 19.331762313842773, 13.181821823120117, 13.029094696044922, 16.927165985107422, 14.785676002502441, 10.94247055053711, 15.50637149810791, 9.571473121643066, 9.402762413024902, 9.321318626403809, 10.636667251586914, 14.055764198303223, 8.72707748413086, 8.72707748413086, 12.380462646484375, 8.588153839111328, 9.846235275268555, 9.260275840759277, 7.920533180236816, 7.781609058380127, 7.187368869781494, 11.178462982177734, 6.630980014801025, 6.630980014801025, 6.5975494384765625, 6.549537658691406, 6.430240154266357, 6.410613536834717, 7.9174723625183105, 18.44548225402832, 11.380512237548828, 21.88202476501465, 20.885562896728516, 30.862476348876953, 24.673439025878906, 12.377620697021484, 69.75350189208984, 52.60740280151367, 33.387901306152344, 45.195068359375, 49.77928161621094, 24.92350959777832, 37.718467712402344, 36.55681610107422, 20.30845069885254, 198.62591552734375, 77.59568786621094, 853.3385620117188, 375.4532165527344, 27.490345001220703, 892.4395751953125, 20.515335083007812, 17.8931827545166, 13.975360870361328, 10.251174926757812, 10.220930099487305, 9.8472261428833, 26.039701461791992, 9.70616626739502, 9.393805503845215, 9.242430686950684, 11.769792556762695, 8.181236267089844, 19.905675888061523, 7.577864646911621, 7.700376510620117, 10.072005271911621, 10.454143524169922, 42.78206253051758, 26.002952575683594, 11.922553062438965, 6.7891740798950195, 25.86002540588379, 6.758929252624512, 12.211234092712402, 20.00629425048828, 8.431966781616211, 6.365296363830566, 6.345366954803467, 14.258143424987793, 17.94049072265625, 29.741418838500977, 18.671119689941406, 10.544025421142578, 10.579538345336914, 11.490387916564941, 16.15043067932129, 44.41888427734375, 30.084115982055664, 25.138708114624023, 27.57017707824707, 16.880657196044922, 14.536598205566406, 82.44931030273438, 853.3385620117188, 892.4395751953125, 16.282499313354492, 42.20561599731445, 28.076326370239258, 15.83281421661377, 47.574485778808594, 109.04222106933594, 53.409420013427734, 375.4532165527344, 23.970623016357422, 19.49290657043457, 17.48560905456543, 14.907620429992676, 14.612032890319824, 16.3060359954834, 11.629253387451172, 25.172338485717773, 10.499265670776367, 12.03765869140625, 15.55130386352539, 9.66971206665039, 11.81081771850586, 13.757010459899902, 8.559694290161133, 8.470460891723633, 15.191911697387695, 8.24413776397705, 8.154902458190918, 10.782915115356445, 7.7086358070373535, 10.135651588439941, 7.4145827293396, 7.229732990264893, 8.451881408691406, 8.239646911621094, 6.7834672927856445, 8.418378829956055, 6.487097263336182, 6.117258071899414, 17.447566986083984, 18.90593719482422, 20.242626190185547, 24.481853485107422, 11.57571792602539, 53.29290771484375, 26.95474624633789, 25.36370086669922, 47.616031646728516, 44.73670196533203, 63.61498260498047, 51.117774963378906, 23.12026023864746, 34.24337387084961, 29.29737663269043, 892.4395751953125, 75.20488739013672, 767.3999633789062, 853.3385620117188, 153.52374267578125, 213.65475463867188, 301.8841552734375, 140.65980529785156, 28.53264617919922, 11.833059310913086, 10.503204345703125, 9.948027610778809, 16.279125213623047, 8.534379959106445, 8.400877952575684, 8.380638122558594, 8.296399116516113, 7.986848831176758, 7.407067775726318, 7.2638020515441895, 9.551283836364746, 6.606036186218262, 10.669645309448242, 9.694573402404785, 20.499919891357422, 6.329268932342529, 6.309027671813965, 7.849738597869873, 6.155284881591797, 7.757158279418945, 5.651263236999512, 6.988720893859863, 22.457481384277344, 5.438243389129639, 5.354254245758057, 5.315217971801758, 5.760571002960205, 5.018209457397461, 12.146142959594727, 20.635677337646484, 38.805091857910156, 21.87408447265625, 9.891837120056152, 14.376709938049316, 10.202982902526855, 12.206193923950195, 9.655519485473633, 191.0547637939453, 16.79924964904785, 61.17512130737305, 34.618858337402344, 16.424814224243164, 256.038330078125, 21.228012084960938, 26.758766174316406, 43.04597091674805, 30.391868591308594, 97.01374816894531, 72.40079498291016, 153.2100372314453, 86.16548156738281, 37.7825927734375, 33.168418884277344, 82.44931030273438, 892.4395751953125, 75.46772003173828, 53.409420013427734, 213.65475463867188, 17.06366539001465, 20.2722110748291, 15.247071266174316, 16.615694046020508, 13.61986255645752, 13.100388526916504, 10.317381858825684, 9.452818870544434, 9.286392211914062, 11.480718612670898, 8.737536430358887, 8.742793083190918, 8.052352905273438, 11.513110160827637, 7.371479034423828, 7.831765651702881, 7.674900054931641, 15.061288833618164, 6.675556182861328, 8.533746719360352, 11.344207763671875, 22.486366271972656, 6.909524917602539, 6.472392559051514, 9.58498477935791, 7.632030010223389, 7.362743854522705, 6.10733699798584, 11.579530715942383, 10.224592208862305, 23.781002044677734, 22.241504669189453, 13.941269874572754, 17.487445831298828, 18.619827270507812, 37.52631759643555, 35.873905181884766, 26.35596466064453, 58.229610443115234, 34.0070915222168, 26.670196533203125, 13.984406471252441, 16.87833023071289, 15.413586616516113, 15.476420402526855, 892.4395751953125, 25.18175506591797, 853.3385620117188, 191.0547637939453, 197.83071899414062, 24.571504592895508, 75.20488739013672, 61.569976806640625, 61.17512130737305, 12.195450782775879, 13.037066459655762, 11.64045238494873, 12.590895652770996, 29.197856903076172, 9.500298500061035, 10.372520446777344, 9.25076961517334, 9.04248332977295, 15.278374671936035, 8.97501277923584, 8.338773727416992, 8.132726669311523, 7.831667423248291, 9.222042083740234, 7.726438045501709, 8.69461441040039, 8.806097030639648, 7.258488178253174, 7.171438694000244, 6.951621055603027, 6.951621055603027, 7.380391597747803, 7.213412284851074, 6.616439342498779, 10.374570846557617, 8.000617027282715, 15.077205657958984, 8.549674987792969, 9.104277610778809, 26.789325714111328, 18.600706100463867, 15.259772300720215, 11.106155395507812, 11.862909317016602, 76.21086883544922, 14.531218528747559, 15.514420509338379, 12.506827354431152, 14.40300464630127, 30.977386474609375, 13.311927795410156, 853.3385620117188, 39.544189453125, 14.323538780212402, 18.510892868041992, 28.08002471923828, 26.562271118164062, 77.59568786621094, 68.96826171875, 18.713268280029297, 30.391868591308594, 13.530815124511719, 15.270697593688965, 12.630607604980469, 11.535956382751465, 10.627399444580078, 9.878366470336914, 9.158712387084961, 8.901251792907715, 9.984335899353027, 9.538881301879883, 9.15910530090332, 8.589791297912598, 13.743824005126953, 12.257810592651367, 13.201786041259766, 6.452547550201416, 20.159255981445312, 16.66263771057129, 9.892345428466797, 13.027379035949707, 7.327422618865967, 9.173502922058105, 6.95856237411499, 9.396065711975098, 6.634920120239258, 6.623668193817139, 7.05350923538208, 5.494296550750732, 5.331645488739014, 5.227035999298096, 10.65573501586914, 8.28677749633789, 46.141056060791016, 11.579917907714844, 50.735050201416016, 21.922954559326172, 9.120149612426758, 18.119966506958008, 23.21822166442871, 18.327747344970703, 15.444365501403809, 73.93448638916016, 25.372989654541016, 126.83196258544922, 33.242523193359375, 14.443495750427246, 17.471193313598633, 25.043794631958008, 49.77928161621094, 42.495548248291016, 197.83071899414062, 36.692481994628906, 301.8841552734375, 50.66811752319336, 74.75569152832031, 53.28761672973633, 213.65475463867188, 892.4395751953125, 20.13103485107422, 15.66604995727539, 13.494405746459961, 11.401327133178711, 10.459836959838867, 9.892343521118164, 11.326602935791016, 17.63833999633789, 9.959208488464355, 11.435270309448242, 10.180614471435547, 11.297802925109863, 7.24765682220459, 10.33134651184082, 6.857772350311279, 6.473939418792725, 8.994504928588867, 17.717111587524414, 8.19423770904541, 6.244992733001709, 6.195111274719238, 7.0160980224609375, 7.066702365875244, 5.926837921142578, 5.8958916664123535, 5.771950721740723, 5.771950721740723, 8.590719223022461, 5.4931230545043945, 5.472731590270996, 19.867759704589844, 7.320775985717773, 14.052806854248047, 30.068498611450195, 17.149463653564453, 106.58172607421875, 12.532919883728027, 15.599237442016602, 14.610450744628906, 22.387413024902344, 17.61746597290039, 8.311873435974121, 24.376068115234375, 18.849769592285156, 49.103763580322266, 68.2113037109375, 59.052860260009766, 24.957563400268555, 42.20561599731445, 31.026710510253906, 48.177608489990234, 34.154571533203125, 256.038330078125, 892.4395751953125, 24.902008056640625, 767.3999633789062, 153.2100372314453, 853.3385620117188, 301.8841552734375, 31.066959381103516, 13.957569122314453, 11.636784553527832, 11.263849258422852, 13.06088924407959, 12.92199993133545, 9.637262344360352, 12.851750373840332, 10.099344253540039, 8.22623348236084, 8.845231056213379, 7.769845008850098, 9.077156066894531, 9.137371063232422, 8.646284103393555, 7.896063327789307, 6.802772045135498, 6.658075332641602, 12.867061614990234, 15.068914413452148, 8.517297744750977, 12.026947975158691, 9.354698181152344, 11.968117713928223, 5.836421012878418, 6.077722549438477, 7.613776683807373, 5.672332763671875, 5.547769546508789, 6.67588996887207, 13.519608497619629, 14.018783569335938, 11.716398239135742, 12.528471946716309, 11.231574058532715, 40.006290435791016, 15.653427124023438, 9.999773025512695, 18.688928604125977, 28.9178466796875, 15.567804336547852, 19.78148651123047, 17.782474517822266, 18.909439086914062, 14.205354690551758, 11.566812515258789, 29.993593215942383, 21.137432098388672, 34.063663482666016, 853.3385620117188, 22.77298355102539, 44.6681022644043, 153.52374267578125, 61.569976806640625, 15.451475143432617, 9.593707084655762, 9.414233207702637, 9.317794799804688, 10.239785194396973, 21.358781814575195, 9.845996856689453, 10.882426261901855, 8.170653343200684, 9.313481330871582, 7.85780143737793, 7.85780143737793, 7.323626518249512, 7.245433330535889, 8.659672737121582, 13.416199684143066, 6.56434965133667, 10.145575523376465, 23.324369430541992, 8.075048446655273, 5.929169654846191, 5.92917013168335, 6.805229663848877, 16.404781341552734, 5.786038398742676, 5.786037921905518, 13.692822456359863, 8.705180168151855, 9.638495445251465, 5.394994258880615, 8.07205581665039, 15.922770500183105, 18.256746292114258, 19.99165153503418, 34.31331253051758, 20.448951721191406, 40.2664680480957, 30.07724952697754, 25.7440128326416, 12.018632888793945, 20.457237243652344, 28.62393569946289, 18.748273849487305, 14.300368309020996, 18.827112197875977, 26.315038681030273, 14.251425743103027, 33.25408935546875, 126.83196258544922, 114.55155181884766, 76.21086883544922, 28.38666343688965, 853.3385620117188, 197.83071899414062, 93.19880676269531, 36.05049133300781, 60.80393981933594, 16.510326385498047, 21.102352142333984, 13.376420021057129, 11.088091850280762, 14.051895141601562, 14.125338554382324, 9.298111915588379, 8.276357650756836, 8.030975341796875, 7.980154514312744, 8.660279273986816, 10.561503410339355, 7.704135894775391, 8.902645111083984, 7.324603080749512, 6.743651390075684, 6.71301794052124, 6.610511779785156, 7.544254302978516, 6.416812896728516, 7.973755836486816, 8.559165000915527, 7.580909252166748, 6.614985466003418, 6.296535491943359, 6.976914405822754, 6.0901594161987305, 30.592649459838867, 5.87824821472168, 5.425695419311523, 11.620606422424316, 29.13652992248535, 19.991188049316406, 10.125393867492676, 10.144137382507324, 12.138678550720215, 14.635775566101074, 10.775073051452637, 12.210220336914062, 22.312458038330078, 20.577882766723633, 18.346134185791016, 36.799652099609375, 20.966880798339844, 9.583982467651367, 28.207834243774414, 15.410487174987793, 213.65475463867188, 892.4395751953125, 50.49662399291992, 40.00716018676758, 198.62591552734375, 27.023006439208984, 19.66370964050293, 256.038330078125, 64.2490005493164, 50.66811752319336, 11.453657150268555, 24.30574607849121, 10.824090003967285, 10.461606979370117, 17.06451988220215, 9.629514694213867, 11.629965782165527, 10.336130142211914, 14.010421752929688, 11.246474266052246, 8.509586334228516, 7.244043827056885, 7.011468887329102, 6.910913944244385, 6.891112327575684, 6.750955104827881, 17.103477478027344, 6.189626216888428, 6.189626216888428, 7.846993446350098, 6.502365589141846, 6.260086536407471, 8.390644073486328, 6.724855422973633, 5.94108772277832, 5.546131610870361, 5.546131134033203, 7.431641101837158, 13.22773551940918, 6.050948143005371, 9.851268768310547, 15.8056640625, 69.03968811035156, 7.962433815002441, 20.07590103149414, 11.019918441772461, 24.496755599975586, 20.724376678466797, 14.807826042175293, 20.79857635498047, 11.185565948486328, 28.817729949951172, 17.496410369873047, 14.356163024902344, 28.301708221435547, 56.205078125, 149.7301788330078, 17.67947006225586, 16.50600242614746, 187.69009399414062, 53.855201721191406, 153.59339904785156, 256.038330078125, 853.3385620117188, 892.4395751953125, 64.2490005493164, 149.9507598876953], \"loglift\": [30.0, 29.0, 28.0, 27.0, 26.0, 25.0, 24.0, 23.0, 22.0, 21.0, 20.0, 19.0, 18.0, 17.0, 16.0, 15.0, 14.0, 13.0, 12.0, 11.0, 10.0, 9.0, 8.0, 7.0, 6.0, 5.0, 4.0, 3.0, 2.0, 1.0, 2.847599983215332, 2.843400001525879, 2.8417000770568848, 2.841599941253662, 2.838900089263916, 2.837599992752075, 2.835599899291992, 2.827399969100952, 2.8150999546051025, 2.814199924468994, 2.813199996948242, 2.807499885559082, 2.8062000274658203, 2.8050999641418457, 2.7988998889923096, 2.7983999252319336, 2.795599937438965, 2.7929999828338623, 2.7923998832702637, 2.7911999225616455, 2.7881999015808105, 2.786400079727173, 2.78439998626709, 2.783400058746338, 2.7827000617980957, 2.782599925994873, 2.782399892807007, 2.781399965286255, 2.779599905014038, 2.7781999111175537, 2.7743000984191895, 2.69569993019104, 2.702399969100952, 2.7390999794006348, 2.6582000255584717, 2.704400062561035, 2.7334001064300537, 2.736599922180176, 2.5234999656677246, 2.3269999027252197, 2.4298999309539795, 2.563800096511841, 2.244499921798706, 2.7081000804901123, 2.5046000480651855, 2.425800085067749, 2.155400037765503, 1.9804999828338623, 2.3694000244140625, 1.5966999530792236, 1.8538999557495117, 1.992799997329712, 0.7052000164985657, 1.3753999471664429, 1.8911000490188599, 1.6468000411987305, 1.8457000255584717, 1.5842000246047974, 1.4381999969482422, 1.4455000162124634, -0.5210999846458435, 0.3783000111579895, 3.222599983215332, 3.2170000076293945, 3.215100049972534, 3.2118000984191895, 3.210200071334839, 3.209700107574463, 3.2009999752044678, 3.197700023651123, 3.1972999572753906, 3.191699981689453, 3.1877999305725098, 3.1874001026153564, 3.1868999004364014, 3.1835999488830566, 3.1814000606536865, 3.1796000003814697, 3.174299955368042, 3.1740000247955322, 3.1696999073028564, 3.1696999073028564, 3.1695001125335693, 3.1666998863220215, 3.164900064468384, 3.161400079727173, 3.1612000465393066, 3.1593000888824463, 3.1582999229431152, 3.1510000228881836, 3.143399953842163, 3.1342999935150146, 3.1333999633789062, 3.126800060272217, 3.0887999534606934, 3.090100049972534, 3.092099905014038, 3.0757999420166016, 3.101300001144409, 2.834199905395508, 2.964600086212158, 2.9558000564575195, 2.6310999393463135, 2.9351000785827637, 1.4716999530792236, 2.0576000213623047, 0.6879000067710876, 1.8449000120162964, 2.4442999362945557, 1.8798999786376953, 0.017999999225139618, 1.0123000144958496, 2.337100028991699, 1.617300033569336, 1.9605000019073486, 1.7165000438690186, 0.9578999876976013, 1.0664000511169434, 0.7016000151634216, 0.6919999718666077, 1.003600001335144, 1.0932999849319458, 3.238100051879883, 3.2279999256134033, 3.224900007247925, 3.220900058746338, 3.214900016784668, 3.2137999534606934, 3.213200092315674, 3.2125000953674316, 3.210200071334839, 3.20169997215271, 3.199399948120117, 3.199399948120117, 3.1989998817443848, 3.1886000633239746, 3.1868999004364014, 3.1814000606536865, 3.1791000366210938, 3.178800106048584, 3.1782000064849854, 3.177000045776367, 3.173799991607666, 3.1728999614715576, 3.1726999282836914, 3.1726999282836914, 3.1719000339508057, 3.1719000339508057, 3.1658999919891357, 3.1654000282287598, 3.1612000465393066, 3.1566998958587646, 3.070199966430664, 3.0861001014709473, 3.079200029373169, 2.9927000999450684, 2.517699956893921, 2.9909000396728516, 2.6561999320983887, 3.012500047683716, 2.5546000003814697, 2.646199941635132, 2.9556000232696533, 2.4166998863220215, 1.6632000207901, 2.8231000900268555, 1.625599980354309, 0.5577999949455261, 2.0262999534606934, 2.1113998889923096, 2.5743000507354736, 1.2547999620437622, 1.5027999877929688, 0.6345999836921692, 2.413300037384033, -0.5892000198364258, 1.4072999954223633, 0.4277999997138977, 2.0044000148773193, 3.262700080871582, 3.24780011177063, 3.239000082015991, 3.2362000942230225, 3.2325000762939453, 3.2284998893737793, 3.2269999980926514, 3.2228000164031982, 3.218400001525879, 3.2163000106811523, 3.2098000049591064, 3.2095999717712402, 3.202899932861328, 3.202199935913086, 3.1981000900268555, 3.1951000690460205, 3.1923999786376953, 3.191800117492676, 3.1891000270843506, 3.1884000301361084, 3.1882998943328857, 3.1870999336242676, 3.184299945831299, 3.184299945831299, 3.178999900817871, 3.1754000186920166, 3.1686999797821045, 3.1673998832702637, 3.167099952697754, 3.1549999713897705, 3.1514999866485596, 3.107599973678589, 2.9574999809265137, 3.0178000926971436, 2.9052000045776367, 3.0785999298095703, 2.916599988937378, 2.9546000957489014, 2.9086999893188477, 2.8025999069213867, 2.6142001152038574, 2.7864999771118164, 2.5157999992370605, 2.7634999752044678, 2.421299934387207, 2.6935999393463135, 2.081899881362915, 1.5195000171661377, -0.27900001406669617, 1.4773999452590942, 1.25409996509552, 1.6341999769210815, 1.246899962425232, 3.259700059890747, 3.255000114440918, 3.249300003051758, 3.2476999759674072, 3.246000051498413, 3.24180006980896, 3.2379000186920166, 3.2332000732421875, 3.2327001094818115, 3.226799964904785, 3.225600004196167, 3.2177000045776367, 3.208899974822998, 3.208199977874756, 3.2067999839782715, 3.2058000564575195, 3.202199935913086, 3.192699909210205, 3.191699981689453, 3.1912999153137207, 3.188499927520752, 3.182800054550171, 3.1816000938415527, 3.18149995803833, 3.1807000637054443, 3.180000066757202, 3.178100109100342, 3.1775999069213867, 3.172600030899048, 3.1686999797821045, 3.1631999015808105, 3.1658999919891357, 3.153599977493286, 3.097100019454956, 3.0673999786376953, 3.0683000087738037, 2.9804000854492188, 3.0002999305725098, 3.0434999465942383, 3.0195999145507812, 2.923799991607666, 2.5876998901367188, 2.886899948120117, 2.8315000534057617, 2.7713000774383545, 2.9419000148773193, 3.0269999504089355, 2.2418999671936035, 0.6412000060081482, 2.352299928665161, 0.9038000106811523, 1.2696000337600708, 1.5018999576568604, 1.8782999515533447, 2.4802000522613525, 0.7560999989509583, 2.112299919128418, -0.3303000032901764, 2.46589994430542, 2.551100015640259, 3.2551000118255615, 3.251499891281128, 3.2386999130249023, 3.236299991607666, 3.2355000972747803, 3.233099937438965, 3.229599952697754, 3.2279999256134033, 3.227099895477295, 3.2239999771118164, 3.223900079727173, 3.221100091934204, 3.217600107192993, 3.2160000801086426, 3.213200092315674, 3.213200092315674, 3.210200071334839, 3.2084999084472656, 3.2070999145507812, 3.2065000534057617, 3.197999954223633, 3.1967999935150146, 3.190000057220459, 3.189300060272217, 3.186000108718872, 3.1761999130249023, 3.1761999130249023, 3.1745998859405518, 3.1735999584198, 3.1695001125335693, 3.1644999980926514, 3.1447999477386475, 3.153599977493286, 3.0868000984191895, 3.0692999362945557, 2.951900005340576, 3.107800006866455, 2.780900001525879, 2.308199882507324, 2.9117000102996826, 2.530600070953369, 2.5443999767303467, 2.427999973297119, 2.6726999282836914, 2.224100112915039, 2.791800022125244, 2.2393999099731445, 1.8940000534057617, 2.4714999198913574, 0.2702000141143799, 1.3975000381469727, 2.178999900817871, 1.1411999464035034, 2.1863999366760254, 1.562399983406067, 1.8324999809265137, 1.5111000537872314, -0.8277000188827515, 3.305500030517578, 3.3052000999450684, 3.296799898147583, 3.291800022125244, 3.2888998985290527, 3.2869999408721924, 3.283400058746338, 3.282599925994873, 3.2809998989105225, 3.2741000652313232, 3.2664999961853027, 3.2655999660491943, 3.2637999057769775, 3.2634999752044678, 3.262700080871582, 3.257999897003174, 3.256700038909912, 3.2546000480651855, 3.2511000633239746, 3.2474000453948975, 3.245300054550171, 3.244999885559082, 3.2444000244140625, 3.2437000274658203, 3.2386999130249023, 3.237499952316284, 3.237499952316284, 3.236799955368042, 3.236299991607666, 3.2309000492095947, 3.2286999225616455, 3.215100049972534, 3.1152000427246094, 3.13070011138916, 3.1387999057769775, 2.983799934387207, 3.0938000679016113, 3.0179998874664307, 2.8041000366210938, 2.6786000728607178, 2.8201000690460205, 2.4235999584198, 2.5789999961853027, 2.755199909210205, 2.1338000297546387, 2.3034000396728516, 1.9462000131607056, 2.52839994430542, 0.38179999589920044, 0.7390000224113464, 2.5037999153137207, 1.1440999507904053, -0.3806999921798706, 2.5690999031066895, 3.3310000896453857, 3.3173000812530518, 3.312299966812134, 3.3089001178741455, 3.3071999549865723, 3.3057000637054443, 3.2888998985290527, 3.2852001190185547, 3.279599905014038, 3.272200107574463, 3.2669999599456787, 3.2641000747680664, 3.2467000484466553, 3.2437000274658203, 3.2435998916625977, 3.240299940109253, 3.2383999824523926, 3.2372000217437744, 3.234499931335449, 3.234499931335449, 3.2320001125335693, 3.231300115585327, 3.2181999683380127, 3.2172999382019043, 3.215399980545044, 3.2146999835968018, 3.206899881362915, 3.2065000534057617, 3.205899953842163, 3.2035000324249268, 3.1937999725341797, 3.1953001022338867, 3.069499969482422, 3.1359000205993652, 3.0404999256134033, 3.01990008354187, 3.025099992752075, 3.065999984741211, 2.983299970626831, 2.7955000400543213, 2.9858999252319336, 2.9835000038146973, 2.995500087738037, 2.8547000885009766, 2.6415998935699463, 2.398400068283081, 2.4260001182556152, 0.5533000230789185, 2.486599922180176, 1.24399995803833, 2.0367000102996826, 1.7343000173568726, 1.6342999935150146, -0.6481000185012817, 1.9088000059127808, 3.3166000843048096, 3.3124001026153564, 3.3106000423431396, 3.309000015258789, 3.3057000637054443, 3.3022000789642334, 3.3022000789642334, 3.296099901199341, 3.294100046157837, 3.277899980545044, 3.2748000621795654, 3.2723000049591064, 3.2720000743865967, 3.271399974822998, 3.2708001136779785, 3.2685999870300293, 3.267400026321411, 3.2669999599456787, 3.264699935913086, 3.2535998821258545, 3.253000020980835, 3.2507998943328857, 3.2499001026153564, 3.249500036239624, 3.248500108718872, 3.246299982070923, 3.2460999488830566, 3.2434000968933105, 3.2402000427246094, 3.2335000038146973, 3.219399929046631, 3.2235000133514404, 3.1933000087738037, 3.15339994430542, 3.221100091934204, 3.0636000633239746, 2.9951000213623047, 3.0025999546051025, 2.79830002784729, 2.9514999389648438, 2.157099962234497, 2.4707000255584717, 2.774600028991699, 2.8949999809265137, 0.879800021648407, 2.041800022125244, 2.037899971008301, 2.429500102996826, 2.079699993133545, 2.3601999282836914, 1.694000005722046, 1.142199993133545, -0.45579999685287476, 0.4763000011444092, 0.881600022315979, 2.050800085067749, 3.3340001106262207, 3.3308000564575195, 3.3259999752044678, 3.3101999759674072, 3.2964999675750732, 3.296099901199341, 3.2936999797821045, 3.290299892425537, 3.2876999378204346, 3.285799980163574, 3.284899950027466, 3.2822999954223633, 3.2802999019622803, 3.276400089263916, 3.271399974822998, 3.267400026321411, 3.266700029373169, 3.264899969100952, 3.263700008392334, 3.2602999210357666, 3.259500026702881, 3.2581000328063965, 3.257499933242798, 3.2541000843048096, 3.253499984741211, 3.25219988822937, 3.25219988822937, 3.2513999938964844, 3.251199960708618, 3.2511000633239746, 3.240299940109253, 3.2172999382019043, 3.2081000804901123, 3.194200038909912, 3.1974000930786133, 3.1340999603271484, 2.985100030899048, 3.1029999256134033, 2.9772000312805176, 2.5796000957489014, 2.94569993019104, 2.8580000400543213, 2.6661999225616455, 2.669600009918213, 2.419600009918213, 2.6136999130249023, 0.6607000231742859, 0.4717000126838684, 2.046099901199341, 2.498699903488159, 1.5403000116348267, 0.5909000039100647, 2.600800037384033, 1.4759000539779663, 1.5521999597549438, 1.2648999691009521, 3.324899911880493, 3.3217999935150146, 3.321000099182129, 3.3203001022338867, 3.3150999546051025, 3.305799961090088, 3.2987000942230225, 3.2983999252319336, 3.296299934387207, 3.293600082397461, 3.2927000522613525, 3.2922000885009766, 3.2883999347686768, 3.2797000408172607, 3.277600049972534, 3.2767999172210693, 3.2757999897003174, 3.2737998962402344, 3.273099899291992, 3.2679998874664307, 3.2674999237060547, 3.2662999629974365, 3.2644999027252197, 3.2620999813079834, 3.2616000175476074, 3.2588000297546387, 3.2569000720977783, 3.256500005722046, 3.253000020980835, 3.253000020980835, 3.2090001106262207, 3.2232000827789307, 3.1947999000549316, 3.1210999488830566, 3.099299907684326, 3.16510009765625, 3.1909000873565674, 3.137500047683716, 3.181999921798706, 3.099400043487549, 2.8447000980377197, 3.0943000316619873, 2.943700075149536, 2.916300058364868, 2.4839000701904297, 2.850800037384033, 2.6861000061035156, 2.944999933242798, 2.5808000564575195, 1.8473999500274658, 0.3068999946117401, 1.69159996509552, 2.0971999168395996, 1.1669000387191772, 2.0957999229431152, -0.19990000128746033, 0.7006999850273132, 2.5406999588012695, 1.194700002670288, 2.075000047683716, 3.334199905395508, 3.3234000205993652, 3.3225998878479004, 3.315999984741211, 3.3083999156951904, 3.296999931335449, 3.2964000701904297, 3.2948999404907227, 3.292099952697754, 3.2918999195098877, 3.288800001144409, 3.286799907684326, 3.285599946975708, 3.2852001190185547, 3.285099983215332, 3.284600019454956, 3.2836999893188477, 3.2816998958587646, 3.2804999351501465, 3.279900074005127, 3.278599977493286, 3.2781999111175537, 3.276900053024292, 3.2760000228881836, 3.275099992752075, 3.2748000621795654, 3.273900032043457, 3.2730000019073486, 3.272599935531616, 3.271699905395508, 3.256999969482422, 3.258500099182129, 3.2613000869750977, 3.1454999446868896, 3.232300043106079, 3.0727999210357666, 3.25819993019104, 3.0262999534606934, 3.0848000049591064, 3.1545000076293945, 2.981100082397461, 2.964200019836426, 2.745699882507324, 3.1084001064300537, 2.885699987411499, 2.5199999809265137, 2.392899990081787, 0.04969999939203262, 1.5180000066757202, 2.4072999954223633, 0.8101000189781189, 0.20649999380111694, -0.6449000239372253, 1.8646999597549438, 0.5902000069618225, 0.1445000022649765, 0.7904999852180481, 3.34660005569458, 3.335200071334839, 3.3306000232696533, 3.3282999992370605, 3.328000068664551, 3.3197999000549316, 3.3157999515533447, 3.313199996948242, 3.3073999881744385, 3.3052000999450684, 3.3034000396728516, 3.2950000762939453, 3.294300079345703, 3.293800115585327, 3.2932000160217285, 3.285099983215332, 3.277899980545044, 3.276400089263916, 3.2751998901367188, 3.273900032043457, 3.273400068283081, 3.273400068283081, 3.26990008354187, 3.2620999813079834, 3.259000062942505, 3.25819993019104, 3.2558000087738037, 3.252500057220459, 3.2492001056671143, 3.2486000061035156, 3.244800090789795, 3.240299940109253, 3.231300115585327, 3.1793999671936035, 3.0580999851226807, 3.1166000366210938, 3.2439000606536865, 3.1809000968933105, 2.634700059890747, 3.02020001411438, 2.4458999633789062, 3.037100076675415, 2.757999897003174, 2.068700075149536, 1.9817999601364136, 0.6341000199317932, 2.226900100708008, 2.450200080871582, 2.454699993133545, 1.3245999813079834, 1.3803000450134277, 2.121500015258789, 2.7291998863220215, -0.24899999797344208, -0.40290001034736633, 0.7318000197410583, 1.496500015258789, 3.377700090408325, 3.3478000164031982, 3.345599889755249, 3.3420000076293945, 3.3375000953674316, 3.3327999114990234, 3.3315999507904053, 3.3115999698638916, 3.308300018310547, 3.305299997329712, 3.3020999431610107, 3.3018999099731445, 3.3018999099731445, 3.3018999099731445, 3.3008999824523926, 3.300600051879883, 3.29830002784729, 3.295099973678589, 3.2945001125335693, 3.291800022125244, 3.288599967956543, 3.2832000255584717, 3.2822999954223633, 3.2820000648498535, 3.274899959564209, 3.27239990234375, 3.2653000354766846, 3.265000104904175, 3.261899948120117, 3.2588000297546387, 3.2335000038146973, 3.1939001083374023, 3.190000057220459, 3.216599941253662, 3.0752999782562256, 3.0982000827789307, 3.1796998977661133, 2.905400037765503, 3.1538000106811523, 2.9885001182556152, 2.720599889755249, 2.748699903488159, 2.923099994659424, 2.7818000316619873, 2.186000108718872, 3.1184000968933105, 2.4999001026153564, 2.5787999629974365, 2.7309000492095947, 2.8087000846862793, 0.7128000259399414, 2.7839999198913574, 2.9247000217437744, 2.5804998874664307, 1.3481999635696411, 1.6347999572753906, 2.186500072479248, 2.322999954223633, 3.387700080871582, 3.3854000568389893, 3.384999990463257, 3.3828001022338867, 3.3789000511169434, 3.3666999340057373, 3.3645999431610107, 3.3538999557495117, 3.352400064468384, 3.3450000286102295, 3.3408000469207764, 3.340100049972534, 3.338599920272827, 3.3334999084472656, 3.3327999114990234, 3.3285000324249268, 3.3225998878479004, 3.321199893951416, 3.3180999755859375, 3.3164000511169434, 3.3134000301361084, 3.312000036239624, 3.311000108718872, 3.3078999519348145, 3.3020999431610107, 3.301500082015991, 3.3004000186920166, 3.2988998889923096, 3.297600030899048, 3.293100118637085, 3.2585999965667725, 3.265700101852417, 3.1417999267578125, 3.2516000270843506, 3.2258999347686768, 3.151700019836426, 3.063800096511841, 3.1507999897003174, 3.2348999977111816, 3.1240999698638916, 3.1240999698638916, 2.6742000579833984, 2.6656999588012695, 2.5731000900268555, 0.6324999928474426, 1.2533999681472778, 2.8557000160217285, 2.4691998958587646, 0.33489999175071716, 2.3192999362945557, 2.3954999446868896, 1.9609999656677246, 1.8055000305175781, 1.2730000019073486, 1.32669997215271, 0.5827000141143799, 3.392199993133545, 3.377700090408325, 3.3761000633239746, 3.3756000995635986, 3.370699882507324, 3.3664000034332275, 3.363300085067749, 3.3615000247955322, 3.359999895095825, 3.359499931335449, 3.3522000312805176, 3.3464999198913574, 3.346100091934204, 3.3433001041412354, 3.3422000408172607, 3.3417000770568848, 3.3348000049591064, 3.3340001106262207, 3.331399917602539, 3.3304998874664307, 3.328700065612793, 3.3248000144958496, 3.3231000900268555, 3.321899890899658, 3.3203999996185303, 3.313800096511841, 3.3134000301361084, 3.3132998943328857, 3.310800075531006, 3.3087000846862793, 3.2988998889923096, 3.296299934387207, 3.289400100708008, 3.2899999618530273, 3.2853000164031982, 3.214900016784668, 3.2927000522613525, 3.2908999919891357, 3.171299934387207, 2.7685000896453857, 3.2720999717712402, 2.868000030517578, 2.636699914932251, 2.986799955368042, 2.8977999687194824, 2.4302000999450684, 2.6663999557495117, 2.632499933242798, 2.502500057220459, 2.661799907684326, 2.198699951171875, 1.7542999982833862, 1.2336000204086304, 2.0160000324249268, 2.447499990463257, -0.3871000111103058, 1.7542999982833862, 0.7889999747276306, 1.0188000202178955, 3.413300037384033, 3.4077000617980957, 3.402899980545044, 3.395400047302246, 3.3917999267578125, 3.3914999961853027, 3.3903000354766846, 3.385200023651123, 3.3808000087738037, 3.3801000118255615, 3.37719988822937, 3.369800090789795, 3.368499994277954, 3.363800048828125, 3.358299970626831, 3.3561999797821045, 3.3534998893737793, 3.3529000282287598, 3.3422000408172607, 3.3368000984191895, 3.336400032043457, 3.336400032043457, 3.335700035095215, 3.3269999027252197, 3.325700044631958, 3.322700023651123, 3.3213999271392822, 3.3162999153137207, 3.315700054168701, 3.3148999214172363, 3.311199903488159, 3.2818000316619873, 3.2685999870300293, 3.225100040435791, 3.202399969100952, 2.8903000354766846, 3.2009999752044678, 3.1963000297546387, 2.997299909591675, 2.929500102996826, 2.6605000495910645, 2.671299934387207, 2.4474000930786133, 2.9130001068115234, 1.528499960899353, 1.3407000303268433, 1.8141000270843506, 1.9186999797821045, 2.190200090408325, 2.203200101852417, 0.5227000117301941, -0.54830002784729, -0.7027000188827515, 0.5670999884605408, 0.6150000095367432, -0.8741000294685364, 3.425299882888794, 3.421299934387207, 3.4168999195098877, 3.415299892425537, 3.4114999771118164, 3.4100000858306885, 3.408400058746338, 3.4072000980377197, 3.4066998958587646, 3.4038000106811523, 3.40339994430542, 3.3996999263763428, 3.3935000896453857, 3.3919999599456787, 3.3907999992370605, 3.380199909210205, 3.3789000511169434, 3.37719988822937, 3.3763999938964844, 3.374799966812134, 3.374500036239624, 3.373300075531006, 3.372499942779541, 3.3673999309539795, 3.3666000366210938, 3.365999937057495, 3.362799882888794, 3.3610999584198, 3.357800006866455, 3.3559999465942383, 3.352400064468384, 3.2890000343322754, 3.291599988937378, 3.232599973678589, 3.337100028991699, 3.259700059890747, 3.2871999740600586, 2.8945000171661377, 2.9656999111175537, 2.365299940109253, 3.024199962615967, 1.3180999755859375, 2.75819993019104, 2.8475000858306885, 2.8652000427246094, -0.10530000180006027, 1.2066999673843384, 1.20169997215271, 0.8313000202178955, 2.61299991607666, 1.5858999490737915, 1.9594000577926636, 3.42330002784729, 3.4172000885009766, 3.4166998863220215, 3.4159998893737793, 3.415299892425537, 3.4033000469207764, 3.40310001373291, 3.4030001163482666, 3.4017999172210693, 3.3919999599456787, 3.390399932861328, 3.3896000385284424, 3.3884999752044678, 3.386699914932251, 3.3833999633789062, 3.3833999633789062, 3.3828999996185303, 3.3817999362945557, 3.375499963760376, 3.3740999698638916, 3.373300075531006, 3.3714001178741455, 3.3620998859405518, 3.36080002784729, 3.351900100708008, 3.351900100708008, 3.3512001037597656, 3.3501999378204346, 3.3477001190185547, 3.3473000526428223, 3.347100019454956, 3.330899953842163, 3.3382999897003174, 3.296299934387207, 3.2813000679016113, 3.186000108718872, 3.194200038909912, 3.2578999996185303, 2.835200071334839, 2.8652000427246094, 2.8685998916625977, 2.686800003051758, 2.58240008354187, 2.9003000259399414, 2.6364998817443848, 2.6366000175476074, 2.95740008354187, 1.437999963760376, 2.0322000980377197, 0.1290999948978424, 0.40709999203681946, 2.5761001110076904, -0.6909000277519226, 3.4326000213623047, 3.421099901199341, 3.420099973678589, 3.3984999656677246, 3.398200035095215, 3.3951001167297363, 3.3940999507904053, 3.3938000202178955, 3.390899896621704, 3.389400005340576, 3.3880999088287354, 3.3773999214172363, 3.3749001026153564, 3.36899995803833, 3.365499973297119, 3.365000009536743, 3.3638999462127686, 3.3610999584198, 3.359999895095825, 3.356600046157837, 3.355600118637085, 3.355600118637085, 3.3550000190734863, 3.3541998863220215, 3.3513998985290527, 3.348900079727173, 3.34689998626709, 3.3464999198913574, 3.344099998474121, 3.3368000984191895, 3.3071000576019287, 3.297499895095825, 3.3196001052856445, 3.3125998973846436, 3.302500009536743, 3.2578999996185303, 3.0815000534057617, 3.1363000869750977, 3.1510000228881836, 3.098299980163574, 3.102799892425537, 3.1717000007629395, 2.1373000144958496, 0.6542999744415283, 0.503600001335144, 3.0576999187469482, 2.339900016784668, 2.611299991607666, 3.0290000438690186, 2.0699000358581543, 1.2496000528335571, 1.9258999824523926, 0.0142000000923872, 3.4498000144958496, 3.441999912261963, 3.437299966812134, 3.4291999340057373, 3.428100109100342, 3.4189000129699707, 3.413599967956543, 3.405900001525879, 3.4058001041412354, 3.4047999382019043, 3.402400016784668, 3.398900032043457, 3.3958001136779785, 3.390500068664551, 3.387500047683716, 3.3864998817443848, 3.385999917984009, 3.383699893951416, 3.3826000690460205, 3.3782999515533447, 3.376499891281128, 3.3726000785827637, 3.371999979019165, 3.36899995803833, 3.3687000274658203, 3.3666000366210938, 3.3610000610351562, 3.3547000885009766, 3.3499999046325684, 3.3468000888824463, 3.330699920654297, 3.2980000972747803, 3.2634999752044678, 3.2072999477386475, 3.2855000495910645, 2.926300048828125, 3.0320000648498535, 3.037100076675415, 2.84689998626709, 2.6143999099731445, 2.424099922180176, 2.476900100708008, 2.864300012588501, 2.6542999744415283, 2.700000047683716, 0.36149999499320984, 1.9615999460220337, 0.058800000697374344, -0.15710000693798065, 1.2156000137329102, 0.9254000186920166, 0.5684000253677368, 1.1539000272750854, 3.46589994430542, 3.42549991607666, 3.4165000915527344, 3.411400079727173, 3.4070000648498535, 3.397900104522705, 3.3963000774383545, 3.3959999084472656, 3.393899917602539, 3.3910000324249268, 3.382499933242798, 3.380199909210205, 3.3794000148773193, 3.3680999279022217, 3.366499900817871, 3.365600109100342, 3.362799882888794, 3.362299919128418, 3.361799955368042, 3.359100103378296, 3.358299970626831, 3.354599952697754, 3.3452999591827393, 3.3445000648498535, 3.3420000076293945, 3.3389999866485596, 3.336400032043457, 3.335099935531616, 3.3334999084472656, 3.324899911880493, 3.3213999271392822, 3.310699939727783, 3.236599922180176, 3.2339999675750732, 3.2906999588012695, 3.23580002784729, 3.245500087738037, 3.198699951171875, 3.2560999393463135, 2.427500009536743, 3.0938000679016113, 2.6700000762939453, 2.8445000648498535, 3.0845999717712402, 2.006200075149536, 2.936300039291382, 2.8345999717712402, 2.6138999462127686, 2.7428998947143555, 2.152100086212158, 2.197000026702881, 1.6092000007629395, 1.75600004196167, 2.324700117111206, 2.421799898147583, 1.5880999565124512, -0.7621999979019165, 1.5161000490188599, 1.8415000438690186, 0.4596000015735626, 3.447499990463257, 3.444700002670288, 3.441800117492676, 3.436800003051758, 3.43530011177063, 3.4328999519348145, 3.4156999588012695, 3.4082000255584717, 3.4065001010894775, 3.402400016784668, 3.4007999897003174, 3.3940000534057617, 3.3903000354766846, 3.384200096130371, 3.3824000358581543, 3.381700038909912, 3.375200033187866, 3.3701000213623047, 3.369999885559082, 3.369800090789795, 3.3682000637054443, 3.3666000366210938, 3.3647000789642334, 3.363600015640259, 3.363300085067749, 3.361999988555908, 3.359800100326538, 3.357599973678589, 3.3575000762939453, 3.3571999073028564, 3.3519999980926514, 3.30430006980896, 3.3231000900268555, 3.2711000442504883, 3.2551000118255615, 3.1440000534057617, 3.1168999671936035, 3.138200044631958, 2.9535000324249268, 3.069700002670288, 3.0157999992370605, 3.1663999557495117, 3.054800033569336, 3.0897998809814453, 3.05649995803833, 0.12559999525547028, 2.686500072479248, -0.11829999834299088, 1.0418000221252441, 0.9894000291824341, 2.6758999824523926, 1.6563999652862549, 1.8351999521255493, 1.7691999673843384, 3.4296998977661133, 3.4267001152038574, 3.4263999462127686, 3.419300079345703, 3.415800094604492, 3.410099983215332, 3.408400058746338, 3.4077000617980957, 3.405600070953369, 3.404900074005127, 3.404900074005127, 3.397599935531616, 3.3949999809265137, 3.390899896621704, 3.390399932861328, 3.389400005340576, 3.3877999782562256, 3.38700008392334, 3.3821001052856445, 3.38070011138916, 3.376800060272217, 3.376800060272217, 3.3763999938964844, 3.373800039291382, 3.3703999519348145, 3.3691000938415527, 3.36680006980896, 3.365799903869629, 3.365600109100342, 3.3647000789642334, 3.3524999618530273, 3.3461999893188477, 3.3111000061035156, 3.334399938583374, 3.3222999572753906, 2.996799945831299, 3.254300117492676, 3.1364998817443848, 3.211400032043457, 3.1231000423431396, 2.6617000102996826, 3.107800006866455, 0.3652999997138977, 2.3148999214172363, 3.0248000621795654, 2.8248000144958496, 2.4730000495910645, 2.496799945831299, 1.5579999685287476, 1.6531000137329102, 2.77839994430542, 2.324199914932251, 3.4365999698638916, 3.4339001178741455, 3.4321999549865723, 3.4260001182556152, 3.419800043106079, 3.413800001144409, 3.4070000648498535, 3.4042999744415283, 3.398699998855591, 3.393699884414673, 3.3798000812530518, 3.375999927520752, 3.3731000423431396, 3.3710999488830566, 3.36899995803833, 3.3671998977661133, 3.361999988555908, 3.361999988555908, 3.3610999584198, 3.3610000610351562, 3.359499931335449, 3.3589999675750732, 3.3570001125335693, 3.3564000129699707, 3.3506999015808105, 3.343600034713745, 3.3434998989105225, 3.3429999351501465, 3.3380000591278076, 3.3345000743865967, 3.325000047683716, 3.3276000022888184, 3.2660999298095703, 3.3148000240325928, 3.1958000659942627, 3.2411000728607178, 3.3173999786376953, 3.2105000019073486, 3.15939998626709, 3.1923999786376953, 3.163800001144409, 2.6166999340057373, 2.947200059890747, 2.1673998832702637, 2.688800096511841, 3.1373000144958496, 3.0292000770568848, 2.8157999515533447, 2.366499900817871, 2.3524999618530273, 1.198099970817566, 2.425600051879883, 0.683899998664856, 2.050800085067749, 1.6464999914169312, 1.9443000555038452, 0.5924000144004822, -0.8422999978065491, 3.457900047302246, 3.4463000297546387, 3.4379000663757324, 3.4265999794006348, 3.4198999404907227, 3.415299892425537, 3.4075000286102295, 3.4061999320983887, 3.399899959564209, 3.398699998855591, 3.3880999088287354, 3.384200096130371, 3.3835999965667725, 3.3803000450134277, 3.376800060272217, 3.3691999912261963, 3.3689000606536865, 3.3680999279022217, 3.3645999431610107, 3.3640999794006348, 3.36299991607666, 3.3603999614715576, 3.358599901199341, 3.3564999103546143, 3.3557000160217285, 3.352400064468384, 3.352400064468384, 3.3522000312805176, 3.344399929046631, 3.3438000679016113, 3.3132998943328857, 3.333899974822998, 3.301100015640259, 3.237799882888794, 3.2734999656677246, 3.044600009918213, 3.2778000831604004, 3.237600088119507, 3.2427000999450684, 3.151900053024292, 3.1614999771118164, 3.321199893951416, 3.0085999965667725, 3.0806000232696533, 2.6958000659942627, 2.5604000091552734, 2.4535000324249268, 2.8245999813079834, 2.496999979019165, 2.553299903869629, 2.2230000495910645, 2.4783999919891357, 0.9438999891281128, -0.33550000190734863, 2.6898999214172363, -0.37630000710487366, 0.9334999918937683, -0.7483000159263611, 0.22200000286102295, 3.4821999073028564, 3.4602999687194824, 3.4576001167297363, 3.4537999629974365, 3.452399969100952, 3.45169997215271, 3.4426000118255615, 3.436300039291382, 3.429800033569336, 3.4274001121520996, 3.4231998920440674, 3.4212000370025635, 3.420599937438965, 3.420599937438965, 3.4175000190734863, 3.405100107192993, 3.404599905014038, 3.4024999141693115, 3.397200107574463, 3.3949999809265137, 3.390399932861328, 3.389400005340576, 3.388000011444092, 3.3835999965667725, 3.3835999965667725, 3.382499933242798, 3.3796000480651855, 3.379199981689453, 3.3756000995635986, 3.3726999759674072, 3.372299909591675, 3.3671998977661133, 3.3661000728607178, 3.3585000038146973, 3.347100019454956, 3.1377999782562256, 3.2692999839782715, 3.3385000228881836, 3.2218000888824463, 2.9876999855041504, 3.1847000122070312, 3.0836000442504883, 3.1001999378204346, 3.0237998962402344, 3.15910005569458, 3.2692999839782715, 2.7037999629974365, 2.859499931335449, 2.512500047683716, 0.04349999874830246, 2.7416000366210938, 2.146899938583374, 0.8461999893188477, 1.7116999626159668, 3.492300033569336, 3.4593000411987305, 3.4576001167297363, 3.455699920654297, 3.448899984359741, 3.448499917984009, 3.446700096130371, 3.4463000297546387, 3.4437999725341797, 3.4428000450134277, 3.439500093460083, 3.439500093460083, 3.43149995803833, 3.4302000999450684, 3.429800033569336, 3.414400100708008, 3.411900043487549, 3.4082000255584717, 3.4075000286102295, 3.407099962234497, 3.4030001163482666, 3.4030001163482666, 3.4005000591278076, 3.400099992752075, 3.399199962615967, 3.399199962615967, 3.3963000774383545, 3.393699884414673, 3.3933000564575195, 3.3879001140594482, 3.384999990463257, 3.3703999519348145, 3.3584001064300537, 3.346100091934204, 3.313999891281128, 3.323699951171875, 3.264699935913086, 3.1960999965667725, 3.1868999004364014, 3.317500114440918, 3.1742000579833984, 3.080199956893921, 3.1665000915527344, 3.2493999004364014, 3.088099956512451, 2.9105000495910645, 3.1868999004364014, 2.7093000411987305, 1.680299997329712, 1.6167999505996704, 1.7977999448776245, 2.5831000804901123, -0.18870000541210175, 0.9466999769210815, 1.507599949836731, 2.3461999893188477, 1.809499979019165, 3.5174999237060547, 3.5153000354766846, 3.5111000537872314, 3.509500026702881, 3.4999001026153564, 3.4967000484466553, 3.4948999881744385, 3.4835000038146973, 3.480299949645996, 3.4797000885009766, 3.4795000553131104, 3.4790000915527344, 3.475800037384033, 3.4755001068115234, 3.4672000408172607, 3.4595999717712402, 3.4590001106262207, 3.4570000171661377, 3.4549999237060547, 3.453000068664551, 3.4526000022888184, 3.452199935913086, 3.45169997215271, 3.4439001083374023, 3.4428000450134277, 3.4386000633239746, 3.4375, 3.432300090789795, 3.430000066757202, 3.4274001121520996, 3.4217000007629395, 3.40120005607605, 3.406100034713745, 3.4214000701904297, 3.414299964904785, 3.3921000957489014, 3.364500045776367, 3.3938000202178955, 3.366300106048584, 3.2599000930786133, 3.198499917984009, 3.225399971008301, 2.9962000846862793, 3.104300022125244, 3.3850998878479004, 2.88319993019104, 3.1386001110076904, 1.5262000560760498, 0.5879999995231628, 2.3264999389648438, 2.4651999473571777, 1.0090999603271484, 2.5806000232696533, 2.837399959564209, 0.475600004196167, 1.7032999992370605, 1.926200032234192, 3.566200017929077, 3.5652999877929688, 3.562000036239624, 3.559299945831299, 3.552500009536743, 3.552299976348877, 3.5508999824523926, 3.545099973678589, 3.540299892425537, 3.5336999893188477, 3.5322999954223633, 3.522900104522705, 3.5188000202178955, 3.5169999599456787, 3.516700029373169, 3.5139999389648438, 3.509700059890747, 3.5020999908447266, 3.5020999908447266, 3.498500108718872, 3.4971001148223877, 3.494499921798706, 3.4941999912261963, 3.488800048828125, 3.486299991607666, 3.4851999282836914, 3.4851999282836914, 3.4814000129699707, 3.4807000160217285, 3.4802000522613525, 3.478100061416626, 3.46560001373291, 3.399899959564209, 3.472899913787842, 3.3859000205993652, 3.427799940109253, 3.3057000637054443, 3.323899984359741, 3.35260009765625, 3.2906999588012695, 3.400899887084961, 2.99429988861084, 3.105600118637085, 3.1707000732421875, 2.743299961090088, 2.3153998851776123, 1.7175999879837036, 2.9851999282836914, 2.9844000339508057, 0.9355999827384949, 1.9577000141143799, 0.9962999820709229, 0.507099986076355, -0.612500011920929, -0.7459999918937683, 1.720900058746338, 0.8812999725341797], \"logprob\": [30.0, 29.0, 28.0, 27.0, 26.0, 25.0, 24.0, 23.0, 22.0, 21.0, 20.0, 19.0, 18.0, 17.0, 16.0, 15.0, 14.0, 13.0, 12.0, 11.0, 10.0, 9.0, 8.0, 7.0, 6.0, 5.0, 4.0, 3.0, 2.0, 1.0, -5.2093000411987305, -5.667399883270264, -5.810100078582764, -5.812399864196777, -5.864699840545654, -5.7393999099731445, -5.6016998291015625, -6.066500186920166, -6.098700046539307, -6.258600234985352, -6.198299884796143, -6.130899906158447, -6.217599868774414, -6.198999881744385, -6.355299949645996, -6.452499866485596, -5.695700168609619, -6.51039981842041, -6.059800148010254, -6.172399997711182, -6.5605998039245605, -6.578400135040283, -6.4303998947143555, -6.608399868011475, -6.614799976348877, -6.084499835968018, -6.398900032043457, -6.185400009155273, -6.204899787902832, -6.331900119781494, -4.219600200653076, -2.072700023651123, -4.180300235748291, -5.4766998291015625, -4.2600998878479, -5.2444000244140625, -5.663899898529053, -5.924900054931641, -4.436699867248535, -3.1563000679016113, -4.710000038146973, -5.348299980163574, -4.220600128173828, -5.898399829864502, -5.315999984741211, -5.146100044250488, -4.561200141906738, -4.223400115966797, -5.505899906158447, -4.450300216674805, -4.972400188446045, -5.19789981842041, -3.9121999740600586, -4.744500160217285, -5.235599994659424, -5.188799858093262, -5.305799961090088, -5.193900108337402, -5.3983001708984375, -5.431099891662598, -5.183300018310547, -5.3231000900268555, -5.145400047302246, -5.287399768829346, -5.329699993133545, -4.753699779510498, -5.436399936676025, -5.151100158691406, -5.414599895477295, -5.652500152587891, -5.6707000732421875, -5.584499835968018, -5.816500186920166, -5.822700023651123, -5.829400062561035, -5.87470006942749, -5.903500080108643, -5.927999973297119, -5.993299961090088, -5.997099876403809, -6.0482001304626465, -6.0482001304626465, -6.050899982452393, -6.082600116729736, -6.10230016708374, -6.139900207519531, -6.1305999755859375, -6.162199974060059, -6.172500133514404, -6.2453999519348145, -6.316699981689453, -6.157199859619141, -5.707699775695801, -5.912600040435791, -5.357399940490723, -5.4475998878479, -5.576900005340576, -5.574699878692627, -5.854800224304199, -4.987199783325195, -5.597700119018555, -5.730100154876709, -5.379300117492676, -5.766300201416016, -4.049699783325195, -4.877699851989746, -3.9296000003814697, -4.915200233459473, -5.462900161743164, -5.207799911499023, -4.644199848175049, -5.037399768829346, -5.572700023651123, -5.3821001052856445, -5.538099765777588, -5.506100177764893, -5.44320011138916, -5.47760009765625, -5.457200050354004, -5.484600067138672, -5.516900062561035, -5.531799793243408, -5.081200122833252, -5.3354997634887695, -5.2906999588012695, -5.325300216674805, -5.527400016784668, -5.610599994659424, -5.621399879455566, -4.9253997802734375, -5.670499801635742, -5.800099849700928, -5.350500106811523, -5.833099842071533, -5.344099998474121, -5.973400115966797, -5.8308000564575195, -6.057600021362305, -6.083700180053711, -6.086299896240234, -6.093500137329102, -6.077600002288818, -5.851399898529053, -6.150100231170654, -6.151700019836426, -6.151700019836426, -5.540299892425537, -6.160600185394287, -6.21999979019165, -5.960100173950195, -6.265500068664551, -6.306300163269043, -5.158699989318848, -5.640399932861328, -5.6356000900268555, -5.071899890899658, -4.026299953460693, -5.6168999671936035, -4.773399829864502, -5.779099941253662, -4.944499969482422, -5.28000020980835, -5.755099773406982, -5.0605998039245605, -4.386499881744385, -5.618500232696533, -4.551000118255615, -4.104499816894531, -5.11329984664917, -5.222499847412109, -5.535699844360352, -5.14769983291626, -5.274600028991699, -5.066800117492676, -5.542900085449219, -5.206600189208984, -5.433700084686279, -5.438300132751465, -5.59660005569458, -5.0594000816345215, -5.411399841308594, -5.48960018157959, -5.2428998947143555, -5.682199954986572, -5.600100040435791, -5.582600116729736, -5.468299865722656, -5.1743998527526855, -5.385000228881836, -5.932600021362305, -5.570099830627441, -5.627799987792969, -6.070799827575684, -5.619800090789795, -6.148900032043457, -5.824900150299072, -5.669400215148926, -6.207499980926514, -6.214300155639648, -5.4629998207092285, -4.9944000244140625, -6.253399848937988, -6.253399848937988, -6.301400184631348, -6.274099826812744, -6.388599872589111, -5.288400173187256, -6.325200080871582, -6.067500114440918, -4.783699989318848, -5.72790002822876, -4.554299831390381, -5.461400032043457, -5.006700038909912, -5.804800033569336, -5.229000091552734, -5.404600143432617, -5.299200057983398, -4.990499973297119, -4.989999771118164, -5.312099933624268, -4.938399791717529, -5.340799808502197, -5.01039981842041, -5.39139986038208, -5.1666998863220215, -5.2230000495910645, -4.941199779510498, -5.300000190734863, -5.289999961853027, -5.3958001136779785, -5.423399925231934, -5.163300037384033, -5.275100231170654, -5.398799896240234, -4.84689998626709, -5.464000225067139, -5.541500091552734, -5.6092000007629395, -5.685400009155273, -5.4054999351501465, -5.780300140380859, -5.79640007019043, -5.832699775695801, -5.714799880981445, -5.0279998779296875, -6.032599925994873, -6.043399810791016, -6.082799911499023, -6.15880012512207, -6.047399997711182, -6.195300102233887, -6.071499824523926, -6.274600028991699, -5.549699783325195, -6.286099910736084, -6.151299953460693, -6.30019998550415, -6.0920000076293945, -6.321100234985352, -6.3628997802734375, -6.395899772644043, -5.441500186920166, -6.1178998947143555, -5.987599849700928, -5.377299785614014, -5.426300048828125, -5.523200035095215, -5.224599838256836, -5.35699987411499, -5.646399974822998, -5.601399898529053, -5.422699928283691, -4.811200141906738, -5.443299770355225, -5.426700115203857, -5.414400100708008, -5.715000152587891, -5.848499774932861, -5.151700019836426, -3.9762001037597656, -5.3196001052856445, -4.579400062561035, -4.850299835205078, -5.018599987030029, -5.212900161743164, -5.448500156402588, -4.945199966430664, -5.357500076293945, -4.992499828338623, -5.4721999168396, -5.485099792480469, -5.292900085449219, -5.220699787139893, -5.610099792480469, -5.474400043487549, -5.601900100708008, -5.69980001449585, -5.751500129699707, -5.775599956512451, -5.788300037384033, -5.6605000495910645, -5.831900119781494, -5.222599983215332, -5.914299964904785, -5.934299945831299, -5.968900203704834, -5.968900203704834, -5.5432000160217285, -6.02269983291626, -6.039000034332275, -5.899899959564209, -6.1367998123168945, -6.1493000984191895, -6.215700149536133, -6.2221999168396, -6.253699779510498, -6.34089994430542, -6.34089994430542, -5.36929988861084, -6.205599784851074, -6.396200180053711, -6.080399990081787, -5.434999942779541, -5.776599884033203, -4.577199935913086, -4.475299835205078, -3.67330002784729, -5.765399932861328, -4.208000183105469, -3.213200092315674, -5.390699863433838, -5.019800186157227, -5.128499984741211, -5.0416998863220215, -5.338200092315674, -4.843999862670898, -5.487299919128418, -5.188700199127197, -5.056099891662598, -5.429599761962891, -4.392000198364258, -5.005099773406982, -5.357500076293945, -5.035399913787842, -5.462699890136719, -5.436999797821045, -5.47130012512207, -5.518799781799316, -5.445099830627441, -5.256700038909912, -5.263899803161621, -5.435500144958496, -5.524099826812744, -5.57289981842041, -5.604800224304199, -5.659800052642822, -5.672699928283691, -5.4328999519348145, -5.64300012588501, -5.890100002288818, -5.901100158691406, -5.7729997634887695, -5.926700115203857, -5.935500144958496, -5.990200042724609, -6.004199981689453, -6.027900218963623, -6.0644001960754395, -5.465700149536133, -6.123700141906738, -6.126800060272217, -6.132800102233887, -5.990200042724609, -6.042500019073486, -6.198400020599365, -6.198400020599365, -6.204800128936768, -6.121200084686279, -6.257800102233887, -5.2895002365112305, -4.231200218200684, -4.550000190734863, -5.103700160980225, -5.2891998291015625, -4.465400218963623, -5.178800106048584, -5.481100082397461, -5.188199996948242, -4.9822998046875, -5.4721999168396, -5.024099826812744, -5.225399971008301, -5.480500221252441, -4.896100044250488, -5.092100143432617, -5.023399829864502, -5.474299907684326, -4.280399799346924, -4.782400131225586, -5.4903998374938965, -5.256999969482422, -4.9980998039245605, -5.545599937438965, -4.665299892425537, -5.105599880218506, -5.2256999015808105, -5.301400184631348, -5.33620023727417, -5.3668999671936035, -3.792099952697754, -4.764100074768066, -5.645699977874756, -5.35129976272583, -5.9456000328063965, -5.979000091552734, -5.97760009765625, -6.187099933624268, -5.684100151062012, -6.061100006103516, -6.235199928283691, -6.245800018310547, -6.270100116729736, -6.270100116729736, -6.216300010681152, -6.296800136566162, -6.11329984664917, -5.457699775695801, -6.424099922180176, -6.1504998207092285, -6.418499946594238, -6.4893999099731445, -6.49370002746582, -6.1290998458862305, -5.762599945068359, -6.036099910736084, -4.977799892425537, -5.6809000968933105, -4.949699878692627, -4.846499919891357, -4.941800117492676, -5.562600135803223, -5.233799934387207, -4.7906999588012695, -5.560100078582764, -5.5782999992370605, -5.713099956512451, -5.504799842834473, -5.436999797821045, -5.256800174713135, -5.351600170135498, -4.10890007019043, -5.488900184631348, -4.932600021362305, -5.345699787139893, -5.3628997802734375, -5.433800220489502, -5.265500068664551, -5.527900218963623, -5.355800151824951, -5.437300205230713, -5.18149995803833, -5.4969000816345215, -5.288899898529053, -4.938000202178955, -5.6097002029418945, -5.5254998207092285, -5.728899955749512, -5.842599868774414, -5.131499767303467, -5.997600078582764, -5.827199935913086, -6.007999897003174, -6.013999938964844, -6.037700176239014, -4.815800189971924, -6.054599761962891, -6.0777997970581055, -5.527699947357178, -6.191199779510498, -5.89900016784668, -5.993800163269043, -6.222599983215332, -6.16379976272583, -6.250899791717529, -6.220200061798096, -6.092100143432617, -6.302800178527832, -6.357600212097168, -5.304999828338623, -5.706999778747559, -5.170199871063232, -4.593800067901611, -5.803999900817871, -5.494900226593018, -5.3557000160217285, -5.46150016784668, -5.1493000984191895, -5.473299980163574, -4.620999813079834, -5.0457000732421875, -5.446300029754639, -5.6082000732421875, -3.782399892807007, -4.957399845123291, -5.030200004577637, -5.321400165557861, -5.110199928283691, -5.368299961090088, -5.247000217437744, -5.260300159454346, -5.073200225830078, -5.225100040435791, -5.277200222015381, -5.446300029754639, -5.003399848937988, -5.089799880981445, -5.025700092315674, -5.331900119781494, -5.316100120544434, -5.551199913024902, -5.765200138092041, -5.273499965667725, -5.843800067901611, -5.310999870300293, -5.878300189971924, -5.908999919891357, -5.933000087738037, -5.97760009765625, -6.031099796295166, -5.7855000495910645, -5.926400184631348, -6.098100185394287, -6.110300064086914, -5.9816999435424805, -5.930500030517578, -6.16349983215332, -6.169600009918213, -6.187900066375732, -6.206200122833252, -6.217700004577637, -6.217700004577637, -6.035900115966797, -6.082900047302246, -5.986400127410889, -4.986599922180176, -5.73390007019043, -5.695700168609619, -5.617800235748291, -5.71750020980835, -5.3155999183654785, -4.982600212097168, -5.605199813842773, -5.311299800872803, -4.3420000076293945, -5.2754998207092285, -5.263199806213379, -5.123700141906738, -5.362500190734863, -5.132500171661377, -5.321899890899658, -4.001500129699707, -4.145699977874756, -5.1859002113342285, -5.4506001472473145, -5.3007001876831055, -5.456099987030029, -5.679800033569336, -5.583899974822998, -5.591100215911865, -5.570700168609619, -5.294300079345703, -4.9552001953125, -5.048299789428711, -5.386499881744385, -5.440899848937988, -5.573800086975098, -5.620100021362305, -5.741499900817871, -5.769899845123291, -5.502200126647949, -4.954999923706055, -5.67710018157959, -5.870999813079834, -5.97160005569458, -5.995100021362305, -6.004300117492676, -5.946100234985352, -6.035999774932861, -6.007999897003174, -5.946700096130371, -6.100399971008301, -5.884099960327148, -6.1296000480651855, -6.127999782562256, -6.157199859619141, -6.041399955749512, -6.09630012512207, -6.203800201416016, -6.235199928283691, -6.235199928283691, -4.900599956512451, -5.601600170135498, -5.515699863433838, -4.816400051116943, -4.904300212860107, -5.48330020904541, -5.666100025177002, -5.3678998947143555, -5.638199806213379, -5.414899826049805, -4.833600044250488, -5.537199974060059, -5.1946001052856445, -5.361999988555908, -4.861100196838379, -5.378399848937988, -5.350200176239014, -5.598199844360352, -5.3256001472473145, -4.912700176239014, -4.355400085449219, -5.0279998779296875, -5.221799850463867, -4.882900238037109, -5.288300037384033, -4.817399978637695, -5.16540002822876, -5.473800182342529, -5.325799942016602, -5.46560001373291, -5.177999973297119, -5.403299808502197, -5.417900085449219, -5.263800144195557, -5.654699802398682, -5.811600208282471, -5.465000152587891, -5.838699817657471, -5.832200050354004, -5.66540002822876, -5.913300037384033, -5.935999870300293, -5.799600124359131, -5.95419979095459, -5.9552998542785645, -5.757400035858154, -5.971099853515625, -5.991199970245361, -6.0055999755859375, -6.012899875640869, -5.806300163269043, -6.030799865722656, -5.173299789428711, -6.053599834442139, -6.0625, -5.785399913787842, -6.075300216674805, -6.061999797821045, -5.872200012207031, -6.097499847412109, -4.903900146484375, -5.553400039672852, -5.756899833679199, -4.921299934387207, -5.709400177001953, -4.664400100708008, -5.918700218200684, -5.040200233459473, -5.414100170135498, -5.680699825286865, -5.3678998947143555, -5.384699821472168, -5.121200084686279, -5.690100193023682, -5.515900135040283, -5.333899974822998, -5.415900230407715, -4.612500190734863, -5.358699798583984, -5.611700057983398, -5.309800148010254, -5.276800155639648, -5.26230001449585, -5.632400035858154, -5.53380012512207, -5.55679988861084, -5.610599994659424, -4.947500228881836, -5.257199764251709, -5.354400157928467, -5.400000095367432, -5.404900074005127, -5.163899898529053, -5.456200122833252, -5.651899814605713, -5.672800064086914, -5.329800128936768, -5.761099815368652, -4.319399833679199, -5.671899795532227, -5.699999809265137, -5.342199802398682, -5.930799961090088, -5.725599765777588, -6.047699928283691, -5.831399917602539, -6.118199825286865, -6.123000144958496, -6.123000144958496, -5.71589994430542, -5.5903000831604, -5.823299884796143, -6.260799884796143, -6.131800174713135, -6.288300037384033, -5.803299903869629, -6.057600021362305, -5.485599994659424, -5.5071001052856445, -5.686600208282471, -4.8979997634887695, -5.203000068664551, -5.491000175476074, -6.001399993896484, -5.802299976348877, -4.407700061798096, -5.432700157165527, -4.322199821472168, -5.476099967956543, -5.071499824523926, -4.757599830627441, -4.8592000007629395, -3.983299970626831, -5.171899795532227, -5.330999851226807, -5.337900161743164, -4.87939977645874, -5.0208001136779785, -5.27209997177124, -5.480599880218506, -4.911300182342529, -5.171199798583984, -5.31790018081665, -5.462600231170654, -4.353600025177002, -5.287899971008301, -5.033899784088135, -5.241300106048584, -5.332799911499023, -5.392600059509277, -5.57919979095459, -5.4405999183654785, -5.892899990081787, -5.927299976348877, -5.9629998207092285, -5.965700149536133, -5.965700149536133, -5.808800220489502, -5.976799964904785, -5.979300022125244, -6.004700183868408, -5.766600131988525, -6.044099807739258, -6.071300029754639, -6.102700233459473, -6.153800010681152, -6.161900043487549, -6.165200233459473, -6.228300094604492, -6.249599933624268, -5.7480998039245605, -5.8225998878479, -6.33519983291626, -6.055200099945068, -4.7480998039245605, -4.794400215148926, -4.990200042724609, -5.594600200653076, -4.536900043487549, -5.04040002822876, -5.5391998291015625, -4.3333001136779785, -5.519499778747559, -5.018899917602539, -4.704500198364258, -5.043900012969971, -5.382299900054932, -5.234799861907959, -4.533599853515625, -5.7382001876831055, -4.98960018157959, -5.110199928283691, -5.345399856567383, -5.441400051116943, -3.904599905014038, -5.490699768066406, -5.571100234985352, -5.423399925231934, -5.029300212860107, -5.306300163269043, -5.46999979019165, -5.49399995803833, -5.122700214385986, -5.174600124359131, -5.183000087738037, -5.230299949645996, -5.121799945831299, -5.524199962615967, -5.55810022354126, -5.7118000984191895, -5.719399929046631, -5.825099945068359, -5.6859002113342285, -5.552199840545654, -5.899400234222412, -5.955399990081787, -5.963099956512451, -5.557600021362305, -5.920899868011475, -6.079800128936768, -5.941699981689453, -5.928199768066406, -5.767600059509277, -6.127399921417236, -5.3709001541137695, -5.775000095367432, -6.248899936676025, -6.254199981689453, -6.263500213623047, -6.275700092315674, -5.822800159454346, -6.067599773406982, -5.151899814605713, -5.584499835968018, -4.469900131225586, -5.697999954223633, -5.508999824523926, -5.268700122833252, -4.929100036621094, -5.343999862670898, -5.722099781036377, -5.47760009765625, -5.513000011444092, -4.9232001304626465, -4.948400020599365, -5.188399791717529, -3.9848999977111816, -4.44789981842041, -5.492800235748291, -5.281700134277344, -4.327300071716309, -5.339200019836426, -5.429599761962891, -5.39769983291626, -5.372300148010254, -5.397299766540527, -5.450699806213379, -5.541299819946289, -5.331299781799316, -5.573999881744385, -5.598599910736084, -5.390500068664551, -5.6743998527526855, -5.488900184631348, -5.229899883270264, -5.499800205230713, -5.811500072479248, -5.1367998123168945, -5.901899814605713, -5.643799781799316, -5.5071001052856445, -5.997099876403809, -5.860300064086914, -6.013199806213379, -6.080399990081787, -6.087200164794922, -6.112199783325195, -6.120200157165527, -6.136499881744385, -6.171199798583984, -6.185200214385986, -5.579800128936768, -4.606599807739258, -5.988900184631348, -6.266300201416016, -6.15749979019165, -6.286600112915039, -6.003300189971924, -4.692299842834473, -4.9029998779296875, -5.109300136566162, -5.209199905395508, -5.526899814605713, -5.342400074005127, -5.892600059509277, -5.885700225830078, -5.233500003814697, -4.181600093841553, -5.896900177001953, -4.9766998291015625, -4.747499942779541, -5.37939977645874, -5.348299980163574, -4.7093000411987305, -5.072000026702881, -5.093200206756592, -5.070899963378906, -5.218400001525879, -4.952700138092041, -4.915999889373779, -5.145999908447266, -5.317999839782715, -5.4303998947143555, -5.0493998527526855, -5.342899799346924, -5.330900192260742, -5.383800029754639, -5.1433000564575195, -5.283899784088135, -5.085400104522705, -5.4664998054504395, -5.556700229644775, -5.386300086975098, -5.5782999992370605, -5.651199817657471, -5.710999965667725, -5.568600177764893, -5.7571001052856445, -5.845200061798096, -5.860199928283691, -5.903200149536133, -5.970799922943115, -5.992400169372559, -6.019400119781494, -6.025300025939941, -5.5802001953125, -6.173099994659424, -6.176599979400635, -6.176599979400635, -6.1616997718811035, -6.1072001457214355, -6.054800033569336, -6.12470006942749, -5.282100200653076, -5.9045000076293945, -6.341700077056885, -6.210100173950195, -5.968599796295166, -5.231599807739258, -5.259799957275391, -5.298299789428711, -5.222400188446045, -3.486799955368042, -5.387700080871582, -5.452600002288818, -4.911099910736084, -4.978899955749512, -5.021699905395508, -5.143400192260742, -4.93209981918335, -5.625400066375732, -4.648099899291992, -4.8180999755859375, -5.145699977874756, -5.221099853515625, -5.445300102233887, -5.530799865722656, -5.343400001525879, -5.316699981689453, -5.320099830627441, -5.482699871063232, -5.505000114440918, -5.536300182342529, -5.242000102996826, -5.284299850463867, -5.396399974822998, -5.424200057983398, -5.421599864959717, -5.019800186157227, -5.533699989318848, -5.471399784088135, -5.559199810028076, -5.60129976272583, -5.6082000732421875, -5.658199787139893, -5.739099979400635, -5.645699977874756, -5.773399829864502, -5.734899997711182, -5.90880012512207, -5.73390007019043, -4.853300094604492, -5.952199935913086, -5.955100059509277, -5.5254998207092285, -5.349599838256836, -6.025599956512451, -5.690700054168701, -6.039299964904785, -6.069300174713135, -5.474100112915039, -5.964900016784668, -6.131400108337402, -5.770999908447266, -5.417399883270264, -5.480100154876709, -5.1596999168396, -5.842299938201904, -5.4303998947143555, -5.715799808502197, -4.918700218200684, -5.155300140380859, -4.589900016784668, -5.430799961090088, -4.2032999992370605, -5.310999870300293, -5.4131999015808105, -5.471399784088135, -4.722700119018555, -5.170300006866455, -5.200900077819824, -5.218400001525879, -5.502799987792969, -5.510700225830078, -5.526700019836426, -5.284800052642822, -5.07420015335083, -5.032899856567383, -5.416600227355957, -5.428899765014648, -5.179200172424316, -5.314599990844727, -5.615699768066406, -5.2683000564575195, -5.7606000900268555, -5.78000020980835, -5.7895002365112305, -5.658599853515625, -5.381700038909912, -5.861599922180176, -5.861599922180176, -5.512400150299072, -5.879199981689453, -5.748799800872803, -5.811600208282471, -5.968599796295166, -5.9882001876831055, -6.076900005340576, -5.636600017547607, -6.167799949645996, -6.167799949645996, -6.173500061035156, -6.18179988861084, -6.202700138092041, -6.206200122833252, -5.995200157165527, -5.165599822998047, -5.64109992980957, -5.0295000076293945, -5.091000080108643, -4.79580020904541, -5.011499881744385, -5.637599945068359, -4.331200122833252, -4.5833001136779785, -5.034599781036377, -4.913599967956543, -4.92140007019043, -5.295199871063232, -5.144700050354004, -5.175899982452393, -5.44290018081665, -4.6819000244140625, -5.027699947357178, -4.533199787139893, -5.076099872589111, -5.521399974822998, -5.3084001541137695, -4.957699775695801, -5.105800151824951, -5.354000091552734, -5.685500144958496, -5.688700199127197, -5.729100227355957, -4.757599830627441, -5.744800090789795, -5.780399799346924, -5.798099994659424, -5.557700157165527, -5.93209981918335, -5.045499801635742, -6.017199993133545, -6.0046000480651855, -5.736599922180176, -5.700500011444092, -4.2941999435424805, -4.7932000160217285, -5.576300144195557, -6.140500068664551, -4.803100109100342, -6.145500183105469, -5.554800033569336, -5.064000129699707, -5.930500030517578, -6.213600158691406, -6.217199802398682, -5.409900188446045, -5.1875, -4.711699962615967, -5.1869001388549805, -5.736199855804443, -5.7399001121521, -5.667399883270264, -5.371600151062012, -4.536200046539307, -4.871099948883057, -5.035999774932861, -4.996300220489502, -5.482399940490723, -5.563000202178955, -4.8618998527526855, -4.007900238037109, -4.113800048828125, -5.563600063323975, -5.328999996185303, -5.465199947357178, -5.620299816131592, -5.4791998863220215, -5.470099925994873, -5.507500171661377, -5.469099998474121, -4.784800052642822, -4.999300003051758, -5.11269998550415, -5.280300140380859, -5.301499843597412, -5.200900077819824, -5.544300079345703, -4.779699802398682, -5.654300212860107, -5.518599987030029, -5.264900207519531, -5.743500232696533, -5.546599864959717, -5.3993000984191895, -5.876800060272217, -5.888299942016602, -5.304599761962891, -5.9182000160217285, -5.930200099945068, -5.655099868774414, -5.992599964141846, -5.722700119018555, -6.035900115966797, -6.064199924468994, -5.908299922943115, -5.935800075531006, -6.135900020599365, -5.926300048828125, -6.1915998458862305, -6.253399848937988, -5.221499919891357, -5.173900127410889, -5.140100002288818, -5.006199836730957, -5.677000045776367, -4.509300231933594, -5.08519983291626, -5.140999794006348, -4.701300144195557, -4.996200084686279, -4.834499835968018, -5.000400066375732, -5.406400203704834, -5.223599910736084, -5.333899974822998, -4.25600004196167, -5.1296000480651855, -4.70959997177124, -4.819300174713135, -5.1620001792907715, -5.121600151062012, -5.132900238037109, -5.311200141906738, -4.594399929046631, -5.514999866485596, -5.643199920654297, -5.702600002288818, -5.2144999504089355, -5.8694000244140625, -5.8867998123168945, -5.889400005340576, -5.901599884033203, -5.942599773406982, -6.026500225067139, -6.048299789428711, -5.775300025939941, -6.155300140380859, -5.677499771118164, -5.774199962615967, -5.02810001373291, -6.20389986038208, -6.207600116729736, -5.991799831390381, -6.235799789428711, -6.008200168609619, -6.334199905395508, -6.122600078582764, -4.957799911499023, -6.378900051116943, -6.39709997177124, -6.405700206756592, -6.326900005340576, -6.473400115966797, -5.5929999351501465, -5.073699951171875, -4.516300201416016, -5.092100143432617, -5.828999996185303, -5.510000228881836, -5.843200206756592, -5.7108001708984375, -5.887700080871582, -3.731300115585327, -5.496300220489502, -4.627699851989746, -5.022500038146973, -5.5279998779296875, -3.859800100326538, -5.4197001457214355, -5.289899826049805, -5.035200119018555, -5.254300117492676, -4.684500217437744, -4.93209981918335, -4.770400047302246, -5.199100017547607, -5.454800128936768, -5.48799991607666, -5.411099910736084, -5.379700183868408, -5.571599960327148, -5.591899871826172, -5.587500095367432, -5.126999855041504, -4.957399845123291, -5.245200157165527, -5.1641998291015625, -5.36460018157959, -5.405900001525879, -5.661900043487549, -5.756899833679199, -5.776299953460693, -5.568299770355225, -5.8429999351501465, -5.8491997718811035, -5.935100078582764, -5.583700180053711, -6.031300067901611, -5.971499919891357, -5.998199939727783, -5.32919979095459, -6.142899990081787, -5.897500038146973, -5.6143999099731445, -4.9319000244140625, -6.113800048828125, -6.180300235748291, -5.787899971008301, -6.017000198364258, -6.055099964141846, -6.24429988861084, -5.604599952697754, -5.729400157928467, -4.890500068664551, -5.005099773406982, -5.453400135040283, -5.278800010681152, -5.232100009918213, -4.642399787902832, -4.7144999504089355, -5.001500129699707, -4.393499851226807, -4.815100193023682, -5.111999988555908, -5.607100009918213, -5.5304999351501465, -5.586400032043457, -5.615600109100342, -4.491799831390381, -5.498700141906738, -4.780600070953369, -5.117000102996826, -5.1346001625061035, -5.533899784088135, -5.434700012207031, -5.455999851226807, -5.52839994430542, -5.480599880218506, -5.416900157928467, -5.5304999351501465, -5.459099769592285, -4.621500015258789, -5.749899864196777, -5.663899898529053, -5.7789998054504395, -5.803899765014648, -5.28000020980835, -5.812099933624268, -5.892899990081787, -5.920499801635742, -5.962299823760986, -5.7993998527526855, -5.977399826049805, -5.860899925231934, -5.848999977111816, -6.047100067138672, -6.0605998039245605, -6.095600128173828, -6.095600128173828, -6.036200046539307, -6.061699867248535, -6.151500225067139, -5.702899932861328, -5.965099811553955, -5.332399845123291, -5.899899959564209, -5.837900161743164, -4.770899772644043, -5.142000198364258, -5.375100135803223, -5.66949987411499, -5.615600109100342, -4.081099987030029, -5.480800151824951, -5.533100128173828, -5.673699855804443, -5.6209001541137695, -5.316500186920166, -5.714900016784668, -4.296899795532227, -5.419000148773193, -5.724699974060059, -5.6682000160217285, -5.603400230407715, -5.6350998878479, -5.5019001960754395, -5.524700164794922, -5.703800201416016, -5.672999858856201, -5.369800090789795, -5.2515997886657715, -5.442999839782715, -5.539899826049805, -5.628200054168701, -5.707300186157227, -5.789700031280518, -5.820899963378906, -5.711699962615967, -5.76230001449585, -5.81689977645874, -5.884799957275391, -5.417699813842773, -5.53410005569458, -5.461999893188477, -6.179699897766113, -5.0457000732421875, -5.236199855804443, -5.758600234985352, -5.48330020904541, -6.060200214385986, -5.835999965667725, -6.1143999099731445, -5.814700126647949, -6.168399810791016, -6.17710018157959, -6.1143999099731445, -6.364699840545654, -6.399799823760986, -6.422999858856201, -5.720300197601318, -5.969099998474121, -4.313600063323975, -5.647299766540527, -4.289000034332275, -5.082799911499023, -5.883500099182129, -5.303899765014648, -5.10699987411499, -5.3105998039245605, -5.51039981842041, -4.491499900817871, -5.230500221252441, -4.401199817657471, -5.218800067901611, -5.603899955749512, -5.521699905395508, -5.375, -5.13730001449585, -5.309500217437744, -4.92579984664917, -5.383200168609619, -5.017499923706055, -5.435299873352051, -5.450699806213379, -5.491399765014648, -5.454599857330322, -5.459799766540527, -4.951300144195557, -5.213600158691406, -5.371200084686279, -5.55109977722168, -5.643899917602539, -5.7042999267578125, -5.576700210571289, -5.1350998878479, -5.7129998207092285, -5.575900077819824, -5.7027997970581055, -5.602499961853027, -6.047100067138672, -5.695899963378906, -6.1092000007629395, -6.1743998527526855, -5.845900058746338, -5.168799877166748, -5.943399906158447, -6.2154998779296875, -6.224599838256836, -6.102799892425537, -6.097400188446045, -6.275400161743164, -6.281499862670898, -6.306000232696533, -6.306000232696533, -5.908599853515625, -6.363399982452393, -6.367800235748291, -5.109000205993652, -6.086699962615967, -5.46750020980835, -4.770100116729736, -5.295899868011475, -3.6979000568389893, -5.605199813842773, -5.426599979400635, -5.4868998527526855, -5.151000022888184, -5.38100004196167, -5.972499847412109, -5.209099769592285, -5.394199848175049, -4.821599960327148, -4.628300189971924, -4.879499912261963, -5.36959981918335, -5.171899795532227, -5.4232001304626465, -5.313499927520752, -5.402100086212158, -4.922100067138672, -4.952899932861328, -5.506499767303467, -5.144700050354004, -5.446100234985352, -5.4105000495910645, -5.479300022125244, -4.493000030517578, -5.315000057220459, -5.49970006942749, -5.535999774932861, -5.389400005340576, -5.4008002281188965, -5.703199863433838, -5.421599864959717, -5.669099807739258, -5.876699924468994, -5.808300018310547, -5.939899921417236, -5.785099983215332, -5.778500080108643, -5.836699962615967, -5.939899921417236, -6.0894999504089355, -6.113100051879883, -5.459499835968018, -5.303699970245361, -5.878799915313721, -5.534900188446045, -5.787499904632568, -5.545499801635742, -6.263599872589111, -6.224299907684326, -6.0019001960754395, -6.296599864959717, -6.322400093078613, -6.140200138092041, -5.434899806976318, -5.40369987487793, -5.5843000411987305, -5.524799823760986, -5.645599842071533, -4.584499835968018, -5.39139986038208, -5.770299911499023, -5.26170015335083, -5.059299945831299, -5.481500148773193, -5.3429999351501465, -5.433000087738037, -5.44789981842041, -5.598599910736084, -5.693900108337402, -5.306600093841553, -5.500800132751465, -5.37060022354126, -4.618800163269043, -5.544300079345703, -5.465199947357178, -5.531300067901611, -5.579500198364258, -5.181300163269043, -5.690999984741211, -5.711599826812744, -5.723700046539307, -5.636199951171875, -4.901500225067139, -5.677599906921387, -5.578000068664551, -5.867099761962891, -5.737100124359131, -5.910299777984619, -5.910299777984619, -5.988800048828125, -6.000800132751465, -5.82289981842041, -5.4004998207092285, -6.117800235748291, -5.686200141906738, -4.854400157928467, -5.915500164031982, -6.228499889373779, -6.228499889373779, -6.093200206756592, -5.213799953460693, -6.256700038909912, -6.256700038909912, -5.398200035095215, -5.853799819946289, -5.752299785614014, -6.3379998207092285, -5.937900066375732, -5.2733001708984375, -5.148499965667725, -5.069900035858154, -4.5619001388549805, -5.069799900054932, -4.451200008392334, -4.811600208282471, -4.976200103759766, -5.607500076293945, -5.218800067901611, -4.9770002365112305, -5.313799858093262, -5.501699924468994, -5.387899875640869, -5.2307000160217285, -5.567599773406982, -5.197999954223633, -4.888199806213379, -5.053599834442139, -5.280099868774414, -5.482399940490723, -4.85099983215332, -5.177199840545654, -5.369100093841553, -5.480299949645996, -5.49429988861084, -5.089900016784668, -4.846700191497803, -5.30679988861084, -5.495999813079834, -5.268799781799316, -5.26669979095459, -5.686699867248535, -5.814499855041504, -5.847700119018555, -5.854800224304199, -5.773099899291992, -5.575200080871582, -5.893899917602539, -5.749599933624268, -5.953000068664551, -6.0432000160217285, -6.048299789428711, -6.065700054168701, -5.9355998039245605, -6.0995001792907715, -5.882699966430664, -5.81220006942749, -5.934100151062012, -6.078199863433838, -6.128600120544434, -6.030200004577637, -6.167200088500977, -4.558300018310547, -6.210100173950195, -6.292799949645996, -5.536900043487549, -4.638199806213379, -5.010000228881836, -5.675000190734863, -5.680200099945068, -5.522900104522705, -5.363500118255615, -5.640399932861328, -5.542900085449219, -5.046299934387207, -5.188700199127197, -5.276500225067139, -4.809700012207031, -5.264100074768066, -5.766200065612793, -5.188600063323975, -5.537799835205078, -4.520899772644043, -4.029399871826172, -5.163000106811523, -5.2571001052856445, -5.110799789428711, -5.53410005569458, -5.595200061798096, -5.390399932861328, -5.545400142669678, -5.559899806976318, -5.406899929046631, -4.655399799346924, -5.467700004577637, -5.50439977645874, -5.021900177001953, -5.594299793243408, -5.406899929046631, -5.530700206756592, -5.231299877166748, -5.457600116729736, -5.7378997802734375, -5.908400058746338, -5.945000171661377, -5.961299896240234, -5.9644999504089355, -5.98769998550415, -5.0625, -6.086400032043457, -6.086400032043457, -5.852799892425537, -6.042099952697754, -6.082699775695801, -5.79010009765625, -6.0167999267578125, -6.143199920654297, -6.2129998207092285, -6.2129998207092285, -5.924300193786621, -5.348299980163574, -6.130899906158447, -5.645699977874756, -5.185400009155273, -3.7767999172210693, -5.863800048828125, -5.026000022888184, -5.583899974822998, -4.907100200653076, -5.05620002746582, -5.36359977722168, -5.0858001708984375, -5.595900058746338, -5.056099891662598, -5.44379997253418, -5.576499938964844, -5.325200080871582, -5.066999912261963, -4.684999942779541, -5.553800106048584, -5.623300075531006, -5.241000175476074, -5.467400074005127, -5.380799770355225, -5.35890007019043, -5.274799823760986, -5.363399982452393, -5.527699947357178, -5.519700050354004]}, \"token.table\": {\"Topic\": [1, 2, 3, 4, 5, 6, 7, 8, 9, 10, 11, 12, 13, 14, 15, 16, 17, 18, 19, 20, 21, 22, 24, 26, 27, 29, 30, 5, 13, 20, 25, 4, 7, 9, 17, 19, 21, 1, 13, 17, 21, 25, 1, 2, 4, 5, 8, 9, 10, 11, 12, 13, 16, 19, 21, 30, 1, 5, 8, 9, 13, 17, 19, 25, 28, 2, 4, 14, 19, 26, 18, 30, 18, 13, 1, 3, 4, 6, 7, 8, 9, 11, 13, 14, 15, 16, 17, 18, 30, 22, 12, 1, 2, 3, 6, 9, 12, 13, 16, 17, 18, 19, 22, 24, 29, 30, 1, 4, 6, 12, 15, 22, 30, 1, 3, 6, 7, 13, 14, 16, 19, 21, 24, 1, 3, 6, 10, 15, 20, 30, 4, 6, 11, 15, 18, 22, 25, 29, 6, 12, 14, 26, 25, 3, 6, 8, 9, 11, 12, 14, 16, 22, 23, 24, 30, 26, 6, 11, 11, 16, 21, 25, 30, 3, 5, 6, 11, 14, 18, 22, 26, 28, 29, 30, 1, 14, 16, 14, 2, 8, 14, 19, 22, 2, 30, 9, 30, 3, 6, 7, 13, 11, 12, 3, 4, 8, 9, 15, 16, 19, 29, 30, 6, 9, 15, 16, 2, 3, 8, 9, 12, 17, 19, 24, 25, 30, 7, 28, 11, 17, 3, 2, 6, 9, 12, 13, 14, 15, 16, 20, 22, 24, 22, 14, 18, 22, 7, 2, 6, 8, 11, 16, 19, 22, 25, 30, 29, 24, 27, 27, 8, 3, 4, 9, 12, 17, 19, 23, 24, 25, 18, 2, 3, 6, 8, 9, 18, 19, 12, 1, 2, 3, 4, 5, 6, 8, 9, 10, 12, 15, 17, 18, 23, 25, 27, 30, 18, 12, 29, 8, 30, 24, 10, 23, 17, 12, 27, 9, 11, 24, 26, 4, 5, 6, 7, 9, 11, 12, 14, 17, 21, 22, 23, 27, 1, 2, 14, 15, 22, 29, 1, 2, 4, 5, 11, 12, 14, 17, 19, 21, 22, 23, 24, 28, 29, 11, 12, 25, 24, 4, 8, 21, 29, 24, 5, 17, 14, 10, 5, 13, 13, 26, 10, 9, 28, 4, 17, 30, 16, 7, 22, 10, 28, 1, 12, 26, 3, 22, 30, 21, 26, 4, 30, 2, 20, 30, 1, 3, 4, 6, 7, 8, 9, 10, 11, 13, 14, 16, 18, 19, 20, 21, 22, 23, 25, 27, 28, 29, 5, 7, 5, 21, 1, 11, 8, 9, 15, 13, 17, 20, 17, 27, 7, 13, 26, 8, 2, 12, 14, 15, 16, 19, 25, 29, 3, 4, 6, 10, 16, 17, 20, 28, 30, 15, 14, 26, 14, 21, 5, 24, 18, 19, 13, 29, 11, 1, 2, 4, 6, 7, 8, 10, 12, 14, 16, 18, 20, 24, 25, 27, 28, 29, 30, 8, 17, 28, 29, 21, 7, 6, 15, 16, 28, 20, 25, 14, 23, 13, 2, 8, 15, 16, 18, 19, 14, 10, 14, 18, 14, 19, 18, 23, 27, 20, 18, 3, 13, 12, 15, 6, 9, 16, 21, 16, 30, 15, 25, 11, 2, 4, 5, 7, 8, 9, 10, 13, 15, 19, 24, 27, 28, 15, 8, 25, 1, 9, 28, 15, 18, 24, 2, 3, 4, 9, 10, 11, 14, 15, 18, 19, 19, 25, 11, 16, 21, 8, 25, 16, 16, 17, 28, 29, 8, 1, 2, 3, 5, 6, 7, 8, 9, 10, 11, 12, 13, 15, 16, 17, 18, 20, 21, 22, 23, 24, 25, 26, 29, 30, 2, 12, 21, 30, 5, 16, 10, 5, 20, 28, 11, 27, 28, 30, 14, 25, 27, 28, 11, 22, 27, 1, 2, 3, 4, 5, 6, 7, 9, 10, 11, 13, 14, 15, 16, 17, 18, 19, 20, 21, 23, 25, 26, 27, 28, 29, 30, 1, 2, 3, 4, 5, 6, 9, 13, 14, 15, 19, 25, 1, 2, 3, 5, 7, 9, 11, 14, 15, 16, 17, 21, 22, 23, 24, 25, 26, 27, 30, 20, 14, 29, 7, 22, 2, 4, 8, 14, 2, 1, 2, 3, 4, 5, 6, 7, 8, 9, 10, 11, 12, 13, 14, 15, 16, 17, 18, 19, 20, 21, 22, 23, 24, 25, 26, 27, 28, 29, 30, 21, 18, 6, 3, 9, 10, 14, 17, 26, 25, 6, 10, 12, 14, 23, 2, 5, 2, 3, 7, 8, 10, 18, 19, 21, 28, 29, 4, 24, 26, 8, 6, 9, 14, 27, 4, 6, 1, 17, 29, 16, 2, 20, 4, 8, 7, 14, 16, 24, 22, 3, 4, 17, 2, 28, 23, 9, 11, 12, 25, 8, 15, 27, 24, 25, 6, 8, 26, 11, 13, 23, 19, 2, 4, 7, 8, 11, 12, 20, 24, 20, 14, 27, 15, 1, 7, 18, 25, 7, 13, 16, 23, 24, 25, 6, 29, 3, 6, 12, 13, 17, 18, 21, 22, 23, 24, 29, 14, 28, 5, 10, 21, 28, 30, 3, 24, 9, 20, 29, 17, 10, 20, 28, 29, 27, 15, 25, 30, 3, 6, 7, 8, 9, 10, 12, 14, 16, 17, 22, 23, 24, 25, 26, 28, 29, 22, 3, 14, 16, 22, 24, 29, 30, 4, 7, 10, 13, 16, 18, 20, 21, 24, 29, 29, 28, 29, 21, 18, 4, 7, 8, 17, 23, 26, 9, 12, 17, 17, 6, 5, 12, 14, 19, 24, 22, 2, 4, 5, 7, 9, 18, 20, 28, 2, 7, 17, 24, 28, 3, 26, 27, 28, 29, 18, 4, 11, 20, 30, 9, 29, 12, 17, 21, 18, 12, 6, 2, 25, 4, 3, 9, 20, 19, 7, 4, 5, 7, 11, 15, 23, 27, 11, 15, 19, 19, 3, 8, 18, 26, 23, 29, 2, 11, 28, 17, 24, 12, 26, 2, 13, 16, 28, 2, 4, 6, 8, 14, 15, 23, 24, 27, 29, 30, 10, 12, 14, 18, 29, 30, 17, 18, 19, 24, 7, 21, 26, 3, 4, 3, 15, 5, 5, 1, 3, 4, 10, 14, 15, 19, 23, 24, 26, 10, 27, 28, 11, 17, 17, 19, 24, 25, 26, 28, 11, 12, 16, 22, 23, 25, 24, 3, 1, 8, 15, 27, 30, 2, 1, 2, 3, 9, 15, 16, 19, 24, 25, 29, 15, 14, 16, 3, 15, 17, 22, 14, 17, 7, 28, 7, 17, 3, 1, 2, 4, 5, 13, 14, 15, 18, 23, 25, 26, 1, 2, 3, 4, 5, 6, 7, 8, 9, 10, 11, 12, 13, 14, 15, 16, 17, 18, 19, 20, 21, 22, 23, 24, 25, 26, 27, 28, 29, 30, 5, 14, 25, 5, 6, 7, 8, 10, 11, 13, 18, 22, 24, 25, 26, 28, 29, 16, 28, 1, 2, 3, 5, 6, 7, 11, 12, 13, 20, 26, 28, 29, 7, 2, 4, 6, 8, 10, 13, 21, 24, 25, 8, 20, 18, 25, 3, 16, 5, 11, 16, 11, 16, 7, 10, 25, 26, 4, 16, 1, 2, 6, 7, 12, 16, 2, 3, 5, 7, 8, 9, 10, 11, 14, 15, 17, 22, 23, 24, 26, 27, 30, 9, 25, 23, 7, 12, 15, 28, 14, 14, 20, 29, 4, 16, 27, 14, 7, 8, 12, 19, 20, 24, 1, 5, 6, 7, 8, 9, 10, 11, 12, 16, 17, 19, 20, 26, 28, 29, 30, 28, 1, 8, 14, 16, 24, 25, 28, 15, 2, 6, 14, 15, 23, 24, 25, 1, 2, 7, 8, 9, 12, 14, 16, 26, 30, 12, 25, 26, 20, 23, 1, 19, 8, 9, 11, 16, 17, 25, 28, 8, 5, 2, 18, 13, 22, 27, 3, 4, 6, 9, 12, 16, 22, 29, 1, 5, 8, 9, 11, 19, 21, 25, 28, 29, 3, 9, 12, 26, 19, 22, 2, 27, 24, 3, 5, 6, 7, 8, 11, 12, 13, 16, 21, 24, 29, 25, 3, 5, 9, 29, 8, 10, 4, 23, 5, 12, 15, 17, 24, 25, 26, 29, 2, 6, 11, 19, 22, 27, 18, 24, 4, 15, 13, 1, 11, 14, 15, 28, 4, 7, 29, 3, 23, 25, 27, 22, 5, 6, 15, 29, 22, 5, 13, 8, 19, 12, 4, 3, 23, 27, 22, 5, 10, 20, 6, 18, 29, 29, 17, 16, 3, 10, 15, 2, 20, 22, 24, 6, 28, 22, 15, 17, 12, 10, 3, 8, 12, 20, 1, 4, 8, 17, 28, 29, 1, 8, 18, 21, 3, 5, 7, 11, 14, 17, 23, 26, 18, 2, 4, 19, 23, 5, 18, 7, 24, 2, 12, 2, 9, 11, 4, 12, 24, 20, 26, 17, 12, 30, 1, 30, 16, 19, 1, 2, 4, 7, 9, 12, 18, 22, 24, 25, 29, 1, 5, 17, 18, 20, 29, 4, 13, 15, 20, 2, 4, 15, 24, 2, 7, 11, 13, 18, 24, 30, 11, 1, 3, 29, 18, 2, 3, 10, 11, 13, 14, 15, 18, 19, 21, 25, 5, 20, 11, 7, 21, 28, 7, 14, 17, 29, 3, 17, 2, 11, 1, 10, 6, 6, 8, 9, 20, 23, 7, 3, 11, 23, 30, 1, 11, 13, 17, 19, 27, 7, 21, 27, 2, 3, 5, 7, 15, 18, 20, 10, 10, 22, 4, 1, 2, 4, 5, 8, 9, 11, 12, 13, 24, 26, 29, 12, 5, 24, 5, 6, 8, 9, 11, 14, 17, 24, 28, 1, 6, 14, 15, 16, 23, 2, 22, 13, 26, 8, 3, 5, 7, 12, 19, 21, 5, 20, 9, 19, 17, 18, 15, 21, 20, 21, 28, 20, 5, 9, 23, 3, 10, 9, 15, 26, 2, 7, 18, 4, 6, 8, 10, 13, 27, 18, 11, 20, 24, 6, 8, 14, 1, 5, 6, 9, 10, 11, 12, 15, 18, 19, 23, 26, 27, 28, 11, 24, 27, 17, 2, 18, 5, 15, 30, 17, 2, 3, 4, 5, 7, 9, 10, 13, 14, 17, 22, 23, 18, 27, 12, 22, 25, 9, 10, 20, 30, 2, 12, 20, 23, 4, 23, 28, 24, 6, 8, 17, 18, 19, 25, 29, 22, 7, 9, 19, 21, 22, 29, 24, 2, 5, 7, 8, 12, 14, 15, 16, 21, 26, 28, 10, 12, 16, 25, 26, 28, 10, 22, 3, 2, 12, 20, 4, 5, 11, 26, 5, 6, 7, 8, 9, 10, 11, 12, 15, 17, 18, 19, 24, 28, 4, 25, 2, 5, 2, 14, 10, 18, 13, 8, 1, 4, 4, 5, 23, 1, 28, 5, 7, 8, 2, 9, 13, 19, 21, 4, 12, 13, 22, 5, 9, 16, 22, 8, 23, 7, 9, 20, 23, 24, 4, 7, 13, 18, 2, 14, 20, 24, 9, 6, 10, 22, 24, 26, 27, 2, 9, 13, 4, 11, 14, 25, 27, 30, 13, 17, 29, 1, 8, 9, 15, 19, 22, 26, 30, 29, 12, 5, 16, 11, 3, 10, 16, 13, 16, 10, 11, 3, 11, 19, 23, 27, 4, 19, 24, 30, 5, 7, 12, 16, 10, 22, 30, 25, 27, 18, 3, 6, 7, 10, 11, 12, 16, 18, 22, 23, 26, 30, 7, 20, 22, 26, 28, 3, 9, 11, 12, 13, 15, 18, 23, 25, 26, 28, 2, 10, 12, 15, 17, 21, 29, 10, 17, 24, 10, 5, 7, 11, 28, 8, 7, 19, 10, 27, 10, 23, 23, 27, 27, 2, 8, 23, 2, 6, 11, 16, 20, 26, 5, 7, 14, 30, 7, 12, 23, 26, 2, 5, 12, 15, 16, 22, 23, 20, 12, 5, 13, 14, 16, 27, 15, 25, 18, 4, 3, 12, 25, 13, 1, 16, 16, 6, 4, 27, 28, 11, 10, 1, 3, 4, 7, 11, 14, 17, 25, 29, 22, 19, 25, 14, 28, 5, 21, 25, 29, 2, 3, 5, 11, 16, 29, 11, 29, 6, 30, 2, 16, 12, 4, 5, 8, 25, 23, 2, 4, 10, 11, 16, 24, 28, 30, 25, 11, 30, 7, 6, 9, 14, 15, 1, 8, 21, 19, 18, 2, 7, 12, 3, 3, 6, 10, 21, 22, 27, 29, 18, 29, 6, 4, 8, 29, 19, 25, 3, 6, 12, 23, 22, 14, 24, 20, 3, 6, 19, 28, 20, 5, 1, 2, 3, 5, 6, 8, 10, 12, 14, 15, 16, 21, 27, 30, 16, 21, 14, 27, 28, 29, 29, 11, 22, 10, 16, 23, 1, 3, 10, 4, 6, 10, 21, 29, 30, 8, 25, 29, 10, 9, 11, 4, 12, 15, 21, 23, 7, 8, 25, 27, 12, 2, 5, 7, 9, 30, 10, 15, 22, 7, 9, 6, 7, 10, 11, 12, 14, 16, 22, 4, 10, 2, 6, 20, 6, 26, 16, 14, 29, 5, 23, 30, 29, 12, 29, 2, 26, 29, 7, 10, 25, 28, 3, 13, 25, 3, 4, 15, 25, 29, 17, 1, 17, 21, 10, 16, 18, 25, 14, 15, 19, 8, 1, 4, 5, 7, 8, 10, 11, 12, 13, 15, 16, 17, 19, 25, 28, 29, 30, 3, 5, 9, 12, 14, 16, 17, 25, 28, 26, 24, 1, 2, 21, 3, 14, 18, 26, 18, 11, 14, 23, 26, 9, 18, 22, 11, 13, 7, 1, 10, 26, 16, 26, 17, 10, 1, 2, 4, 7, 8, 9, 10, 11, 12, 13, 15, 18, 20, 21, 23, 28, 30, 2, 1, 2, 4, 7, 9, 10, 16, 17, 21, 22, 25, 26, 29, 30, 1, 4, 5, 6, 9, 10, 12, 17, 19, 22, 23, 25, 26, 28, 1, 2, 4, 6, 7, 9, 11, 12, 13, 14, 17, 18, 13, 19, 20, 30, 2, 23, 1, 3, 4, 7, 17, 18, 20, 9, 1, 11, 12, 26, 26, 5, 25, 10, 1, 15, 19, 23, 3, 2, 4, 7, 9, 16, 19, 24, 27, 30, 20, 24, 2, 16, 23, 13, 13, 23, 2, 5, 6, 8, 9, 11, 19, 29, 2, 3, 4, 6, 8, 11, 14, 23, 29, 30, 5, 7, 11, 12, 17, 23, 29, 19, 1, 23, 28, 4, 5, 6, 8, 9, 10, 12, 20, 22, 23, 24, 29, 1, 2, 3, 5, 7, 9, 12, 13, 16, 17, 18, 19, 20, 21, 23, 28, 29, 2, 4, 5, 18, 21, 2, 7, 11, 4, 5, 7, 10, 14, 17, 12, 15, 11, 16, 20, 27, 1, 16, 17, 2, 3, 4, 5, 6, 9, 12, 15, 17, 19, 20, 22, 23, 24, 26, 29, 3, 7, 10, 18, 10, 6, 7, 12, 16, 22, 2, 6, 7, 9, 12, 10, 29, 2, 3, 10, 17, 25, 2, 15, 23, 24, 23, 9, 12, 19, 12, 16, 29, 4, 2, 21, 5, 6, 19, 30, 4, 10, 14, 21, 26, 8, 20, 19, 21, 2, 27, 1, 3, 4, 5, 9, 11, 12, 13, 15, 16, 17, 24, 29, 2, 29, 1, 15, 23, 2, 21, 22, 24, 28, 6, 14, 18, 30, 4, 24, 9, 20, 24, 11, 5, 1, 1, 14, 23, 15, 1, 21, 28, 7, 21, 11, 27, 20, 3, 2, 5, 11, 2, 5, 9, 11, 14, 18, 20, 14, 22, 26, 30, 5, 22, 6, 4, 5, 7, 9, 10, 11, 15, 25, 15, 6, 2, 13, 19, 17, 25, 1, 1, 20, 23, 24, 5, 11, 12, 16, 19, 25, 10, 1, 5, 12, 17, 19, 21, 26, 27, 4, 5, 11, 18, 6, 15, 22, 9, 27, 7, 3, 13, 17, 18, 21, 26, 27, 15, 13, 15, 2, 5, 7, 9, 12, 28, 3, 6, 11, 12, 15, 17, 22, 26, 28, 2, 3, 4, 5, 7, 9, 10, 11, 12, 14, 16, 18, 19, 21, 30, 10, 23, 20, 1, 4, 9, 12, 16, 17, 21, 29, 19, 8, 9, 10, 11, 19, 25, 27, 28, 25, 4, 17, 29, 21, 17, 11, 2, 3, 5, 9, 12, 16, 25, 27, 28, 4, 1, 2, 3, 4, 5, 6, 8, 9, 11, 12, 13, 15, 19, 20, 21, 25, 27, 28, 29, 30, 1, 16, 1, 4, 5, 11, 12, 17, 20, 23, 25, 26, 3, 5, 16, 18, 20, 1, 2, 4, 7, 11, 13, 14, 15, 16, 17, 21, 23, 30, 4, 6, 23, 27, 11, 23, 19, 4, 5, 12, 13, 20, 26, 30, 25, 3, 4, 7, 10, 11, 13, 14, 15, 18, 19, 21, 22, 23, 24, 12, 20, 29, 1, 7, 10, 12, 15, 19, 28, 5, 9, 1, 8, 1, 11, 12, 18, 20, 2, 4, 6, 7, 8, 18, 22, 23, 25, 26, 28, 1, 28, 7, 11, 27, 28, 29, 26, 20, 16, 21, 23, 13, 1, 12, 16, 17, 20, 22, 23, 30, 7, 8, 11, 12, 10, 12, 18, 24, 4, 10, 12, 26, 27, 28, 10, 2, 5, 24, 2, 5, 2, 5, 15, 19, 20, 23, 27, 28, 21, 29, 18, 20, 24, 16, 16, 13, 27, 12, 13, 23, 27, 4, 13, 18, 28, 30, 13, 19, 17, 3, 4, 12, 22, 24, 6, 7, 2, 3, 6, 8, 9, 11, 16, 17, 18, 20, 26, 27, 29, 23, 3, 9, 16, 17, 7, 27, 14, 21, 15, 1, 3, 11, 1, 2, 5, 7, 9, 12, 13, 14, 22, 23, 25, 26, 2, 3, 5, 6, 7, 10, 26, 1, 6, 7, 15, 20, 30, 23, 15, 23, 27, 29, 9, 11, 14, 27, 17, 1, 10, 23, 26, 28, 1, 2, 3, 4, 5, 6, 7, 8, 9, 10, 11, 12, 14, 15, 16, 17, 18, 19, 20, 22, 23, 24, 25, 26, 29, 30, 15, 2, 27, 3, 25, 26, 21, 3, 5, 8, 10, 18, 20, 26, 2, 9, 10, 15, 24, 14, 2, 4, 5, 7, 9, 19, 22, 25, 26, 30, 2, 5, 19, 2, 12, 18, 1, 2, 3, 5, 7, 8, 9, 11, 12, 13, 14, 18, 19, 20, 21, 22, 23, 24, 27, 28, 29, 9, 2, 4, 7, 9, 12, 14, 23, 27, 29, 30, 4, 30, 1, 2, 3, 6, 7, 11, 17, 19, 20, 26, 5, 25, 2, 7, 8, 10, 17, 19, 20, 21, 22, 23, 25, 27, 17, 8, 5, 22, 26, 5, 10, 7, 17, 16, 20, 27, 7, 8, 10, 16, 17, 18, 20, 24, 27, 1, 4, 6, 7, 9, 13, 14, 18, 21, 24, 26, 23, 24, 1, 2, 3, 5, 6, 7, 9, 10, 11, 12, 14, 17, 18, 20, 24, 25, 30, 16, 19, 23, 5, 6, 8, 14, 15, 17, 26, 30, 29, 30, 2, 8, 12, 23, 24, 26, 26, 21, 9, 12, 21, 26, 14, 29, 4, 9, 26, 5, 27, 14, 25, 24, 14, 19, 11, 17, 18, 29, 3, 20, 2, 6, 8, 9, 11, 14, 15, 16, 18, 22, 26, 12, 11, 3, 26, 13, 3, 26, 12, 4, 6, 13, 15, 22, 30, 2, 24, 5, 7, 28, 4, 5, 7, 13, 20, 22, 22, 1, 4, 7, 9, 14, 21, 26, 30, 6, 7, 22, 24, 17, 2, 4, 5, 6, 7, 9, 11, 12, 13, 14, 16, 17, 18, 19, 20, 22, 23, 25, 26, 28, 30, 2, 3, 4, 5, 7, 10, 11, 13, 14, 17, 19, 20, 23, 25, 27, 30, 17, 7, 15, 24, 25, 6, 7, 9, 15, 16, 19, 28, 8, 9, 10, 2, 7, 23, 12, 16, 27, 20, 22, 2, 7, 11, 14, 18, 24, 2, 11, 8, 24, 1, 2, 3, 4, 5, 9, 11, 12, 15, 16, 17, 24, 26, 28, 19, 25, 1, 3, 12, 17, 12, 12, 26, 10, 29, 1, 2, 4, 5, 6, 20, 23, 1, 2, 6, 12, 28, 30, 21, 9, 26, 28, 4, 2, 1, 8, 10, 13, 17, 3, 16, 1, 17, 11, 7, 4, 16, 19, 30, 30, 25, 7, 15, 28, 11, 20, 19, 11, 9, 17, 19, 21, 23, 25, 26, 1, 30, 2, 5, 7, 14, 15, 21, 30, 5, 10, 13, 15, 18, 27, 29, 5, 13, 21, 22, 5, 17, 20, 29, 28, 6, 23, 30, 30, 11, 19, 23, 10, 9, 11, 26, 29, 15, 18, 7, 2, 3, 5, 8, 15, 22, 23, 24, 19, 14, 3, 25, 13, 19, 29, 27, 9, 9, 12, 16, 2, 13, 29, 9, 9, 18, 9, 2, 4, 13, 5, 7, 4, 1, 8, 12, 3, 30, 24, 4, 5, 11, 18, 4, 17, 2, 17, 20, 22, 30, 8, 11, 16, 2, 30, 2, 5, 6, 9, 12, 13, 30, 3, 24, 27, 20, 21, 21, 7, 12, 5, 1, 9, 5, 7, 30, 4, 30, 5, 7, 8, 18, 21, 24, 29, 7, 12, 15, 18, 27, 3, 17, 21, 7, 27, 9, 2, 4, 7, 8, 20, 24, 25, 27, 29, 10, 19, 4, 21, 26, 4, 12, 14, 5, 14, 27, 16, 11, 14, 23, 24, 30, 4, 16, 1, 23, 24, 3, 11, 29, 1, 3, 4, 6, 7, 8, 12, 13, 18, 19, 20, 22, 23, 25, 30, 2, 12, 13, 22, 26, 17, 22, 19, 30, 2, 14, 16, 21, 15, 13, 13, 27, 3, 4, 6, 9, 11, 12, 14, 15, 19, 25, 27, 28, 1, 1, 3, 9, 14, 15, 26, 8, 24, 25, 27, 5, 15, 17, 1, 2, 3, 4, 5, 6, 7, 8, 9, 10, 11, 12, 13, 14, 15, 16, 17, 18, 19, 20, 21, 22, 23, 24, 25, 26, 27, 28, 29, 30, 10, 24, 13, 17, 15, 17, 29, 8, 11, 17, 18, 26, 28, 1, 2, 3, 4, 6, 7, 8, 9, 10, 11, 15, 18, 19, 20, 22, 24, 27, 27, 10, 28, 1, 3, 5, 7, 9, 10, 12, 13, 14, 18, 20, 22, 23, 25, 27, 29, 30, 5, 13, 28, 14, 24, 30, 12, 16, 26, 28, 17, 18, 24, 29, 16, 1, 2, 3, 4, 7, 12, 13, 14, 15, 17, 22, 25, 26, 28, 30, 16, 22, 1, 3, 4, 6, 8, 9, 12, 14, 15, 16, 17, 20, 23, 30, 15, 22, 16, 20, 15, 1, 6, 24, 9, 5, 25, 15, 23, 6, 9, 10, 13, 22, 24, 15, 19, 23, 27, 6, 16, 17, 18, 3, 4, 8, 12, 18, 19, 20, 26, 8, 12, 13, 15, 8, 5, 1, 2, 3, 6, 15, 28, 10, 9, 6, 14, 21, 28, 18, 4, 11, 12, 22, 8, 2, 4, 8, 29, 24, 30, 7, 6, 21, 4, 15, 3, 15, 21, 27, 23, 11, 6, 26, 13, 16, 23, 2, 4, 3, 10, 13, 15, 27, 3, 7, 11, 13, 19, 22, 24, 28, 19, 15, 30, 6, 29, 14, 15, 9, 19, 3, 13, 10, 17, 8, 9, 20, 24, 29, 5, 5, 3, 4, 5, 11, 23, 24, 26, 1, 2, 3, 4, 5, 7, 10, 11, 12, 13, 15, 16, 17, 18, 20, 23, 24, 26, 30, 2, 4, 5, 13, 16, 20, 30, 12, 21, 16, 8, 23, 12, 4, 27, 3, 12, 26, 29, 3, 4, 5, 23, 26, 29, 4, 3, 4, 2, 1, 29, 28, 11, 26, 3, 8, 10, 21, 22, 26, 4, 6, 9, 15, 24, 27, 30, 19, 13, 9, 26, 2, 5, 7, 11, 12, 16, 17, 24, 27, 21, 25, 25, 1, 8, 17, 12, 6, 20, 14, 16, 19, 28, 1, 5, 7, 8, 1, 17, 14, 3, 14, 30, 2, 3, 4, 11, 14, 21, 24, 25, 28, 9, 12, 18, 29, 14, 1, 3, 5, 6, 7, 8, 12, 13, 14, 16, 17, 18, 20, 21, 22, 24, 26, 27, 28, 2, 10, 12, 26, 7, 13, 13, 7, 13, 6, 9, 16, 6, 23, 7, 15, 6, 27, 21, 1, 7, 8, 10, 23, 26, 30, 2, 5, 10, 11, 13, 18, 23, 29, 1, 2, 6, 17, 1, 16, 28, 11, 15, 23, 23, 28, 5, 7, 20, 4, 28, 15, 2, 3, 4, 5, 6, 7, 8, 12, 13, 15, 16, 17, 18, 19, 21, 22, 23, 24, 25, 27, 28, 30, 12, 14, 17, 21, 23, 24, 25, 7, 9, 12, 17, 19, 20, 26, 27, 30, 22, 27, 9, 10, 13, 16, 17, 22, 23, 3, 12, 27, 30, 5, 2, 12, 3, 4, 9, 10, 17, 11, 12, 14, 3, 10, 19, 6, 23, 8, 19, 3, 4, 9, 20, 25, 4, 5, 16, 26, 28, 1, 2, 4, 7, 10, 12, 15, 30, 26, 24, 28, 9, 10, 14, 27, 3, 9, 23, 2, 3, 5, 6, 12, 17, 21, 23, 24, 25, 27, 29, 30, 9, 4, 7, 27, 22, 11, 18, 25, 24, 4, 8, 30, 22, 3, 8, 24, 26, 21, 30, 12, 20, 5, 8, 14, 20, 29, 5, 1, 13, 2, 11, 16, 1, 2, 4, 5, 6, 7, 13, 17, 19, 21, 26, 29, 11, 14, 15, 17, 20, 29, 8, 9, 12, 14, 17, 30, 15, 1, 4, 7, 25, 30, 1, 2, 3, 5, 7, 10, 11, 12, 13, 20, 22, 23, 24, 26, 6, 9, 23, 2, 2, 3, 4, 5, 6, 8, 10, 11, 14, 16, 21, 26, 27, 4, 8, 18, 24, 25, 28, 22, 4, 6, 15, 26, 3, 5, 7, 29, 14, 3, 6, 11, 12, 19, 24, 25, 28, 30, 6, 7, 8, 10, 25, 28, 2, 14, 22, 17, 18, 21, 29, 6, 1, 3, 9, 12, 2, 9, 12, 16, 25, 28, 3, 21, 23, 1, 4, 7, 10, 11, 13, 14, 15, 16, 17, 20, 26, 30, 2, 9, 24, 10, 13, 19, 22, 6, 11, 15, 20, 21, 23, 24, 28, 1, 3, 16, 5, 9, 17, 18, 19, 5, 1, 2, 3, 4, 5, 6, 7, 8, 9, 11, 12, 13, 14, 15, 16, 17, 18, 19, 20, 22, 23, 25, 26, 27, 28, 29, 2, 3, 6, 7, 8, 9, 11, 12, 13, 15, 17, 18, 22, 23, 24, 25, 26, 27, 28, 29, 30, 12, 13, 12, 8, 29, 1, 21, 28, 2, 3, 4, 6, 8, 9, 10, 11, 13, 14, 15, 16, 17, 19, 21, 22, 23, 24, 25, 27, 30, 12, 16], \"Freq\": [0.005534150637686253, 0.16602452099323273, 0.024903679266572, 0.030437828972935677, 0.008301226422190666, 0.3707880973815918, 0.07471103221178055, 0.027670754119753838, 0.0027670753188431263, 0.0027670753188431263, 0.02213660255074501, 0.005534150637686253, 0.033204905688762665, 0.008301226422190666, 0.005534150637686253, 0.011068301275372505, 0.008301226422190666, 0.11621716618537903, 0.008301226422190666, 0.016602452844381332, 0.0027670753188431263, 0.005534150637686253, 0.008301226422190666, 0.005534150637686253, 0.024903679266572, 0.0027670753188431263, 0.008301226422190666, 0.03565071523189545, 0.8199664354324341, 0.0713014304637909, 0.03565071523189545, 0.018764222040772438, 0.09382111579179764, 0.018764222040772438, 0.05629266798496246, 0.20640645921230316, 0.5816909074783325, 0.8927461504936218, 0.036192409694194794, 0.012064137496054173, 0.024128274992108345, 0.012064137496054173, 0.3570972979068756, 0.020405558869242668, 0.010202779434621334, 0.12243335694074631, 0.010202779434621334, 0.020405558869242668, 0.010202779434621334, 0.1122305765748024, 0.010202779434621334, 0.26527225971221924, 0.010202779434621334, 0.010202779434621334, 0.010202779434621334, 0.010202779434621334, 0.6882153749465942, 0.10498201102018356, 0.01166466809809208, 0.01166466809809208, 0.01166466809809208, 0.01166466809809208, 0.0816526785492897, 0.03499400243163109, 0.02332933619618416, 0.030925892293453217, 0.8659249544143677, 0.030925892293453217, 0.030925892293453217, 0.030925892293453217, 0.9108985662460327, 0.8282666802406311, 0.9504234194755554, 0.8904594779014587, 0.02671472169458866, 0.13357360661029816, 0.05342944338917732, 0.14693096280097961, 0.020036041736602783, 0.006678680423647165, 0.10685888677835464, 0.040072083473205566, 0.07346548140048981, 0.020036041736602783, 0.020036041736602783, 0.08682284504175186, 0.01335736084729433, 0.10018020123243332, 0.14693096280097961, 0.9047019481658936, 0.9507911801338196, 0.024261388927698135, 0.19409111142158508, 0.06065347418189049, 0.16982972621917725, 0.15769903361797333, 0.06065347418189049, 0.012130694463849068, 0.024261388927698135, 0.06065347418189049, 0.08491486310958862, 0.012130694463849068, 0.024261388927698135, 0.012130694463849068, 0.012130694463849068, 0.0727841705083847, 0.023788796737790108, 0.14273278415203094, 0.47577592730522156, 0.11894398182630539, 0.023788796737790108, 0.14273278415203094, 0.047577593475580215, 0.03565029427409172, 0.01782514713704586, 0.12477603554725647, 0.07130058854818344, 0.03565029427409172, 0.14260117709636688, 0.44562870264053345, 0.03565029427409172, 0.03565029427409172, 0.07130058854818344, 0.23911048471927643, 0.029888810589909554, 0.44833216071128845, 0.05977762117981911, 0.05977762117981911, 0.08966643363237381, 0.029888810589909554, 0.02323097735643387, 0.32523369789123535, 0.02323097735643387, 0.02323097735643387, 0.11615488678216934, 0.4181576073169708, 0.04646195471286774, 0.02323097735643387, 0.6696560382843018, 0.1339312046766281, 0.08928747475147247, 0.04464373737573624, 0.8973870277404785, 0.06928706169128418, 0.24250471591949463, 0.011547843925654888, 0.057739220559597015, 0.011547843925654888, 0.023095687851309776, 0.011547843925654888, 0.5081050992012024, 0.011547843925654888, 0.011547843925654888, 0.011547843925654888, 0.023095687851309776, 0.9633621573448181, 0.9483988881111145, 0.8958003520965576, 0.27073755860328674, 0.12032780796289444, 0.09024585783481598, 0.4512292742729187, 0.06016390398144722, 0.042096883058547974, 0.06314532458782196, 0.4630657136440277, 0.06314532458782196, 0.10524220764636993, 0.021048441529273987, 0.042096883058547974, 0.08419376611709595, 0.021048441529273987, 0.08419376611709595, 0.021048441529273987, 0.03239463269710541, 0.842260479927063, 0.06478926539421082, 0.9493016004562378, 0.040997110307216644, 0.6969508528709412, 0.08199422061443329, 0.040997110307216644, 0.08199422061443329, 0.12653692066669464, 0.8224899768829346, 0.13506370782852173, 0.7428504228591919, 0.7390896677970886, 0.035194747149944305, 0.035194747149944305, 0.14077898859977722, 0.14663740992546082, 0.7331870198249817, 0.2930867075920105, 0.013956509530544281, 0.1535215973854065, 0.013956509530544281, 0.027913019061088562, 0.3628692328929901, 0.027913019061088562, 0.08373905718326569, 0.027913019061088562, 0.947450578212738, 0.9376447796821594, 0.9153121709823608, 0.9382802844047546, 0.017740579321980476, 0.1419246345758438, 0.05322173982858658, 0.03548115864396095, 0.0709623172879219, 0.3548116087913513, 0.05322173982858658, 0.08870290219783783, 0.03548115864396095, 0.08870290219783783, 0.9607494473457336, 0.8816748857498169, 0.931100606918335, 0.8307830095291138, 0.9331264495849609, 0.048514656722545624, 0.024257328361272812, 0.2668306231498718, 0.012128664180636406, 0.024257328361272812, 0.07277198880910873, 0.06064332276582718, 0.03638599440455437, 0.2668306231498718, 0.14554397761821747, 0.012128664180636406, 0.9642737507820129, 0.09768616408109665, 0.7814893126487732, 0.048843082040548325, 0.9080797433853149, 0.0177919864654541, 0.12454390525817871, 0.2668797969818115, 0.0177919864654541, 0.08895993232727051, 0.08895993232727051, 0.08895993232727051, 0.0355839729309082, 0.2668797969818115, 0.934670627117157, 0.9068321585655212, 0.8566893935203552, 0.9011613130569458, 0.8993699550628662, 0.12575586140155792, 0.025151172652840614, 0.3772675693035126, 0.0754535123705864, 0.12575586140155792, 0.17605820298194885, 0.025151172652840614, 0.025151172652840614, 0.929865300655365, 0.9216694831848145, 0.027354680001735687, 0.1914827525615692, 0.10941872000694275, 0.027354680001735687, 0.16412808001041412, 0.027354680001735687, 0.437674880027771, 0.9616073966026306, 0.019532090052962303, 0.026042785495519638, 0.013021392747759819, 0.052085570991039276, 0.03255348280072212, 0.0065106963738799095, 0.013021392747759819, 0.026042785495519638, 0.019532090052962303, 0.0065106963738799095, 0.0065106963738799095, 0.5664305686950684, 0.10417114198207855, 0.013021392747759819, 0.0065106963738799095, 0.013021392747759819, 0.07161766290664673, 0.9128320217132568, 0.9454061985015869, 0.8457826972007751, 0.683564305305481, 0.22785475850105286, 0.9163278341293335, 0.8609569072723389, 0.8186874389648438, 0.9019024968147278, 0.8551425933837891, 0.8548960089683533, 0.8965085744857788, 0.0358603410422802, 0.9204524755477905, 0.8421687483787537, 0.08120840787887573, 0.016241682693362236, 0.06496673077344894, 0.016241682693362236, 0.03248336538672447, 0.21114186942577362, 0.03248336538672447, 0.016241682693362236, 0.08120840787887573, 0.06496673077344894, 0.016241682693362236, 0.19490018486976624, 0.16241681575775146, 0.08474618941545486, 0.04237309470772743, 0.5508502721786499, 0.04237309470772743, 0.21186548471450806, 0.04237309470772743, 0.23707979917526245, 0.010307817719876766, 0.11338599026203156, 0.10307817161083221, 0.020615635439753532, 0.010307817719876766, 0.020615635439753532, 0.05153908580541611, 0.041231270879507065, 0.020615635439753532, 0.25769543647766113, 0.010307817719876766, 0.07215472310781479, 0.020615635439753532, 0.010307817719876766, 0.06923531740903854, 0.20770594477653503, 0.6923531889915466, 0.8847126960754395, 0.13088253140449524, 0.5671576261520386, 0.06544126570224762, 0.19632378220558167, 0.9593736529350281, 0.0603351816534996, 0.8446925282478333, 0.9346228241920471, 0.9405649900436401, 0.9369058012962341, 0.8842552304267883, 0.9538108706474304, 0.8662582635879517, 0.8372665047645569, 0.2666912078857422, 0.6933971643447876, 0.08940093219280243, 0.08940093219280243, 0.8046083450317383, 0.9312981367111206, 0.1035677045583725, 0.82854163646698, 0.8496528267860413, 0.8432883620262146, 0.8311303853988647, 0.1278662085533142, 0.8840330839157104, 0.8684483766555786, 0.9295989871025085, 0.9458325505256653, 0.8879547715187073, 0.9097945094108582, 0.07559873163700104, 0.8315860033035278, 0.9160478115081787, 0.7567107677459717, 0.20637565851211548, 0.27614644169807434, 0.018721792846918106, 0.06084582582116127, 0.01404134463518858, 0.02808268927037716, 0.009360896423459053, 0.018721792846918106, 0.06084582582116127, 0.018721792846918106, 0.02808268927037716, 0.01404134463518858, 0.023402240127325058, 0.023402240127325058, 0.046804480254650116, 0.018721792846918106, 0.07956761866807938, 0.046804480254650116, 0.01404134463518858, 0.05616537854075432, 0.018721792846918106, 0.0046804482117295265, 0.1263720989227295, 0.9430400133132935, 0.03627077117562294, 0.91133713722229, 0.9215430021286011, 0.889874279499054, 0.8768608570098877, 0.6944085955619812, 0.1736021488904953, 0.1157347708940506, 0.9527003169059753, 0.05023692920804024, 0.9042646884918213, 0.9787030220031738, 0.9337249398231506, 0.9536659121513367, 0.05644260719418526, 0.9030817151069641, 0.9719046354293823, 0.09901651740074158, 0.019803304225206375, 0.4158693850040436, 0.019803304225206375, 0.09901651740074158, 0.019803304225206375, 0.03960660845041275, 0.27724626660346985, 0.030935296788811684, 0.030935296788811684, 0.06187059357762337, 0.4640294313430786, 0.030935296788811684, 0.15467648208141327, 0.15467648208141327, 0.030935296788811684, 0.9227411150932312, 0.9131452441215515, 0.8167856931686401, 0.07425324618816376, 0.7771279811859131, 0.07771279662847519, 0.8860397338867188, 0.901975691318512, 0.9167035222053528, 0.9048436284065247, 0.9250873923301697, 0.7940874695777893, 0.946668803691864, 0.01337690744549036, 0.01337690744549036, 0.01337690744549036, 0.01337690744549036, 0.02675381489098072, 0.20065361261367798, 0.040130723267793655, 0.10701525956392288, 0.01337690744549036, 0.1872767060995102, 0.040130723267793655, 0.01337690744549036, 0.01337690744549036, 0.16052289307117462, 0.02675381489098072, 0.01337690744549036, 0.040130723267793655, 0.06688454002141953, 0.4185531437397003, 0.2897675633430481, 0.09658918529748917, 0.12878558039665222, 0.9273930191993713, 0.8321343660354614, 0.9703190922737122, 0.9317163228988647, 0.06280314177274704, 0.8164408206939697, 0.0727599561214447, 0.8731194734573364, 0.8585513234138489, 0.893795907497406, 0.9170092344284058, 0.15440717339515686, 0.22058166563510895, 0.4632215201854706, 0.06617449969053268, 0.04411633312702179, 0.022058166563510895, 0.9069342613220215, 0.06522087752819061, 0.8152609467506409, 0.06522087752819061, 0.8391093015670776, 0.931110143661499, 0.05055231973528862, 0.20220927894115448, 0.65718013048172, 0.9237430691719055, 0.8548502922058105, 0.935366690158844, 0.9546457529067993, 0.877704918384552, 0.9164145588874817, 0.08440238982439041, 0.042201194912195206, 0.5908167362213135, 0.25320717692375183, 0.9582498073577881, 0.8887631297111511, 0.060014508664608, 0.900217592716217, 0.9582564830780029, 0.07004951685667038, 0.04202970862388611, 0.028019806370139122, 0.08405941724777222, 0.014009903185069561, 0.014009903185069561, 0.16811883449554443, 0.12608912587165833, 0.12608912587165833, 0.09806931763887405, 0.07004951685667038, 0.09806931763887405, 0.056039612740278244, 0.9380872845649719, 0.08635640144348145, 0.8635639548301697, 0.907308042049408, 0.04681915044784546, 0.8895638585090637, 0.13373839855194092, 0.8024303317070007, 0.8266184329986572, 0.06103408336639404, 0.040689390152692795, 0.22379164397716522, 0.40689390897750854, 0.020344695076346397, 0.020344695076346397, 0.08137878030538559, 0.020344695076346397, 0.08137878030538559, 0.020344695076346397, 0.9378290772438049, 0.9058424830436707, 0.09880141168832779, 0.049400705844163895, 0.7904112935066223, 0.10964732617139816, 0.8771786093711853, 0.936924934387207, 0.8616896271705627, 0.9164146184921265, 0.8534097075462341, 0.06095783784985542, 0.8641294836997986, 0.031245321035385132, 0.0039056651294231415, 0.05858497694134712, 0.0039056651294231415, 0.0039056651294231415, 0.0468679815530777, 0.0468679815530777, 0.019528325647115707, 0.019528325647115707, 0.07030197232961655, 0.039056651294231415, 0.015622660517692566, 0.031245321035385132, 0.02733965590596199, 0.05467931181192398, 0.039056651294231415, 0.007811330258846283, 0.02343399077653885, 0.2265285849571228, 0.02343399077653885, 0.007811330258846283, 0.031245321035385132, 0.07811330258846283, 0.042962316423654556, 0.042962316423654556, 0.9266110062599182, 0.6548957228660583, 0.04677826538681984, 0.2338913232088089, 0.7368031740188599, 0.18420079350471497, 0.8522056341171265, 0.23306389153003693, 0.03884398192167282, 0.699191689491272, 0.8938122391700745, 0.09650471061468124, 0.09650471061468124, 0.7237853407859802, 0.07574732601642609, 0.908967912197113, 0.05477427318692207, 0.8216140866279602, 0.9506303668022156, 0.12776754796504974, 0.7666052579879761, 0.8222569823265076, 0.005212405696511269, 0.0013031014241278172, 0.006515507120639086, 0.014334116131067276, 0.0039093042723834515, 0.0013031014241278172, 0.0013031014241278172, 0.005212405696511269, 0.0026062028482556343, 0.022152723744511604, 0.0039093042723834515, 0.0013031014241278172, 0.0013031014241278172, 0.018243420869112015, 0.0039093042723834515, 0.0026062028482556343, 0.0013031014241278172, 0.03257753700017929, 0.0026062028482556343, 0.011727913282811642, 0.020849622786045074, 0.0026062028482556343, 0.0013031014241278172, 0.0026062028482556343, 0.0026062028482556343, 0.10131528228521347, 0.11397969722747803, 0.03799322992563248, 0.050657641142606735, 0.03799322992563248, 0.025328820571303368, 0.025328820571303368, 0.46858319640159607, 0.03799322992563248, 0.050657641142606735, 0.012664410285651684, 0.012664410285651684, 0.06513650715351105, 0.03908190131187439, 0.06513650715351105, 0.05862285569310188, 0.03908190131187439, 0.05862285569310188, 0.02605460211634636, 0.1302730143070221, 0.032568253576755524, 0.07816380262374878, 0.019540950655937195, 0.10421840846538544, 0.00651365052908659, 0.06513650715351105, 0.05862285569310188, 0.06513650715351105, 0.02605460211634636, 0.07165015488862991, 0.00651365052908659, 0.950082540512085, 0.9100074768066406, 0.9076452851295471, 0.37686052918434143, 0.5652908086776733, 0.9545195698738098, 0.27086469531059265, 0.05417294055223465, 0.6500753164291382, 0.9332852363586426, 0.0795006975531578, 0.01987517438828945, 0.07287563383579254, 0.03312528878450394, 0.0795006975531578, 0.01987517438828945, 0.0397503487765789, 0.01987517438828945, 0.05631299316883087, 0.01987517438828945, 0.02650023065507412, 0.0397503487765789, 0.029812760651111603, 0.03312528878450394, 0.11262598633766174, 0.00662505766376853, 0.009937587194144726, 0.01325011532753706, 0.003312528831884265, 0.02650023065507412, 0.05300046131014824, 0.03312528878450394, 0.023187702521681786, 0.009937587194144726, 0.059625521302223206, 0.03643781691789627, 0.00662505766376853, 0.003312528831884265, 0.029812760651111603, 0.003312528831884265, 0.9346128106117249, 0.9645535945892334, 0.9111395478248596, 0.9619365930557251, 0.04342620074748993, 0.04342620074748993, 0.5211144089698792, 0.17370480298995972, 0.17370480298995972, 0.9097943305969238, 0.8017029166221619, 0.023579496890306473, 0.023579496890306473, 0.07073849439620972, 0.023579496890306473, 0.9507185220718384, 0.9464206695556641, 0.04216604679822922, 0.10541512072086334, 0.12649814784526825, 0.16866418719291687, 0.37949442863464355, 0.04216604679822922, 0.02108302339911461, 0.04216604679822922, 0.02108302339911461, 0.04216604679822922, 0.8435575366020203, 0.8103614449501038, 0.8006414175033569, 0.9569772481918335, 0.1677289456129074, 0.10063736885786057, 0.5367326140403748, 0.1677289456129074, 0.056842636317014694, 0.9094821810722351, 0.8894619345664978, 0.09280679374933243, 0.8352611660957336, 0.8952882289886475, 0.8788045644760132, 0.8779481649398804, 0.9307040572166443, 0.9027280211448669, 0.05343801900744438, 0.2671900987625122, 0.10687603801488876, 0.4809421896934509, 0.8585262298583984, 0.8092135787010193, 0.06743446737527847, 0.9370623230934143, 0.8583510518074036, 0.08583510667085648, 0.834638774394989, 0.8277989029884338, 0.06474853307008743, 0.1942455917596817, 0.71223384141922, 0.9358446002006531, 0.034660909324884415, 0.034660909324884415, 0.9473386406898499, 0.8514201641082764, 0.1282113939523697, 0.06410569697618484, 0.7692683935165405, 0.9070109724998474, 0.8681581020355225, 0.9372435808181763, 0.8347978591918945, 0.028510192409157753, 0.028510192409157753, 0.08553057163953781, 0.08553057163953781, 0.028510192409157753, 0.42765286564826965, 0.28510192036628723, 0.057020384818315506, 0.8877145648002625, 0.8808532357215881, 0.850936233997345, 0.9210997819900513, 0.04419955611228943, 0.5745941996574402, 0.22099776566028595, 0.08839911222457886, 0.21608898043632507, 0.10804449021816254, 0.05402224510908127, 0.05402224510908127, 0.486200213432312, 0.05402224510908127, 0.9402285814285278, 0.8778799176216125, 0.05824170634150505, 0.4271058440208435, 0.0388278029859066, 0.0194139014929533, 0.0388278029859066, 0.0194139014929533, 0.0194139014929533, 0.0776556059718132, 0.1164834126830101, 0.0776556059718132, 0.13589730858802795, 0.9026599526405334, 0.8944410681724548, 0.07016842067241669, 0.07016842067241669, 0.07016842067241669, 0.7016841769218445, 0.07016842067241669, 0.9469233751296997, 0.03787693753838539, 0.23268093168735504, 0.6980428099632263, 0.8599790334701538, 0.8988233208656311, 0.03493579849600792, 0.24455057084560394, 0.6288443207740784, 0.03493579849600792, 0.9009189009666443, 0.04981096461415291, 0.14943289756774902, 0.7969754338264465, 0.03601164370775223, 0.6001940369606018, 0.012003880925476551, 0.024007761850953102, 0.012003880925476551, 0.012003880925476551, 0.024007761850953102, 0.024007761850953102, 0.09603104740381241, 0.012003880925476551, 0.024007761850953102, 0.024007761850953102, 0.012003880925476551, 0.024007761850953102, 0.012003880925476551, 0.024007761850953102, 0.024007761850953102, 0.9520903825759888, 0.014484422281384468, 0.04345326870679855, 0.10139095783233643, 0.014484422281384468, 0.014484422281384468, 0.028968844562768936, 0.7821587920188904, 0.037046167999506, 0.037046167999506, 0.037046167999506, 0.037046167999506, 0.148184671998024, 0.40750783681869507, 0.074092335999012, 0.074092335999012, 0.037046167999506, 0.11113850027322769, 0.9233720898628235, 0.06832572817802429, 0.8199087381362915, 0.945890486240387, 0.9301193356513977, 0.45877009630203247, 0.17203877866268158, 0.09557709842920303, 0.03823084011673927, 0.1338079422712326, 0.09557709842920303, 0.05433986708521843, 0.7607581615447998, 0.163019597530365, 0.9115417003631592, 0.9255495667457581, 0.8912014961242676, 0.5199480056762695, 0.17331600189208984, 0.2022019922733307, 0.02888599969446659, 0.9479767680168152, 0.022512948140501976, 0.0900517925620079, 0.04502589628100395, 0.022512948140501976, 0.0900517925620079, 0.04502589628100395, 0.6753883957862854, 0.8567246198654175, 0.27816981077194214, 0.025288164615631104, 0.27816981077194214, 0.30345797538757324, 0.07586449384689331, 0.04466795548796654, 0.7146872878074646, 0.04466795548796654, 0.1340038776397705, 0.04466795548796654, 0.9532715678215027, 0.0467485636472702, 0.0467485636472702, 0.8882226943969727, 0.8891675472259521, 0.9488247632980347, 0.9679384231567383, 0.922613263130188, 0.9185917973518372, 0.9002460837364197, 0.8916647434234619, 0.9082029461860657, 0.9025148153305054, 0.848581850528717, 0.8622470498085022, 0.9220637083053589, 0.9235615730285645, 0.9695833921432495, 0.909046471118927, 0.9168813824653625, 0.9263286590576172, 0.034216076135635376, 0.034216076135635376, 0.06843215227127075, 0.5132411122322083, 0.1368643045425415, 0.06843215227127075, 0.17108038067817688, 0.9547305107116699, 0.10842763632535934, 0.8674210906028748, 0.9401441216468811, 0.06534590572118759, 0.7188049554824829, 0.06534590572118759, 0.09801885485649109, 0.10434076189994812, 0.834726095199585, 0.06622930616140366, 0.7616370320320129, 0.1324586123228073, 0.9232199788093567, 0.867486834526062, 0.9257089495658875, 0.8070880174636841, 0.08742962032556534, 0.029143208637833595, 0.029143208637833595, 0.7868666052818298, 0.02935679629445076, 0.17614077031612396, 0.02935679629445076, 0.08807038515806198, 0.02935679629445076, 0.02935679629445076, 0.02935679629445076, 0.11742718517780304, 0.3522815406322479, 0.05871359258890152, 0.02935679629445076, 0.03713661804795265, 0.11140985041856766, 0.5013443231582642, 0.018568309023976326, 0.12997816503047943, 0.18568308651447296, 0.0415167510509491, 0.9133685827255249, 0.884120523929596, 0.9530696272850037, 0.9314483404159546, 0.849088191986084, 0.9102290272712708, 0.06328444927930832, 0.8859822750091553, 0.8672168254852295, 0.93442702293396, 0.938848614692688, 0.9433131217956543, 0.10169986635446548, 0.30509960651397705, 0.16949978470802307, 0.08474989235401154, 0.016949977725744247, 0.016949977725744247, 0.016949977725744247, 0.08474989235401154, 0.05084993317723274, 0.13559982180595398, 0.9125568270683289, 0.9452782869338989, 0.9267850518226624, 0.1513805240392685, 0.7569026350975037, 0.0197102390229702, 0.0591307207942009, 0.0197102390229702, 0.7489891052246094, 0.1379716843366623, 0.8908344507217407, 0.9567034244537354, 0.38154953718185425, 0.027253538370132446, 0.13626769185066223, 0.10901415348052979, 0.3542959988117218, 0.9484591484069824, 0.898486316204071, 0.01316314097493887, 0.9345830082893372, 0.01316314097493887, 0.01316314097493887, 0.01316314097493887, 0.8396522998809814, 0.037532173097133636, 0.18766085803508759, 0.13136260211467743, 0.15012869238853455, 0.018766086548566818, 0.018766086548566818, 0.037532173097133636, 0.09383042901754379, 0.2064269483089447, 0.07506434619426727, 0.8803964853286743, 0.054199401289224625, 0.9213898181915283, 0.08528116345405579, 0.8528116345405579, 0.8395107388496399, 0.11193476617336273, 0.9090041518211365, 0.8418093919754028, 0.943282961845398, 0.9558106064796448, 0.3957141935825348, 0.5653060078620911, 0.9112701416015625, 0.009382471442222595, 0.028147414326667786, 0.1688844859600067, 0.046912357211112976, 0.009382471442222595, 0.01876494288444519, 0.009382471442222595, 0.028147414326667786, 0.009382471442222595, 0.01876494288444519, 0.6380080580711365, 0.032812297344207764, 0.03867163881659508, 0.06562459468841553, 0.02812482789158821, 0.02695295959711075, 0.04804658144712448, 0.05156218260526657, 0.060937125235795975, 0.08320261538028717, 0.06679646670818329, 0.04687471315264702, 0.03632790222764015, 0.02695295959711075, 0.009374942630529404, 0.045702844858169556, 0.021093619987368584, 0.012890545651316643, 0.009374942630529404, 0.03515603393316269, 0.05976525694131851, 0.025781091302633286, 0.009374942630529404, 0.02695295959711075, 0.04335910826921463, 0.002343735657632351, 0.014062413945794106, 0.030468562617897987, 0.02343735657632351, 0.0035156034864485264, 0.014062413945794106, 0.05518773943185806, 0.11037547886371613, 0.7726283669471741, 0.09284460544586182, 0.04642230272293091, 0.023211151361465454, 0.03481672704219818, 0.06963345408439636, 0.011605575680732727, 0.011605575680732727, 0.32495611906051636, 0.1740836352109909, 0.023211151361465454, 0.03481672704219818, 0.058027878403663635, 0.04642230272293091, 0.023211151361465454, 0.8696970343589783, 0.05435606464743614, 0.17327390611171722, 0.08663695305585861, 0.028878984972834587, 0.0770106241106987, 0.009626328013837337, 0.028878984972834587, 0.03850531205534935, 0.06738429516553879, 0.394679456949234, 0.009626328013837337, 0.009626328013837337, 0.028878984972834587, 0.028878984972834587, 0.8607169389724731, 0.16230586171150208, 0.05410195142030716, 0.01352548785507679, 0.01352548785507679, 0.12172938883304596, 0.04057646542787552, 0.10820390284061432, 0.0676274374127388, 0.41929012537002563, 0.8586258292198181, 0.8556163907051086, 0.913245677947998, 0.818841814994812, 0.927446186542511, 0.8882008790969849, 0.06134752184152603, 0.030673760920763016, 0.8895390629768372, 0.8057838082313538, 0.06714864820241928, 0.9326833486557007, 0.9132425785064697, 0.9167885184288025, 0.8490523099899292, 0.8971363306045532, 0.8823927044868469, 0.12922951579093933, 0.12922951579093933, 0.21538251638412476, 0.08615300804376602, 0.021538252010941505, 0.3876885175704956, 0.23873411118984222, 0.07639491558074951, 0.009549364447593689, 0.009549364447593689, 0.09549364447593689, 0.009549364447593689, 0.009549364447593689, 0.21963538229465485, 0.028648093342781067, 0.057296186685562134, 0.038197457790374756, 0.009549364447593689, 0.06684555113315582, 0.06684555113315582, 0.009549364447593689, 0.038197457790374756, 0.009549364447593689, 0.8528847694396973, 0.8447191715240479, 0.8149135708808899, 0.06992826610803604, 0.13985653221607208, 0.06992826610803604, 0.769210934638977, 0.9471468925476074, 0.905485987663269, 0.9426112771034241, 0.8505935668945312, 0.9427543878555298, 0.8836715221405029, 0.9193860292434692, 0.9541218280792236, 0.46125686168670654, 0.27132755517959595, 0.08139827102422714, 0.08139827102422714, 0.027132757008075714, 0.05426551401615143, 0.22152194380760193, 0.1308993399143219, 0.02013835869729519, 0.030207538977265358, 0.005034589674323797, 0.015103769488632679, 0.05034589767456055, 0.015103769488632679, 0.07551884651184082, 0.07048425823450089, 0.060415077954530716, 0.1308993399143219, 0.04027671739459038, 0.015103769488632679, 0.030207538977265358, 0.07551884651184082, 0.005034589674323797, 0.8671892285346985, 0.028249438852071762, 0.028249438852071762, 0.25424495339393616, 0.5649887919425964, 0.056498877704143524, 0.028249438852071762, 0.028249438852071762, 0.9746538400650024, 0.04475777968764305, 0.06713666766881943, 0.022378889843821526, 0.7385033369064331, 0.022378889843821526, 0.022378889843821526, 0.022378889843821526, 0.3530939221382141, 0.042371273040771484, 0.014123757369816303, 0.07061878591775894, 0.014123757369816303, 0.042371273040771484, 0.07061878591775894, 0.28247514367103577, 0.07061878591775894, 0.028247514739632607, 0.8800182342529297, 0.8720769286155701, 0.8851278424263, 0.6755719780921936, 0.30707815289497375, 0.8504375219345093, 0.957165539264679, 0.2520769536495209, 0.02291608788073063, 0.20624478161334991, 0.09166435152292252, 0.27499306201934814, 0.02291608788073063, 0.09166435152292252, 0.8425704836845398, 0.8502947092056274, 0.9432164430618286, 0.9056410193443298, 0.850726842880249, 0.8238159418106079, 0.09691952168941498, 0.033354680985212326, 0.033354680985212326, 0.5336748957633972, 0.033354680985212326, 0.033354680985212326, 0.16677339375019073, 0.033354680985212326, 0.06670936197042465, 0.22937916219234467, 0.0860171839594841, 0.014336197637021542, 0.028672395274043083, 0.04300859197974205, 0.5304393172264099, 0.014336197637021542, 0.028672395274043083, 0.014336197637021542, 0.014336197637021542, 0.10249937325716019, 0.794370174407959, 0.025624843314290047, 0.025624843314290047, 0.8945773839950562, 0.7970970869064331, 0.07133286446332932, 0.8559944033622742, 0.8607199192047119, 0.22348959743976593, 0.018624132499098778, 0.3538585305213928, 0.018624132499098778, 0.11174479871988297, 0.037248264998197556, 0.11174479871988297, 0.05587239935994148, 0.018624132499098778, 0.037248264998197556, 0.018624132499098778, 0.018624132499098778, 0.9409639835357666, 0.054576341062784195, 0.21830536425113678, 0.6003397703170776, 0.10915268212556839, 0.8755373358726501, 0.9025919437408447, 0.7088479399681091, 0.23628264665603638, 0.06456322222948074, 0.03228161111474037, 0.03228161111474037, 0.06456322222948074, 0.4196609556674957, 0.03228161111474037, 0.29053452610969543, 0.06456322222948074, 0.0836472436785698, 0.8364724516868591, 0.13709883391857147, 0.8225929737091064, 0.9338368773460388, 0.9252529740333557, 0.8706336617469788, 0.9059802293777466, 0.9059428572654724, 0.9820106029510498, 0.9241660237312317, 0.042269330471754074, 0.9299253225326538, 0.928498387336731, 0.9578995704650879, 0.8870862126350403, 0.10171020776033401, 0.40684083104133606, 0.45769593119621277, 0.07039599120616913, 0.07039599120616913, 0.07039599120616913, 0.7039598822593689, 0.9422817230224609, 0.9192336201667786, 0.10047906637191772, 0.7535929679870605, 0.10047906637191772, 0.9522814154624939, 0.9395636916160583, 0.8527876734733582, 0.9045491814613342, 0.935947835445404, 0.8998422622680664, 0.8336115479469299, 0.2595112919807434, 0.6487782597541809, 0.8865177035331726, 0.9813320636749268, 0.9463135004043579, 0.09484043717384338, 0.8535639643669128, 0.9177767634391785, 0.04738808050751686, 0.9477616548538208, 0.9278584122657776, 0.9374982118606567, 0.9522935152053833, 0.1871844381093979, 0.06239481270313263, 0.7487377524375916, 0.15461888909339905, 0.02576981484889984, 0.7730944156646729, 0.05153962969779968, 0.958914577960968, 0.9140281081199646, 0.9082602262496948, 0.85912024974823, 0.08591202646493912, 0.942683219909668, 0.8367928266525269, 0.829663097858429, 0.04148315265774727, 0.04148315265774727, 0.04148315265774727, 0.8601875901222229, 0.027174169197678566, 0.13587084412574768, 0.13587084412574768, 0.10869667679071426, 0.5434833765029907, 0.9348039627075195, 0.8381558656692505, 0.8830945491790771, 0.06793034821748734, 0.17105475068092346, 0.4789533019065857, 0.03421095013618469, 0.10263285040855408, 0.06842190027236938, 0.03421095013618469, 0.06842190027236938, 0.03421095013618469, 0.9566737413406372, 0.029405631124973297, 0.20583942532539368, 0.08821689337491989, 0.6469238996505737, 0.7953872084617615, 0.15907743573188782, 0.9305639266967773, 0.9640858173370361, 0.8220510482788086, 0.12646938860416412, 0.92069411277771, 0.9230061173439026, 0.04195482283830643, 0.8847647905349731, 0.05204498767852783, 0.05204498767852783, 0.14232032001018524, 0.8539219498634338, 0.9097145795822144, 0.4525022506713867, 0.5090650320053101, 0.8675963282585144, 0.8681919574737549, 0.9292799830436707, 0.8884966969490051, 0.2650139629840851, 0.2517632842063904, 0.14575769007205963, 0.013250698335468769, 0.013250698335468769, 0.013250698335468769, 0.06625349074602127, 0.13250698149204254, 0.013250698335468769, 0.06625349074602127, 0.013250698335468769, 0.6282259821891785, 0.055842313915491104, 0.20940867066383362, 0.013960578478872776, 0.013960578478872776, 0.055842313915491104, 0.08262046426534653, 0.8262046575546265, 0.23867574334144592, 0.7160272598266602, 0.14650017023086548, 0.5860006809234619, 0.07325008511543274, 0.14650017023086548, 0.45107442140579224, 0.060143254697322845, 0.030071627348661423, 0.21050138771533966, 0.18042977154254913, 0.030071627348661423, 0.9015292525291443, 0.9425088763237, 0.8637781143188477, 0.22409005463123322, 0.7170881628990173, 0.8585349917411804, 0.8525355458259583, 0.023402830585837364, 0.21062546968460083, 0.04680566117167473, 0.04680566117167473, 0.3042367994785309, 0.11701415479183197, 0.1404169797897339, 0.023402830585837364, 0.07020848989486694, 0.023402830585837364, 0.055739834904670715, 0.8918373584747314, 0.9134569764137268, 0.9079972505569458, 0.9449727535247803, 0.9381149411201477, 0.9196269512176514, 0.9836127758026123, 0.8270072340965271, 0.11026762425899506, 0.9256018996238708, 0.9225090146064758, 0.15497203171253204, 0.7748602032661438, 0.28814011812210083, 0.6586059927940369, 0.9420258402824402, 0.14181829988956451, 0.6145459413528442, 0.09454552829265594, 0.04727276414632797, 0.04727276414632797, 0.9504870176315308, 0.04149383679032326, 0.5809137225151062, 0.08298767358064651, 0.24896302819252014, 0.9417622685432434, 0.10374216735363007, 0.20748433470726013, 0.03458072245121002, 0.03458072245121002, 0.5878722667694092, 0.7925134301185608, 0.1251336932182312, 0.0417112335562706, 0.09496281296014786, 0.11395537853240967, 0.26589587330818176, 0.39884382486343384, 0.01899256370961666, 0.07597025483846664, 0.03798512741923332, 0.8146335482597351, 0.16385124623775482, 0.7373305559158325, 0.8856194019317627, 0.0375705249607563, 0.01878526248037815, 0.01878526248037815, 0.1690673679113388, 0.2442084103822708, 0.1690673679113388, 0.01878526248037815, 0.01878526248037815, 0.1878526210784912, 0.01878526248037815, 0.0939263105392456, 0.01878526248037815, 0.9427392482757568, 0.9115835428237915, 0.9357081055641174, 0.016446303576231003, 0.23024824261665344, 0.16446302831172943, 0.08223151415586472, 0.11512412130832672, 0.016446303576231003, 0.09867781400680542, 0.08223151415586472, 0.18090933561325073, 0.0762011781334877, 0.17780275642871857, 0.025400392711162567, 0.2286035418510437, 0.4572070837020874, 0.025400392711162567, 0.9466019868850708, 0.8679695129394531, 0.8903837203979492, 0.06849105656147003, 0.9149715304374695, 0.1331474781036377, 0.019021067768335342, 0.6847584247589111, 0.07608427107334137, 0.038042135536670685, 0.9524475336074829, 0.07013535499572754, 0.8416243195533752, 0.9399184584617615, 0.9138703942298889, 0.14277514815330505, 0.8566508889198303, 0.05731458216905594, 0.8597187399864197, 0.9226211905479431, 0.8315140008926392, 0.9189127087593079, 0.9345958828926086, 0.05329592898488045, 0.2131837159395218, 0.6928470730781555, 0.8550339341163635, 0.9709952473640442, 0.9262999296188354, 0.9636569023132324, 0.9560378193855286, 0.8248229026794434, 0.05155143141746521, 0.05155143141746521, 0.12498034536838531, 0.024996068328619003, 0.04999213665723801, 0.024996068328619003, 0.07498820871114731, 0.674893856048584, 0.907333254814148, 0.03732829913496971, 0.07465659826993942, 0.8585509061813354, 0.887443482875824, 0.7610546946525574, 0.17296698689460754, 0.07338244467973709, 0.17611786723136902, 0.044029466807842255, 0.27885329723358154, 0.05870595946907997, 0.029352979734539986, 0.029352979734539986, 0.044029466807842255, 0.05870595946907997, 0.029352979734539986, 0.05870595946907997, 0.029352979734539986, 0.08805893361568451, 0.91407710313797, 0.1502411961555481, 0.6760854125022888, 0.07512059807777405, 0.967829167842865, 0.8659219145774841, 0.9674218893051147, 0.9530820846557617, 0.10150976479053497, 0.8120781183242798, 0.9336415529251099, 0.12587818503379822, 0.011443471536040306, 0.12587818503379822, 0.03433041274547577, 0.12587818503379822, 0.1830955445766449, 0.045773886144161224, 0.011443471536040306, 0.17165207862854004, 0.05721735581755638, 0.05721735581755638, 0.05721735581755638, 0.08355532586574554, 0.8355532884597778, 0.8966355323791504, 0.09384617954492569, 0.8446155786514282, 0.7029162049293518, 0.14058324694633484, 0.0937221571803093, 0.0937221571803093, 0.9007514119148254, 0.07172947376966476, 0.07172947376966476, 0.8607537150382996, 0.9029744863510132, 0.06019829958677292, 0.8300050497055054, 0.8938071131706238, 0.0197362769395113, 0.0394725538790226, 0.1184176653623581, 0.21709904074668884, 0.1578902155160904, 0.2368353307247162, 0.1973627656698227, 0.8260136842727661, 0.02995096892118454, 0.1497548520565033, 0.5391174554824829, 0.1497548520565033, 0.02995096892118454, 0.08985290676355362, 0.8913636207580566, 0.29579874873161316, 0.13652250170707703, 0.022753750905394554, 0.03413062542676926, 0.04550750181078911, 0.09101500362157822, 0.07963812351226807, 0.11376874893903732, 0.05688437446951866, 0.05688437446951866, 0.04550750181078911, 0.4814002215862274, 0.10697782784700394, 0.05348891392350197, 0.2941890060901642, 0.026744456961750984, 0.026744456961750984, 0.9571005702018738, 0.9283544421195984, 0.9149134159088135, 0.03845717012882233, 0.03845717012882233, 0.8845149278640747, 0.6170359253883362, 0.1877935379743576, 0.13413824141025543, 0.026827648282051086, 0.05154925584793091, 0.07732388377189636, 0.07732388377189636, 0.09021119773387909, 0.025774627923965454, 0.15464776754379272, 0.06443656980991364, 0.012887313961982727, 0.012887313961982727, 0.025774627923965454, 0.025774627923965454, 0.2319716513156891, 0.14176045358181, 0.012887313961982727, 0.0767614096403122, 0.8443755507469177, 0.8988935351371765, 0.9400720596313477, 0.8374582529067993, 0.06441986560821533, 0.050708577036857605, 0.9127544164657593, 0.8980274796485901, 0.8980117440223694, 0.9647167325019836, 0.8700110912322998, 0.5388845205307007, 0.32333070039749146, 0.10777690261602402, 0.9042750000953674, 0.9238224625587463, 0.12769262492656708, 0.12769262492656708, 0.7023094296455383, 0.7318660020828247, 0.06653327494859695, 0.06653327494859695, 0.06653327494859695, 0.829906165599823, 0.04571620002388954, 0.04571620002388954, 0.13714860379695892, 0.7771753668785095, 0.9168667197227478, 0.9033945798873901, 0.09801055490970612, 0.7840844392776489, 0.872312068939209, 0.9160033464431763, 0.43010029196739197, 0.03308463841676712, 0.1654231995344162, 0.26467710733413696, 0.06616927683353424, 0.12846778333187103, 0.25693556666374207, 0.042822591960430145, 0.5138711333274841, 0.12939178943634033, 0.776350736618042, 0.08429635316133499, 0.8429635167121887, 0.9540297389030457, 0.09669087827205658, 0.1611514687538147, 0.03223029524087906, 0.12892118096351624, 0.3867635130882263, 0.09669087827205658, 0.3703581988811493, 0.5349618196487427, 0.04115091264247894, 0.06940171867609024, 0.06940171867609024, 0.13880343735218048, 0.10410258173942566, 0.06940171867609024, 0.5205128788948059, 0.33118632435798645, 0.602156937122345, 0.060215696692466736, 0.9679232239723206, 0.396232008934021, 0.10566186904907227, 0.26415467262268066, 0.026415467262268066, 0.0792464017868042, 0.0792464017868042, 0.026415467262268066, 0.9203318953514099, 0.8564016819000244, 0.789293110370636, 0.13154885172843933, 0.9504734873771667, 0.818697988986969, 0.1364496648311615, 0.8576565980911255, 0.07432885468006134, 0.8176174163818359, 0.10939107090234756, 0.7657375335693359, 0.4001404941082001, 0.07275281846523285, 0.4001404941082001, 0.036376409232616425, 0.036376409232616425, 0.08164346218109131, 0.040821731090545654, 0.12246519327163696, 0.7347911596298218, 0.7749735116958618, 0.05961334705352783, 0.05961334705352783, 0.05961334705352783, 0.909886360168457, 0.6697183847427368, 0.3044174313545227, 0.8734852075576782, 0.8218569159507751, 0.9416064620018005, 0.10100605338811874, 0.03366868570446968, 0.011222895234823227, 0.4489158093929291, 0.1234518438577652, 0.08978316187858582, 0.011222895234823227, 0.011222895234823227, 0.056114476174116135, 0.06733737140893936, 0.022445790469646454, 0.011222895234823227, 0.1391138881444931, 0.06955694407224655, 0.7651264071464539, 0.31868934631347656, 0.6373786926269531, 0.023449670523405075, 0.07034900784492493, 0.07034900784492493, 0.07034900784492493, 0.21104702353477478, 0.32829537987709045, 0.07034900784492493, 0.023449670523405075, 0.04689934104681015, 0.023449670523405075, 0.04689934104681015, 0.040846578776836395, 0.08169315755367279, 0.040846578776836395, 0.040846578776836395, 0.040846578776836395, 0.7760850191116333, 0.8937857747077942, 0.06553177535533905, 0.06553177535533905, 0.8519130945205688, 0.9503040909767151, 0.054347794502973557, 0.7065213322639465, 0.10869558900594711, 0.054347794502973557, 0.887505054473877, 0.9434427618980408, 0.9028546810150146, 0.9206811785697937, 0.928648829460144, 0.8248887658119202, 0.9374545812606812, 0.9520969390869141, 0.8551852703094482, 0.8819934129714966, 0.1292288452386856, 0.193843275308609, 0.6461442708969116, 0.10509835183620453, 0.021019669249653816, 0.2522360384464264, 0.14713768661022186, 0.2522360384464264, 0.21019670367240906, 0.7546045184135437, 0.04716278240084648, 0.09432556480169296, 0.09432556480169296, 0.9699684381484985, 0.9132966995239258, 0.07978986948728561, 0.7978986501693726, 0.03883257508277893, 0.31066060066223145, 0.019416287541389465, 0.19416287541389465, 0.09708143770694733, 0.13591401278972626, 0.1747465878725052, 0.8655731678009033, 0.9329660534858704, 0.026813652366399765, 0.4022047817707062, 0.5094594359397888, 0.026813652366399765, 0.9187735915184021, 0.18245716392993927, 0.775442898273468, 0.931384265422821, 0.9391999244689941, 0.9151661396026611, 0.34342244267463684, 0.6296077966690063, 0.9565857648849487, 0.17282401025295258, 0.8065119981765747, 0.8785774111747742, 0.9147483706474304, 0.5826265215873718, 0.2913132607936859, 0.07282831519842148, 0.9382896423339844, 0.9139659404754639, 0.030823398381471634, 0.030823398381471634, 0.0462350957095623, 0.030823398381471634, 0.030823398381471634, 0.6164679527282715, 0.0924701914191246, 0.015411699190735817, 0.10788189619779587, 0.921425461769104, 0.8079097270965576, 0.08079097419977188, 0.07303096354007721, 0.8763715624809265, 0.31529590487480164, 0.039411988109350204, 0.5911798477172852, 0.8986093401908875, 0.12018784880638123, 0.24037569761276245, 0.030046962201595306, 0.450704425573349, 0.030046962201595306, 0.06009392440319061, 0.9273806214332581, 0.9251421093940735, 0.9381425380706787, 0.8922125101089478, 0.8473252058029175, 0.11297669261693954, 0.9116125106811523, 0.11547891050577164, 0.11547891050577164, 0.7217432260513306, 0.02886972762644291, 0.8815070986747742, 0.013121487572789192, 0.05248595029115677, 0.039364464581012726, 0.026242975145578384, 0.07872892916202545, 0.6035884618759155, 0.17057934403419495, 0.013121487572789192, 0.9607698917388916, 0.8475853800773621, 0.8557407855987549, 0.8678683638572693, 0.9166022539138794, 0.8391027450561523, 0.8774492740631104, 0.7965852618217468, 0.9011711478233337, 0.8279451727867126, 0.8173596858978271, 0.8837788701057434, 0.902111828327179, 0.18708322942256927, 0.09354161471128464, 0.6547913551330566, 0.8684483766555786, 0.47885510325431824, 0.07367001473903656, 0.03683500736951828, 0.11050502210855484, 0.11050502210855484, 0.07367001473903656, 0.03683500736951828, 0.08605402708053589, 0.8605402708053589, 0.9684467911720276, 0.8336115479469299, 0.9178425669670105, 0.8897256851196289, 0.9315156936645508, 0.8506404161453247, 0.7387707233428955, 0.06716097146272659, 0.06716097146272659, 0.13432194292545319, 0.9023923277854919, 0.812554121017456, 0.13542568683624268, 0.8805460929870605, 0.06480361521244049, 0.12960723042488098, 0.7452415823936462, 0.8641492128372192, 0.9008098244667053, 0.7919229865074158, 0.10716479271650314, 0.030618511140346527, 0.015309255570173264, 0.061237022280693054, 0.04592776671051979, 0.061237022280693054, 0.260257363319397, 0.015309255570173264, 0.1684018075466156, 0.04592776671051979, 0.015309255570173264, 0.030618511140346527, 0.07654628157615662, 0.07654628157615662, 0.845785915851593, 0.08055104315280914, 0.7163949012756348, 0.24626074731349945, 0.8432884216308594, 0.8716251254081726, 0.9215408563613892, 0.7726415991783142, 0.16556605696678162, 0.8768926858901978, 0.9227780699729919, 0.9155898690223694, 0.8472044467926025, 0.060514602810144424, 0.060514602810144424, 0.13653099536895752, 0.06826549768447876, 0.03413274884223938, 0.44372573494911194, 0.20479649305343628, 0.8791281580924988, 0.21802958846092224, 0.05450739711523056, 0.7085961699485779, 0.9513821601867676, 0.8629097938537598, 0.8768608570098877, 0.039426423609256744, 0.15770569443702698, 0.039426423609256744, 0.6308227777481079, 0.07885284721851349, 0.16870543360710144, 0.11247028410434723, 0.056235142052173615, 0.6748217344284058, 0.9553841948509216, 0.05062372609972954, 0.05062372609972954, 0.8099796175956726, 0.05062372609972954, 0.9603919386863708, 0.7369412183761597, 0.13398930430412292, 0.9406951665878296, 0.87520831823349, 0.0673237219452858, 0.7951139211654663, 0.020924050360918045, 0.04184810072183609, 0.020924050360918045, 0.020924050360918045, 0.020924050360918045, 0.04184810072183609, 0.020924050360918045, 0.08237513154745102, 0.8237512707710266, 0.34892311692237854, 0.6106154322624207, 0.945571780204773, 0.9684470295906067, 0.8662582635879517, 0.8385509848594666, 0.9353733658790588, 0.9070314764976501, 0.9193060398101807, 0.04178663715720177, 0.04178663715720177, 0.9237577319145203, 0.09876158833503723, 0.8888543248176575, 0.9672216176986694, 0.7528857588768005, 0.1368883103132248, 0.9066036939620972, 0.22351104021072388, 0.024834560230374336, 0.745036780834198, 0.06228993088006973, 0.934349000453949, 0.9043062925338745, 0.024995526298880577, 0.3499373495578766, 0.12497762590646744, 0.1749686747789383, 0.32494184374809265, 0.8305352330207825, 0.11137867718935013, 0.7796507477760315, 0.055689338594675064, 0.8542324900627136, 0.9567239284515381, 0.9511852264404297, 0.9500730633735657, 0.9675500392913818, 0.9645327925682068, 0.924887478351593, 0.9862156510353088, 0.09602663666009903, 0.13094541430473328, 0.05237816274166107, 0.008729694411158562, 0.04364847019314766, 0.008729694411158562, 0.008729694411158562, 0.05237816274166107, 0.017459388822317123, 0.11348602175712585, 0.18332357704639435, 0.08729694038629532, 0.008729694411158562, 0.008729694411158562, 0.1484047919511795, 0.008729694411158562, 0.017459388822317123, 0.03991120681166649, 0.15964482724666595, 0.2594228684902191, 0.21951164305210114, 0.03991120681166649, 0.07982241362333298, 0.07982241362333298, 0.019955603405833244, 0.07982241362333298, 0.8195852637290955, 0.8631080389022827, 0.05289343744516373, 0.05289343744516373, 0.8462949991226196, 0.32206523418426514, 0.23422926664352417, 0.05855731666088104, 0.35134389996528625, 0.9015123248100281, 0.8467867374420166, 0.03681681305170059, 0.03681681305170059, 0.03681681305170059, 0.8781137466430664, 0.2976323366165161, 0.6547911763191223, 0.06966786831617355, 0.8360143899917603, 0.9105295538902283, 0.0583108626306057, 0.0583108626306057, 0.8163520693778992, 0.16628699004650116, 0.7649201154708862, 0.9128726720809937, 0.9546746015548706, 0.526091992855072, 0.014218702912330627, 0.08531221747398376, 0.014218702912330627, 0.02132805436849594, 0.049765460193157196, 0.03554675728082657, 0.014218702912330627, 0.007109351456165314, 0.049765460193157196, 0.007109351456165314, 0.007109351456165314, 0.028437405824661255, 0.09953092038631439, 0.02132805436849594, 0.03554675728082657, 0.007109351456165314, 0.9834432005882263, 0.27221477031707764, 0.03888782486319542, 0.02916586957871914, 0.009721956215798855, 0.3013806641101837, 0.10694152116775513, 0.06805369257926941, 0.02916586957871914, 0.04860978201031685, 0.009721956215798855, 0.02916586957871914, 0.01944391243159771, 0.009721956215798855, 0.01944391243159771, 0.41127172112464905, 0.044064827263355255, 0.07344137877225876, 0.014688275754451752, 0.014688275754451752, 0.044064827263355255, 0.14688275754451752, 0.05875310301780701, 0.13219447433948517, 0.014688275754451752, 0.014688275754451752, 0.014688275754451752, 0.014688275754451752, 0.014688275754451752, 0.9289125800132751, 0.037521738559007645, 0.18760868906974792, 0.16259419918060303, 0.30017390847206116, 0.012507245875895023, 0.06253623217344284, 0.025014491751790047, 0.037521738559007645, 0.037521738559007645, 0.05002898350358009, 0.08755072206258774, 0.8512603640556335, 0.07738730311393738, 0.058601122349500656, 0.9376179575920105, 0.9578725099563599, 0.9120640158653259, 0.13997051119804382, 0.4798988699913025, 0.03999157249927521, 0.11997471749782562, 0.03999157249927521, 0.11997471749782562, 0.03999157249927521, 0.9004159569740295, 0.16062961518764496, 0.2811018228530884, 0.04015740379691124, 0.44173145294189453, 0.8711352348327637, 0.6407697796821594, 0.3417438864707947, 0.9380662441253662, 0.20061379671096802, 0.08024551719427109, 0.5617186427116394, 0.08024551719427109, 0.9129961729049683, 0.22571684420108795, 0.05015929788351059, 0.025079648941755295, 0.025079648941755295, 0.4514336884021759, 0.025079648941755295, 0.05015929788351059, 0.025079648941755295, 0.12539824843406677, 0.8506987690925598, 0.8317838907241821, 0.7206075191497803, 0.06550977379083633, 0.13101954758167267, 0.929265022277832, 0.529068112373352, 0.4476730227470398, 0.16635538637638092, 0.38024088740348816, 0.04753011092543602, 0.1188252717256546, 0.02376505546271801, 0.02376505546271801, 0.16635538637638092, 0.07129516452550888, 0.960709810256958, 0.06648250669240952, 0.03324125334620476, 0.03324125334620476, 0.03324125334620476, 0.03324125334620476, 0.6648250818252563, 0.03324125334620476, 0.06648250669240952, 0.06648250669240952, 0.01896556280553341, 0.8724159002304077, 0.01896556280553341, 0.03793112561106682, 0.01896556280553341, 0.01896556280553341, 0.01896556280553341, 0.9468623399734497, 0.08894278109073639, 0.8894278407096863, 0.8789246678352356, 0.01872328855097294, 0.1685096025466919, 0.056169867515563965, 0.01872328855097294, 0.03744657710194588, 0.01872328855097294, 0.03744657710194588, 0.20595617592334747, 0.1872328817844391, 0.09361644089221954, 0.01872328855097294, 0.11233973503112793, 0.10695631802082062, 0.05347815901041031, 0.06684769690036774, 0.026739079505205154, 0.013369539752602577, 0.026739079505205154, 0.013369539752602577, 0.10695631802082062, 0.013369539752602577, 0.04010862112045288, 0.1470649391412735, 0.08021724224090576, 0.026739079505205154, 0.12032585591077805, 0.09358678013086319, 0.013369539752602577, 0.026739079505205154, 0.38898053765296936, 0.035361867398023605, 0.035361867398023605, 0.49506616592407227, 0.8845034241676331, 0.12408880889415741, 0.12408880889415741, 0.7445328831672668, 0.04403037950396538, 0.04403037950396538, 0.08806075900793076, 0.6604557037353516, 0.04403037950396538, 0.04403037950396538, 0.878966748714447, 0.9005500078201294, 0.0642351359128952, 0.0642351359128952, 0.1284702718257904, 0.706586480140686, 0.905174732208252, 0.8942503929138184, 0.08129549026489258, 0.04857800528407097, 0.17488081753253937, 0.16516521573066711, 0.08744040876626968, 0.009715600870549679, 0.05829360708594322, 0.04857800528407097, 0.1263028085231781, 0.009715600870549679, 0.009715600870549679, 0.038862403482198715, 0.009715600870549679, 0.05829360708594322, 0.019431201741099358, 0.04857800528407097, 0.07772480696439743, 0.7271125316619873, 0.12118542194366455, 0.060592710971832275, 0.935472309589386, 0.8676348924636841, 0.2379595786333084, 0.0475919134914875, 0.095183826982975, 0.6186949014663696, 0.8233066201210022, 0.10496702790260315, 0.052483513951301575, 0.052483513951301575, 0.6822856664657593, 0.052483513951301575, 0.8175880908966064, 0.07432619482278824, 0.1022191047668457, 0.034073036164045334, 0.5110955238342285, 0.27258428931236267, 0.06814607232809067, 0.0571838803589344, 0.0571838803589344, 0.8005743026733398, 0.0571838803589344, 0.9544883370399475, 0.1521293818950653, 0.836711585521698, 0.909428596496582, 0.9552515149116516, 0.8357070088386536, 0.09831846505403519, 0.9561724066734314, 0.8922326564788818, 0.9307412505149841, 0.8697867393493652, 0.9001322388648987, 0.05846764147281647, 0.8770146369934082, 0.23188650608062744, 0.1325065791606903, 0.4306463599205017, 0.09937992691993713, 0.03312664479017258, 0.8746244311332703, 0.958078145980835, 0.8995568752288818, 0.9080724716186523, 0.533447265625, 0.4334259033203125, 0.08699654042720795, 0.04349827021360397, 0.0144994230940938, 0.07249711453914642, 0.08699654042720795, 0.04349827021360397, 0.0289988461881876, 0.10149595886468887, 0.20299191772937775, 0.0579976923763752, 0.0144994230940938, 0.15949365496635437, 0.07249711453914642, 0.9116052985191345, 0.9018684029579163, 0.24089999496936798, 0.7226999998092651, 0.8988015055656433, 0.038001082837581635, 0.07600216567516327, 0.038001082837581635, 0.228006511926651, 0.5320152044296265, 0.9108400940895081, 0.08996652066707611, 0.8096987009048462, 0.9278807044029236, 0.8369666934013367, 0.07608788460493088, 0.18947990238666534, 0.6315996646881104, 0.12631992995738983, 0.8551591634750366, 0.95694500207901, 0.9220792055130005, 0.1580514758825302, 0.8297702670097351, 0.8635928630828857, 0.8350918889045715, 0.9167858958244324, 0.05392858013510704, 0.8281078338623047, 0.8321343660354614, 0.9249129295349121, 0.9806239008903503, 0.9012631177902222, 0.9272456169128418, 0.9087231755256653, 0.7526117563247681, 0.1736796349287033, 0.057893212884664536, 0.062032319605350494, 0.43422624468803406, 0.15508081018924713, 0.031016159802675247, 0.062032319605350494, 0.15508081018924713, 0.031016159802675247, 0.7580269575119019, 0.07580269873142242, 0.07580269873142242, 0.07580269873142242, 0.09756135940551758, 0.8780522346496582, 0.9042285680770874, 0.5108204483985901, 0.04441916570067406, 0.11104791611433029, 0.04441916570067406, 0.04441916570067406, 0.11104791611433029, 0.11104791611433029, 0.02220958285033703, 0.9303687214851379, 0.8977642059326172, 0.9447895884513855, 0.9569308161735535, 0.9330911040306091, 0.8988232016563416, 0.9110817909240723, 0.9005743265151978, 0.8345369696617126, 0.04909041151404381, 0.04909041151404381, 0.8675057888031006, 0.0200886782258749, 0.1607094258069992, 0.0200886782258749, 0.0401773564517498, 0.4017735719680786, 0.3214188516139984, 0.9239405989646912, 0.7942633628845215, 0.11186807602643967, 0.022373614832758904, 0.022373614832758904, 0.011186807416379452, 0.011186807416379452, 0.011186807416379452, 0.011186807416379452, 0.13686634600162506, 0.16423961520195007, 0.13686634600162506, 0.5474653840065002, 0.9681516289710999, 0.093723826110363, 0.8435144424438477, 0.8362005949020386, 0.11149340867996216, 0.9321373701095581, 0.111765056848526, 0.06705903261899948, 0.02235301211476326, 0.20117710530757904, 0.42470720410346985, 0.04470602422952652, 0.111765056848526, 0.9457191824913025, 0.8999913334846497, 0.9135127067565918, 0.07082372158765793, 0.047215815633535385, 0.779060959815979, 0.023607907816767693, 0.047215815633535385, 0.8908344507217407, 0.2878209352493286, 0.24354077875614166, 0.11070035398006439, 0.02214007079601288, 0.02214007079601288, 0.24354077875614166, 0.02214007079601288, 0.02214007079601288, 0.02214007079601288, 0.03143913298845291, 0.047158703207969666, 0.11003696918487549, 0.047158703207969666, 0.07859783619642258, 0.11003696918487549, 0.015719566494226456, 0.06287826597690582, 0.015719566494226456, 0.07859783619642258, 0.015719566494226456, 0.015719566494226456, 0.03143913298845291, 0.3458304703235626, 0.015719566494226456, 0.9456390142440796, 0.9496058821678162, 0.8609026670455933, 0.04325210675597191, 0.08650421351194382, 0.04325210675597191, 0.04325210675597191, 0.17300842702388763, 0.04325210675597191, 0.5190253257751465, 0.04325210675597191, 0.9655286073684692, 0.9232892394065857, 0.11979015171527863, 0.11979015171527863, 0.15972019731998444, 0.03993004932999611, 0.5190906524658203, 0.03993004932999611, 0.8668678402900696, 0.9313381314277649, 0.059448979794979095, 0.7728367447853088, 0.11889795958995819, 0.8495509624481201, 0.9370459914207458, 0.9333801865577698, 0.037304047495126724, 0.540908694267273, 0.018652023747563362, 0.018652023747563362, 0.11191213876008987, 0.037304047495126724, 0.037304047495126724, 0.05595606938004494, 0.13056416809558868, 0.9067726135253906, 0.39970988035202026, 0.04927930235862732, 0.02190191112458706, 0.032852865755558014, 0.032852865755558014, 0.005475477781146765, 0.005475477781146765, 0.038328345865011215, 0.038328345865011215, 0.01095095556229353, 0.12593598663806915, 0.04380382224917412, 0.005475477781146765, 0.016426432877779007, 0.02737738937139511, 0.04380382224917412, 0.04380382224917412, 0.02190191112458706, 0.016426432877779007, 0.016426432877779007, 0.9401373863220215, 0.950904130935669, 0.020841557532548904, 0.16673246026039124, 0.04168311506509781, 0.27094024419784546, 0.10420778393745422, 0.18757401406764984, 0.06252466887235641, 0.08336623013019562, 0.020841557532548904, 0.020841557532548904, 0.033623144030570984, 0.033623144030570984, 0.033623144030570984, 0.033623144030570984, 0.8405786156654358, 0.17139707505702972, 0.017139708623290062, 0.017139708623290062, 0.05141912400722504, 0.4113529920578003, 0.017139708623290062, 0.034279417246580124, 0.034279417246580124, 0.11997795850038528, 0.017139708623290062, 0.017139708623290062, 0.06855883449316025, 0.017139708623290062, 0.037942074239254, 0.037942074239254, 0.6829573512077332, 0.227652445435524, 0.8241877555847168, 0.07492616027593613, 0.9048436284065247, 0.09477411955595016, 0.02369352988898754, 0.07108058780431747, 0.09477411955595016, 0.3317094147205353, 0.37909647822380066, 0.02369352988898754, 0.7652520537376404, 0.08156129717826843, 0.13981936872005463, 0.03495484218001366, 0.11651614308357239, 0.058258071541786194, 0.15147098898887634, 0.046606454998254776, 0.03495484218001366, 0.011651613749563694, 0.06990968436002731, 0.11651614308357239, 0.011651613749563694, 0.03495484218001366, 0.09321290999650955, 0.10711730271577835, 0.8569384217262268, 0.053558651357889175, 0.2916240990161896, 0.04486524686217308, 0.02243262343108654, 0.04486524686217308, 0.4710850715637207, 0.02243262343108654, 0.08973049372434616, 0.2522994875907898, 0.6559786200523376, 0.9284451603889465, 0.9697545766830444, 0.29794013500213623, 0.03724251687526703, 0.03724251687526703, 0.5958802700042725, 0.893565833568573, 0.08796195685863495, 0.014660326763987541, 0.014660326763987541, 0.014660326763987541, 0.029320653527975082, 0.1612635999917984, 0.058641307055950165, 0.014660326763987541, 0.10262228548526764, 0.39582881331443787, 0.10262228548526764, 0.8149930238723755, 0.12538354098796844, 0.21790869534015656, 0.6537260413169861, 0.04358173906803131, 0.04358173906803131, 0.04358173906803131, 0.9036862850189209, 0.8301740288734436, 0.05370619148015976, 0.10741238296031952, 0.8055928945541382, 0.967299222946167, 0.035617195069789886, 0.07123439013957977, 0.10685158520936966, 0.035617195069789886, 0.42740634083747864, 0.14246878027915955, 0.035617195069789886, 0.10685158520936966, 0.035691335797309875, 0.49967867136001587, 0.24983933568000793, 0.17845667898654938, 0.050743453204631805, 0.7357800602912903, 0.050743453204631805, 0.1268586367368698, 0.061095114797353745, 0.20365038514137268, 0.12219022959470749, 0.44803082942962646, 0.061095114797353745, 0.0814601480960846, 0.8989222049713135, 0.08101151883602142, 0.729103684425354, 0.16202303767204285, 0.8403043150901794, 0.8263712525367737, 0.14091123640537262, 0.035227809101343155, 0.10568343102931976, 0.035227809101343155, 0.035227809101343155, 0.14091123640537262, 0.07045561820268631, 0.3875059187412262, 0.09857910871505737, 0.8872119784355164, 0.9535768628120422, 0.8894036412239075, 0.07733944803476334, 0.8946959376335144, 0.895693838596344, 0.9283087253570557, 0.9656561613082886, 0.8781887292861938, 0.9613516330718994, 0.9376648664474487, 0.8877959847450256, 0.13912059366703033, 0.5286582708358765, 0.1669447124004364, 0.05564824119210243, 0.05564824119210243, 0.6746472120285034, 0.20758375525474548, 0.8960826396942139, 0.03290353715419769, 0.13161414861679077, 0.03290353715419769, 0.4606495201587677, 0.29613184928894043, 0.883820116519928, 0.058921344578266144, 0.11681585758924484, 0.01668797992169857, 0.70923912525177, 0.01668797992169857, 0.008343989960849285, 0.01668797992169857, 0.01668797992169857, 0.02503196895122528, 0.02503196895122528, 0.008343989960849285, 0.01668797992169857, 0.008343989960849285, 0.008343989960849285, 0.9270142316818237, 0.032708149403333664, 0.032708149403333664, 0.8504118323326111, 0.06541629880666733, 0.8369338512420654, 0.9044421911239624, 0.08638773113489151, 0.8638772964477539, 0.9568299651145935, 0.9518001675605774, 0.955250084400177, 0.9543563723564148, 0.017992600798606873, 0.08996300399303436, 0.3418594002723694, 0.017992600798606873, 0.017992600798606873, 0.017992600798606873, 0.28788161277770996, 0.05397780239582062, 0.017992600798606873, 0.10795560479164124, 0.017992600798606873, 0.017992600798606873, 0.06226959079504013, 0.14529570937156677, 0.04151305928826332, 0.33210447430610657, 0.04151305928826332, 0.06226959079504013, 0.2698349058628082, 0.08352775126695633, 0.29234713315963745, 0.5429303646087646, 0.041763875633478165, 0.9216695427894592, 0.807803213596344, 0.8693111538887024, 0.04496098682284355, 0.8092977404594421, 0.04496098682284355, 0.04496098682284355, 0.891417920589447, 0.16052284836769104, 0.05350761488080025, 0.7491065859794617, 0.8948553800582886, 0.22497022151947021, 0.11248511075973511, 0.6374156475067139, 0.8278537392616272, 0.9559992551803589, 0.5673143863677979, 0.03196137398481369, 0.002663447754457593, 0.03196137398481369, 0.09055721759796143, 0.007990343496203423, 0.007990343496203423, 0.005326895508915186, 0.010653791017830372, 0.002663447754457593, 0.007990343496203423, 0.04261516407132149, 0.015980686992406845, 0.005326895508915186, 0.002663447754457593, 0.002663447754457593, 0.02397102862596512, 0.04527860879898071, 0.03196137398481369, 0.005326895508915186, 0.021307582035660744, 0.005326895508915186, 0.013317238539457321, 0.010653791017830372, 0.002663447754457593, 0.002663447754457593, 0.8858609199523926, 0.9562696814537048, 0.03187565878033638, 0.4105524718761444, 0.22106671333312988, 0.3473905324935913, 0.9391170144081116, 0.16027206182479858, 0.040068015456199646, 0.08013603091239929, 0.040068015456199646, 0.08013603091239929, 0.040068015456199646, 0.5208841562271118, 0.18823692202568054, 0.07529476284980774, 0.2635316848754883, 0.07529476284980774, 0.3764738440513611, 0.881116509437561, 0.13306112587451935, 0.03801746293902397, 0.05702619627118111, 0.019008731469511986, 0.019008731469511986, 0.5512531995773315, 0.07603492587804794, 0.05702619627118111, 0.019008731469511986, 0.05702619627118111, 0.9534655213356018, 0.8456568717956543, 0.060404062271118164, 0.0657893493771553, 0.0657893493771553, 0.789472222328186, 0.007514548487961292, 0.10520368069410324, 0.06763093918561935, 0.16532006859779358, 0.007514548487961292, 0.06011638790369034, 0.022543644532561302, 0.11271822452545166, 0.007514548487961292, 0.08266003429889679, 0.06763093918561935, 0.007514548487961292, 0.07514548301696777, 0.015029096975922585, 0.08266003429889679, 0.007514548487961292, 0.015029096975922585, 0.045087289065122604, 0.022543644532561302, 0.007514548487961292, 0.007514548487961292, 0.9175014495849609, 0.12451555579900742, 0.29572445154190063, 0.015564444474875927, 0.07782222330570221, 0.046693332493305206, 0.046693332493305206, 0.06225777789950371, 0.015564444474875927, 0.15564444661140442, 0.14008000493049622, 0.8963609933853149, 0.8706867098808289, 0.08911241590976715, 0.1604023575782776, 0.03564496710896492, 0.1604023575782776, 0.05346745252609253, 0.28515973687171936, 0.08911241590976715, 0.01782248355448246, 0.05346745252609253, 0.05346745252609253, 0.21824832260608673, 0.7638691067695618, 0.21230797469615936, 0.015164855867624283, 0.1819782704114914, 0.12131884694099426, 0.12131884694099426, 0.07582427561283112, 0.07582427561283112, 0.12131884694099426, 0.030329711735248566, 0.015164855867624283, 0.015164855867624283, 0.015164855867624283, 0.8653386235237122, 0.8912790417671204, 0.8338667750358582, 0.9194145202636719, 0.8828772306442261, 0.6999102234840393, 0.2799640893936157, 0.1262742578983307, 0.7576456069946289, 0.05288363993167877, 0.26441821455955505, 0.5817200541496277, 0.9374205470085144, 0.1170879378914833, 0.08781595528125763, 0.4683517515659332, 0.05854396894574165, 0.029271984472870827, 0.08781595528125763, 0.029271984472870827, 0.05854396894574165, 0.018027137964963913, 0.036054275929927826, 0.036054275929927826, 0.34251564741134644, 0.10816283524036407, 0.018027137964963913, 0.10816283524036407, 0.07210855185985565, 0.16224424540996552, 0.018027137964963913, 0.07210855185985565, 0.034249089658260345, 0.9247254133224487, 0.036683037877082825, 0.009170759469270706, 0.07336607575416565, 0.009170759469270706, 0.009170759469270706, 0.018341518938541412, 0.009170759469270706, 0.07336607575416565, 0.18341518938541412, 0.018341518938541412, 0.2934643030166626, 0.04585379734635353, 0.02751227840781212, 0.11004911363124847, 0.009170759469270706, 0.06419532001018524, 0.009170759469270706, 0.8495600819587708, 0.10619501024484634, 0.9629450440406799, 0.8750783801078796, 0.1402340978384018, 0.3739576041698456, 0.1402340978384018, 0.1168617531657219, 0.1168617531657219, 0.0701170489192009, 0.02337235026061535, 0.0411425344645977, 0.9462782740592957, 0.12373609095811844, 0.7424165606498718, 0.06186804547905922, 0.9171871542930603, 0.8622287511825562, 0.06632528454065323, 0.9647999405860901, 0.913798987865448, 0.050332799553871155, 0.050332799553871155, 0.050332799553871155, 0.8556576371192932, 0.8330538272857666, 0.8971010446548462, 0.09491484612226486, 0.8542335629463196, 0.9574844837188721, 0.08645424246788025, 0.7780881524085999, 0.93763667345047, 0.8987500071525574, 0.8366522192955017, 0.859488844871521, 0.9452261328697205, 0.19077706336975098, 0.047694265842437744, 0.09538853168487549, 0.6200254559516907, 0.12383570522069931, 0.8049321174621582, 0.012993955053389072, 0.33784282207489014, 0.18191537261009216, 0.25987911224365234, 0.012993955053389072, 0.012993955053389072, 0.012993955053389072, 0.012993955053389072, 0.05197582021355629, 0.06496977806091309, 0.025987910106778145, 0.9125521183013916, 0.8558518290519714, 0.953579843044281, 0.8148328065872192, 0.9634093046188354, 0.9685158729553223, 0.9071148633956909, 0.968691885471344, 0.028885990381240845, 0.028885990381240845, 0.08665797114372253, 0.17331594228744507, 0.5199478268623352, 0.14442995190620422, 0.10752280056476593, 0.8601824045181274, 0.7000223398208618, 0.06363839656114578, 0.12727679312229156, 0.6646797060966492, 0.15106357634067535, 0.06042543053627014, 0.03021271526813507, 0.03021271526813507, 0.06042543053627014, 0.9373850226402283, 0.0373813770711422, 0.41119515895843506, 0.20559757947921753, 0.056072067469358444, 0.20559757947921753, 0.0186906885355711, 0.0373813770711422, 0.0186906885355711, 0.9524015188217163, 0.8976689577102661, 0.9450433254241943, 0.9084615111351013, 0.8897143602371216, 0.052215900272130966, 0.019580962136387825, 0.08485084027051926, 0.026107950136065483, 0.06526987254619598, 0.03263493627309799, 0.026107950136065483, 0.026107950136065483, 0.07179686427116394, 0.07179686427116394, 0.11095878481864929, 0.03916192427277565, 0.019580962136387825, 0.06526987254619598, 0.006526987534016371, 0.15012072026729584, 0.03916192427277565, 0.006526987534016371, 0.0783238485455513, 0.006526987534016371, 0.006526987534016371, 0.10771152377128601, 0.46931448578834534, 0.1307925581932068, 0.01538736093789339, 0.007693680468946695, 0.01538736093789339, 0.007693680468946695, 0.023081041872501373, 0.03077472187578678, 0.007693680468946695, 0.007693680468946695, 0.03846840187907219, 0.007693680468946695, 0.053855761885643005, 0.06154944375157356, 0.007693680468946695, 0.8725165128707886, 0.06445616483688354, 0.06445616483688354, 0.7090177536010742, 0.1289123296737671, 0.9025148749351501, 0.12859994173049927, 0.3857998549938202, 0.3857998549938202, 0.10287995636463165, 0.08574722707271576, 0.8574722409248352, 0.05768178030848503, 0.7498631477355957, 0.11536356061697006, 0.8922326564788818, 0.2962378263473511, 0.6517232656478882, 0.10794690996408463, 0.863575279712677, 0.8226765990257263, 0.9748805165290833, 0.9545812606811523, 0.24175679683685303, 0.07252703607082367, 0.09670271724462509, 0.435162216424942, 0.024175679311156273, 0.09670271724462509, 0.07528049498796463, 0.8280854225158691, 0.9418036937713623, 0.9449804425239563, 0.30512481927871704, 0.05085413530468941, 0.01695137843489647, 0.03390275686979294, 0.01695137843489647, 0.01695137843489647, 0.01695137843489647, 0.06780551373958588, 0.01695137843489647, 0.23731930553913116, 0.06780551373958588, 0.01695137843489647, 0.08475689589977264, 0.03390275686979294, 0.2584177255630493, 0.732183575630188, 0.41124579310417175, 0.08224915713071823, 0.02741638571023941, 0.46607857942581177, 0.8729520440101624, 0.9354108572006226, 0.8542588353157043, 0.8880797028541565, 0.9085223078727722, 0.02025054395198822, 0.04050108790397644, 0.7087690234184265, 0.12150326371192932, 0.02025054395198822, 0.02025054395198822, 0.08100217580795288, 0.6236187815666199, 0.021504094824194908, 0.12902458012104034, 0.10752047598361969, 0.043008189648389816, 0.043008189648389816, 0.9581144452095032, 0.17028555274009705, 0.7379040718078613, 0.05676185339689255, 0.9354825615882874, 0.9321833848953247, 0.03724859282374382, 0.07449718564748764, 0.5959774851799011, 0.11174577474594116, 0.14899437129497528, 0.9197936058044434, 0.8497321009635925, 0.9277201890945435, 0.8847667574882507, 0.957624077796936, 0.877277672290802, 0.09575992822647095, 0.047879964113235474, 0.8139593601226807, 0.9558761119842529, 0.8920614123344421, 0.9435068368911743, 0.8748809695243835, 0.8493475914001465, 0.07721342146396637, 0.29619699716567993, 0.7108727693557739, 0.9160951972007751, 0.8893249034881592, 0.021001329645514488, 0.08400531858205795, 0.021001329645514488, 0.5250332355499268, 0.10500665009021759, 0.23101462423801422, 0.8894319534301758, 0.9430131912231445, 0.8415967226028442, 0.9182270169258118, 0.03274092078208923, 0.5893365740776062, 0.03274092078208923, 0.13096368312835693, 0.1964455246925354, 0.8073586821556091, 0.5959115028381348, 0.1191822960972786, 0.19863715767860413, 0.039727430790662766, 0.06636177748441696, 0.8627031445503235, 0.955683171749115, 0.22259530425071716, 0.037099216133356094, 0.6306867003440857, 0.07419843226671219, 0.14180457592010498, 0.035451143980026245, 0.28360915184020996, 0.49631601572036743, 0.8641490936279297, 0.35740160942077637, 0.4368242025375366, 0.15884515643119812, 0.9346265196800232, 0.9097115993499756, 0.8786950707435608, 0.880230724811554, 0.8609570264816284, 0.20511922240257263, 0.04102384299039841, 0.6153576374053955, 0.12307152897119522, 0.910511314868927, 0.829023540019989, 0.9658966660499573, 0.016346514225006104, 0.03269302845001221, 0.03269302845001221, 0.03269302845001221, 0.11442559957504272, 0.4413558840751648, 0.17981165647506714, 0.13077211380004883, 0.9166871905326843, 0.8500027060508728, 0.949165940284729, 0.8734477758407593, 0.9741777181625366, 0.08238129317760468, 0.8238129019737244, 0.9338751435279846, 0.9566859602928162, 0.8366793394088745, 0.08366793394088745, 0.8561214804649353, 0.060578443109989166, 0.7875197529792786, 0.1817353218793869, 0.9775433540344238, 0.3120349943637848, 0.6240699887275696, 0.9178262948989868, 0.07981376349925995, 0.7981376647949219, 0.9332816004753113, 0.64265376329422, 0.32132688164711, 0.8804352879524231, 0.14934547245502472, 0.8214001059532166, 0.8902286887168884, 0.34828248620033264, 0.6269084811210632, 0.8647928833961487, 0.16217458248138428, 0.8108729124069214, 0.8527187705039978, 0.872873842716217, 0.9086126685142517, 0.9301518797874451, 0.39193910360336304, 0.09044748544692993, 0.03014916181564331, 0.3316407799720764, 0.09044748544692993, 0.18944062292575836, 0.644098162651062, 0.1515524983406067, 0.9059486985206604, 0.9401162266731262, 0.13450954854488373, 0.13450954854488373, 0.03362738713622093, 0.03362738713622093, 0.36990126967430115, 0.2017643302679062, 0.03362738713622093, 0.06881735473871231, 0.756990909576416, 0.06881735473871231, 0.9139629602432251, 0.9747135639190674, 0.9199047684669495, 0.07430676370859146, 0.8916811347007751, 0.9305933117866516, 0.9336011409759521, 0.8847832679748535, 0.9541914463043213, 0.9441291093826294, 0.826316773891449, 0.9568834900856018, 0.8342625498771667, 0.43015044927597046, 0.061450064182281494, 0.18435019254684448, 0.030725032091140747, 0.061450064182281494, 0.12290012836456299, 0.061450064182281494, 0.08782336115837097, 0.08782336115837097, 0.043911680579185486, 0.3073817789554596, 0.43911680579185486, 0.9264490008354187, 0.8896896839141846, 0.9440854787826538, 0.08314661681652069, 0.8314661383628845, 0.809920608997345, 0.06561018526554108, 0.09841528534889221, 0.4264662265777588, 0.09841528534889221, 0.1640254706144333, 0.03280509263277054, 0.03280509263277054, 0.03280509263277054, 0.946834921836853, 0.8688600063323975, 0.9166871905326843, 0.9334914684295654, 0.9313495755195618, 0.8480481505393982, 0.34511682391166687, 0.5916287899017334, 0.8147621154785156, 0.2686930000782013, 0.6269503831863403, 0.8911469578742981, 0.8445425629615784, 0.060584019869565964, 0.060584019869565964, 0.24233607947826385, 0.060584019869565964, 0.5452561974525452, 0.9368774890899658, 0.9619109034538269, 0.20828987658023834, 0.06942995637655258, 0.694299578666687, 0.8743545413017273, 0.06725803762674332, 0.9350436329841614, 0.1243080273270607, 0.01381200272589922, 0.02762400545179844, 0.09668402373790741, 0.05524801090359688, 0.02762400545179844, 0.01381200272589922, 0.1243080273270607, 0.01381200272589922, 0.02762400545179844, 0.01381200272589922, 0.2762400507926941, 0.04143600910902023, 0.06906001269817352, 0.06906001269817352, 0.1061020940542221, 0.05305104702711105, 0.05305104702711105, 0.05305104702711105, 0.6366125345230103, 0.9560903310775757, 0.884757936000824, 0.9140549302101135, 0.9015293717384338, 0.05840545892715454, 0.11681091785430908, 0.3796354830265045, 0.43804094195365906, 0.933742105960846, 0.9332816004753113, 0.07981819659471512, 0.8780001401901245, 0.017374681308865547, 0.17374680936336517, 0.12162277102470398, 0.05212404578924179, 0.19112150371074677, 0.017374681308865547, 0.017374681308865547, 0.22587086260318756, 0.10424809157848358, 0.017374681308865547, 0.017374681308865547, 0.05212404578924179, 0.9185706973075867, 0.31192681193351746, 0.02599390223622322, 0.05198780447244644, 0.02599390223622322, 0.41590243577957153, 0.15596340596675873, 0.2838566303253174, 0.09461887180805206, 0.04730943590402603, 0.5204038023948669, 0.06880202144384384, 0.8256242275238037, 0.06880202144384384, 0.11205240339040756, 0.07619563490152359, 0.02128995768725872, 0.01344628818333149, 0.07059301435947418, 0.015687337145209312, 0.023531004786491394, 0.017928384244441986, 0.02128995768725872, 0.05490567907691002, 0.02801310084760189, 0.017928384244441986, 0.06386987119913101, 0.06835196912288666, 0.06050829961895943, 0.01344628818333149, 0.015687337145209312, 0.02801310084760189, 0.015687337145209312, 0.051544107496738434, 0.0437004379928112, 0.014566812664270401, 0.03473624587059021, 0.006723144091665745, 0.01344628818333149, 0.02128995768725872, 0.005602620076388121, 0.006723144091665745, 0.05042358115315437, 0.012325764633715153, 0.9277910590171814, 0.9201098084449768, 0.7282720804214478, 0.2570371925830841, 0.05002203956246376, 0.05002203956246376, 0.850374698638916, 0.03347738832235336, 0.4352060854434967, 0.1673869490623474, 0.20086434483528137, 0.06695477664470673, 0.06695477664470673, 0.28836068511009216, 0.11328455060720444, 0.06179157644510269, 0.051492977887392044, 0.020597191527485847, 0.030895788222551346, 0.010298595763742924, 0.010298595763742924, 0.12358315289020538, 0.030895788222551346, 0.030895788222551346, 0.06179157644510269, 0.051492977887392044, 0.010298595763742924, 0.041194383054971695, 0.051492977887392044, 0.010298595763742924, 0.8813332915306091, 0.16640827059745789, 0.8320413827896118, 0.03106287308037281, 0.1553143709897995, 0.07248003780841827, 0.010354290716350079, 0.010354290716350079, 0.1553143709897995, 0.010354290716350079, 0.24850298464298248, 0.020708581432700157, 0.010354290716350079, 0.020708581432700157, 0.05177145451307297, 0.010354290716350079, 0.03106287308037281, 0.06212574616074562, 0.041417162865400314, 0.03106287308037281, 0.04487753286957741, 0.9199894070625305, 0.022438766434788704, 0.4985750615596771, 0.3561250567436218, 0.10683751106262207, 0.04890226200222969, 0.04890226200222969, 0.09780452400445938, 0.782436192035675, 0.1396303027868271, 0.1396303027868271, 0.6283363699913025, 0.06981515139341354, 0.8568918704986572, 0.10249782353639603, 0.03153778985142708, 0.00788444746285677, 0.07884448021650314, 0.023653343319892883, 0.03942224010825157, 0.03153778985142708, 0.07096002995967865, 0.01576889492571354, 0.07884448021650314, 0.03942224010825157, 0.2680712342262268, 0.03153778985142708, 0.1576889604330063, 0.00788444746285677, 0.8007126450538635, 0.8764407634735107, 0.12825316190719604, 0.06995626538991928, 0.16323129832744598, 0.011659378185868263, 0.023318756371736526, 0.011659378185868263, 0.11659377813339233, 0.011659378185868263, 0.11659377813339233, 0.0932750254869461, 0.19820941984653473, 0.023318756371736526, 0.011659378185868263, 0.023318756371736526, 0.9254906177520752, 0.8917494416236877, 0.049984268844127655, 0.899716854095459, 0.8770455718040466, 0.7252495884895325, 0.15109366178512573, 0.09065619856119156, 0.9482196569442749, 0.9032590389251709, 0.9377967715263367, 0.9578350782394409, 0.8685750365257263, 0.052934430539608, 0.105868861079216, 0.2382049262523651, 0.1323360800743103, 0.3176065683364868, 0.1323360800743103, 0.16211764514446259, 0.7700588703155518, 0.040529411286115646, 0.8987565636634827, 0.09892211854457855, 0.7419158816337585, 0.049461059272289276, 0.931152880191803, 0.04425261542201042, 0.06637892127037048, 0.06637892127037048, 0.04425261542201042, 0.1106315404176712, 0.46465247869491577, 0.1770104616880417, 0.02212630771100521, 0.07055267691612244, 0.7760794162750244, 0.07055267691612244, 0.07055267691612244, 0.8500360250473022, 0.9141469597816467, 0.5825490355491638, 0.0582549013197422, 0.14563725888729095, 0.0582549013197422, 0.08738235384225845, 0.0291274506598711, 0.8703835010528564, 0.910621166229248, 0.9173529148101807, 0.93763667345047, 0.23273403942584991, 0.6982021331787109, 0.8760741353034973, 0.26159653067588806, 0.03737093135714531, 0.18685466051101685, 0.5231930613517761, 0.9606943130493164, 0.20105816423892975, 0.06701938807964325, 0.6701939105987549, 0.8209965825080872, 0.24040107429027557, 0.7212032079696655, 0.9154533743858337, 0.9252504706382751, 0.9465348124504089, 0.0994861051440239, 0.8456318974494934, 0.054121214896440506, 0.7576969861984253, 0.16236363351345062, 0.9313942790031433, 0.9692381620407104, 0.9503573775291443, 0.9225667119026184, 0.9267927408218384, 0.9339441657066345, 0.9401040077209473, 0.9150393605232239, 0.8944019079208374, 0.9571895599365234, 0.03276306018233299, 0.13105224072933197, 0.03276306018233299, 0.6880242824554443, 0.03276306018233299, 0.9703531265258789, 0.026512211188673973, 0.026512211188673973, 0.39768317341804504, 0.42419537901878357, 0.026512211188673973, 0.10604884475469589, 0.8589698672294617, 0.9210156202316284, 0.09074477106332779, 0.8167029619216919, 0.09806276857852936, 0.8498773574829102, 0.9024009704589844, 0.9102962017059326, 0.89162677526474, 0.04953482374548912, 0.08819744735956192, 0.7937769889831543, 0.7760066390037537, 0.15520133078098297, 0.9043399691581726, 0.2538975477218628, 0.6891504526138306, 0.8787078261375427, 0.8771759867668152, 0.9206460118293762, 0.923698902130127, 0.08362624794244766, 0.027875415980815887, 0.027875415980815887, 0.027875415980815887, 0.6968854069709778, 0.027875415980815887, 0.08362624794244766, 0.013337711803615093, 0.10003283619880676, 0.04668198898434639, 0.09336397796869278, 0.026675423607230186, 0.10670169442892075, 0.020006567239761353, 0.040013134479522705, 0.07335741072893143, 0.13337711989879608, 0.04668198898434639, 0.013337711803615093, 0.020006567239761353, 0.03334427997469902, 0.006668855901807547, 0.06668855994939804, 0.05335084721446037, 0.03334427997469902, 0.06668855994939804, 0.6623947620391846, 0.05519956350326538, 0.02759978175163269, 0.05519956350326538, 0.02759978175163269, 0.13799890875816345, 0.02759978175163269, 0.9185259938240051, 0.9722280502319336, 0.9251493811607361, 0.21452465653419495, 0.7150821685791016, 0.878683865070343, 0.9285175204277039, 0.04886934161186218, 0.9781903028488159, 0.06864235550165176, 0.06864235550165176, 0.8237082362174988, 0.9393913149833679, 0.687006413936615, 0.03816702216863632, 0.03816702216863632, 0.11450107395648956, 0.11450107395648956, 0.9125946760177612, 0.8754822611808777, 0.9638822078704834, 0.874025285243988, 0.08189860731363297, 0.8189860582351685, 0.8041189312934875, 0.922596275806427, 0.8436201810836792, 0.43037867546081543, 0.03912533447146416, 0.07825066894292831, 0.37169066071510315, 0.07825066894292831, 0.8744874000549316, 0.7459250688552856, 0.10656072944402695, 0.053280364722013474, 0.053280364722013474, 0.08535046130418777, 0.8535045981407166, 0.8707320690155029, 0.863905131816864, 0.9042698740959167, 0.8660127520561218, 0.9136205315589905, 0.047014739364385605, 0.11753684282302856, 0.5171621441841125, 0.09402947872877121, 0.023507369682192802, 0.023507369682192802, 0.023507369682192802, 0.14104421436786652, 0.023507369682192802, 0.9595078229904175, 0.9100345969200134, 0.9014120101928711, 0.9342995285987854, 0.8424819111824036, 0.06480630487203598, 0.9361447691917419, 0.8775240778923035, 0.8837599158287048, 0.09848117083311081, 0.049240585416555405, 0.5908870100975037, 0.19696234166622162, 0.85976243019104, 0.04094106703996658, 0.08188213407993317, 0.8912791013717651, 0.8648504614830017, 0.8849731683731079, 0.8415390253067017, 0.2857728898525238, 0.057154580950737, 0.5715457797050476, 0.27979063987731934, 0.059955134987831116, 0.21983550488948822, 0.019985046237707138, 0.19985045492649078, 0.07994018495082855, 0.09992522746324539, 0.039970092475414276, 0.019985046237707138, 0.12978175282478333, 0.12978175282478333, 0.06489087641239166, 0.6489087343215942, 0.945972740650177, 0.23605452477931976, 0.032189253717660904, 0.032189253717660904, 0.032189253717660904, 0.01072975154966116, 0.01072975154966116, 0.16094626486301422, 0.01072975154966116, 0.06437850743532181, 0.053648754954338074, 0.11802726238965988, 0.032189253717660904, 0.01072975154966116, 0.02145950309932232, 0.01072975154966116, 0.01072975154966116, 0.01072975154966116, 0.01072975154966116, 0.12875701487064362, 0.10579600185155869, 0.07053066790103912, 0.7053067088127136, 0.07053066790103912, 0.2205086648464203, 0.7166531085968018, 0.9164188504219055, 0.7799912095069885, 0.1733313798904419, 0.7900896072387695, 0.07900895923376083, 0.8150453567504883, 0.9475057721138, 0.8683664798736572, 0.9516995549201965, 0.875349223613739, 0.10000226646661758, 0.8000181317329407, 0.9444586634635925, 0.3136483430862427, 0.03136483207345009, 0.03136483207345009, 0.40774282813072205, 0.03136483207345009, 0.03136483207345009, 0.12545932829380035, 0.01808745227754116, 0.4883612096309662, 0.09043726325035095, 0.01808745227754116, 0.3074866831302643, 0.03617490455508232, 0.01808745227754116, 0.01808745227754116, 0.8311861753463745, 0.010794625617563725, 0.010794625617563725, 0.1079462543129921, 0.6893882751464844, 0.11030212044715881, 0.16545318067073822, 0.6248100996017456, 0.05680092051625252, 0.22720368206501007, 0.9691600203514099, 0.9658938050270081, 0.055396683514118195, 0.8863469362258911, 0.9302085638046265, 0.10004176199436188, 0.800334095954895, 0.9651232957839966, 0.035383787006139755, 0.05560309439897537, 0.05560309439897537, 0.045493438839912415, 0.040438614785671234, 0.010109653696417809, 0.045493438839912415, 0.06065792217850685, 0.05560309439897537, 0.05560309439897537, 0.030328961089253426, 0.05054826661944389, 0.025274133309721947, 0.005054826848208904, 0.040438614785671234, 0.025274133309721947, 0.08087722957134247, 0.010109653696417809, 0.10109653323888779, 0.05054826661944389, 0.07582239806652069, 0.035383787006139755, 0.017173392698168755, 0.18890732526779175, 0.08586696535348892, 0.017173392698168755, 0.5838953852653503, 0.017173392698168755, 0.08586696535348892, 0.10160388797521591, 0.16933980584144592, 0.13547185063362122, 0.16933980584144592, 0.033867962658405304, 0.016933981329202652, 0.3556135892868042, 0.881471574306488, 0.807803213596344, 0.08903471380472183, 0.8013124465942383, 0.024012351408600807, 0.26413586735725403, 0.048024702817201614, 0.12006176263093948, 0.4562346935272217, 0.024012351408600807, 0.048024702817201614, 0.6157663464546204, 0.2052554488182068, 0.0513138622045517, 0.1026277244091034, 0.924117386341095, 0.05175382271409035, 0.8798149824142456, 0.04368313401937485, 0.2620988190174103, 0.0873662680387497, 0.4805144965648651, 0.13104940950870514, 0.9542239904403687, 0.8460948467254639, 0.8900520205497742, 0.08280281722545624, 0.8694295287132263, 0.9402941465377808, 0.06639537960290909, 0.8631399273872375, 0.9125726222991943, 0.9103446006774902, 0.07912405580282211, 0.9099266529083252, 0.960318386554718, 0.049605004489421844, 0.8928900957107544, 0.6905503273010254, 0.12186182290315628, 0.04062061011791229, 0.08124122023582458, 0.04062061011791229, 0.13850268721580505, 0.02770053595304489, 0.3601069748401642, 0.02770053595304489, 0.05540107190608978, 0.02770053595304489, 0.3601069748401642, 0.02770053595304489, 0.9438163638114929, 0.8749325275421143, 0.9707810878753662, 0.8578654527664185, 0.924980640411377, 0.9644982814788818, 0.8755253553390503, 0.9121698141098022, 0.8648889064788818, 0.8710256218910217, 0.053188033401966095, 0.03989102318882942, 0.23934614658355713, 0.03989102318882942, 0.026594016700983047, 0.026594016700983047, 0.21275213360786438, 0.1595640927553177, 0.06648503988981247, 0.053188033401966095, 0.03989102318882942, 0.013297008350491524, 0.03989102318882942, 0.9155034422874451, 0.9396371245384216, 0.07396663725376129, 0.8875996470451355, 0.8123100996017456, 0.9366156458854675, 0.866958498954773, 0.9535403847694397, 0.8631080389022827, 0.9589346051216125, 0.8486864566802979, 0.9238651990890503, 0.8087476491928101, 0.07995633035898209, 0.15991266071796417, 0.7196069359779358, 0.8551762104034424, 0.8583793640136719, 0.7987110018730164, 0.08702926337718964, 0.8702926635742188, 0.21983550488948822, 0.08243831247091293, 0.32975324988365173, 0.2747943699359894, 0.027479438111186028, 0.9094222187995911, 0.8830519914627075, 0.8914240002632141, 0.06310493499040604, 0.8203641772270203, 0.06310493499040604, 0.3720138669013977, 0.013778290711343288, 0.04133487120270729, 0.09644803404808044, 0.027556581422686577, 0.013778290711343288, 0.06889145821332932, 0.04133487120270729, 0.06889145821332932, 0.055113162845373154, 0.13778291642665863, 0.055113162845373154, 0.1204279437661171, 0.06021397188305855, 0.09032095968723297, 0.632246732711792, 0.030106985941529274, 0.06021397188305855, 0.035333555191755295, 0.31800201535224915, 0.035333555191755295, 0.035333555191755295, 0.035333555191755295, 0.42400267720222473, 0.9375312328338623, 0.9497396349906921, 0.021672671660780907, 0.021672671660780907, 0.8018888831138611, 0.13003604114055634, 0.4754267930984497, 0.10971387475728989, 0.01828564517199993, 0.05485693737864494, 0.06399975717067719, 0.009142822585999966, 0.10057105123996735, 0.009142822585999966, 0.0914282277226448, 0.01828564517199993, 0.009142822585999966, 0.02742846868932247, 0.009142822585999966, 0.8749196529388428, 0.921022355556488, 0.8843183517456055, 0.9182091355323792, 0.9372985363006592, 0.016698304563760757, 0.016698304563760757, 0.13358643651008606, 0.05009491369128227, 0.18368135392665863, 0.016698304563760757, 0.033396609127521515, 0.2838711738586426, 0.10018982738256454, 0.016698304563760757, 0.05009491369128227, 0.08349152654409409, 0.016698304563760757, 0.1466473639011383, 0.04888245463371277, 0.04888245463371277, 0.04888245463371277, 0.04888245463371277, 0.6843543648719788, 0.9510181546211243, 0.14025314152240753, 0.09350209683179855, 0.5610125660896301, 0.14025314152240753, 0.07401101291179657, 0.037005506455898285, 0.44406604766845703, 0.37005504965782166, 0.9017226696014404, 0.04706375300884247, 0.09412750601768494, 0.30591440200805664, 0.04706375300884247, 0.11765938252210617, 0.023531876504421234, 0.32944628596305847, 0.04706375300884247, 0.023531876504421234, 0.055477745831012726, 0.3051275908946991, 0.027738872915506363, 0.16643324494361877, 0.13869436085224152, 0.3051275908946991, 0.04452859237790108, 0.04452859237790108, 0.8460432291030884, 0.9373344779014587, 0.048595864325761795, 0.24297931790351868, 0.6803420782089233, 0.8352866172790527, 0.24517996609210968, 0.5210074186325073, 0.12258998304605484, 0.06129499152302742, 0.03007148951292038, 0.24057191610336304, 0.18042893707752228, 0.06014297902584076, 0.03007148951292038, 0.4210008680820465, 0.9414950609207153, 0.08410074561834335, 0.8830578327178955, 0.12952068448066711, 0.12952068448066711, 0.2472667545080185, 0.011774607934057713, 0.08242225646972656, 0.011774607934057713, 0.011774607934057713, 0.10597147047519684, 0.04709843173623085, 0.011774607934057713, 0.10597147047519684, 0.05887303873896599, 0.011774607934057713, 0.34442228078842163, 0.5636001229286194, 0.06262223422527313, 0.6708953380584717, 0.06389479339122772, 0.09584219008684158, 0.12778958678245544, 0.023917999118566513, 0.5979499816894531, 0.14350800216197968, 0.047835998237133026, 0.07175400108098984, 0.047835998237133026, 0.047835998237133026, 0.023917999118566513, 0.07282423973083496, 0.8010666370391846, 0.07282423973083496, 0.8921973705291748, 0.0462014339864254, 0.3234100341796875, 0.5544171929359436, 0.0462014339864254, 0.8590290546417236, 0.03285239636898041, 0.107943594455719, 0.20180758833885193, 0.023465998470783234, 0.009386399760842323, 0.01407959870994091, 0.009386399760842323, 0.01407959870994091, 0.009386399760842323, 0.107943594455719, 0.01407959870994091, 0.0703979954123497, 0.03754559904336929, 0.04693199694156647, 0.009386399760842323, 0.05631839483976364, 0.0703979954123497, 0.004693199880421162, 0.01407959870994091, 0.01407959870994091, 0.004693199880421162, 0.051625195890665054, 0.03285239636898041, 0.004693199880421162, 0.018772799521684647, 0.01407959870994091, 0.07459104061126709, 0.19180554151535034, 0.11721450090408325, 0.047951385378837585, 0.12254242599010468, 0.005327931605279446, 0.021311726421117783, 0.03196759149432182, 0.03196759149432182, 0.010655863210558891, 0.14385415613651276, 0.005327931605279446, 0.047951385378837585, 0.005327931605279446, 0.005327931605279446, 0.01598379574716091, 0.037295520305633545, 0.005327931605279446, 0.005327931605279446, 0.005327931605279446, 0.06926311552524567, 0.9140469431877136, 0.8764423131942749, 0.8572671413421631, 0.9155837893486023, 0.9086028933525085, 0.919647753238678, 0.9137013554573059, 0.039726145565509796, 0.07851152122020721, 0.015702303498983383, 0.0052341013215482235, 0.010468202643096447, 0.0052341013215482235, 0.08374562114477158, 0.04187281057238579, 0.0052341013215482235, 0.04187281057238579, 0.0052341013215482235, 0.015702303498983383, 0.020936405286192894, 0.1203843280673027, 0.0052341013215482235, 0.05234101414680481, 0.3454506993293762, 0.08374562114477158, 0.0052341013215482235, 0.010468202643096447, 0.036638710647821426, 0.0052341013215482235, 0.8913580775260925, 0.07750940322875977], \"Term\": [\"$\", \"$\", \"$\", \"$\", \"$\", \"$\", \"$\", \"$\", \"$\", \"$\", \"$\", \"$\", \"$\", \"$\", \"$\", \"$\", \"$\", \"$\", \"$\", \"$\", \"$\", \"$\", \"$\", \"$\", \"$\", \"$\", \"$\", \"'d\", \"'d\", \"'d\", \"'d\", \"'ll\", \"'ll\", \"'ll\", \"'ll\", \"'ll\", \"'ll\", \"'m\", \"'m\", \"'m\", \"'m\", \"'m\", \"'re\", \"'re\", \"'re\", \"'re\", \"'re\", \"'re\", \"'re\", \"'re\", \"'re\", \"'re\", \"'re\", \"'re\", \"'re\", \"'re\", \"'ve\", \"'ve\", \"'ve\", \"'ve\", \"'ve\", \"'ve\", \"'ve\", \"'ve\", \"'ve\", \"0\", \"0\", \"0\", \"0\", \"0\", \"05\", \"06\", \"07\", \"09\", \"1\", \"1\", \"1\", \"1\", \"1\", \"1\", \"1\", \"1\", \"1\", \"1\", \"1\", \"1\", \"1\", \"1\", \"1\", \"1,000\", \"1/2\", \"10\", \"10\", \"10\", \"10\", \"10\", \"10\", \"10\", \"10\", \"10\", \"10\", \"10\", \"10\", \"10\", \"10\", \"10\", \"11\", \"11\", \"11\", \"11\", \"11\", \"11\", \"11\", \"12\", \"12\", \"12\", \"12\", \"12\", \"12\", \"12\", \"12\", \"12\", \"12\", \"14\", \"14\", \"14\", \"14\", \"14\", \"14\", \"14\", \"15\", \"15\", \"15\", \"15\", \"15\", \"15\", \"15\", \"15\", \"16\", \"16\", \"16\", \"16\", \"17-year\", \"2\", \"2\", \"2\", \"2\", \"2\", \"2\", \"2\", \"2\", \"2\", \"2\", \"2\", \"2\", \"200\", \"2000\", \"2002\", \"2008\", \"2008\", \"2008\", \"2008\", \"2008\", \"2010\", \"2010\", \"2010\", \"2010\", \"2010\", \"2010\", \"2010\", \"2010\", \"2010\", \"2010\", \"2010\", \"2011\", \"2011\", \"2011\", \"2013\", \"21\", \"21\", \"21\", \"21\", \"21\", \"22\", \"22\", \"23\", \"23\", \"25\", \"25\", \"25\", \"25\", \"28\", \"28\", \"3\", \"3\", \"3\", \"3\", \"3\", \"3\", \"3\", \"3\", \"3\", \"3.1\", \"300\", \"32\", \"37\", \"4\", \"4\", \"4\", \"4\", \"4\", \"4\", \"4\", \"4\", \"4\", \"4\", \"400\", \"415\", \"42\", \"43\", \"46\", \"5\", \"5\", \"5\", \"5\", \"5\", \"5\", \"5\", \"5\", \"5\", \"5\", \"5\", \"5,000\", \"50\", \"50\", \"50\", \"500\", \"6\", \"6\", \"6\", \"6\", \"6\", \"6\", \"6\", \"6\", \"6\", \"65\", \"7-year\", \"70\", \"72\", \"73\", \"8\", \"8\", \"8\", \"8\", \"8\", \"8\", \"8\", \"8\", \"81\", \"85\", \"9\", \"9\", \"9\", \"9\", \"9\", \"9\", \"9\", \"90\", \"A\", \"A\", \"A\", \"A\", \"A\", \"A\", \"A\", \"A\", \"A\", \"A\", \"A\", \"A\", \"A\", \"A\", \"A\", \"A\", \"A\", \"AP\", \"Aaron\", \"Academy\", \"According\", \"According\", \"Add\", \"Addison\", \"Administration\", \"Airlines\", \"Al\", \"Alex\", \"All\", \"All\", \"Along\", \"Amendment\", \"American\", \"American\", \"American\", \"American\", \"American\", \"American\", \"American\", \"American\", \"American\", \"American\", \"American\", \"American\", \"American\", \"Americans\", \"Americans\", \"Americans\", \"Americans\", \"Americans\", \"Americans\", \"And\", \"And\", \"And\", \"And\", \"And\", \"And\", \"And\", \"And\", \"And\", \"And\", \"And\", \"And\", \"And\", \"And\", \"And\", \"Angeles\", \"Angeles\", \"Angeles\", \"Apple\", \"April\", \"April\", \"April\", \"April\", \"Army\", \"Atlanta\", \"Atlanta\", \"Atlantic\", \"Attorney\", \"August\", \"Austin\", \"Bank\", \"Baptist\", \"Barnes\", \"Bay\", \"Bay\", \"Beach\", \"Beach\", \"Beach\", \"Because\", \"Before\", \"Before\", \"Ben\", \"Bend\", \"Big\", \"Big\", \"Blazers\", \"Blue\", \"Bob\", \"Boston\", \"Both\", \"Boulevard\", \"Bowl\", \"Bowl\", \"Brandon\", \"Brown\", \"Brown\", \"But\", \"But\", \"But\", \"But\", \"But\", \"But\", \"But\", \"But\", \"But\", \"But\", \"But\", \"But\", \"But\", \"But\", \"But\", \"But\", \"But\", \"But\", \"But\", \"But\", \"But\", \"But\", \"By\", \"By\", \"C\", \"CEO\", \"Canadian\", \"Carnegie\", \"Charles\", \"Charles\", \"Charles\", \"Chief\", \"China\", \"China\", \"Chinese\", \"Choo\", \"Christ\", \"Church\", \"Church\", \"Circuit\", \"City\", \"City\", \"City\", \"City\", \"City\", \"City\", \"City\", \"City\", \"Cleveland\", \"Cleveland\", \"Cleveland\", \"Cleveland\", \"Cleveland\", \"Cleveland\", \"Cleveland\", \"Cleveland\", \"Club\", \"Co.\", \"Colorado\", \"Colorado\", \"Columbia\", \"Columbia\", \"Columbus\", \"Commission\", \"Committee\", \"Communications\", \"Community\", \"Construction\", \"Corp.\", \"County\", \"County\", \"County\", \"County\", \"County\", \"County\", \"County\", \"County\", \"County\", \"County\", \"County\", \"County\", \"County\", \"County\", \"County\", \"County\", \"County\", \"County\", \"Court\", \"Court\", \"Court\", \"Court\", \"Craig\", \"Cumberland\", \"Dallas\", \"Davis\", \"Day\", \"Day\", \"Dec.\", \"Dec.\", \"Democratic\", \"Dennis\", \"Denver\", \"Department\", \"Department\", \"Department\", \"Department\", \"Department\", \"Department\", \"Director\", \"District\", \"District\", \"District\", \"Division\", \"Do\", \"Dr.\", \"Dr.\", \"Dr.\", \"Drink\", \"Drive\", \"Elizabeth\", \"English\", \"Erin\", \"Evan\", \"Even\", \"Even\", \"Even\", \"Even\", \"Family\", \"Five\", \"Florida\", \"Florida\", \"Food\", \"For\", \"For\", \"For\", \"For\", \"For\", \"For\", \"For\", \"For\", \"For\", \"For\", \"For\", \"For\", \"For\", \"Forest\", \"Four\", \"Four\", \"Fox\", \"Francisco\", \"Francisco\", \"Frank\", \"Frank\", \"Free\", \"Friday\", \"Friday\", \"Friday\", \"Friday\", \"Friday\", \"Friday\", \"Friday\", \"Friday\", \"Friday\", \"Friday\", \"From\", \"Games\", \"George\", \"George\", \"George\", \"Georgia\", \"Georgia\", \"Giants\", \"Give\", \"Golden\", \"Grand\", \"Grand\", \"Hancock\", \"He\", \"He\", \"He\", \"He\", \"He\", \"He\", \"He\", \"He\", \"He\", \"He\", \"He\", \"He\", \"He\", \"He\", \"He\", \"He\", \"He\", \"He\", \"He\", \"He\", \"He\", \"He\", \"He\", \"He\", \"He\", \"Heights\", \"Her\", \"Her\", \"Her\", \"Here\", \"Here\", \"Hey\", \"High\", \"High\", \"High\", \"Hollywood\", \"House\", \"House\", \"House\", \"Houston\", \"Houston\", \"How\", \"How\", \"Howard\", \"However\", \"However\", \"I\", \"I\", \"I\", \"I\", \"I\", \"I\", \"I\", \"I\", \"I\", \"I\", \"I\", \"I\", \"I\", \"I\", \"I\", \"I\", \"I\", \"I\", \"I\", \"I\", \"I\", \"I\", \"I\", \"I\", \"I\", \"I\", \"If\", \"If\", \"If\", \"If\", \"If\", \"If\", \"If\", \"If\", \"If\", \"If\", \"If\", \"If\", \"In\", \"In\", \"In\", \"In\", \"In\", \"In\", \"In\", \"In\", \"In\", \"In\", \"In\", \"In\", \"In\", \"In\", \"In\", \"In\", \"In\", \"In\", \"In\", \"Inc.\", \"Indians\", \"Information\", \"International\", \"International\", \"Iowa\", \"Is\", \"Is\", \"Is\", \"Island\", \"It\", \"It\", \"It\", \"It\", \"It\", \"It\", \"It\", \"It\", \"It\", \"It\", \"It\", \"It\", \"It\", \"It\", \"It\", \"It\", \"It\", \"It\", \"It\", \"It\", \"It\", \"It\", \"It\", \"It\", \"It\", \"It\", \"It\", \"It\", \"It\", \"It\", \"Italy\", \"Jake\", \"Jan.\", \"Jane\", \"January\", \"January\", \"January\", \"January\", \"January\", \"Jay\", \"Jersey\", \"Jersey\", \"Jersey\", \"Jersey\", \"Jersey\", \"Jim\", \"Jimmy\", \"John\", \"John\", \"John\", \"John\", \"John\", \"John\", \"John\", \"John\", \"John\", \"John\", \"Jonathan\", \"Jordan\", \"Joseph\", \"Jr.\", \"July\", \"July\", \"July\", \"July\", \"Just\", \"Just\", \"Justice\", \"Kansas\", \"Kansas\", \"Kate\", \"Kelly\", \"Kennedy\", \"LB\", \"LLC\", \"Lake\", \"Lake\", \"Lake\", \"Lake\", \"Latinos\", \"League\", \"League\", \"Lee\", \"Legislature\", \"Legislature\", \"Like\", \"Limbaugh\", \"Los\", \"Los\", \"Los\", \"Louis\", \"Louis\", \"Louis\", \"Manager\", \"Mark\", \"Maryland\", \"Maryland\", \"Maryland\", \"Mason\", \"Massachusetts\", \"Matt\", \"Matthews\", \"May\", \"May\", \"May\", \"May\", \"May\", \"May\", \"May\", \"May\", \"Me\", \"Media\", \"Megan\", \"Meyer\", \"Michael\", \"Michael\", \"Michael\", \"Michael\", \"Mike\", \"Mike\", \"Mike\", \"Mike\", \"Mike\", \"Mike\", \"Miller\", \"Modern\", \"Monday\", \"Monday\", \"Monday\", \"Monday\", \"Monday\", \"Monday\", \"Monday\", \"Monday\", \"Monday\", \"Monday\", \"Monday\", \"Moore\", \"More\", \"Most\", \"Most\", \"Most\", \"Most\", \"Most\", \"Mountain\", \"Mountain\", \"Mr.\", \"Mr.\", \"Mullen\", \"Museum\", \"My\", \"My\", \"My\", \"My\", \"N\", \"NCAA\", \"NCAA\", \"NCAA\", \"New\", \"New\", \"New\", \"New\", \"New\", \"New\", \"New\", \"New\", \"New\", \"New\", \"New\", \"New\", \"New\", \"New\", \"New\", \"New\", \"New\", \"Nick\", \"No\", \"No\", \"No\", \"No\", \"No\", \"No\", \"No\", \"North\", \"North\", \"North\", \"North\", \"North\", \"North\", \"North\", \"North\", \"North\", \"North\", \"Northwest\", \"Not\", \"Not\", \"OK\", \"Oakland\", \"Obama\", \"Obama\", \"Obama\", \"Obama\", \"Obama\", \"Obama\", \"Oct.\", \"Oct.\", \"Oct.\", \"Of\", \"Office\", \"Oh\", \"Ohio\", \"Ohio\", \"Ohio\", \"Ohio\", \"Olympics\", \"One\", \"One\", \"One\", \"One\", \"One\", \"One\", \"One\", \"Only\", \"Oregon\", \"Oregon\", \"Oregon\", \"Oregon\", \"Oregon\", \"Our\", \"Our\", \"Our\", \"Our\", \"Our\", \"PDT\", \"Park\", \"Park\", \"Park\", \"Patrick\", \"Penn\", \"Peter\", \"Philadelphia\", \"Phillies\", \"Phillips\", \"Phoenix\", \"Place\", \"Point\", \"Price\", \"Properties\", \"Q\", \"Q.\", \"R\", \"Rebecca\", \"Red\", \"Rep.\", \"Republican\", \"Republican\", \"Republican\", \"Republican\", \"Republican\", \"Republican\", \"Republican\", \"Republicans\", \"Richard\", \"Richard\", \"Ridge\", \"Road\", \"Road\", \"Road\", \"Road\", \"Robinson\", \"Robinson\", \"Romney\", \"Romney\", \"Romney\", \"Roy\", \"Russo\", \"Sam\", \"Samsung\", \"San\", \"San\", \"San\", \"San\", \"Saturday\", \"Saturday\", \"Saturday\", \"Saturday\", \"Saturday\", \"Saturday\", \"Saturday\", \"Saturday\", \"Saturday\", \"Saturday\", \"Saturday\", \"School\", \"School\", \"School\", \"School\", \"School\", \"School\", \"Scott\", \"Scott\", \"Season\", \"Seattle\", \"Security\", \"See\", \"Sentinel\", \"Sept.\", \"Sept.\", \"September\", \"Service\", \"Services\", \"Several\", \"She\", \"She\", \"She\", \"She\", \"She\", \"She\", \"She\", \"She\", \"She\", \"She\", \"Sheriff\", \"Since\", \"Single\", \"Smith\", \"Smith\", \"So\", \"So\", \"So\", \"So\", \"So\", \"Sometimes\", \"Sony\", \"South\", \"South\", \"South\", \"South\", \"South\", \"Sports\", \"Springs\", \"St.\", \"St.\", \"St.\", \"St.\", \"St.\", \"Star\", \"State\", \"State\", \"State\", \"State\", \"State\", \"State\", \"State\", \"State\", \"State\", \"State\", \"States\", \"Steve\", \"Steve\", \"Still\", \"Still\", \"Sun\", \"Sun\", \"Superintendent\", \"Supreme\", \"TV\", \"Tampa\", \"Taylor\", \"Taylor\", \"Tennessee\", \"That\", \"That\", \"That\", \"That\", \"That\", \"That\", \"That\", \"That\", \"That\", \"That\", \"That\", \"The\", \"The\", \"The\", \"The\", \"The\", \"The\", \"The\", \"The\", \"The\", \"The\", \"The\", \"The\", \"The\", \"The\", \"The\", \"The\", \"The\", \"The\", \"The\", \"The\", \"The\", \"The\", \"The\", \"The\", \"The\", \"The\", \"The\", \"The\", \"The\", \"The\", \"Then\", \"Then\", \"Then\", \"There\", \"There\", \"There\", \"There\", \"There\", \"There\", \"There\", \"There\", \"There\", \"There\", \"There\", \"There\", \"There\", \"There\", \"These\", \"These\", \"They\", \"They\", \"They\", \"They\", \"They\", \"They\", \"They\", \"They\", \"They\", \"They\", \"They\", \"They\", \"They\", \"Think\", \"This\", \"This\", \"This\", \"This\", \"This\", \"This\", \"This\", \"This\", \"This\", \"Thomas\", \"Thompson\", \"Three\", \"Tigers\", \"Tim\", \"Timbers\", \"To\", \"To\", \"To\", \"Today\", \"Today\", \"Tom\", \"Tony\", \"Township\", \"Toyota\", \"Treasury\", \"Troy\", \"Tuesday\", \"Tuesday\", \"Tuesday\", \"Tuesday\", \"Tuesday\", \"Tuesday\", \"U.S.\", \"U.S.\", \"U.S.\", \"U.S.\", \"U.S.\", \"U.S.\", \"U.S.\", \"U.S.\", \"U.S.\", \"U.S.\", \"U.S.\", \"U.S.\", \"U.S.\", \"U.S.\", \"U.S.\", \"U.S.\", \"U.S.\", \"US\", \"USA\", \"Use\", \"Valley\", \"Valley\", \"Valley\", \"Valley\", \"Van\", \"Victoria\", \"Village\", \"Virginia\", \"Voice\", \"Walden\", \"Walker\", \"Ward\", \"Washington\", \"Washington\", \"Washington\", \"Washington\", \"Washington\", \"Washington\", \"We\", \"We\", \"We\", \"We\", \"We\", \"We\", \"We\", \"We\", \"We\", \"We\", \"We\", \"We\", \"We\", \"We\", \"We\", \"We\", \"We\", \"Well\", \"West\", \"West\", \"West\", \"West\", \"West\", \"West\", \"West\", \"Western\", \"What\", \"What\", \"What\", \"What\", \"What\", \"What\", \"What\", \"When\", \"When\", \"When\", \"When\", \"When\", \"When\", \"When\", \"When\", \"When\", \"When\", \"Whether\", \"White\", \"Why\", \"Williams\", \"Williams\", \"Wilson\", \"Wine\", \"With\", \"With\", \"With\", \"With\", \"With\", \"With\", \"With\", \"Work\", \"Would\", \"X\", \"Year\", \"Yes\", \"Yet\", \"Yet\", \"York\", \"York\", \"York\", \"York\", \"York\", \"York\", \"York\", \"York\", \"You\", \"You\", \"You\", \"You\", \"You\", \"You\", \"You\", \"You\", \"You\", \"You\", \"a.m.\", \"a.m.\", \"a.m.\", \"a.m.\", \"ability\", \"absolute\", \"abuse\", \"abuse\", \"accepted\", \"according\", \"according\", \"according\", \"according\", \"according\", \"according\", \"according\", \"according\", \"according\", \"according\", \"according\", \"according\", \"account\", \"action\", \"action\", \"action\", \"action\", \"active\", \"actors\", \"actually\", \"actually\", \"added\", \"added\", \"added\", \"added\", \"added\", \"added\", \"added\", \"added\", \"addition\", \"addition\", \"additional\", \"additional\", \"ads\", \"adult\", \"advance\", \"advanced\", \"advantage\", \"agencies\", \"aggressive\", \"agreed\", \"agreed\", \"alcohol\", \"alive\", \"alleged\", \"allow\", \"allow\", \"allow\", \"allowing\", \"allowing\", \"allowing\", \"allowing\", \"analysis\", \"animals\", \"annual\", \"annual\", \"annual\", \"answers\", \"anybody\", \"apart\", \"apartment\", \"apparent\", \"apparently\", \"appreciate\", \"approach\", \"approach\", \"approached\", \"areas\", \"arm\", \"arms\", \"arms\", \"arrangement\", \"art\", \"art\", \"article\", \"artistic\", \"aside\", \"ask\", \"ask\", \"ask\", \"asked\", \"asked\", \"asked\", \"asked\", \"assistant\", \"assisted\", \"athletic\", \"attempt\", \"attempt\", \"attempted\", \"attend\", \"attention\", \"attention\", \"attention\", \"attention\", \"audience\", \"available\", \"available\", \"available\", \"available\", \"available\", \"averaged\", \"aviation\", \"awards\", \"awards\", \"away\", \"away\", \"away\", \"away\", \"away\", \"away\", \"away\", \"away\", \"baby\", \"bad\", \"bad\", \"bad\", \"bad\", \"bag\", \"bag\", \"bags\", \"baking\", \"ballot\", \"ballot\", \"ban\", \"bar\", \"bar\", \"base\", \"base\", \"base\", \"baseball\", \"baseball\", \"basic\", \"beat\", \"beat\", \"beautiful\", \"bed\", \"beginning\", \"benefit\", \"best\", \"best\", \"best\", \"best\", \"best\", \"best\", \"best\", \"best\", \"best\", \"best\", \"best\", \"better\", \"better\", \"better\", \"better\", \"better\", \"better\", \"bigger\", \"bigger\", \"biggest\", \"biggest\", \"bill\", \"bill\", \"bill\", \"bill\", \"billion\", \"billion\", \"billion\", \"billion\", \"billion\", \"billion\", \"birds\", \"birthday\", \"bitter\", \"black\", \"black\", \"blame\", \"blocked\", \"board\", \"board\", \"board\", \"board\", \"board\", \"board\", \"board\", \"board\", \"board\", \"board\", \"body\", \"body\", \"born\", \"bottles\", \"bought\", \"bowls\", \"boxes\", \"boy\", \"break\", \"break\", \"breaks\", \"bridge\", \"bring\", \"bring\", \"brings\", \"brings\", \"broken\", \"brother\", \"brother\", \"brother\", \"brother\", \"brother\", \"brothers\", \"brought\", \"brought\", \"brought\", \"brought\", \"brown\", \"budget\", \"budget\", \"budget\", \"budget\", \"budget\", \"build\", \"build\", \"build\", \"building\", \"building\", \"building\", \"building\", \"building\", \"building\", \"building\", \"buildings\", \"built\", \"built\", \"bunker\", \"business\", \"business\", \"business\", \"business\", \"business\", \"business\", \"business\", \"business\", \"business\", \"business\", \"business\", \"business\", \"butter\", \"buyers\", \"cake\", \"called\", \"called\", \"called\", \"called\", \"called\", \"called\", \"called\", \"called\", \"called\", \"came\", \"came\", \"came\", \"came\", \"came\", \"came\", \"cameras\", \"campaigns\", \"campus\", \"campus\", \"cap\", \"care\", \"care\", \"care\", \"care\", \"care\", \"carriers\", \"cases\", \"cases\", \"cast\", \"catch\", \"caught\", \"caught\", \"cause\", \"cause\", \"caused\", \"causing\", \"celebrate\", \"cell\", \"center\", \"center\", \"center\", \"centers\", \"central\", \"chair\", \"chairman\", \"challenges\", \"chance\", \"chance\", \"chance\", \"change\", \"change\", \"change\", \"change\", \"change\", \"change\", \"changed\", \"changes\", \"changes\", \"changes\", \"chef\", \"chief\", \"chief\", \"children\", \"children\", \"children\", \"children\", \"children\", \"children\", \"children\", \"children\", \"children\", \"children\", \"children\", \"children\", \"children\", \"chili\", \"chocolate\", \"chocolate\", \"chocolate\", \"choice\", \"choose\", \"chose\", \"church\", \"cities\", \"cities\", \"citizens\", \"city\", \"city\", \"city\", \"city\", \"city\", \"city\", \"city\", \"city\", \"city\", \"city\", \"city\", \"city\", \"civil\", \"civil\", \"claimed\", \"clean\", \"clean\", \"clear\", \"clear\", \"clear\", \"clear\", \"climate\", \"closed\", \"closed\", \"closed\", \"closing\", \"closing\", \"clothing\", \"club\", \"coach\", \"coach\", \"coach\", \"coach\", \"coach\", \"coach\", \"coach\", \"coins\", \"college\", \"college\", \"college\", \"college\", \"college\", \"college\", \"combined\", \"come\", \"come\", \"come\", \"come\", \"come\", \"come\", \"come\", \"come\", \"come\", \"come\", \"come\", \"comes\", \"comes\", \"comes\", \"comes\", \"comes\", \"comes\", \"comfortable\", \"comments\", \"committed\", \"community\", \"community\", \"community\", \"companies\", \"companies\", \"companies\", \"companies\", \"company\", \"company\", \"company\", \"company\", \"company\", \"company\", \"company\", \"company\", \"company\", \"company\", \"company\", \"company\", \"company\", \"company\", \"compared\", \"compared\", \"complaints\", \"completed\", \"concerned\", \"concerned\", \"concerns\", \"concerns\", \"condition\", \"conditions\", \"confident\", \"conflicting\", \"construction\", \"construction\", \"construction\", \"consumers\", \"contemporary\", \"continue\", \"continue\", \"continue\", \"contract\", \"contract\", \"contract\", \"contract\", \"contrast\", \"control\", \"control\", \"control\", \"control\", \"convention\", \"cook\", \"cookie\", \"cookie\", \"cookies\", \"cooking\", \"cost\", \"cost\", \"cost\", \"cost\", \"cost\", \"costs\", \"costs\", \"costs\", \"costs\", \"council\", \"council\", \"counter\", \"counter\", \"countries\", \"country\", \"country\", \"country\", \"country\", \"country\", \"country\", \"county\", \"county\", \"county\", \"couple\", \"couple\", \"couple\", \"couple\", \"couple\", \"couple\", \"course\", \"course\", \"course\", \"courses\", \"court\", \"court\", \"court\", \"court\", \"court\", \"court\", \"court\", \"coverage\", \"cream\", \"created\", \"created\", \"crew\", \"crisis\", \"crisis\", \"cross\", \"culture\", \"culture\", \"current\", \"current\", \"customers\", \"customers\", \"customers\", \"customers\", \"customers\", \"cuts\", \"cuts\", \"cuts\", \"cuts\", \"cutting\", \"cutting\", \"cutting\", \"cutting\", \"dad\", \"daily\", \"daily\", \"damaged\", \"dancer\", \"date\", \"day\", \"day\", \"day\", \"day\", \"day\", \"day\", \"day\", \"day\", \"day\", \"day\", \"day\", \"day\", \"de\", \"de\", \"de\", \"dead\", \"dead\", \"deal\", \"deal\", \"deal\", \"deal\", \"deal\", \"deal\", \"deal\", \"deal\", \"deal\", \"deal\", \"deal\", \"decision\", \"decision\", \"decision\", \"decision\", \"decision\", \"decision\", \"defeat\", \"defensive\", \"defensive\", \"defensive\", \"degrees\", \"department\", \"department\", \"department\", \"department\", \"deputy\", \"described\", \"design\", \"designed\", \"details\", \"detained\", \"determine\", \"developed\", \"developer\", \"developing\", \"development\", \"development\", \"development\", \"different\", \"different\", \"different\", \"different\", \"different\", \"different\", \"difficult\", \"difficult\", \"difficult\", \"difficult\", \"dim\", \"direct\", \"directly\", \"directly\", \"director\", \"director\", \"director\", \"director\", \"director\", \"director\", \"director\", \"disabled\", \"dishes\", \"district\", \"district\", \"district\", \"district\", \"districts\", \"division\", \"division\", \"doctor\", \"documents\", \"dollar\", \"dollars\", \"dollars\", \"doors\", \"double\", \"double\", \"doubt\", \"dream\", \"drive\", \"drive\", \"drive\", \"dynamic\", \"eager\", \"early\", \"early\", \"early\", \"early\", \"early\", \"early\", \"early\", \"early\", \"early\", \"easier\", \"easy\", \"easy\", \"eat\", \"eat\", \"economic\", \"economic\", \"economic\", \"economist\", \"economy\", \"economy\", \"economy\", \"economy\", \"economy\", \"economy\", \"edge\", \"effect\", \"effective\", \"effects\", \"effort\", \"effort\", \"electric\", \"employees\", \"employees\", \"employees\", \"employees\", \"employers\", \"end\", \"end\", \"end\", \"end\", \"end\", \"end\", \"end\", \"end\", \"ending\", \"ends\", \"enforcement\", \"enjoy\", \"enrollment\", \"evening\", \"exact\", \"exchange\", \"excited\", \"exempt\", \"exercise\", \"exit\", \"expand\", \"expect\", \"expect\", \"expect\", \"expectations\", \"expected\", \"expected\", \"expected\", \"expected\", \"expected\", \"expected\", \"expected\", \"expensive\", \"expensive\", \"experienced\", \"experiences\", \"expert\", \"explain\", \"explains\", \"expressing\", \"face\", \"face\", \"face\", \"face\", \"faced\", \"failed\", \"failed\", \"failure\", \"fall\", \"fall\", \"fall\", \"fallen\", \"fame\", \"familiar\", \"family\", \"family\", \"family\", \"family\", \"family\", \"family\", \"family\", \"family\", \"family\", \"family\", \"family\", \"family\", \"family\", \"family\", \"fans\", \"fans\", \"far\", \"far\", \"fashion\", \"fast\", \"fatalities\", \"father\", \"father\", \"fault\", \"favorite\", \"feature\", \"features\", \"features\", \"features\", \"feel\", \"feel\", \"feel\", \"feel\", \"feel\", \"fees\", \"feet\", \"feet\", \"feet\", \"fellow\", \"fiancee\", \"fiber\", \"field\", \"field\", \"field\", \"field\", \"field\", \"filed\", \"filed\", \"filed\", \"filed\", \"filled\", \"final\", \"final\", \"final\", \"final\", \"finally\", \"financial\", \"financial\", \"findings\", \"fine\", \"fine\", \"fire\", \"fire\", \"fire\", \"fire\", \"fire\", \"fire\", \"fire\", \"fire\", \"firefighters\", \"firefighters\", \"firm\", \"firm\", \"firmly\", \"fishing\", \"fix\", \"flavor\", \"flew\", \"flight\", \"floor\", \"floor\", \"floor\", \"fly\", \"focused\", \"focused\", \"follow\", \"followed\", \"followed\", \"follows\", \"food\", \"food\", \"food\", \"foot\", \"foot\", \"forest\", \"forward\", \"forward\", \"forward\", \"forward\", \"forward\", \"freedom\", \"fresh\", \"fresh\", \"fresh\", \"friend\", \"friendly\", \"fuel\", \"fully\", \"fun\", \"function\", \"furniture\", \"future\", \"game\", \"game\", \"game\", \"game\", \"game\", \"game\", \"game\", \"game\", \"game\", \"game\", \"game\", \"game\", \"game\", \"game\", \"game\", \"game\", \"game\", \"games\", \"games\", \"games\", \"games\", \"games\", \"games\", \"games\", \"games\", \"games\", \"garage\", \"garlic\", \"gas\", \"gas\", \"gas\", \"gave\", \"gave\", \"gave\", \"gave\", \"generally\", \"girl\", \"girl\", \"girl\", \"girl\", \"girlfriend\", \"gives\", \"gives\", \"giving\", \"giving\", \"glass\", \"global\", \"global\", \"global\", \"goal\", \"goal\", \"goals\", \"goes\", \"going\", \"going\", \"going\", \"going\", \"going\", \"going\", \"going\", \"going\", \"going\", \"going\", \"going\", \"going\", \"going\", \"going\", \"going\", \"going\", \"going\", \"gone\", \"good\", \"good\", \"good\", \"good\", \"good\", \"good\", \"good\", \"good\", \"good\", \"good\", \"good\", \"good\", \"good\", \"good\", \"got\", \"got\", \"got\", \"got\", \"got\", \"got\", \"got\", \"got\", \"got\", \"got\", \"got\", \"got\", \"got\", \"got\", \"gotten\", \"government\", \"government\", \"government\", \"government\", \"government\", \"government\", \"government\", \"government\", \"government\", \"government\", \"government\", \"governor\", \"governor\", \"grade\", \"grade\", \"grape\", \"gray\", \"great\", \"great\", \"great\", \"great\", \"great\", \"great\", \"great\", \"grow\", \"growing\", \"growing\", \"growing\", \"growing\", \"grown\", \"growth\", \"growth\", \"guard\", \"guy\", \"guy\", \"guy\", \"guy\", \"hair\", \"half\", \"half\", \"half\", \"half\", \"half\", \"half\", \"half\", \"half\", \"half\", \"handed\", \"handle\", \"happened\", \"happened\", \"happened\", \"happens\", \"happy\", \"happy\", \"hard\", \"hard\", \"hard\", \"hard\", \"hard\", \"hard\", \"hard\", \"hard\", \"harsh\", \"head\", \"head\", \"head\", \"head\", \"head\", \"head\", \"head\", \"head\", \"head\", \"health\", \"health\", \"health\", \"health\", \"health\", \"health\", \"health\", \"hear\", \"heat\", \"heat\", \"hedge\", \"help\", \"help\", \"help\", \"help\", \"help\", \"help\", \"help\", \"help\", \"help\", \"help\", \"help\", \"help\", \"high\", \"high\", \"high\", \"high\", \"high\", \"high\", \"high\", \"high\", \"high\", \"high\", \"high\", \"high\", \"high\", \"high\", \"high\", \"high\", \"high\", \"higher\", \"higher\", \"higher\", \"higher\", \"highway\", \"hiring\", \"hiring\", \"hiring\", \"history\", \"history\", \"history\", \"history\", \"history\", \"history\", \"hitter\", \"hockey\", \"hold\", \"hold\", \"hold\", \"hold\", \"holding\", \"holiday\", \"holiday\", \"home\", \"home\", \"home\", \"home\", \"home\", \"home\", \"home\", \"home\", \"home\", \"home\", \"home\", \"home\", \"home\", \"home\", \"home\", \"home\", \"homes\", \"homes\", \"homes\", \"honey\", \"hopes\", \"hospital\", \"hospital\", \"hospital\", \"hospital\", \"host\", \"hot\", \"hot\", \"hot\", \"hot\", \"hot\", \"hour\", \"hour\", \"house\", \"house\", \"house\", \"house\", \"house\", \"huge\", \"huge\", \"huge\", \"huge\", \"hundreds\", \"husband\", \"husband\", \"iPad\", \"ice\", \"idea\", \"idea\", \"ideas\", \"identity\", \"image\", \"imagine\", \"immigrants\", \"immigration\", \"immigration\", \"important\", \"important\", \"important\", \"important\", \"important\", \"improve\", \"improvement\", \"improvements\", \"incidents\", \"included\", \"included\", \"including\", \"including\", \"including\", \"including\", \"including\", \"including\", \"including\", \"including\", \"including\", \"including\", \"including\", \"including\", \"including\", \"increases\", \"increasingly\", \"independent\", \"independent\", \"individuals\", \"information\", \"information\", \"information\", \"information\", \"information\", \"initial\", \"injured\", \"injured\", \"injuries\", \"injury\", \"injury\", \"inning\", \"inning\", \"inning\", \"innings\", \"inside\", \"instance\", \"instead\", \"instead\", \"institutions\", \"intentions\", \"interested\", \"interested\", \"interior\", \"internal\", \"internet\", \"interview\", \"introduced\", \"investigators\", \"investment\", \"investors\", \"investors\", \"investors\", \"issue\", \"issue\", \"issue\", \"issue\", \"issue\", \"issue\", \"issue\", \"issues\", \"issues\", \"issues\", \"issues\", \"items\", \"items\", \"jackpot\", \"job\", \"job\", \"job\", \"job\", \"job\", \"job\", \"job\", \"job\", \"join\", \"joining\", \"jump\", \"junior\", \"juniors\", \"justices\", \"keeping\", \"keeps\", \"key\", \"key\", \"key\", \"kick\", \"kind\", \"kind\", \"kind\", \"kind\", \"kind\", \"kind\", \"kitchen\", \"know\", \"know\", \"know\", \"know\", \"know\", \"know\", \"know\", \"know\", \"known\", \"known\", \"known\", \"known\", \"la\", \"lack\", \"lack\", \"land\", \"land\", \"language\", \"large\", \"large\", \"large\", \"large\", \"large\", \"large\", \"large\", \"largely\", \"larger\", \"largest\", \"late\", \"late\", \"late\", \"late\", \"late\", \"lately\", \"later\", \"later\", \"later\", \"later\", \"later\", \"later\", \"later\", \"later\", \"later\", \"law\", \"law\", \"law\", \"law\", \"law\", \"law\", \"law\", \"law\", \"law\", \"law\", \"law\", \"law\", \"law\", \"law\", \"law\", \"lawmakers\", \"lawyer\", \"layoffs\", \"lead\", \"lead\", \"lead\", \"lead\", \"lead\", \"lead\", \"lead\", \"lead\", \"leader\", \"learned\", \"leave\", \"leave\", \"leave\", \"leave\", \"leave\", \"leave\", \"legs\", \"lending\", \"level\", \"level\", \"level\", \"levels\", \"library\", \"license\", \"life\", \"life\", \"life\", \"life\", \"life\", \"life\", \"life\", \"life\", \"life\", \"lights\", \"like\", \"like\", \"like\", \"like\", \"like\", \"like\", \"like\", \"like\", \"like\", \"like\", \"like\", \"like\", \"like\", \"like\", \"like\", \"like\", \"like\", \"like\", \"like\", \"like\", \"liked\", \"lime\", \"line\", \"line\", \"line\", \"line\", \"line\", \"line\", \"line\", \"line\", \"line\", \"line\", \"list\", \"list\", \"list\", \"list\", \"list\", \"little\", \"little\", \"little\", \"little\", \"little\", \"little\", \"little\", \"little\", \"little\", \"little\", \"little\", \"little\", \"little\", \"living\", \"living\", \"living\", \"living\", \"loans\", \"loans\", \"lobster\", \"local\", \"local\", \"local\", \"local\", \"local\", \"local\", \"local\", \"locals\", \"long\", \"long\", \"long\", \"long\", \"long\", \"long\", \"long\", \"long\", \"long\", \"long\", \"long\", \"long\", \"long\", \"long\", \"longer\", \"longer\", \"longer\", \"look\", \"look\", \"look\", \"look\", \"look\", \"look\", \"look\", \"looked\", \"looked\", \"looks\", \"lose\", \"loss\", \"loss\", \"loss\", \"loss\", \"losses\", \"lot\", \"lot\", \"lot\", \"lot\", \"lot\", \"lot\", \"lot\", \"lot\", \"lot\", \"lot\", \"lot\", \"love\", \"love\", \"lower\", \"lower\", \"lower\", \"lower\", \"lower\", \"lunch\", \"luxury\", \"mail\", \"mail\", \"mail\", \"maintenance\", \"major\", \"major\", \"major\", \"major\", \"major\", \"major\", \"major\", \"major\", \"makes\", \"makes\", \"makes\", \"makes\", \"making\", \"making\", \"making\", \"making\", \"man\", \"man\", \"man\", \"man\", \"man\", \"man\", \"management\", \"manager\", \"manager\", \"manager\", \"manages\", \"map\", \"market\", \"market\", \"market\", \"market\", \"market\", \"market\", \"market\", \"market\", \"married\", \"married\", \"mass\", \"matter\", \"matter\", \"matters\", \"mayor\", \"meaning\", \"means\", \"meant\", \"media\", \"medium\", \"meet\", \"members\", \"members\", \"members\", \"members\", \"members\", \"men\", \"men\", \"mention\", \"middle\", \"middle\", \"middle\", \"middle\", \"middle\", \"military\", \"military\", \"million\", \"million\", \"million\", \"million\", \"million\", \"million\", \"million\", \"million\", \"million\", \"million\", \"million\", \"million\", \"million\", \"minute\", \"minutes\", \"minutes\", \"minutes\", \"minutes\", \"misses\", \"missing\", \"mix\", \"mix\", \"moderate\", \"modern\", \"moment\", \"moments\", \"money\", \"money\", \"money\", \"money\", \"money\", \"money\", \"money\", \"money\", \"money\", \"money\", \"money\", \"money\", \"months\", \"months\", \"months\", \"months\", \"months\", \"months\", \"months\", \"morning\", \"morning\", \"morning\", \"morning\", \"mother\", \"motion\", \"mouth\", \"moved\", \"moved\", \"moved\", \"moved\", \"movement\", \"movie\", \"movie\", \"movie\", \"multiple\", \"music\", \"music\", \"music\", \"musical\", \"mustard\", \"n't\", \"n't\", \"n't\", \"n't\", \"n't\", \"n't\", \"n't\", \"n't\", \"n't\", \"n't\", \"n't\", \"n't\", \"n't\", \"n't\", \"n't\", \"n't\", \"n't\", \"n't\", \"n't\", \"n't\", \"n't\", \"n't\", \"n't\", \"n't\", \"n't\", \"n't\", \"names\", \"nation\", \"nation\", \"national\", \"national\", \"national\", \"natural\", \"near\", \"near\", \"near\", \"near\", \"near\", \"near\", \"near\", \"nearly\", \"nearly\", \"nearly\", \"nearly\", \"nearly\", \"necessary\", \"need\", \"need\", \"need\", \"need\", \"need\", \"need\", \"need\", \"need\", \"need\", \"need\", \"needs\", \"neighborhood\", \"neighborhood\", \"net\", \"net\", \"net\", \"new\", \"new\", \"new\", \"new\", \"new\", \"new\", \"new\", \"new\", \"new\", \"new\", \"new\", \"new\", \"new\", \"new\", \"new\", \"new\", \"new\", \"new\", \"new\", \"new\", \"new\", \"nice\", \"night\", \"night\", \"night\", \"night\", \"night\", \"night\", \"night\", \"night\", \"night\", \"night\", \"note\", \"notified\", \"number\", \"number\", \"number\", \"number\", \"number\", \"number\", \"number\", \"number\", \"number\", \"number\", \"numbers\", \"numbers\", \"n\\u2019t\", \"n\\u2019t\", \"n\\u2019t\", \"n\\u2019t\", \"n\\u2019t\", \"n\\u2019t\", \"n\\u2019t\", \"n\\u2019t\", \"n\\u2019t\", \"n\\u2019t\", \"n\\u2019t\", \"n\\u2019t\", \"obtained\", \"occur\", \"occurred\", \"odds\", \"offensive\", \"offer\", \"offer\", \"offered\", \"offered\", \"offering\", \"offering\", \"offering\", \"offers\", \"office\", \"office\", \"office\", \"office\", \"office\", \"office\", \"office\", \"office\", \"officials\", \"officials\", \"officials\", \"officials\", \"officials\", \"officials\", \"officials\", \"officials\", \"officials\", \"officials\", \"officials\", \"oil\", \"oil\", \"old\", \"old\", \"old\", \"old\", \"old\", \"old\", \"old\", \"old\", \"old\", \"old\", \"old\", \"old\", \"old\", \"old\", \"old\", \"old\", \"old\", \"older\", \"older\", \"ones\", \"ongoing\", \"open\", \"open\", \"open\", \"open\", \"open\", \"open\", \"open\", \"opened\", \"opened\", \"opening\", \"opening\", \"opening\", \"operate\", \"operating\", \"operating\", \"operator\", \"opportunities\", \"opportunity\", \"opportunity\", \"opportunity\", \"opportunity\", \"option\", \"options\", \"order\", \"order\", \"orders\", \"organization\", \"organization\", \"outdoor\", \"outstanding\", \"overdue\", \"overnight\", \"owned\", \"owner\", \"owner\", \"owner\", \"owner\", \"owners\", \"owners\", \"p.m.\", \"p.m.\", \"p.m.\", \"p.m.\", \"p.m.\", \"p.m.\", \"p.m.\", \"p.m.\", \"p.m.\", \"p.m.\", \"p.m.\", \"pack\", \"package\", \"paid\", \"pale\", \"paper\", \"park\", \"parking\", \"parks\", \"party\", \"party\", \"party\", \"party\", \"party\", \"party\", \"pass\", \"pass\", \"passed\", \"passed\", \"passed\", \"past\", \"past\", \"past\", \"past\", \"past\", \"past\", \"patrons\", \"pay\", \"pay\", \"pay\", \"pay\", \"pay\", \"pay\", \"pay\", \"pay\", \"paying\", \"payroll\", \"pays\", \"penalty\", \"pensions\", \"people\", \"people\", \"people\", \"people\", \"people\", \"people\", \"people\", \"people\", \"people\", \"people\", \"people\", \"people\", \"people\", \"people\", \"people\", \"people\", \"people\", \"people\", \"people\", \"people\", \"people\", \"percent\", \"percent\", \"percent\", \"percent\", \"percent\", \"percent\", \"percent\", \"percent\", \"percent\", \"percent\", \"percent\", \"percent\", \"percent\", \"percent\", \"percent\", \"percent\", \"percentage\", \"perfect\", \"perfect\", \"perfect\", \"perfect\", \"permits\", \"person\", \"person\", \"person\", \"person\", \"personal\", \"personal\", \"pick\", \"pick\", \"pick\", \"picking\", \"picture\", \"picture\", \"pitched\", \"pitched\", \"pitches\", \"placed\", \"placing\", \"plan\", \"plan\", \"plan\", \"plan\", \"plan\", \"plan\", \"planning\", \"planning\", \"plant\", \"plants\", \"play\", \"play\", \"play\", \"play\", \"play\", \"play\", \"play\", \"play\", \"play\", \"play\", \"play\", \"play\", \"play\", \"play\", \"player\", \"player\", \"players\", \"players\", \"players\", \"players\", \"playoffs\", \"plays\", \"plea\", \"pleased\", \"plenty\", \"point\", \"point\", \"point\", \"point\", \"point\", \"point\", \"point\", \"points\", \"points\", \"points\", \"points\", \"points\", \"points\", \"politics\", \"popular\", \"popular\", \"popular\", \"population\", \"positions\", \"possible\", \"possible\", \"possible\", \"possible\", \"possible\", \"post\", \"posted\", \"pot\", \"potato\", \"potential\", \"pounds\", \"practice\", \"practice\", \"practice\", \"pre\", \"precise\", \"predicted\", \"prepare\", \"prepared\", \"prepared\", \"present\", \"present\", \"presentation\", \"presents\", \"president\", \"president\", \"president\", \"president\", \"president\", \"president\", \"press\", \"pretty\", \"previously\", \"price\", \"private\", \"private\", \"private\", \"private\", \"private\", \"pro\", \"process\", \"process\", \"process\", \"process\", \"production\", \"production\", \"professor\", \"programs\", \"programs\", \"programs\", \"programs\", \"project\", \"project\", \"project\", \"project\", \"pronounced\", \"property\", \"property\", \"property\", \"prosecution\", \"prosecutors\", \"protect\", \"protecting\", \"protest\", \"provide\", \"provide\", \"provide\", \"provide\", \"provided\", \"providers\", \"provides\", \"public\", \"public\", \"public\", \"public\", \"public\", \"public\", \"public\", \"public\", \"publicly\", \"published\", \"puck\", \"pulled\", \"purchase\", \"quality\", \"quality\", \"questioned\", \"quickly\", \"quiet\", \"quiet\", \"radio\", \"raise\", \"raise\", \"raise\", \"raised\", \"ran\", \"ran\", \"ranked\", \"rap\", \"rap\", \"rare\", \"rates\", \"rates\", \"ray\", \"reached\", \"reached\", \"reaching\", \"read\", \"read\", \"readers\", \"ready\", \"ready\", \"realized\", \"reasons\", \"recalled\", \"receiving\", \"recent\", \"recent\", \"recent\", \"recent\", \"recent\", \"recently\", \"recently\", \"recently\", \"recipe\", \"recognized\", \"record\", \"record\", \"record\", \"record\", \"record\", \"record\", \"record\", \"reduce\", \"reduce\", \"reduce\", \"reduced\", \"reform\", \"region\", \"regional\", \"regional\", \"regulations\", \"relationship\", \"religious\", \"rely\", \"remain\", \"remaining\", \"remember\", \"remove\", \"report\", \"report\", \"report\", \"report\", \"report\", \"report\", \"report\", \"reported\", \"reported\", \"reported\", \"reported\", \"reported\", \"reporters\", \"request\", \"require\", \"required\", \"required\", \"requirement\", \"residents\", \"residents\", \"residents\", \"residents\", \"residents\", \"residents\", \"residents\", \"residents\", \"resolution\", \"resort\", \"resources\", \"responds\", \"response\", \"responsibility\", \"restaurant\", \"restaurant\", \"restored\", \"result\", \"result\", \"results\", \"retirement\", \"return\", \"return\", \"return\", \"return\", \"return\", \"returned\", \"revenues\", \"review\", \"review\", \"review\", \"rich\", \"rich\", \"rid\", \"right\", \"right\", \"right\", \"right\", \"right\", \"right\", \"right\", \"right\", \"right\", \"right\", \"right\", \"right\", \"right\", \"right\", \"right\", \"rights\", \"rights\", \"rights\", \"rights\", \"rights\", \"rise\", \"rival\", \"roll\", \"rookie\", \"room\", \"room\", \"room\", \"room\", \"rooms\", \"roughly\", \"rule\", \"rule\", \"run\", \"run\", \"run\", \"run\", \"run\", \"run\", \"run\", \"run\", \"run\", \"run\", \"run\", \"run\", \"runners\", \"running\", \"running\", \"running\", \"running\", \"running\", \"running\", \"runs\", \"runs\", \"runs\", \"runs\", \"safety\", \"safety\", \"safety\", \"said\", \"said\", \"said\", \"said\", \"said\", \"said\", \"said\", \"said\", \"said\", \"said\", \"said\", \"said\", \"said\", \"said\", \"said\", \"said\", \"said\", \"said\", \"said\", \"said\", \"said\", \"said\", \"said\", \"said\", \"said\", \"said\", \"said\", \"said\", \"said\", \"said\", \"sale\", \"salt\", \"save\", \"save\", \"saw\", \"saw\", \"saw\", \"saying\", \"saying\", \"saying\", \"saying\", \"saying\", \"saying\", \"says\", \"says\", \"says\", \"says\", \"says\", \"says\", \"says\", \"says\", \"says\", \"says\", \"says\", \"says\", \"says\", \"says\", \"says\", \"says\", \"says\", \"scandal\", \"scene\", \"scene\", \"school\", \"school\", \"school\", \"school\", \"school\", \"school\", \"school\", \"school\", \"school\", \"school\", \"school\", \"school\", \"school\", \"school\", \"school\", \"school\", \"school\", \"schools\", \"schools\", \"schools\", \"scored\", \"scored\", \"scored\", \"scoring\", \"scoring\", \"scoring\", \"scoring\", \"search\", \"search\", \"search\", \"search\", \"searching\", \"season\", \"season\", \"season\", \"season\", \"season\", \"season\", \"season\", \"season\", \"season\", \"season\", \"season\", \"season\", \"season\", \"season\", \"season\", \"seat\", \"seats\", \"second\", \"second\", \"second\", \"second\", \"second\", \"second\", \"second\", \"second\", \"second\", \"second\", \"second\", \"second\", \"second\", \"second\", \"seconds\", \"section\", \"security\", \"security\", \"seeing\", \"seen\", \"seen\", \"seen\", \"select\", \"sell\", \"seller\", \"sells\", \"send\", \"senior\", \"senior\", \"senior\", \"senior\", \"senior\", \"senior\", \"sense\", \"sense\", \"sense\", \"sentencing\", \"series\", \"series\", \"series\", \"serve\", \"service\", \"service\", \"service\", \"service\", \"service\", \"service\", \"service\", \"service\", \"serving\", \"serving\", \"serving\", \"serving\", \"session\", \"setting\", \"seven\", \"seven\", \"seven\", \"seven\", \"seven\", \"seven\", \"severe\", \"share\", \"shoes\", \"shop\", \"short\", \"short\", \"shortly\", \"shot\", \"shot\", \"shot\", \"shot\", \"shots\", \"showed\", \"showed\", \"showed\", \"signs\", \"similar\", \"similar\", \"sip\", \"sister\", \"sisters\", \"site\", \"site\", \"situation\", \"situation\", \"situation\", \"size\", \"skillet\", \"slight\", \"slightly\", \"slot\", \"smaller\", \"soft\", \"soldiers\", \"soul\", \"south\", \"space\", \"space\", \"space\", \"space\", \"space\", \"speak\", \"special\", \"special\", \"special\", \"special\", \"special\", \"special\", \"speculation\", \"speed\", \"spend\", \"spend\", \"spending\", \"spending\", \"spoke\", \"spokeswoman\", \"sports\", \"sports\", \"spread\", \"spread\", \"spring\", \"spring\", \"square\", \"staff\", \"staff\", \"stage\", \"standard\", \"standards\", \"stands\", \"start\", \"start\", \"start\", \"start\", \"start\", \"start\", \"start\", \"state\", \"state\", \"state\", \"state\", \"state\", \"state\", \"state\", \"state\", \"state\", \"state\", \"state\", \"state\", \"state\", \"state\", \"state\", \"state\", \"state\", \"state\", \"state\", \"statement\", \"statement\", \"statement\", \"statement\", \"statement\", \"statement\", \"statement\", \"states\", \"station\", \"statistics\", \"step\", \"step\", \"stick\", \"stock\", \"stock\", \"stood\", \"stop\", \"stop\", \"stop\", \"stopped\", \"store\", \"store\", \"store\", \"store\", \"store\", \"stories\", \"stranger\", \"strategy\", \"streak\", \"stretch\", \"stretch\", \"strings\", \"struggling\", \"stuck\", \"students\", \"students\", \"students\", \"students\", \"students\", \"stuff\", \"style\", \"style\", \"style\", \"style\", \"success\", \"success\", \"successful\", \"suggest\", \"suicide\", \"suit\", \"suits\", \"support\", \"support\", \"support\", \"support\", \"support\", \"support\", \"support\", \"support\", \"support\", \"sure\", \"surgery\", \"survey\", \"survive\", \"sushi\", \"sushi\", \"sweet\", \"sworn\", \"tackle\", \"taken\", \"taken\", \"taken\", \"taken\", \"talk\", \"talk\", \"talk\", \"talked\", \"talking\", \"talks\", \"tank\", \"taste\", \"taste\", \"taste\", \"tax\", \"tax\", \"tax\", \"tax\", \"tax\", \"tax\", \"tax\", \"tax\", \"tax\", \"taxes\", \"taxes\", \"taxes\", \"taxes\", \"teachers\", \"team\", \"team\", \"team\", \"team\", \"team\", \"team\", \"team\", \"team\", \"team\", \"team\", \"team\", \"team\", \"team\", \"team\", \"team\", \"team\", \"team\", \"team\", \"team\", \"teams\", \"teams\", \"teams\", \"teams\", \"technology\", \"technology\", \"television\", \"tell\", \"tell\", \"tells\", \"tells\", \"temperature\", \"temporary\", \"tender\", \"tennis\", \"terrorists\", \"tests\", \"tests\", \"therapy\", \"thing\", \"thing\", \"thing\", \"thing\", \"thing\", \"thing\", \"thing\", \"things\", \"things\", \"things\", \"things\", \"things\", \"things\", \"things\", \"things\", \"think\", \"think\", \"think\", \"think\", \"thought\", \"thought\", \"thought\", \"thousands\", \"thousands\", \"thousands\", \"threat\", \"threatening\", \"throw\", \"throw\", \"ticket\", \"tickets\", \"tickets\", \"tight\", \"time\", \"time\", \"time\", \"time\", \"time\", \"time\", \"time\", \"time\", \"time\", \"time\", \"time\", \"time\", \"time\", \"time\", \"time\", \"time\", \"time\", \"time\", \"time\", \"time\", \"time\", \"time\", \"today\", \"today\", \"today\", \"today\", \"today\", \"today\", \"today\", \"told\", \"told\", \"told\", \"told\", \"told\", \"told\", \"told\", \"toll\", \"tomorrow\", \"tonight\", \"tonight\", \"took\", \"took\", \"took\", \"took\", \"took\", \"took\", \"took\", \"tough\", \"tough\", \"tough\", \"tough\", \"tougher\", \"tournament\", \"tournament\", \"town\", \"town\", \"town\", \"town\", \"town\", \"traditional\", \"traffic\", \"train\", \"training\", \"training\", \"traveled\", \"treatment\", \"treatment\", \"tree\", \"tries\", \"trip\", \"trip\", \"truck\", \"true\", \"true\", \"try\", \"try\", \"try\", \"try\", \"try\", \"trying\", \"trying\", \"trying\", \"trying\", \"trying\", \"trying\", \"trying\", \"trying\", \"turned\", \"turning\", \"turns\", \"typical\", \"typically\", \"understand\", \"understanding\", \"unemployment\", \"union\", \"university\", \"use\", \"use\", \"use\", \"use\", \"use\", \"use\", \"use\", \"use\", \"use\", \"use\", \"use\", \"use\", \"use\", \"user\", \"users\", \"usually\", \"usually\", \"vast\", \"vehicle\", \"venture\", \"vice\", \"victims\", \"victory\", \"viewers\", \"village\", \"violence\", \"visit\", \"visit\", \"visit\", \"visiting\", \"visits\", \"voice\", \"volume\", \"volume\", \"vote\", \"vote\", \"vote\", \"vote\", \"vote\", \"voter\", \"wait\", \"waiting\", \"walk\", \"walk\", \"walk\", \"want\", \"want\", \"want\", \"want\", \"want\", \"want\", \"want\", \"want\", \"want\", \"want\", \"want\", \"want\", \"wanted\", \"wanted\", \"wanted\", \"wanted\", \"wanted\", \"wanted\", \"wants\", \"wants\", \"wants\", \"wants\", \"wants\", \"wants\", \"watch\", \"watching\", \"water\", \"water\", \"water\", \"water\", \"way\", \"way\", \"way\", \"way\", \"way\", \"way\", \"way\", \"way\", \"way\", \"way\", \"way\", \"way\", \"way\", \"wealthiest\", \"weapons\", \"wearing\", \"weather\", \"wedding\", \"week\", \"week\", \"week\", \"week\", \"week\", \"week\", \"week\", \"week\", \"week\", \"week\", \"week\", \"week\", \"week\", \"weekend\", \"weekend\", \"weekend\", \"weekend\", \"weekend\", \"weekend\", \"weekly\", \"went\", \"went\", \"went\", \"went\", \"white\", \"white\", \"white\", \"white\", \"wild\", \"win\", \"win\", \"win\", \"win\", \"win\", \"win\", \"win\", \"win\", \"win\", \"wine\", \"wine\", \"wine\", \"wine\", \"wine\", \"wine\", \"winning\", \"winning\", \"winning\", \"wins\", \"winter\", \"winter\", \"winter\", \"witness\", \"woman\", \"woman\", \"woman\", \"woman\", \"women\", \"women\", \"women\", \"women\", \"women\", \"women\", \"wood\", \"word\", \"word\", \"work\", \"work\", \"work\", \"work\", \"work\", \"work\", \"work\", \"work\", \"work\", \"work\", \"work\", \"work\", \"work\", \"workers\", \"workers\", \"workers\", \"working\", \"working\", \"working\", \"working\", \"world\", \"world\", \"world\", \"world\", \"world\", \"world\", \"world\", \"world\", \"worse\", \"worse\", \"worse\", \"writer\", \"wrong\", \"wrong\", \"wrong\", \"wrong\", \"yeah\", \"year\", \"year\", \"year\", \"year\", \"year\", \"year\", \"year\", \"year\", \"year\", \"year\", \"year\", \"year\", \"year\", \"year\", \"year\", \"year\", \"year\", \"year\", \"year\", \"year\", \"year\", \"year\", \"year\", \"year\", \"year\", \"year\", \"years\", \"years\", \"years\", \"years\", \"years\", \"years\", \"years\", \"years\", \"years\", \"years\", \"years\", \"years\", \"years\", \"years\", \"years\", \"years\", \"years\", \"years\", \"years\", \"years\", \"years\", \"yes\", \"youth\", \"\\u0096\", \"\\u2019d\", \"\\u2019ll\", \"\\u2019m\", \"\\u2019re\", \"\\u2019re\", \"\\u2019s\", \"\\u2019s\", \"\\u2019s\", \"\\u2019s\", \"\\u2019s\", \"\\u2019s\", \"\\u2019s\", \"\\u2019s\", \"\\u2019s\", \"\\u2019s\", \"\\u2019s\", \"\\u2019s\", \"\\u2019s\", \"\\u2019s\", \"\\u2019s\", \"\\u2019s\", \"\\u2019s\", \"\\u2019s\", \"\\u2019s\", \"\\u2019s\", \"\\u2019s\", \"\\u2019ve\", \"\\u2019ve\"]}, \"R\": 30, \"lambda.step\": 0.01, \"plot.opts\": {\"xlab\": \"PC1\", \"ylab\": \"PC2\"}, \"topic.order\": [12, 30, 9, 2, 10, 17, 24, 16, 1, 8, 26, 20, 6, 19, 14, 22, 28, 25, 3, 7, 11, 18, 15, 5, 4, 21, 27, 23, 13, 29]};\n",
       "\n",
       "function LDAvis_load_lib(url, callback){\n",
       "  var s = document.createElement('script');\n",
       "  s.src = url;\n",
       "  s.async = true;\n",
       "  s.onreadystatechange = s.onload = callback;\n",
       "  s.onerror = function(){console.warn(\"failed to load library \" + url);};\n",
       "  document.getElementsByTagName(\"head\")[0].appendChild(s);\n",
       "}\n",
       "\n",
       "if(typeof(LDAvis) !== \"undefined\"){\n",
       "   // already loaded: just create the visualization\n",
       "   !function(LDAvis){\n",
       "       new LDAvis(\"#\" + \"ldavis_el81885330745923397198120\", ldavis_el81885330745923397198120_data);\n",
       "   }(LDAvis);\n",
       "}else if(typeof define === \"function\" && define.amd){\n",
       "   // require.js is available: use it to load d3/LDAvis\n",
       "   require.config({paths: {d3: \"https://cdnjs.cloudflare.com/ajax/libs/d3/3.5.5/d3.min\"}});\n",
       "   require([\"d3\"], function(d3){\n",
       "      window.d3 = d3;\n",
       "      LDAvis_load_lib(\"https://cdn.rawgit.com/bmabey/pyLDAvis/files/ldavis.v1.0.0.js\", function(){\n",
       "        new LDAvis(\"#\" + \"ldavis_el81885330745923397198120\", ldavis_el81885330745923397198120_data);\n",
       "      });\n",
       "    });\n",
       "}else{\n",
       "    // require.js not available: dynamically load d3 & LDAvis\n",
       "    LDAvis_load_lib(\"https://cdnjs.cloudflare.com/ajax/libs/d3/3.5.5/d3.min.js\", function(){\n",
       "         LDAvis_load_lib(\"https://cdn.rawgit.com/bmabey/pyLDAvis/files/ldavis.v1.0.0.js\", function(){\n",
       "                 new LDAvis(\"#\" + \"ldavis_el81885330745923397198120\", ldavis_el81885330745923397198120_data);\n",
       "            })\n",
       "         });\n",
       "}\n",
       "</script>"
      ],
      "text/plain": [
       "PreparedData(topic_coordinates=           Freq  cluster  topics         x         y\n",
       "topic                                               \n",
       "11     5.546285        1       1 -0.266634  0.042755\n",
       "29     3.837550        1       2 -0.030575 -0.114225\n",
       "8      3.785447        1       3  0.052905 -0.058822\n",
       "1      3.692910        1       4 -0.053280 -0.070647\n",
       "9      3.689612        1       5 -0.131062 -0.021758\n",
       "16     3.686467        1       6  0.089418 -0.105973\n",
       "23     3.502869        1       7  0.002153 -0.082320\n",
       "15     3.482852        1       8  0.109527  0.022262\n",
       "0      3.445015        1       9  0.017046 -0.025586\n",
       "7      3.436752        1      10 -0.008277  0.042588\n",
       "25     3.425799        1      11  0.002549 -0.073200\n",
       "19     3.412050        1      12 -0.002907  0.039602\n",
       "5      3.394997        1      13 -0.084047 -0.053476\n",
       "18     3.345505        1      14  0.005698 -0.050005\n",
       "13     3.233855        1      15 -0.010031 -0.040761\n",
       "21     3.185307        1      16  0.030261  0.027724\n",
       "27     3.141712        1      17 -0.009422  0.031292\n",
       "24     3.091230        1      18  0.032428 -0.056981\n",
       "2      3.090118        1      19 -0.038952  0.082119\n",
       "6      3.088397        1      20 -0.001902  0.020158\n",
       "10     3.072344        1      21 -0.036480  0.024059\n",
       "17     3.039171        1      22  0.045307 -0.010658\n",
       "14     3.037073        1      23  0.000136 -0.037495\n",
       "4      3.032580        1      24  0.080284  0.050931\n",
       "3      3.032240        1      25  0.008076  0.103749\n",
       "20     3.027875        1      26  0.002232  0.019122\n",
       "26     2.939867        1      27  0.088271  0.013473\n",
       "22     2.889218        1      28  0.027130  0.183330\n",
       "12     2.780967        1      29  0.009431  0.067201\n",
       "28     2.633939        1      30  0.070721  0.031540, topic_info=      Category        Freq       Term       Total  loglift  logprob\n",
       "term                                                               \n",
       "323    Default  767.000000          I  767.000000  30.0000  30.0000\n",
       "51     Default  361.000000          $  361.000000  29.0000  29.0000\n",
       "3      Default  375.000000        n't  375.000000  28.0000  28.0000\n",
       "1210   Default  153.000000          A  153.000000  27.0000  27.0000\n",
       "244    Default  119.000000    million  119.000000  26.0000  26.0000\n",
       "931    Default  106.000000       That  106.000000  25.0000  25.0000\n",
       "147    Default  191.000000         ’s  191.000000  24.0000  24.0000\n",
       "5      Default   75.000000        St.   75.000000  23.0000  23.0000\n",
       "3138   Default   69.000000         No   69.000000  22.0000  22.0000\n",
       "94     Default   92.000000      think   92.000000  21.0000  21.0000\n",
       "445    Default   82.000000         'm   82.000000  20.0000  20.0000\n",
       "1882   Default  129.000000    percent  129.000000  19.0000  19.0000\n",
       "145    Default  892.000000       said  892.000000  18.0000  18.0000\n",
       "1766   Default   76.000000        end   76.000000  17.0000  17.0000\n",
       "892    Default   89.000000       know   89.000000  16.0000  16.0000\n",
       "0      Default  256.000000         He  256.000000  15.0000  15.0000\n",
       "368    Default  198.000000         We  198.000000  14.0000  14.0000\n",
       "665    Default   86.000000          2   86.000000  13.0000  13.0000\n",
       "122    Default  187.000000      years  187.000000  12.0000  12.0000\n",
       "6      Default  853.000000        The  853.000000  11.0000  11.0000\n",
       "249    Default  149.000000          1  149.000000  10.0000  10.0000\n",
       "114    Default  140.000000      going  140.000000   9.0000   9.0000\n",
       "523    Default   52.000000     health   52.000000   8.0000   8.0000\n",
       "833    Default  126.000000     season  126.000000   7.0000   7.0000\n",
       "53     Default  213.000000        But  213.000000   6.0000   6.0000\n",
       "1016   Default   85.000000        've   85.000000   5.0000   5.0000\n",
       "110    Default   89.000000        day   89.000000   4.0000   4.0000\n",
       "688    Default  182.000000       like  182.000000   3.0000   3.0000\n",
       "1055   Default  103.000000       They  103.000000   2.0000   2.0000\n",
       "477    Default   44.000000    schools   44.000000   1.0000   1.0000\n",
       "...        ...         ...        ...         ...      ...      ...\n",
       "3017   Topic30    6.362446        pro    7.431641   3.4814  -5.9243\n",
       "910    Topic30   11.317705       Bowl   13.227736   3.4807  -5.3483\n",
       "4143   Topic30    5.174612  remaining    6.050948   3.4802  -6.1309\n",
       "3018   Topic30    8.406258     cities    9.851269   3.4781  -5.6457\n",
       "1086   Topic30   13.320195         22   15.805664   3.4656  -5.1854\n",
       "3138   Topic30   54.480991         No   69.039688   3.3999  -3.7768\n",
       "3544   Topic30    6.759460       fees    7.962434   3.4729  -5.8638\n",
       "1375   Topic30   15.622569       NCAA   20.075901   3.3859  -5.0260\n",
       "4195   Topic30    8.942664      spend   11.019918   3.4278  -5.5839\n",
       "1815   Topic30   17.594133       cuts   24.496756   3.3057  -4.9071\n",
       "303    Topic30   15.157247      House   20.724377   3.3239  -5.0562\n",
       "1545   Topic30   11.146300         23   14.807826   3.3526  -5.3636\n",
       "4526   Topic30   14.715256    similar   20.798576   3.2907  -5.0858\n",
       "6520   Topic30    8.835775      Beach   11.185566   3.4009  -5.5959\n",
       "3647   Topic30   15.158533     couple   28.817730   2.9943  -5.0561\n",
       "11474  Topic30   10.287476      taste   17.496410   3.1056  -5.4438\n",
       "1707   Topic30    9.008971       read   14.356163   3.1707  -5.5765\n",
       "558    Topic30   11.582646      wants   28.301708   2.7433  -5.3252\n",
       "666    Topic30   14.994464          6   56.205078   2.3154  -5.0670\n",
       "249    Topic30   21.971241          1  149.730179   1.7176  -4.6850\n",
       "1011   Topic30    9.215494       beat   17.679470   2.9852  -5.5538\n",
       "1142   Topic30    8.597174     return   16.506002   2.9844  -5.6233\n",
       "122    Topic30   12.600333      years  187.690094   0.9356  -5.2410\n",
       "2983   Topic30   10.047230     School   53.855202   1.9577  -5.4674\n",
       "1210   Topic30   10.955893          A  153.593399   0.9963  -5.3808\n",
       "0      Topic30   11.198196         He  256.038330   0.5071  -5.3589\n",
       "6      Topic30   12.181709        The  853.338562  -0.6125  -5.2748\n",
       "145    Topic30   11.148136       said  892.439575  -0.7460  -5.3634\n",
       "736    Topic30    9.459346      night   64.249001   1.7209  -5.5277\n",
       "495    Topic30    9.534963      state  149.950760   0.8813  -5.5197\n",
       "\n",
       "[1723 rows x 6 columns], token_table=      Topic      Freq   Term\n",
       "term                        \n",
       "51        1  0.005534      $\n",
       "51        2  0.166025      $\n",
       "51        3  0.024904      $\n",
       "51        4  0.030438      $\n",
       "51        5  0.008301      $\n",
       "51        6  0.370788      $\n",
       "51        7  0.074711      $\n",
       "51        8  0.027671      $\n",
       "51        9  0.002767      $\n",
       "51       10  0.002767      $\n",
       "51       11  0.022137      $\n",
       "51       12  0.005534      $\n",
       "51       13  0.033205      $\n",
       "51       14  0.008301      $\n",
       "51       15  0.005534      $\n",
       "51       16  0.011068      $\n",
       "51       17  0.008301      $\n",
       "51       18  0.116217      $\n",
       "51       19  0.008301      $\n",
       "51       20  0.016602      $\n",
       "51       21  0.002767      $\n",
       "51       22  0.005534      $\n",
       "51       24  0.008301      $\n",
       "51       26  0.005534      $\n",
       "51       27  0.024904      $\n",
       "51       29  0.002767      $\n",
       "51       30  0.008301      $\n",
       "3874      5  0.035651     'd\n",
       "3874     13  0.819966     'd\n",
       "3874     20  0.071301     'd\n",
       "...     ...       ...    ...\n",
       "552      13  0.876442  youth\n",
       "1799     12  0.857267      \n",
       "4591      8  0.915584     ’d\n",
       "3602     29  0.908603    ’ll\n",
       "3129      1  0.919648     ’m\n",
       "5723     21  0.913701    ’re\n",
       "5723     28  0.039726    ’re\n",
       "147       2  0.078512     ’s\n",
       "147       3  0.015702     ’s\n",
       "147       4  0.005234     ’s\n",
       "147       6  0.010468     ’s\n",
       "147       8  0.005234     ’s\n",
       "147       9  0.083746     ’s\n",
       "147      10  0.041873     ’s\n",
       "147      11  0.005234     ’s\n",
       "147      13  0.041873     ’s\n",
       "147      14  0.005234     ’s\n",
       "147      15  0.015702     ’s\n",
       "147      16  0.020936     ’s\n",
       "147      17  0.120384     ’s\n",
       "147      19  0.005234     ’s\n",
       "147      21  0.052341     ’s\n",
       "147      22  0.345451     ’s\n",
       "147      23  0.083746     ’s\n",
       "147      24  0.005234     ’s\n",
       "147      25  0.010468     ’s\n",
       "147      27  0.036639     ’s\n",
       "147      30  0.005234     ’s\n",
       "5986     12  0.891358    ’ve\n",
       "5986     16  0.077509    ’ve\n",
       "\n",
       "[4286 rows x 3 columns], R=30, lambda_step=0.01, plot_opts={'xlab': 'PC1', 'ylab': 'PC2'}, topic_order=[12, 30, 9, 2, 10, 17, 24, 16, 1, 8, 26, 20, 6, 19, 14, 22, 28, 25, 3, 7, 11, 18, 15, 5, 4, 21, 27, 23, 13, 29])"
      ]
     },
     "execution_count": 45,
     "metadata": {},
     "output_type": "execute_result"
    }
   ],
   "source": [
    "viz = pyLDAvis.gensim.prepare(lda, corpus, dictionary)\n",
    "viz"
   ]
  },
  {
   "cell_type": "markdown",
   "metadata": {
    "collapsed": true
   },
   "source": [
    "Each bubble on the large plot represents a topic. The larger the bubble, the more frequently that topic is referenced. Ideally, we want large topic bubbles that are well separated and do not overlap with one another. A model with too many topics will have many overlaps and will be made up of many small sized bubbles clustered in one region of the chart. It appears that this particular dataset (with this analysis) doesn't have as clear separations as we'd like, and falls into the \"too many topics\" category.\n",
    "\n",
    "The visualization is also interactive - if you hover over a bubble, it highlights the terms that the topic includes, and shows their frequency (both overall and within the selected topic).\n",
    "\n",
    "Visit https://www.machinelearningplus.com/nlp/topic-modeling-gensim-python/ for additional resources and work with topic modelling in `Gensim`."
   ]
  },
  {
   "cell_type": "markdown",
   "metadata": {},
   "source": [
    "## Sentiment Analysis\n",
    "\n",
    "`TextBlob` is another NLP library in Python. It is written entirely in Python, which docks its performance speed and high-processing ability a bit. TextBlob is a bit of a \"best of the best\" toolkit - it pulls some of the most effective and useful methods from packages like NLTK and Pattern. Here, we'll use it to perform sentiment analysis."
   ]
  },
  {
   "cell_type": "code",
   "execution_count": 46,
   "metadata": {
    "collapsed": true
   },
   "outputs": [],
   "source": [
    "from textblob import TextBlob"
   ]
  },
  {
   "cell_type": "code",
   "execution_count": 47,
   "metadata": {
    "collapsed": true
   },
   "outputs": [],
   "source": [
    "flowers = TextBlob('These flowers are beautiful, they brighten up the place so much! I really love them.')\n",
    "angry = TextBlob('You make me so angry; I just can\\'t stand it.')"
   ]
  },
  {
   "cell_type": "markdown",
   "metadata": {},
   "source": [
    "The `sentiment` attribute of a TextBlob \"returns a tuple of the form (polarity, subjectivity) where polarity is a float within the range [-1.0, 1.0] and subjectivity is a float within the range [0.0, 1.0] where 0.0 is very objective and 1.0 is very subjective.\"\n",
    "\n",
    "Let's break this into its two parts: polarity and subjectivity. Polarity analysis takes into account the amount of positive or negative terms that appear in a given sentence - words like \"beautiful\" and \"brighten\" likely contribute to a higher score, while words like \"angry\" and \"can't\" would shift the polarity in a negative direction. Subjectivity, on the other hand, is almost like an error bound on the sentiment analysis. The subjectivity of words and phrases may depend on their context and an objective document may contain subjective sentences. Words and phrases that are labeled as more subjective may shift their polarity depending on their context, making it more difficult to determine the true sentiment of the phrase."
   ]
  },
  {
   "cell_type": "code",
   "execution_count": 48,
   "metadata": {},
   "outputs": [
    {
     "name": "stdout",
     "output_type": "stream",
     "text": [
      "Sentiment(polarity=0.675, subjectivity=0.8)\n",
      "Sentiment(polarity=-0.5, subjectivity=1.0)\n"
     ]
    }
   ],
   "source": [
    "print(flowers.sentiment)\n",
    "print(angry.sentiment)"
   ]
  },
  {
   "cell_type": "markdown",
   "metadata": {},
   "source": [
    "To see the breakdown of the numbers, we can use the `sentiment_assessments` attribute to view which words contributed to the polarity and subjectivity scores. The overall score is the average of each tuple in the assessment."
   ]
  },
  {
   "cell_type": "code",
   "execution_count": 49,
   "metadata": {
    "scrolled": true
   },
   "outputs": [
    {
     "name": "stdout",
     "output_type": "stream",
     "text": [
      "Sentiment(polarity=0.675, subjectivity=0.8, assessments=[(['beautiful'], 0.85, 1.0, None), (['much', '!', 'really', 'love'], 0.5, 0.6, None)])\n",
      "Sentiment(polarity=-0.5, subjectivity=1.0, assessments=[(['angry'], -0.5, 1.0, None)])\n"
     ]
    }
   ],
   "source": [
    "print(flowers.sentiment_assessments)\n",
    "print(angry.sentiment_assessments)"
   ]
  },
  {
   "cell_type": "markdown",
   "metadata": {},
   "source": [
    "## Exercise\n",
    "\n",
    "Test out a couple of different sentences and examine their sentiment analysis output. Try to write:\n",
    "* A sentence that scores a neutral polarity (aim for a range in [-0.2, 0.2])\n",
    "* A sentence that scores as highly _objective_\n",
    "* A sentence that scores as highly _subjective_"
   ]
  },
  {
   "cell_type": "code",
   "execution_count": 30,
   "metadata": {},
   "outputs": [],
   "source": [
    "#Solution"
   ]
  },
  {
   "cell_type": "markdown",
   "metadata": {},
   "source": [
    "### Sentiment Analysis for US News\n",
    "\n",
    "Now that we've seen how TextBlob sentiment analysis works on a few lines of text, we can see what polarity and subjectivity scores it assigns to the news dataset that we've been working with."
   ]
  },
  {
   "cell_type": "code",
   "execution_count": 53,
   "metadata": {},
   "outputs": [
    {
     "data": {
      "text/plain": [
       "Sentiment(polarity=0.10219093467161112, subjectivity=0.43409946705408897)"
      ]
     },
     "execution_count": 53,
     "metadata": {},
     "output_type": "execute_result"
    }
   ],
   "source": [
    "news_txt = TextBlob(data)\n",
    "news_txt.sentiment"
   ]
  },
  {
   "cell_type": "markdown",
   "metadata": {},
   "source": [
    "# References\n",
    "\n",
    "* spaCy: https://spacy.io/usage/spacy-101\n",
    "* textacy: https://textacy.readthedocs.io/en/stable/\n",
    "* Gensim: https://radimrehurek.com/gensim/intro.html\n",
    "* TextBlob: http://textblob.readthedocs.io/en/dev/quickstart.html\n",
    "* pyLDAvis: http://pyldavis.readthedocs.io/en/latest/"
   ]
  },
  {
   "cell_type": "code",
   "execution_count": null,
   "metadata": {
    "collapsed": true
   },
   "outputs": [],
   "source": []
  }
 ],
 "metadata": {
  "kernelspec": {
   "display_name": "Python 3",
   "language": "python",
   "name": "python3"
  },
  "language_info": {
   "codemirror_mode": {
    "name": "ipython",
    "version": 3
   },
   "file_extension": ".py",
   "mimetype": "text/x-python",
   "name": "python",
   "nbconvert_exporter": "python",
   "pygments_lexer": "ipython3",
   "version": "3.5.4"
  }
 },
 "nbformat": 4,
 "nbformat_minor": 2
}
